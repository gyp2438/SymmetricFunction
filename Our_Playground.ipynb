{
 "cells": [
  {
   "cell_type": "code",
   "execution_count": 1,
   "metadata": {},
   "outputs": [],
   "source": [
    "%display latex"
   ]
  },
  {
   "cell_type": "markdown",
   "metadata": {},
   "source": [
    "# 1) Choose your of the An type quiver"
   ]
  },
  {
   "cell_type": "code",
   "execution_count": 8,
   "metadata": {},
   "outputs": [],
   "source": [
    "def Quiver(L):\n",
    "    Q = DiGraph(len(L)+1)\n",
    "    for i in range(len(L)) :\n",
    "        if L[i] : Q.add_edge(i,i+1)\n",
    "        else : Q.add_edge(i+1,i)\n",
    "    return Q\n",
    "\n",
    "def Draw_quiver(L):\n",
    "    return Q.plot(vertex_size = 500, vertex_color = 'red', edge_color = 'black')"
   ]
  },
  {
   "cell_type": "code",
   "execution_count": 9,
   "metadata": {},
   "outputs": [
    {
     "data": {
      "image/png": "[encoded data removed]",
      "text/plain": [
       "Graphics object consisting of 12 graphics primitives"
      ]
     },
     "execution_count": 9,
     "metadata": {},
     "output_type": "execute_result"
    }
   ],
   "source": [
    "L = [0,0,0,0,0]\n",
    "Q = Quiver(L); Draw_quiver(L)"
   ]
  },
  {
   "cell_type": "markdown",
   "metadata": {},
   "source": [
    "# 2) Calculate the Auslander--Reiten quiver of your chosen quiver"
   ]
  },
  {
   "cell_type": "code",
   "execution_count": 10,
   "metadata": {},
   "outputs": [],
   "source": [
    "#Sources of the AR quiver\n",
    "def projective_indecomposable(L,i):\n",
    "    j0,j1=i,i\n",
    "    d0,d1=1,1\n",
    "    while d0 and j0 > 0:\n",
    "        d0 = L[j0-1] == 0\n",
    "        j0-=1\n",
    "    while d1 and j1 < len(L) :\n",
    "        d1 = L[j1] == 1\n",
    "        j1+=1\n",
    "    if d0 and d1 : return (0,len(L))\n",
    "    elif d0 : return (0,j1-1)\n",
    "    elif d1 : return (j0+1,len(L))\n",
    "    else : return (j0+1,j1-1)\n",
    "\n",
    "#Sinks of the AR quiver    \n",
    "def injective_indecomposable(L,i):\n",
    "    j0,j1=i,i\n",
    "    d0,d1=1,1\n",
    "    while d0 and j0 > 0:\n",
    "        d0 = L[j0-1] == 1\n",
    "        j0-=1\n",
    "    while d1 and j1 < len(L) :\n",
    "        d1 = L[j1] == 0\n",
    "        j1+=1\n",
    "    if d0 and d1 : return (0,len(L))\n",
    "    elif d0 : return (0,j1-1)\n",
    "    elif d1 : return (j0+1,len(L))\n",
    "    else : return (j0+1,j1-1)\n",
    "\n",
    "#Arrow of the AR quiver\n",
    "def add_hook_left(L,t):\n",
    "    if t[0] == 0 : return t\n",
    "    elif L[t[0]-1] == 1 :\n",
    "        d=1\n",
    "        j=1\n",
    "        while d and t[0]-j > 0:\n",
    "            d = L[t[0]-j-1] == 0\n",
    "            if d : j+=1\n",
    "        return (t[0]-j,t[1])\n",
    "    else : return t\n",
    "    \n",
    "def add_hook_right(L,t):\n",
    "    if t[1] == len(L) : return t\n",
    "    elif L[t[1]] == 0 :\n",
    "        d=1\n",
    "        j=1\n",
    "        while d and t[1]+j < len(L) :\n",
    "            d = L[t[1]+j] == 1\n",
    "            if d : j+=1\n",
    "        return (t[0],t[1]+j)\n",
    "    else : return t\n",
    "\n",
    "def delete_cohook_left(L,t):\n",
    "    if t[0]==len(L) : return t\n",
    "    elif L[t[0]] == 0 and t[0] < t[1]: return (t[0]+1,t[1])\n",
    "    elif L[t[0]] == 1 :\n",
    "        d=1\n",
    "        j=1\n",
    "        while d and t[0]+j < min(t[1]+1,len(L)):\n",
    "            d = L[t[0]+j] == 1\n",
    "            j+=1\n",
    "        if t[0]+j < t[1]+1 and not(d) : return (t[0]+j,t[1])\n",
    "        else : return t\n",
    "    else : return t\n",
    "    \n",
    "def delete_cohook_right(L,t):\n",
    "    if t[1]==0 : return t\n",
    "    elif L[t[1]-1] == 1 and t[0] < t[1] : return (t[0],t[1]-1)\n",
    "    elif L[t[1]-1] == 0 :\n",
    "        d=1\n",
    "        j=1\n",
    "        while d and t[1]-j > t[0]:\n",
    "            d = L[t[1]-j-1] == 0\n",
    "            j+=1\n",
    "        if t[1]-j > t[0]-1 and not(d): return (t[0],t[1]-j)\n",
    "        else : return t\n",
    "    else : return t\n",
    "    \n",
    "def AR_translate_inv(L,s):\n",
    "    sh = add_hook_right(L,s)\n",
    "    if sh == s :\n",
    "        hs = add_hook_left(L,s)\n",
    "        if hs == s:\n",
    "            sc = delete_cohook_right(L,s)\n",
    "            if sc == s : return None\n",
    "            else :\n",
    "                csc = delete_cohook_left(L,sc)\n",
    "                if csc == sc : return None\n",
    "                else : return csc\n",
    "        else : \n",
    "            hsc = delete_cohook_right(L,hs)\n",
    "            if hsc == hs : return None\n",
    "            else : return hsc\n",
    "    else :\n",
    "        hsh = add_hook_left(L,sh)\n",
    "        if hsh == sh:\n",
    "            csh = delete_cohook_left(L,sh)\n",
    "            if csh == sh : return None\n",
    "            else : return csh\n",
    "        else : return hsh\n",
    "\n",
    "#Calculate the AR quiver\n",
    "def AR_quiver(L):\n",
    "    n = len(L)\n",
    "    Q = DiGraph()\n",
    "    for i in range(n+1):\n",
    "        for j in range(n+1):\n",
    "            if not((min(i,j),max(i,j)) in Q.vertices()) :\n",
    "                Q.add_vertex((min(i,j),max(i,j)))\n",
    "    for t in Q.vertices() :\n",
    "        if add_hook_left(L,t) != t : Q.add_edge(t,add_hook_left(L,t))\n",
    "        elif delete_cohook_left(L,t) != t : Q.add_edge(t,delete_cohook_left(L,t))\n",
    "        if add_hook_right(L,t) != t : Q.add_edge(t,add_hook_right(L,t))\n",
    "        elif delete_cohook_right(L,t) != t : Q.add_edge(t,delete_cohook_right(L,t))\n",
    "        tauinvt = AR_translate_inv(L,t)\n",
    "        if type(tauinvt)!=type(None): \n",
    "             Q.add_edge(tauinvt,t, \"AR_tau\")\n",
    "    return Q\n",
    "\n",
    "#Draw a (beautiful) AR quiver\n",
    "from sage.graphs.graph_plot import GraphPlot\n",
    "def Draw_AR_quiver(L):\n",
    "    QQ = AR_quiver(L)\n",
    "    if type(QQ) == type(None): return None\n",
    "    else :\n",
    "        ninp = [v for v in QQ.vertices() if len([a for a in QQ.incoming_edges(v) if a[2]=='AR_tau']) !=0 and len([a for a in QQ.outgoing_edges(v) if a[2]=='AR_tau']) !=0 ]\n",
    "        nip = [v for v in QQ.vertices() if len([a for a in QQ.incoming_edges(v) if a[2]=='AR_tau']) !=0 and len([a for a in QQ.outgoing_edges(v) if a[2]=='AR_tau']) ==0 ]\n",
    "        inp = [v for v in QQ.vertices() if len([a for a in QQ.incoming_edges(v) if a[2]=='AR_tau']) ==0 and len([a for a in QQ.outgoing_edges(v) if a[2]=='AR_tau']) !=0 ]\n",
    "        ip = [v for v in QQ.vertices() if len([a for a in QQ.incoming_edges(v) if a[2]=='AR_tau']) ==0 and len([a for a in QQ.outgoing_edges(v) if a[2]=='AR_tau']) ==0 ]\n",
    "        l = max([len(q) for q in QQ.vertices()])\n",
    "        options = {\n",
    "        'vertex_size': 200*(l+1),\n",
    "        'vertex_labels': True,\n",
    "        'vertex_colors': {'#FFFFFF': ninp, '#FF0000': nip, '#00FF00' : inp , '#0000FF' : ip },\n",
    "        'layout': None,\n",
    "        'edge_style': 'solid',\n",
    "        'edge_color': None,\n",
    "        'edge_colors': {'red':[e for e in QQ.edges() if e[2] == 'AR_tau'], 'black':[e for e in QQ.edges() if e[2] != 'AR_tau']},\n",
    "        'edge_labels': False,\n",
    "        'iterations': 50,\n",
    "        'tree_orientation': 'down',\n",
    "        'heights': None,\n",
    "        'graph_border': False,\n",
    "        'talk': False,\n",
    "        'color_by_label': None,\n",
    "        'partition': None,\n",
    "        'dist': .075,\n",
    "        'max_dist': 1.5,\n",
    "        'loop_size': .075,\n",
    "        'edge_labels_background': 'transparent'}\n",
    "        return GraphPlot(QQ,options).show()"
   ]
  },
  {
   "cell_type": "code",
   "execution_count": 11,
   "metadata": {},
   "outputs": [
    {
     "data": {
      "image/png": "[encoded data removed]",
      "text/plain": [
       "Graphics object consisting of 67 graphics primitives"
      ]
     },
     "metadata": {},
     "output_type": "display_data"
    }
   ],
   "source": [
    "Draw_AR_quiver(L)"
   ]
  },
  {
   "cell_type": "markdown",
   "metadata": {},
   "source": [
    "# 3) Take the subquiver (saw as a subposet) generated by a fixed collection of vertices."
   ]
  },
  {
   "cell_type": "code",
   "execution_count": 12,
   "metadata": {},
   "outputs": [],
   "source": [
    "#Calculate the subquiver of the AR quiver given a collection C of vertices\n",
    "#Note : we delete the arrows corresponding to the AR translation -- which is not useful in the following\n",
    "def AR_quiver_subcategory(L,C):\n",
    "    Q = AR_quiver(L)\n",
    "    Q.delete_edges([e for e in Q.edges() if e[2] == \"AR_tau\"])\n",
    "    return DiGraph((Poset(Q).subposet(C)).hasse_diagram())\n",
    "\n",
    "def Draw_AR_subquiv(L,C):\n",
    "    QQ = AR_quiver_subcategory(L,C)\n",
    "    if type(QQ) == type(None): return None\n",
    "    else :\n",
    "        l = max([len(q) for q in QQ.vertices()])\n",
    "        options = {\n",
    "        'vertex_size': 200*(l+1),\n",
    "        'vertex_labels': True,\n",
    "        'vertex_color': 'white',\n",
    "        'layout': None,\n",
    "        'edge_style': 'solid',\n",
    "        'edge_color': None,\n",
    "        'edge_color': 'black',\n",
    "        'edge_labels': False,\n",
    "        'iterations': 50,\n",
    "        'tree_orientation': 'down',\n",
    "        'heights': None,\n",
    "        'graph_border': False,\n",
    "        'talk': False,\n",
    "        'color_by_label': None,\n",
    "        'partition': None,\n",
    "        'dist': .075,\n",
    "        'max_dist': 1.5,\n",
    "        'loop_size': .075,\n",
    "        'edge_labels_background': 'transparent'}\n",
    "        return GraphPlot(QQ,options).show()"
   ]
  },
  {
   "cell_type": "code",
   "execution_count": 13,
   "metadata": {},
   "outputs": [],
   "source": [
    "#Check if an indecomposable representation t is supported at the vertex i\n",
    "def Indec_is_supported(t,i) :\n",
    "    return t[0]-1 < i < t[1]+1"
   ]
  },
  {
   "cell_type": "code",
   "execution_count": 14,
   "metadata": {},
   "outputs": [
    {
     "data": {
      "image/png": "[encoded data removed]",
      "text/plain": [
       "Graphics object consisting of 30 graphics primitives"
      ]
     },
     "metadata": {},
     "output_type": "display_data"
    }
   ],
   "source": [
    "#Example of a subquiver we use to calculate the generic Jordan form data of a representation\n",
    "Draw_AR_subquiv(L,[t for t in AR_quiver(L).vertices() if Indec_is_supported(t,2)])"
   ]
  },
  {
   "cell_type": "markdown",
   "metadata": {},
   "source": [
    "# 4) Some tools for generating representations in a fixed category"
   ]
  },
  {
   "cell_type": "code",
   "execution_count": 15,
   "metadata": {},
   "outputs": [],
   "source": [
    "def Vectrep_to_rep(Cat,V):\n",
    "    return [[V[i],Cat[i]] for i in range(len(V))]\n",
    "\n",
    "def dim_vector(L,Rep):\n",
    "    T = []\n",
    "    for i in range(len(L)+1):\n",
    "        S = 0\n",
    "        for R in Rep :\n",
    "            if R[1][0]-1 < i < R[1][1]+1 :  S+=R[0]\n",
    "        T.append(S)\n",
    "    return vector(T)"
   ]
  },
  {
   "cell_type": "code",
   "execution_count": 16,
   "metadata": {},
   "outputs": [
    {
     "data": {
      "text/html": [
       "<html>\\(\\displaystyle \\left[\\left[1, \\left(0, 1\\right)\\right], \\left[2, \\left(1, 1\\right)\\right], \\left[1, \\left(3, 3\\right)\\right], \\left[2, \\left(3, 4\\right)\\right], \\left[1, \\left(1, 3\\right)\\right], \\left[2, \\left(1, 4\\right)\\right], \\left[1, \\left(0, 3\\right)\\right], \\left[1, \\left(0, 4\\right)\\right]\\right]\\)</html>"
      ],
      "text/latex": [
       "$\\displaystyle \\left[\\left[1, \\left(0, 1\\right)\\right], \\left[2, \\left(1, 1\\right)\\right], \\left[1, \\left(3, 3\\right)\\right], \\left[2, \\left(3, 4\\right)\\right], \\left[1, \\left(1, 3\\right)\\right], \\left[2, \\left(1, 4\\right)\\right], \\left[1, \\left(0, 3\\right)\\right], \\left[1, \\left(0, 4\\right)\\right]\\right]$"
      ],
      "text/plain": [
       "[[1, (0, 1)],\n",
       " [2, (1, 1)],\n",
       " [1, (3, 3)],\n",
       " [2, (3, 4)],\n",
       " [1, (1, 3)],\n",
       " [2, (1, 4)],\n",
       " [1, (0, 3)],\n",
       " [1, (0, 4)]]"
      ]
     },
     "execution_count": 16,
     "metadata": {},
     "output_type": "execute_result"
    }
   ],
   "source": [
    "Cat = [(0,1),(1,1),(3,3),(3,4),(1,3),(1,4),(0,3),(0,4)]\n",
    "V = vector([1,2,1,2,1,2,1,1])\n",
    "Rep = Vectrep_to_rep(Cat,V); Rep"
   ]
  },
  {
   "cell_type": "code",
   "execution_count": 17,
   "metadata": {},
   "outputs": [
    {
     "data": {
      "text/html": [
       "<html>\\(\\displaystyle \\left(3,\\,8,\\,5,\\,8,\\,5,\\,0\\right)\\)</html>"
      ],
      "text/latex": [
       "$\\displaystyle \\left(3,\\,8,\\,5,\\,8,\\,5,\\,0\\right)$"
      ],
      "text/plain": [
       "(3, 8, 5, 8, 5, 0)"
      ]
     },
     "execution_count": 17,
     "metadata": {},
     "output_type": "execute_result"
    }
   ],
   "source": [
    "dim_vector(L,Rep)"
   ]
  },
  {
   "cell_type": "markdown",
   "metadata": {},
   "source": [
    "# 5) We set up the path calculations for GenJF"
   ]
  },
  {
   "cell_type": "code",
   "execution_count": 18,
   "metadata": {},
   "outputs": [],
   "source": [
    "def support_multi_path(M):\n",
    "    S = Set()\n",
    "    for P in M :\n",
    "        S = S.union(Set(P))\n",
    "    return S\n",
    "\n",
    "def multi_path_weight(L,Rep,M):\n",
    "    S = support_multi_path(M)\n",
    "    T = 0\n",
    "    for R in Rep :\n",
    "        if R[1] in S : T+=R[0]\n",
    "    return T\n",
    "\n",
    "def maximal_weight_multi_paths(L,Rep,q,k):\n",
    "    Z = AR_quiver_subcategory(L,[t for t in AR_quiver(L).vertices() if Indec_is_supported(t,q)])\n",
    "    paths = Z.all_paths(Z.sources()[0],Z.sinks()[0])\n",
    "    S = Set([i for i in range(0,len(paths))])\n",
    "    Multik = [[paths[i] for i in s] for s in S.subsets(k)]\n",
    "    return max([multi_path_weight(L,Rep,m) for m in Multik]+[-1])\n",
    "\n",
    "def Partitions(L,Rep,q):\n",
    "    T = []\n",
    "    d = True\n",
    "    k = 1\n",
    "    while d :\n",
    "        if k==1 :\n",
    "            a = maximal_weight_multi_paths(L,Rep,q,k)\n",
    "        else :\n",
    "            a = maximal_weight_multi_paths(L,Rep,q,k) - sum(T)\n",
    "        if a < 1 :\n",
    "            d = False\n",
    "        else :\n",
    "            T.append(a)\n",
    "            k+=1\n",
    "    return T\n",
    "\n",
    "def GenJF(L,Rep):\n",
    "    return [Partitions(L,Rep,q) for q in range(len(L)+1)]"
   ]
  },
  {
   "cell_type": "code",
   "execution_count": 19,
   "metadata": {},
   "outputs": [
    {
     "data": {
      "text/html": [
       "<html>\\(\\displaystyle \\left[\\left[3\\right], \\left[6, 2\\right], \\left[4, 1\\right], \\left[6, 2\\right], \\left[5\\right], \\left[\\right]\\right]\\)</html>"
      ],
      "text/latex": [
       "$\\displaystyle \\left[\\left[3\\right], \\left[6, 2\\right], \\left[4, 1\\right], \\left[6, 2\\right], \\left[5\\right], \\left[\\right]\\right]$"
      ],
      "text/plain": [
       "[[3], [6, 2], [4, 1], [6, 2], [5], []]"
      ]
     },
     "execution_count": 19,
     "metadata": {},
     "output_type": "execute_result"
    }
   ],
   "source": [
    "GenJF(L,Rep)"
   ]
  },
  {
   "cell_type": "markdown",
   "metadata": {},
   "source": [
    "# 6) Quick (and smart) test to know the category we choose is Jordan recoverable\n",
    "\n",
    "It does not prove that a category $\\mathscr{C}$ is Jordan recoverable, but if $\\mathscr{C}$ passes it succesfully, we can stongly believe that it should be Jordan recoverable."
   ]
  },
  {
   "cell_type": "code",
   "execution_count": 20,
   "metadata": {},
   "outputs": [],
   "source": [
    "#Allows us to determine all the representations in a fixed category which have the same dimension vector V\n",
    "def rep_in_cat_with_same_dim_vect(L,Cat,V):\n",
    "    D = [dim_vector(L,[[1,t]]) for t in Cat]\n",
    "    Mat = matrix([[D[i][j] for j in range(len(L)+1)] for i in range(len(D))])\n",
    "    K= [v for v in (kernel(Mat)).gens()]\n",
    "    W = Mat.solve_left(V)\n",
    "    P = Polyhedron(vertices = [vector(W)], rays = [vector(k) for k in K] + [-vector(k) for k in K], base_ring=ZZ)\n",
    "    Octant = Polyhedron(vertices = [vector([0 for i in range(len(D))])],rays=[vector([int(i==j) for i in range(len(D))]) for j in range(len(D))], base_ring=ZZ)\n",
    "    Points = (P.intersection(Octant)).integral_points()\n",
    "    return [Vectrep_to_rep(Cat,v) for v in Points] "
   ]
  },
  {
   "cell_type": "code",
   "execution_count": 21,
   "metadata": {},
   "outputs": [
    {
     "data": {
      "text/html": [
       "<html>\\(\\displaystyle \\left[\\left[0, \\left(0, 1\\right)\\right], \\left[3, \\left(1, 1\\right)\\right], \\left[0, \\left(3, 3\\right)\\right], \\left[2, \\left(3, 4\\right)\\right], \\left[0, \\left(1, 3\\right)\\right], \\left[2, \\left(1, 4\\right)\\right], \\left[4, \\left(0, 3\\right)\\right], \\left[0, \\left(0, 4\\right)\\right]\\right]\\)</html>"
      ],
      "text/latex": [
       "$\\displaystyle \\left[\\left[0, \\left(0, 1\\right)\\right], \\left[3, \\left(1, 1\\right)\\right], \\left[0, \\left(3, 3\\right)\\right], \\left[2, \\left(3, 4\\right)\\right], \\left[0, \\left(1, 3\\right)\\right], \\left[2, \\left(1, 4\\right)\\right], \\left[4, \\left(0, 3\\right)\\right], \\left[0, \\left(0, 4\\right)\\right]\\right]$"
      ],
      "text/plain": [
       "[[0, (0, 1)],\n",
       " [3, (1, 1)],\n",
       " [0, (3, 3)],\n",
       " [2, (3, 4)],\n",
       " [0, (1, 3)],\n",
       " [2, (1, 4)],\n",
       " [4, (0, 3)],\n",
       " [0, (0, 4)]]"
      ]
     },
     "metadata": {},
     "output_type": "display_data"
    },
    {
     "data": {
      "text/html": [
       "<html>\\(\\displaystyle \\left[\\left[0, \\left(0, 1\\right)\\right], \\left[3, \\left(1, 1\\right)\\right], \\left[0, \\left(3, 3\\right)\\right], \\left[2, \\left(3, 4\\right)\\right], \\left[1, \\left(1, 3\\right)\\right], \\left[1, \\left(1, 4\\right)\\right], \\left[3, \\left(0, 3\\right)\\right], \\left[1, \\left(0, 4\\right)\\right]\\right]\\)</html>"
      ],
      "text/latex": [
       "$\\displaystyle \\left[\\left[0, \\left(0, 1\\right)\\right], \\left[3, \\left(1, 1\\right)\\right], \\left[0, \\left(3, 3\\right)\\right], \\left[2, \\left(3, 4\\right)\\right], \\left[1, \\left(1, 3\\right)\\right], \\left[1, \\left(1, 4\\right)\\right], \\left[3, \\left(0, 3\\right)\\right], \\left[1, \\left(0, 4\\right)\\right]\\right]$"
      ],
      "text/plain": [
       "[[0, (0, 1)],\n",
       " [3, (1, 1)],\n",
       " [0, (3, 3)],\n",
       " [2, (3, 4)],\n",
       " [1, (1, 3)],\n",
       " [1, (1, 4)],\n",
       " [3, (0, 3)],\n",
       " [1, (0, 4)]]"
      ]
     },
     "metadata": {},
     "output_type": "display_data"
    },
    {
     "data": {
      "text/html": [
       "<html>\\(\\displaystyle \\left[\\left[0, \\left(0, 1\\right)\\right], \\left[3, \\left(1, 1\\right)\\right], \\left[0, \\left(3, 3\\right)\\right], \\left[2, \\left(3, 4\\right)\\right], \\left[2, \\left(1, 3\\right)\\right], \\left[0, \\left(1, 4\\right)\\right], \\left[2, \\left(0, 3\\right)\\right], \\left[2, \\left(0, 4\\right)\\right]\\right]\\)</html>"
      ],
      "text/latex": [
       "$\\displaystyle \\left[\\left[0, \\left(0, 1\\right)\\right], \\left[3, \\left(1, 1\\right)\\right], \\left[0, \\left(3, 3\\right)\\right], \\left[2, \\left(3, 4\\right)\\right], \\left[2, \\left(1, 3\\right)\\right], \\left[0, \\left(1, 4\\right)\\right], \\left[2, \\left(0, 3\\right)\\right], \\left[2, \\left(0, 4\\right)\\right]\\right]$"
      ],
      "text/plain": [
       "[[0, (0, 1)],\n",
       " [3, (1, 1)],\n",
       " [0, (3, 3)],\n",
       " [2, (3, 4)],\n",
       " [2, (1, 3)],\n",
       " [0, (1, 4)],\n",
       " [2, (0, 3)],\n",
       " [2, (0, 4)]]"
      ]
     },
     "metadata": {},
     "output_type": "display_data"
    },
    {
     "data": {
      "text/html": [
       "<html>\\(\\displaystyle \\left[\\left[1, \\left(0, 1\\right)\\right], \\left[2, \\left(1, 1\\right)\\right], \\left[0, \\left(3, 3\\right)\\right], \\left[2, \\left(3, 4\\right)\\right], \\left[1, \\left(1, 3\\right)\\right], \\left[2, \\left(1, 4\\right)\\right], \\left[3, \\left(0, 3\\right)\\right], \\left[0, \\left(0, 4\\right)\\right]\\right]\\)</html>"
      ],
      "text/latex": [
       "$\\displaystyle \\left[\\left[1, \\left(0, 1\\right)\\right], \\left[2, \\left(1, 1\\right)\\right], \\left[0, \\left(3, 3\\right)\\right], \\left[2, \\left(3, 4\\right)\\right], \\left[1, \\left(1, 3\\right)\\right], \\left[2, \\left(1, 4\\right)\\right], \\left[3, \\left(0, 3\\right)\\right], \\left[0, \\left(0, 4\\right)\\right]\\right]$"
      ],
      "text/plain": [
       "[[1, (0, 1)],\n",
       " [2, (1, 1)],\n",
       " [0, (3, 3)],\n",
       " [2, (3, 4)],\n",
       " [1, (1, 3)],\n",
       " [2, (1, 4)],\n",
       " [3, (0, 3)],\n",
       " [0, (0, 4)]]"
      ]
     },
     "metadata": {},
     "output_type": "display_data"
    },
    {
     "data": {
      "text/html": [
       "<html>\\(\\displaystyle \\left[\\left[1, \\left(0, 1\\right)\\right], \\left[2, \\left(1, 1\\right)\\right], \\left[0, \\left(3, 3\\right)\\right], \\left[2, \\left(3, 4\\right)\\right], \\left[2, \\left(1, 3\\right)\\right], \\left[1, \\left(1, 4\\right)\\right], \\left[2, \\left(0, 3\\right)\\right], \\left[1, \\left(0, 4\\right)\\right]\\right]\\)</html>"
      ],
      "text/latex": [
       "$\\displaystyle \\left[\\left[1, \\left(0, 1\\right)\\right], \\left[2, \\left(1, 1\\right)\\right], \\left[0, \\left(3, 3\\right)\\right], \\left[2, \\left(3, 4\\right)\\right], \\left[2, \\left(1, 3\\right)\\right], \\left[1, \\left(1, 4\\right)\\right], \\left[2, \\left(0, 3\\right)\\right], \\left[1, \\left(0, 4\\right)\\right]\\right]$"
      ],
      "text/plain": [
       "[[1, (0, 1)],\n",
       " [2, (1, 1)],\n",
       " [0, (3, 3)],\n",
       " [2, (3, 4)],\n",
       " [2, (1, 3)],\n",
       " [1, (1, 4)],\n",
       " [2, (0, 3)],\n",
       " [1, (0, 4)]]"
      ]
     },
     "metadata": {},
     "output_type": "display_data"
    },
    {
     "data": {
      "text/html": [
       "<html>\\(\\displaystyle \\left[\\left[1, \\left(0, 1\\right)\\right], \\left[2, \\left(1, 1\\right)\\right], \\left[0, \\left(3, 3\\right)\\right], \\left[2, \\left(3, 4\\right)\\right], \\left[3, \\left(1, 3\\right)\\right], \\left[0, \\left(1, 4\\right)\\right], \\left[1, \\left(0, 3\\right)\\right], \\left[2, \\left(0, 4\\right)\\right]\\right]\\)</html>"
      ],
      "text/latex": [
       "$\\displaystyle \\left[\\left[1, \\left(0, 1\\right)\\right], \\left[2, \\left(1, 1\\right)\\right], \\left[0, \\left(3, 3\\right)\\right], \\left[2, \\left(3, 4\\right)\\right], \\left[3, \\left(1, 3\\right)\\right], \\left[0, \\left(1, 4\\right)\\right], \\left[1, \\left(0, 3\\right)\\right], \\left[2, \\left(0, 4\\right)\\right]\\right]$"
      ],
      "text/plain": [
       "[[1, (0, 1)],\n",
       " [2, (1, 1)],\n",
       " [0, (3, 3)],\n",
       " [2, (3, 4)],\n",
       " [3, (1, 3)],\n",
       " [0, (1, 4)],\n",
       " [1, (0, 3)],\n",
       " [2, (0, 4)]]"
      ]
     },
     "metadata": {},
     "output_type": "display_data"
    },
    {
     "data": {
      "text/html": [
       "<html>\\(\\displaystyle \\left[\\left[2, \\left(0, 1\\right)\\right], \\left[1, \\left(1, 1\\right)\\right], \\left[0, \\left(3, 3\\right)\\right], \\left[2, \\left(3, 4\\right)\\right], \\left[2, \\left(1, 3\\right)\\right], \\left[2, \\left(1, 4\\right)\\right], \\left[2, \\left(0, 3\\right)\\right], \\left[0, \\left(0, 4\\right)\\right]\\right]\\)</html>"
      ],
      "text/latex": [
       "$\\displaystyle \\left[\\left[2, \\left(0, 1\\right)\\right], \\left[1, \\left(1, 1\\right)\\right], \\left[0, \\left(3, 3\\right)\\right], \\left[2, \\left(3, 4\\right)\\right], \\left[2, \\left(1, 3\\right)\\right], \\left[2, \\left(1, 4\\right)\\right], \\left[2, \\left(0, 3\\right)\\right], \\left[0, \\left(0, 4\\right)\\right]\\right]$"
      ],
      "text/plain": [
       "[[2, (0, 1)],\n",
       " [1, (1, 1)],\n",
       " [0, (3, 3)],\n",
       " [2, (3, 4)],\n",
       " [2, (1, 3)],\n",
       " [2, (1, 4)],\n",
       " [2, (0, 3)],\n",
       " [0, (0, 4)]]"
      ]
     },
     "metadata": {},
     "output_type": "display_data"
    },
    {
     "data": {
      "text/html": [
       "<html>\\(\\displaystyle \\left[\\left[2, \\left(0, 1\\right)\\right], \\left[1, \\left(1, 1\\right)\\right], \\left[0, \\left(3, 3\\right)\\right], \\left[2, \\left(3, 4\\right)\\right], \\left[3, \\left(1, 3\\right)\\right], \\left[1, \\left(1, 4\\right)\\right], \\left[1, \\left(0, 3\\right)\\right], \\left[1, \\left(0, 4\\right)\\right]\\right]\\)</html>"
      ],
      "text/latex": [
       "$\\displaystyle \\left[\\left[2, \\left(0, 1\\right)\\right], \\left[1, \\left(1, 1\\right)\\right], \\left[0, \\left(3, 3\\right)\\right], \\left[2, \\left(3, 4\\right)\\right], \\left[3, \\left(1, 3\\right)\\right], \\left[1, \\left(1, 4\\right)\\right], \\left[1, \\left(0, 3\\right)\\right], \\left[1, \\left(0, 4\\right)\\right]\\right]$"
      ],
      "text/plain": [
       "[[2, (0, 1)],\n",
       " [1, (1, 1)],\n",
       " [0, (3, 3)],\n",
       " [2, (3, 4)],\n",
       " [3, (1, 3)],\n",
       " [1, (1, 4)],\n",
       " [1, (0, 3)],\n",
       " [1, (0, 4)]]"
      ]
     },
     "metadata": {},
     "output_type": "display_data"
    },
    {
     "data": {
      "text/html": [
       "<html>\\(\\displaystyle \\left[\\left[2, \\left(0, 1\\right)\\right], \\left[1, \\left(1, 1\\right)\\right], \\left[0, \\left(3, 3\\right)\\right], \\left[2, \\left(3, 4\\right)\\right], \\left[4, \\left(1, 3\\right)\\right], \\left[0, \\left(1, 4\\right)\\right], \\left[0, \\left(0, 3\\right)\\right], \\left[2, \\left(0, 4\\right)\\right]\\right]\\)</html>"
      ],
      "text/latex": [
       "$\\displaystyle \\left[\\left[2, \\left(0, 1\\right)\\right], \\left[1, \\left(1, 1\\right)\\right], \\left[0, \\left(3, 3\\right)\\right], \\left[2, \\left(3, 4\\right)\\right], \\left[4, \\left(1, 3\\right)\\right], \\left[0, \\left(1, 4\\right)\\right], \\left[0, \\left(0, 3\\right)\\right], \\left[2, \\left(0, 4\\right)\\right]\\right]$"
      ],
      "text/plain": [
       "[[2, (0, 1)],\n",
       " [1, (1, 1)],\n",
       " [0, (3, 3)],\n",
       " [2, (3, 4)],\n",
       " [4, (1, 3)],\n",
       " [0, (1, 4)],\n",
       " [0, (0, 3)],\n",
       " [2, (0, 4)]]"
      ]
     },
     "metadata": {},
     "output_type": "display_data"
    },
    {
     "data": {
      "text/html": [
       "<html>\\(\\displaystyle \\left[\\left[3, \\left(0, 1\\right)\\right], \\left[0, \\left(1, 1\\right)\\right], \\left[0, \\left(3, 3\\right)\\right], \\left[2, \\left(3, 4\\right)\\right], \\left[3, \\left(1, 3\\right)\\right], \\left[2, \\left(1, 4\\right)\\right], \\left[1, \\left(0, 3\\right)\\right], \\left[0, \\left(0, 4\\right)\\right]\\right]\\)</html>"
      ],
      "text/latex": [
       "$\\displaystyle \\left[\\left[3, \\left(0, 1\\right)\\right], \\left[0, \\left(1, 1\\right)\\right], \\left[0, \\left(3, 3\\right)\\right], \\left[2, \\left(3, 4\\right)\\right], \\left[3, \\left(1, 3\\right)\\right], \\left[2, \\left(1, 4\\right)\\right], \\left[1, \\left(0, 3\\right)\\right], \\left[0, \\left(0, 4\\right)\\right]\\right]$"
      ],
      "text/plain": [
       "[[3, (0, 1)],\n",
       " [0, (1, 1)],\n",
       " [0, (3, 3)],\n",
       " [2, (3, 4)],\n",
       " [3, (1, 3)],\n",
       " [2, (1, 4)],\n",
       " [1, (0, 3)],\n",
       " [0, (0, 4)]]"
      ]
     },
     "metadata": {},
     "output_type": "display_data"
    },
    {
     "data": {
      "text/html": [
       "<html>\\(\\displaystyle \\left[\\left[3, \\left(0, 1\\right)\\right], \\left[0, \\left(1, 1\\right)\\right], \\left[0, \\left(3, 3\\right)\\right], \\left[2, \\left(3, 4\\right)\\right], \\left[4, \\left(1, 3\\right)\\right], \\left[1, \\left(1, 4\\right)\\right], \\left[0, \\left(0, 3\\right)\\right], \\left[1, \\left(0, 4\\right)\\right]\\right]\\)</html>"
      ],
      "text/latex": [
       "$\\displaystyle \\left[\\left[3, \\left(0, 1\\right)\\right], \\left[0, \\left(1, 1\\right)\\right], \\left[0, \\left(3, 3\\right)\\right], \\left[2, \\left(3, 4\\right)\\right], \\left[4, \\left(1, 3\\right)\\right], \\left[1, \\left(1, 4\\right)\\right], \\left[0, \\left(0, 3\\right)\\right], \\left[1, \\left(0, 4\\right)\\right]\\right]$"
      ],
      "text/plain": [
       "[[3, (0, 1)],\n",
       " [0, (1, 1)],\n",
       " [0, (3, 3)],\n",
       " [2, (3, 4)],\n",
       " [4, (1, 3)],\n",
       " [1, (1, 4)],\n",
       " [0, (0, 3)],\n",
       " [1, (0, 4)]]"
      ]
     },
     "metadata": {},
     "output_type": "display_data"
    },
    {
     "data": {
      "text/html": [
       "<html>\\(\\displaystyle \\left[\\left[0, \\left(0, 1\\right)\\right], \\left[3, \\left(1, 1\\right)\\right], \\left[1, \\left(3, 3\\right)\\right], \\left[1, \\left(3, 4\\right)\\right], \\left[0, \\left(1, 3\\right)\\right], \\left[2, \\left(1, 4\\right)\\right], \\left[3, \\left(0, 3\\right)\\right], \\left[1, \\left(0, 4\\right)\\right]\\right]\\)</html>"
      ],
      "text/latex": [
       "$\\displaystyle \\left[\\left[0, \\left(0, 1\\right)\\right], \\left[3, \\left(1, 1\\right)\\right], \\left[1, \\left(3, 3\\right)\\right], \\left[1, \\left(3, 4\\right)\\right], \\left[0, \\left(1, 3\\right)\\right], \\left[2, \\left(1, 4\\right)\\right], \\left[3, \\left(0, 3\\right)\\right], \\left[1, \\left(0, 4\\right)\\right]\\right]$"
      ],
      "text/plain": [
       "[[0, (0, 1)],\n",
       " [3, (1, 1)],\n",
       " [1, (3, 3)],\n",
       " [1, (3, 4)],\n",
       " [0, (1, 3)],\n",
       " [2, (1, 4)],\n",
       " [3, (0, 3)],\n",
       " [1, (0, 4)]]"
      ]
     },
     "metadata": {},
     "output_type": "display_data"
    },
    {
     "data": {
      "text/html": [
       "<html>\\(\\displaystyle \\left[\\left[0, \\left(0, 1\\right)\\right], \\left[3, \\left(1, 1\\right)\\right], \\left[1, \\left(3, 3\\right)\\right], \\left[1, \\left(3, 4\\right)\\right], \\left[1, \\left(1, 3\\right)\\right], \\left[1, \\left(1, 4\\right)\\right], \\left[2, \\left(0, 3\\right)\\right], \\left[2, \\left(0, 4\\right)\\right]\\right]\\)</html>"
      ],
      "text/latex": [
       "$\\displaystyle \\left[\\left[0, \\left(0, 1\\right)\\right], \\left[3, \\left(1, 1\\right)\\right], \\left[1, \\left(3, 3\\right)\\right], \\left[1, \\left(3, 4\\right)\\right], \\left[1, \\left(1, 3\\right)\\right], \\left[1, \\left(1, 4\\right)\\right], \\left[2, \\left(0, 3\\right)\\right], \\left[2, \\left(0, 4\\right)\\right]\\right]$"
      ],
      "text/plain": [
       "[[0, (0, 1)],\n",
       " [3, (1, 1)],\n",
       " [1, (3, 3)],\n",
       " [1, (3, 4)],\n",
       " [1, (1, 3)],\n",
       " [1, (1, 4)],\n",
       " [2, (0, 3)],\n",
       " [2, (0, 4)]]"
      ]
     },
     "metadata": {},
     "output_type": "display_data"
    },
    {
     "data": {
      "text/html": [
       "<html>\\(\\displaystyle \\left[\\left[0, \\left(0, 1\\right)\\right], \\left[3, \\left(1, 1\\right)\\right], \\left[1, \\left(3, 3\\right)\\right], \\left[1, \\left(3, 4\\right)\\right], \\left[2, \\left(1, 3\\right)\\right], \\left[0, \\left(1, 4\\right)\\right], \\left[1, \\left(0, 3\\right)\\right], \\left[3, \\left(0, 4\\right)\\right]\\right]\\)</html>"
      ],
      "text/latex": [
       "$\\displaystyle \\left[\\left[0, \\left(0, 1\\right)\\right], \\left[3, \\left(1, 1\\right)\\right], \\left[1, \\left(3, 3\\right)\\right], \\left[1, \\left(3, 4\\right)\\right], \\left[2, \\left(1, 3\\right)\\right], \\left[0, \\left(1, 4\\right)\\right], \\left[1, \\left(0, 3\\right)\\right], \\left[3, \\left(0, 4\\right)\\right]\\right]$"
      ],
      "text/plain": [
       "[[0, (0, 1)],\n",
       " [3, (1, 1)],\n",
       " [1, (3, 3)],\n",
       " [1, (3, 4)],\n",
       " [2, (1, 3)],\n",
       " [0, (1, 4)],\n",
       " [1, (0, 3)],\n",
       " [3, (0, 4)]]"
      ]
     },
     "metadata": {},
     "output_type": "display_data"
    },
    {
     "data": {
      "text/html": [
       "<html>\\(\\displaystyle \\left[\\left[1, \\left(0, 1\\right)\\right], \\left[2, \\left(1, 1\\right)\\right], \\left[1, \\left(3, 3\\right)\\right], \\left[1, \\left(3, 4\\right)\\right], \\left[0, \\left(1, 3\\right)\\right], \\left[3, \\left(1, 4\\right)\\right], \\left[3, \\left(0, 3\\right)\\right], \\left[0, \\left(0, 4\\right)\\right]\\right]\\)</html>"
      ],
      "text/latex": [
       "$\\displaystyle \\left[\\left[1, \\left(0, 1\\right)\\right], \\left[2, \\left(1, 1\\right)\\right], \\left[1, \\left(3, 3\\right)\\right], \\left[1, \\left(3, 4\\right)\\right], \\left[0, \\left(1, 3\\right)\\right], \\left[3, \\left(1, 4\\right)\\right], \\left[3, \\left(0, 3\\right)\\right], \\left[0, \\left(0, 4\\right)\\right]\\right]$"
      ],
      "text/plain": [
       "[[1, (0, 1)],\n",
       " [2, (1, 1)],\n",
       " [1, (3, 3)],\n",
       " [1, (3, 4)],\n",
       " [0, (1, 3)],\n",
       " [3, (1, 4)],\n",
       " [3, (0, 3)],\n",
       " [0, (0, 4)]]"
      ]
     },
     "metadata": {},
     "output_type": "display_data"
    },
    {
     "data": {
      "text/html": [
       "<html>\\(\\displaystyle \\left[\\left[1, \\left(0, 1\\right)\\right], \\left[2, \\left(1, 1\\right)\\right], \\left[1, \\left(3, 3\\right)\\right], \\left[1, \\left(3, 4\\right)\\right], \\left[1, \\left(1, 3\\right)\\right], \\left[2, \\left(1, 4\\right)\\right], \\left[2, \\left(0, 3\\right)\\right], \\left[1, \\left(0, 4\\right)\\right]\\right]\\)</html>"
      ],
      "text/latex": [
       "$\\displaystyle \\left[\\left[1, \\left(0, 1\\right)\\right], \\left[2, \\left(1, 1\\right)\\right], \\left[1, \\left(3, 3\\right)\\right], \\left[1, \\left(3, 4\\right)\\right], \\left[1, \\left(1, 3\\right)\\right], \\left[2, \\left(1, 4\\right)\\right], \\left[2, \\left(0, 3\\right)\\right], \\left[1, \\left(0, 4\\right)\\right]\\right]$"
      ],
      "text/plain": [
       "[[1, (0, 1)],\n",
       " [2, (1, 1)],\n",
       " [1, (3, 3)],\n",
       " [1, (3, 4)],\n",
       " [1, (1, 3)],\n",
       " [2, (1, 4)],\n",
       " [2, (0, 3)],\n",
       " [1, (0, 4)]]"
      ]
     },
     "metadata": {},
     "output_type": "display_data"
    },
    {
     "data": {
      "text/html": [
       "<html>\\(\\displaystyle \\left[\\left[1, \\left(0, 1\\right)\\right], \\left[2, \\left(1, 1\\right)\\right], \\left[1, \\left(3, 3\\right)\\right], \\left[1, \\left(3, 4\\right)\\right], \\left[2, \\left(1, 3\\right)\\right], \\left[1, \\left(1, 4\\right)\\right], \\left[1, \\left(0, 3\\right)\\right], \\left[2, \\left(0, 4\\right)\\right]\\right]\\)</html>"
      ],
      "text/latex": [
       "$\\displaystyle \\left[\\left[1, \\left(0, 1\\right)\\right], \\left[2, \\left(1, 1\\right)\\right], \\left[1, \\left(3, 3\\right)\\right], \\left[1, \\left(3, 4\\right)\\right], \\left[2, \\left(1, 3\\right)\\right], \\left[1, \\left(1, 4\\right)\\right], \\left[1, \\left(0, 3\\right)\\right], \\left[2, \\left(0, 4\\right)\\right]\\right]$"
      ],
      "text/plain": [
       "[[1, (0, 1)],\n",
       " [2, (1, 1)],\n",
       " [1, (3, 3)],\n",
       " [1, (3, 4)],\n",
       " [2, (1, 3)],\n",
       " [1, (1, 4)],\n",
       " [1, (0, 3)],\n",
       " [2, (0, 4)]]"
      ]
     },
     "metadata": {},
     "output_type": "display_data"
    },
    {
     "data": {
      "text/html": [
       "<html>\\(\\displaystyle \\left[\\left[1, \\left(0, 1\\right)\\right], \\left[2, \\left(1, 1\\right)\\right], \\left[1, \\left(3, 3\\right)\\right], \\left[1, \\left(3, 4\\right)\\right], \\left[3, \\left(1, 3\\right)\\right], \\left[0, \\left(1, 4\\right)\\right], \\left[0, \\left(0, 3\\right)\\right], \\left[3, \\left(0, 4\\right)\\right]\\right]\\)</html>"
      ],
      "text/latex": [
       "$\\displaystyle \\left[\\left[1, \\left(0, 1\\right)\\right], \\left[2, \\left(1, 1\\right)\\right], \\left[1, \\left(3, 3\\right)\\right], \\left[1, \\left(3, 4\\right)\\right], \\left[3, \\left(1, 3\\right)\\right], \\left[0, \\left(1, 4\\right)\\right], \\left[0, \\left(0, 3\\right)\\right], \\left[3, \\left(0, 4\\right)\\right]\\right]$"
      ],
      "text/plain": [
       "[[1, (0, 1)],\n",
       " [2, (1, 1)],\n",
       " [1, (3, 3)],\n",
       " [1, (3, 4)],\n",
       " [3, (1, 3)],\n",
       " [0, (1, 4)],\n",
       " [0, (0, 3)],\n",
       " [3, (0, 4)]]"
      ]
     },
     "metadata": {},
     "output_type": "display_data"
    },
    {
     "data": {
      "text/html": [
       "<html>\\(\\displaystyle \\left[\\left[2, \\left(0, 1\\right)\\right], \\left[1, \\left(1, 1\\right)\\right], \\left[1, \\left(3, 3\\right)\\right], \\left[1, \\left(3, 4\\right)\\right], \\left[1, \\left(1, 3\\right)\\right], \\left[3, \\left(1, 4\\right)\\right], \\left[2, \\left(0, 3\\right)\\right], \\left[0, \\left(0, 4\\right)\\right]\\right]\\)</html>"
      ],
      "text/latex": [
       "$\\displaystyle \\left[\\left[2, \\left(0, 1\\right)\\right], \\left[1, \\left(1, 1\\right)\\right], \\left[1, \\left(3, 3\\right)\\right], \\left[1, \\left(3, 4\\right)\\right], \\left[1, \\left(1, 3\\right)\\right], \\left[3, \\left(1, 4\\right)\\right], \\left[2, \\left(0, 3\\right)\\right], \\left[0, \\left(0, 4\\right)\\right]\\right]$"
      ],
      "text/plain": [
       "[[2, (0, 1)],\n",
       " [1, (1, 1)],\n",
       " [1, (3, 3)],\n",
       " [1, (3, 4)],\n",
       " [1, (1, 3)],\n",
       " [3, (1, 4)],\n",
       " [2, (0, 3)],\n",
       " [0, (0, 4)]]"
      ]
     },
     "metadata": {},
     "output_type": "display_data"
    },
    {
     "data": {
      "text/html": [
       "<html>\\(\\displaystyle \\left[\\left[2, \\left(0, 1\\right)\\right], \\left[1, \\left(1, 1\\right)\\right], \\left[1, \\left(3, 3\\right)\\right], \\left[1, \\left(3, 4\\right)\\right], \\left[2, \\left(1, 3\\right)\\right], \\left[2, \\left(1, 4\\right)\\right], \\left[1, \\left(0, 3\\right)\\right], \\left[1, \\left(0, 4\\right)\\right]\\right]\\)</html>"
      ],
      "text/latex": [
       "$\\displaystyle \\left[\\left[2, \\left(0, 1\\right)\\right], \\left[1, \\left(1, 1\\right)\\right], \\left[1, \\left(3, 3\\right)\\right], \\left[1, \\left(3, 4\\right)\\right], \\left[2, \\left(1, 3\\right)\\right], \\left[2, \\left(1, 4\\right)\\right], \\left[1, \\left(0, 3\\right)\\right], \\left[1, \\left(0, 4\\right)\\right]\\right]$"
      ],
      "text/plain": [
       "[[2, (0, 1)],\n",
       " [1, (1, 1)],\n",
       " [1, (3, 3)],\n",
       " [1, (3, 4)],\n",
       " [2, (1, 3)],\n",
       " [2, (1, 4)],\n",
       " [1, (0, 3)],\n",
       " [1, (0, 4)]]"
      ]
     },
     "metadata": {},
     "output_type": "display_data"
    },
    {
     "data": {
      "text/html": [
       "<html>\\(\\displaystyle \\left[\\left[2, \\left(0, 1\\right)\\right], \\left[1, \\left(1, 1\\right)\\right], \\left[1, \\left(3, 3\\right)\\right], \\left[1, \\left(3, 4\\right)\\right], \\left[3, \\left(1, 3\\right)\\right], \\left[1, \\left(1, 4\\right)\\right], \\left[0, \\left(0, 3\\right)\\right], \\left[2, \\left(0, 4\\right)\\right]\\right]\\)</html>"
      ],
      "text/latex": [
       "$\\displaystyle \\left[\\left[2, \\left(0, 1\\right)\\right], \\left[1, \\left(1, 1\\right)\\right], \\left[1, \\left(3, 3\\right)\\right], \\left[1, \\left(3, 4\\right)\\right], \\left[3, \\left(1, 3\\right)\\right], \\left[1, \\left(1, 4\\right)\\right], \\left[0, \\left(0, 3\\right)\\right], \\left[2, \\left(0, 4\\right)\\right]\\right]$"
      ],
      "text/plain": [
       "[[2, (0, 1)],\n",
       " [1, (1, 1)],\n",
       " [1, (3, 3)],\n",
       " [1, (3, 4)],\n",
       " [3, (1, 3)],\n",
       " [1, (1, 4)],\n",
       " [0, (0, 3)],\n",
       " [2, (0, 4)]]"
      ]
     },
     "metadata": {},
     "output_type": "display_data"
    },
    {
     "data": {
      "text/html": [
       "<html>\\(\\displaystyle \\left[\\left[3, \\left(0, 1\\right)\\right], \\left[0, \\left(1, 1\\right)\\right], \\left[1, \\left(3, 3\\right)\\right], \\left[1, \\left(3, 4\\right)\\right], \\left[2, \\left(1, 3\\right)\\right], \\left[3, \\left(1, 4\\right)\\right], \\left[1, \\left(0, 3\\right)\\right], \\left[0, \\left(0, 4\\right)\\right]\\right]\\)</html>"
      ],
      "text/latex": [
       "$\\displaystyle \\left[\\left[3, \\left(0, 1\\right)\\right], \\left[0, \\left(1, 1\\right)\\right], \\left[1, \\left(3, 3\\right)\\right], \\left[1, \\left(3, 4\\right)\\right], \\left[2, \\left(1, 3\\right)\\right], \\left[3, \\left(1, 4\\right)\\right], \\left[1, \\left(0, 3\\right)\\right], \\left[0, \\left(0, 4\\right)\\right]\\right]$"
      ],
      "text/plain": [
       "[[3, (0, 1)],\n",
       " [0, (1, 1)],\n",
       " [1, (3, 3)],\n",
       " [1, (3, 4)],\n",
       " [2, (1, 3)],\n",
       " [3, (1, 4)],\n",
       " [1, (0, 3)],\n",
       " [0, (0, 4)]]"
      ]
     },
     "metadata": {},
     "output_type": "display_data"
    },
    {
     "data": {
      "text/html": [
       "<html>\\(\\displaystyle \\left[\\left[3, \\left(0, 1\\right)\\right], \\left[0, \\left(1, 1\\right)\\right], \\left[1, \\left(3, 3\\right)\\right], \\left[1, \\left(3, 4\\right)\\right], \\left[3, \\left(1, 3\\right)\\right], \\left[2, \\left(1, 4\\right)\\right], \\left[0, \\left(0, 3\\right)\\right], \\left[1, \\left(0, 4\\right)\\right]\\right]\\)</html>"
      ],
      "text/latex": [
       "$\\displaystyle \\left[\\left[3, \\left(0, 1\\right)\\right], \\left[0, \\left(1, 1\\right)\\right], \\left[1, \\left(3, 3\\right)\\right], \\left[1, \\left(3, 4\\right)\\right], \\left[3, \\left(1, 3\\right)\\right], \\left[2, \\left(1, 4\\right)\\right], \\left[0, \\left(0, 3\\right)\\right], \\left[1, \\left(0, 4\\right)\\right]\\right]$"
      ],
      "text/plain": [
       "[[3, (0, 1)],\n",
       " [0, (1, 1)],\n",
       " [1, (3, 3)],\n",
       " [1, (3, 4)],\n",
       " [3, (1, 3)],\n",
       " [2, (1, 4)],\n",
       " [0, (0, 3)],\n",
       " [1, (0, 4)]]"
      ]
     },
     "metadata": {},
     "output_type": "display_data"
    },
    {
     "data": {
      "text/html": [
       "<html>\\(\\displaystyle \\left[\\left[0, \\left(0, 1\\right)\\right], \\left[3, \\left(1, 1\\right)\\right], \\left[2, \\left(3, 3\\right)\\right], \\left[0, \\left(3, 4\\right)\\right], \\left[0, \\left(1, 3\\right)\\right], \\left[2, \\left(1, 4\\right)\\right], \\left[2, \\left(0, 3\\right)\\right], \\left[2, \\left(0, 4\\right)\\right]\\right]\\)</html>"
      ],
      "text/latex": [
       "$\\displaystyle \\left[\\left[0, \\left(0, 1\\right)\\right], \\left[3, \\left(1, 1\\right)\\right], \\left[2, \\left(3, 3\\right)\\right], \\left[0, \\left(3, 4\\right)\\right], \\left[0, \\left(1, 3\\right)\\right], \\left[2, \\left(1, 4\\right)\\right], \\left[2, \\left(0, 3\\right)\\right], \\left[2, \\left(0, 4\\right)\\right]\\right]$"
      ],
      "text/plain": [
       "[[0, (0, 1)],\n",
       " [3, (1, 1)],\n",
       " [2, (3, 3)],\n",
       " [0, (3, 4)],\n",
       " [0, (1, 3)],\n",
       " [2, (1, 4)],\n",
       " [2, (0, 3)],\n",
       " [2, (0, 4)]]"
      ]
     },
     "metadata": {},
     "output_type": "display_data"
    },
    {
     "data": {
      "text/html": [
       "<html>\\(\\displaystyle \\left[\\left[0, \\left(0, 1\\right)\\right], \\left[3, \\left(1, 1\\right)\\right], \\left[2, \\left(3, 3\\right)\\right], \\left[0, \\left(3, 4\\right)\\right], \\left[1, \\left(1, 3\\right)\\right], \\left[1, \\left(1, 4\\right)\\right], \\left[1, \\left(0, 3\\right)\\right], \\left[3, \\left(0, 4\\right)\\right]\\right]\\)</html>"
      ],
      "text/latex": [
       "$\\displaystyle \\left[\\left[0, \\left(0, 1\\right)\\right], \\left[3, \\left(1, 1\\right)\\right], \\left[2, \\left(3, 3\\right)\\right], \\left[0, \\left(3, 4\\right)\\right], \\left[1, \\left(1, 3\\right)\\right], \\left[1, \\left(1, 4\\right)\\right], \\left[1, \\left(0, 3\\right)\\right], \\left[3, \\left(0, 4\\right)\\right]\\right]$"
      ],
      "text/plain": [
       "[[0, (0, 1)],\n",
       " [3, (1, 1)],\n",
       " [2, (3, 3)],\n",
       " [0, (3, 4)],\n",
       " [1, (1, 3)],\n",
       " [1, (1, 4)],\n",
       " [1, (0, 3)],\n",
       " [3, (0, 4)]]"
      ]
     },
     "metadata": {},
     "output_type": "display_data"
    },
    {
     "data": {
      "text/html": [
       "<html>\\(\\displaystyle \\left[\\left[0, \\left(0, 1\\right)\\right], \\left[3, \\left(1, 1\\right)\\right], \\left[2, \\left(3, 3\\right)\\right], \\left[0, \\left(3, 4\\right)\\right], \\left[2, \\left(1, 3\\right)\\right], \\left[0, \\left(1, 4\\right)\\right], \\left[0, \\left(0, 3\\right)\\right], \\left[4, \\left(0, 4\\right)\\right]\\right]\\)</html>"
      ],
      "text/latex": [
       "$\\displaystyle \\left[\\left[0, \\left(0, 1\\right)\\right], \\left[3, \\left(1, 1\\right)\\right], \\left[2, \\left(3, 3\\right)\\right], \\left[0, \\left(3, 4\\right)\\right], \\left[2, \\left(1, 3\\right)\\right], \\left[0, \\left(1, 4\\right)\\right], \\left[0, \\left(0, 3\\right)\\right], \\left[4, \\left(0, 4\\right)\\right]\\right]$"
      ],
      "text/plain": [
       "[[0, (0, 1)],\n",
       " [3, (1, 1)],\n",
       " [2, (3, 3)],\n",
       " [0, (3, 4)],\n",
       " [2, (1, 3)],\n",
       " [0, (1, 4)],\n",
       " [0, (0, 3)],\n",
       " [4, (0, 4)]]"
      ]
     },
     "metadata": {},
     "output_type": "display_data"
    },
    {
     "data": {
      "text/html": [
       "<html>\\(\\displaystyle \\left[\\left[1, \\left(0, 1\\right)\\right], \\left[2, \\left(1, 1\\right)\\right], \\left[2, \\left(3, 3\\right)\\right], \\left[0, \\left(3, 4\\right)\\right], \\left[0, \\left(1, 3\\right)\\right], \\left[3, \\left(1, 4\\right)\\right], \\left[2, \\left(0, 3\\right)\\right], \\left[1, \\left(0, 4\\right)\\right]\\right]\\)</html>"
      ],
      "text/latex": [
       "$\\displaystyle \\left[\\left[1, \\left(0, 1\\right)\\right], \\left[2, \\left(1, 1\\right)\\right], \\left[2, \\left(3, 3\\right)\\right], \\left[0, \\left(3, 4\\right)\\right], \\left[0, \\left(1, 3\\right)\\right], \\left[3, \\left(1, 4\\right)\\right], \\left[2, \\left(0, 3\\right)\\right], \\left[1, \\left(0, 4\\right)\\right]\\right]$"
      ],
      "text/plain": [
       "[[1, (0, 1)],\n",
       " [2, (1, 1)],\n",
       " [2, (3, 3)],\n",
       " [0, (3, 4)],\n",
       " [0, (1, 3)],\n",
       " [3, (1, 4)],\n",
       " [2, (0, 3)],\n",
       " [1, (0, 4)]]"
      ]
     },
     "metadata": {},
     "output_type": "display_data"
    },
    {
     "data": {
      "text/html": [
       "<html>\\(\\displaystyle \\left[\\left[1, \\left(0, 1\\right)\\right], \\left[2, \\left(1, 1\\right)\\right], \\left[2, \\left(3, 3\\right)\\right], \\left[0, \\left(3, 4\\right)\\right], \\left[1, \\left(1, 3\\right)\\right], \\left[2, \\left(1, 4\\right)\\right], \\left[1, \\left(0, 3\\right)\\right], \\left[2, \\left(0, 4\\right)\\right]\\right]\\)</html>"
      ],
      "text/latex": [
       "$\\displaystyle \\left[\\left[1, \\left(0, 1\\right)\\right], \\left[2, \\left(1, 1\\right)\\right], \\left[2, \\left(3, 3\\right)\\right], \\left[0, \\left(3, 4\\right)\\right], \\left[1, \\left(1, 3\\right)\\right], \\left[2, \\left(1, 4\\right)\\right], \\left[1, \\left(0, 3\\right)\\right], \\left[2, \\left(0, 4\\right)\\right]\\right]$"
      ],
      "text/plain": [
       "[[1, (0, 1)],\n",
       " [2, (1, 1)],\n",
       " [2, (3, 3)],\n",
       " [0, (3, 4)],\n",
       " [1, (1, 3)],\n",
       " [2, (1, 4)],\n",
       " [1, (0, 3)],\n",
       " [2, (0, 4)]]"
      ]
     },
     "metadata": {},
     "output_type": "display_data"
    },
    {
     "data": {
      "text/html": [
       "<html>\\(\\displaystyle \\left[\\left[1, \\left(0, 1\\right)\\right], \\left[2, \\left(1, 1\\right)\\right], \\left[2, \\left(3, 3\\right)\\right], \\left[0, \\left(3, 4\\right)\\right], \\left[2, \\left(1, 3\\right)\\right], \\left[1, \\left(1, 4\\right)\\right], \\left[0, \\left(0, 3\\right)\\right], \\left[3, \\left(0, 4\\right)\\right]\\right]\\)</html>"
      ],
      "text/latex": [
       "$\\displaystyle \\left[\\left[1, \\left(0, 1\\right)\\right], \\left[2, \\left(1, 1\\right)\\right], \\left[2, \\left(3, 3\\right)\\right], \\left[0, \\left(3, 4\\right)\\right], \\left[2, \\left(1, 3\\right)\\right], \\left[1, \\left(1, 4\\right)\\right], \\left[0, \\left(0, 3\\right)\\right], \\left[3, \\left(0, 4\\right)\\right]\\right]$"
      ],
      "text/plain": [
       "[[1, (0, 1)],\n",
       " [2, (1, 1)],\n",
       " [2, (3, 3)],\n",
       " [0, (3, 4)],\n",
       " [2, (1, 3)],\n",
       " [1, (1, 4)],\n",
       " [0, (0, 3)],\n",
       " [3, (0, 4)]]"
      ]
     },
     "metadata": {},
     "output_type": "display_data"
    },
    {
     "data": {
      "text/html": [
       "<html>\\(\\displaystyle \\left[\\left[2, \\left(0, 1\\right)\\right], \\left[1, \\left(1, 1\\right)\\right], \\left[2, \\left(3, 3\\right)\\right], \\left[0, \\left(3, 4\\right)\\right], \\left[0, \\left(1, 3\\right)\\right], \\left[4, \\left(1, 4\\right)\\right], \\left[2, \\left(0, 3\\right)\\right], \\left[0, \\left(0, 4\\right)\\right]\\right]\\)</html>"
      ],
      "text/latex": [
       "$\\displaystyle \\left[\\left[2, \\left(0, 1\\right)\\right], \\left[1, \\left(1, 1\\right)\\right], \\left[2, \\left(3, 3\\right)\\right], \\left[0, \\left(3, 4\\right)\\right], \\left[0, \\left(1, 3\\right)\\right], \\left[4, \\left(1, 4\\right)\\right], \\left[2, \\left(0, 3\\right)\\right], \\left[0, \\left(0, 4\\right)\\right]\\right]$"
      ],
      "text/plain": [
       "[[2, (0, 1)],\n",
       " [1, (1, 1)],\n",
       " [2, (3, 3)],\n",
       " [0, (3, 4)],\n",
       " [0, (1, 3)],\n",
       " [4, (1, 4)],\n",
       " [2, (0, 3)],\n",
       " [0, (0, 4)]]"
      ]
     },
     "metadata": {},
     "output_type": "display_data"
    },
    {
     "data": {
      "text/html": [
       "<html>\\(\\displaystyle \\left[\\left[2, \\left(0, 1\\right)\\right], \\left[1, \\left(1, 1\\right)\\right], \\left[2, \\left(3, 3\\right)\\right], \\left[0, \\left(3, 4\\right)\\right], \\left[1, \\left(1, 3\\right)\\right], \\left[3, \\left(1, 4\\right)\\right], \\left[1, \\left(0, 3\\right)\\right], \\left[1, \\left(0, 4\\right)\\right]\\right]\\)</html>"
      ],
      "text/latex": [
       "$\\displaystyle \\left[\\left[2, \\left(0, 1\\right)\\right], \\left[1, \\left(1, 1\\right)\\right], \\left[2, \\left(3, 3\\right)\\right], \\left[0, \\left(3, 4\\right)\\right], \\left[1, \\left(1, 3\\right)\\right], \\left[3, \\left(1, 4\\right)\\right], \\left[1, \\left(0, 3\\right)\\right], \\left[1, \\left(0, 4\\right)\\right]\\right]$"
      ],
      "text/plain": [
       "[[2, (0, 1)],\n",
       " [1, (1, 1)],\n",
       " [2, (3, 3)],\n",
       " [0, (3, 4)],\n",
       " [1, (1, 3)],\n",
       " [3, (1, 4)],\n",
       " [1, (0, 3)],\n",
       " [1, (0, 4)]]"
      ]
     },
     "metadata": {},
     "output_type": "display_data"
    },
    {
     "data": {
      "text/html": [
       "<html>\\(\\displaystyle \\left[\\left[2, \\left(0, 1\\right)\\right], \\left[1, \\left(1, 1\\right)\\right], \\left[2, \\left(3, 3\\right)\\right], \\left[0, \\left(3, 4\\right)\\right], \\left[2, \\left(1, 3\\right)\\right], \\left[2, \\left(1, 4\\right)\\right], \\left[0, \\left(0, 3\\right)\\right], \\left[2, \\left(0, 4\\right)\\right]\\right]\\)</html>"
      ],
      "text/latex": [
       "$\\displaystyle \\left[\\left[2, \\left(0, 1\\right)\\right], \\left[1, \\left(1, 1\\right)\\right], \\left[2, \\left(3, 3\\right)\\right], \\left[0, \\left(3, 4\\right)\\right], \\left[2, \\left(1, 3\\right)\\right], \\left[2, \\left(1, 4\\right)\\right], \\left[0, \\left(0, 3\\right)\\right], \\left[2, \\left(0, 4\\right)\\right]\\right]$"
      ],
      "text/plain": [
       "[[2, (0, 1)],\n",
       " [1, (1, 1)],\n",
       " [2, (3, 3)],\n",
       " [0, (3, 4)],\n",
       " [2, (1, 3)],\n",
       " [2, (1, 4)],\n",
       " [0, (0, 3)],\n",
       " [2, (0, 4)]]"
      ]
     },
     "metadata": {},
     "output_type": "display_data"
    },
    {
     "data": {
      "text/html": [
       "<html>\\(\\displaystyle \\left[\\left[3, \\left(0, 1\\right)\\right], \\left[0, \\left(1, 1\\right)\\right], \\left[2, \\left(3, 3\\right)\\right], \\left[0, \\left(3, 4\\right)\\right], \\left[1, \\left(1, 3\\right)\\right], \\left[4, \\left(1, 4\\right)\\right], \\left[1, \\left(0, 3\\right)\\right], \\left[0, \\left(0, 4\\right)\\right]\\right]\\)</html>"
      ],
      "text/latex": [
       "$\\displaystyle \\left[\\left[3, \\left(0, 1\\right)\\right], \\left[0, \\left(1, 1\\right)\\right], \\left[2, \\left(3, 3\\right)\\right], \\left[0, \\left(3, 4\\right)\\right], \\left[1, \\left(1, 3\\right)\\right], \\left[4, \\left(1, 4\\right)\\right], \\left[1, \\left(0, 3\\right)\\right], \\left[0, \\left(0, 4\\right)\\right]\\right]$"
      ],
      "text/plain": [
       "[[3, (0, 1)],\n",
       " [0, (1, 1)],\n",
       " [2, (3, 3)],\n",
       " [0, (3, 4)],\n",
       " [1, (1, 3)],\n",
       " [4, (1, 4)],\n",
       " [1, (0, 3)],\n",
       " [0, (0, 4)]]"
      ]
     },
     "metadata": {},
     "output_type": "display_data"
    },
    {
     "data": {
      "text/html": [
       "<html>\\(\\displaystyle \\left[\\left[3, \\left(0, 1\\right)\\right], \\left[0, \\left(1, 1\\right)\\right], \\left[2, \\left(3, 3\\right)\\right], \\left[0, \\left(3, 4\\right)\\right], \\left[2, \\left(1, 3\\right)\\right], \\left[3, \\left(1, 4\\right)\\right], \\left[0, \\left(0, 3\\right)\\right], \\left[1, \\left(0, 4\\right)\\right]\\right]\\)</html>"
      ],
      "text/latex": [
       "$\\displaystyle \\left[\\left[3, \\left(0, 1\\right)\\right], \\left[0, \\left(1, 1\\right)\\right], \\left[2, \\left(3, 3\\right)\\right], \\left[0, \\left(3, 4\\right)\\right], \\left[2, \\left(1, 3\\right)\\right], \\left[3, \\left(1, 4\\right)\\right], \\left[0, \\left(0, 3\\right)\\right], \\left[1, \\left(0, 4\\right)\\right]\\right]$"
      ],
      "text/plain": [
       "[[3, (0, 1)],\n",
       " [0, (1, 1)],\n",
       " [2, (3, 3)],\n",
       " [0, (3, 4)],\n",
       " [2, (1, 3)],\n",
       " [3, (1, 4)],\n",
       " [0, (0, 3)],\n",
       " [1, (0, 4)]]"
      ]
     },
     "metadata": {},
     "output_type": "display_data"
    }
   ],
   "source": [
    "Cat = [(0,1),(1,1),(3,3),(3,4),(1,3),(1,4),(0,3),(0,4)]\n",
    "V = vector(dim_vector(L,Vectrep_to_rep(Cat,[1,2,1,1,1,2,2,1])))\n",
    "Liste = rep_in_cat_with_same_dim_vect(L,Cat,V); \n",
    "for x in Liste : show(x)"
   ]
  },
  {
   "cell_type": "code",
   "execution_count": 22,
   "metadata": {},
   "outputs": [],
   "source": [
    "def there_is_non_double(G):\n",
    "    if len(G) < 2 : return True\n",
    "    else :\n",
    "        d = not(G[0] == G[1])\n",
    "        i,j=0,1\n",
    "        n = len(G)\n",
    "        while d and (i < n-2 or j < n-1):\n",
    "            i = i + (j+1)//n\n",
    "            j = (j+1)%n + (i+1)*int(j+1 == n)\n",
    "            d = not(G[i] == G[j])\n",
    "        if d : return (d,None,None)\n",
    "        else : return (d,i,j)\n",
    "        \n",
    "def random_rep_in_cat(Cat,n):\n",
    "    return Vectrep_to_rep(Cat,vector([randint(0,n) for c in Cat]))\n",
    "\n",
    "#Given N the number of GenJFs we have to calculate at most, and n, we test if a category Cat is JR by choosing randomly\n",
    "#a representation in C (the number of copies of each indecomposable is between 0 and n), and we check if among the \n",
    "#representations in C having the same dimension vector, there are two of them which have the same GenJF or not.\n",
    "def smart_test_JR(L,Cat,n,N):\n",
    "    Tests = []\n",
    "    GenJFs = []\n",
    "    k = 0\n",
    "    d = True\n",
    "    while k < N and d :\n",
    "        Rep = random_rep_in_cat(Cat,n)\n",
    "        while Rep in Tests :\n",
    "            Rep = random_rep_in_cat(Cat,n)\n",
    "        V = dim_vector(L,Rep)\n",
    "        SameVect = rep_in_cat_with_same_dim_vect(L,Cat,V)\n",
    "        G = [GenJF(L,Rep) for Rep in SameVect]\n",
    "        dd = there_is_non_double(G)\n",
    "        if dd:\n",
    "            Tests = Tests + SameVect\n",
    "            GenJFs = GenJFs + G\n",
    "            k+=len(G)\n",
    "            print(\"Tested representations :\",k,\"over\",N)\n",
    "                \n",
    "        else :\n",
    "            d = dd[0] \n",
    "    if not(d) : return (d,Samevect[dd[1]],SameVect[dd[2]])\n",
    "    else : return (d,None,None)"
   ]
  },
  {
   "cell_type": "markdown",
   "metadata": {},
   "source": [
    "Note : We must avoid to choose big values of $n$ or of $N$.\n",
    "In general, for small value of $n$ (bigger than $2$), and $N$ around $1000$, if a category is not Jordan recoverable, the algorithm above finds a pair of representations that have the same GenJF pretty quickly."
   ]
  },
  {
   "cell_type": "code",
   "execution_count": 17,
   "metadata": {},
   "outputs": [
    {
     "name": "stdout",
     "output_type": "stream",
     "text": [
      "Tested representations : 40 over 1000\n",
      "Tested representations : 133 over 1000\n",
      "Tested representations : 206 over 1000\n",
      "Tested representations : 287 over 1000\n",
      "Tested representations : 322 over 1000\n",
      "Tested representations : 342 over 1000\n",
      "Tested representations : 382 over 1000\n",
      "Tested representations : 410 over 1000\n",
      "Tested representations : 439 over 1000\n",
      "Tested representations : 493 over 1000\n",
      "Tested representations : 585 over 1000\n",
      "Tested representations : 655 over 1000\n",
      "Tested representations : 657 over 1000\n",
      "Tested representations : 684 over 1000\n",
      "Tested representations : 690 over 1000\n",
      "Tested representations : 720 over 1000\n",
      "Tested representations : 772 over 1000\n",
      "Tested representations : 803 over 1000\n",
      "Tested representations : 829 over 1000\n",
      "Tested representations : 839 over 1000\n",
      "Tested representations : 848 over 1000\n",
      "Tested representations : 878 over 1000\n",
      "Tested representations : 888 over 1000\n",
      "Tested representations : 1013 over 1000\n"
     ]
    },
    {
     "data": {
      "text/html": [
       "<html><script type=\"math/tex; mode=display\">\\newcommand{\\Bold}[1]{\\mathbf{#1}}\\left(\\mathrm{True}, \\mathrm{None}, \\mathrm{None}\\right)</script></html>"
      ],
      "text/latex": [
       "$$\\newcommand{\\Bold}[1]{\\mathbf{#1}}\\left(\\mathrm{True}, \\mathrm{None}, \\mathrm{None}\\right)$$"
      ],
      "text/plain": [
       "(True, None, None)"
      ]
     },
     "execution_count": 17,
     "metadata": {},
     "output_type": "execute_result"
    }
   ],
   "source": [
    "smart_test_JR(L,Cat,4,1000)"
   ]
  },
  {
   "cell_type": "markdown",
   "metadata": {},
   "source": [
    "# 7) Choosing and testing any subcategory"
   ]
  },
  {
   "cell_type": "code",
   "execution_count": 23,
   "metadata": {},
   "outputs": [],
   "source": [
    "def random_cat(L):\n",
    "    Cat = []\n",
    "    n = len(L)\n",
    "    for i in range(len(L)):\n",
    "        for j in range(i,len(L)):\n",
    "            if randint(0,1) == 1 : Cat.append((i,j))\n",
    "    return Cat"
   ]
  },
  {
   "cell_type": "code",
   "execution_count": 24,
   "metadata": {},
   "outputs": [
    {
     "data": {
      "text/html": [
       "<html>\\(\\displaystyle \\left[\\left(0, 1\\right), \\left(0, 4\\right), \\left(1, 2\\right), \\left(1, 3\\right), \\left(2, 2\\right), \\left(2, 3\\right), \\left(3, 3\\right), \\left(4, 4\\right)\\right]\\)</html>"
      ],
      "text/latex": [
       "$\\displaystyle \\left[\\left(0, 1\\right), \\left(0, 4\\right), \\left(1, 2\\right), \\left(1, 3\\right), \\left(2, 2\\right), \\left(2, 3\\right), \\left(3, 3\\right), \\left(4, 4\\right)\\right]$"
      ],
      "text/plain": [
       "[(0, 1), (0, 4), (1, 2), (1, 3), (2, 2), (2, 3), (3, 3), (4, 4)]"
      ]
     },
     "metadata": {},
     "output_type": "display_data"
    },
    {
     "name": "stdout",
     "output_type": "stream",
     "text": [
      "Tested representations : 95 over 1000\n",
      "Tested representations : 239 over 1000\n",
      "Tested representations : 308 over 1000\n",
      "Tested representations : 503 over 1000\n",
      "Tested representations : 701 over 1000\n",
      "Tested representations : 705 over 1000\n",
      "Tested representations : 731 over 1000\n",
      "Tested representations : 830 over 1000\n",
      "Tested representations : 904 over 1000\n",
      "Tested representations : 994 over 1000\n",
      "Tested representations : 1109 over 1000\n"
     ]
    },
    {
     "data": {
      "text/html": [
       "<html>\\(\\displaystyle \\left(\\mathrm{True}, \\mathrm{None}, \\mathrm{None}\\right)\\)</html>"
      ],
      "text/latex": [
       "$\\displaystyle \\left(\\mathrm{True}, \\mathrm{None}, \\mathrm{None}\\right)$"
      ],
      "text/plain": [
       "(True, None, None)"
      ]
     },
     "execution_count": 24,
     "metadata": {},
     "output_type": "execute_result"
    },
    {
     "name": "stdout",
     "output_type": "stream",
     "text": [
      "Tested representations : 851 over 1000\n",
      "Tested representations : 852 over 1000\n",
      "Tested representations : 853 over 1000\n",
      "Tested representations : 854 over 1000\n",
      "Tested representations : 855 over 1000\n",
      "Tested representations : 856 over 1000\n",
      "Tested representations : 857 over 1000\n",
      "Tested representations : 858 over 1000\n",
      "Tested representations : 859 over 1000\n",
      "Tested representations : 860 over 1000\n",
      "Tested representations : 861 over 1000\n",
      "Tested representations : 862 over 1000\n",
      "Tested representations : 863 over 1000\n",
      "Tested representations : 864 over 1000\n",
      "Tested representations : 865 over 1000\n",
      "Tested representations : 866 over 1000\n",
      "Tested representations : 867 over 1000\n",
      "Tested representations : 868 over 1000\n",
      "Tested representations : 869 over 1000\n",
      "Tested representations : 870 over 1000\n",
      "Tested representations : 871 over 1000\n",
      "Tested representations : 872 over 1000\n",
      "Tested representations : 873 over 1000\n",
      "Tested representations : 874 over 1000\n",
      "Tested representations : 875 over 1000\n",
      "Tested representations : 876 over 1000\n",
      "Tested representations : 877 over 1000\n",
      "Tested representations : 878 over 1000\n",
      "Tested representations : 879 over 1000\n",
      "Tested representations : 880 over 1000\n",
      "Tested representations : 881 over 1000\n",
      "Tested representations : 882 over 1000\n",
      "Tested representations : 883 over 1000\n",
      "Tested representations : 884 over 1000\n",
      "Tested representations : 885 over 1000\n",
      "Tested representations : 886 over 1000\n",
      "Tested representations : 887 over 1000\n",
      "Tested representations : 888 over 1000\n",
      "Tested representations : 889 over 1000\n",
      "Tested representations : 890 over 1000\n",
      "Tested representations : 891 over 1000\n",
      "Tested representations : 892 over 1000\n",
      "Tested representations : 893 over 1000\n",
      "Tested representations : 894 over 1000\n",
      "Tested representations : 895 over 1000\n",
      "Tested representations : 896 over 1000\n",
      "Tested representations : 897 over 1000\n",
      "Tested representations : 898 over 1000\n",
      "Tested representations : 899 over 1000\n",
      "Tested representations : 900 over 1000\n",
      "Tested representations : 901 over 1000\n",
      "Tested representations : 902 over 1000\n",
      "Tested representations : 903 over 1000\n",
      "Tested representations : 904 over 1000\n",
      "Tested representations : 905 over 1000\n",
      "Tested representations : 906 over 1000\n",
      "Tested representations : 907 over 1000\n",
      "Tested representations : 908 over 1000\n",
      "Tested representations : 909 over 1000\n",
      "Tested representations : 910 over 1000\n",
      "Tested representations : 911 over 1000\n",
      "Tested representations : 912 over 1000\n",
      "Tested representations : 913 over 1000\n",
      "Tested representations : 914 over 1000\n",
      "Tested representations : 915 over 1000\n",
      "Tested representations : 916 over 1000\n",
      "Tested representations : 917 over 1000\n",
      "Tested representations : 918 over 1000\n",
      "Tested representations : 919 over 1000\n",
      "Tested representations : 920 over 1000\n",
      "Tested representations : 921 over 1000\n",
      "Tested representations : 922 over 1000\n",
      "Tested representations : 923 over 1000\n",
      "Tested representations : 924 over 1000\n",
      "Tested representations : 925 over 1000\n",
      "Tested representations : 926 over 1000\n",
      "Tested representations : 927 over 1000\n",
      "Tested representations : 928 over 1000\n",
      "Tested representations : 929 over 1000\n",
      "Tested representations : 930 over 1000\n",
      "Tested representations : 931 over 1000\n",
      "Tested representations : 932 over 1000\n",
      "Tested representations : 933 over 1000\n",
      "Tested representations : 934 over 1000\n",
      "Tested representations : 935 over 1000\n",
      "Tested representations : 936 over 1000\n",
      "Tested representations : 937 over 1000\n",
      "Tested representations : 938 over 1000\n",
      "Tested representations : 939 over 1000\n",
      "Tested representations : 940 over 1000\n",
      "Tested representations : 941 over 1000\n",
      "Tested representations : 942 over 1000\n",
      "Tested representations : 943 over 1000\n",
      "Tested representations : 944 over 1000\n",
      "Tested representations : 945 over 1000\n",
      "Tested representations : 946 over 1000\n",
      "Tested representations : 947 over 1000\n",
      "Tested representations : 948 over 1000\n",
      "Tested representations : 949 over 1000\n",
      "Tested representations : 950 over 1000\n",
      "Tested representations : 951 over 1000\n",
      "Tested representations : 952 over 1000\n",
      "Tested representations : 953 over 1000\n",
      "Tested representations : 954 over 1000\n",
      "Tested representations : 955 over 1000\n",
      "Tested representations : 956 over 1000\n",
      "Tested representations : 957 over 1000\n",
      "Tested representations : 958 over 1000\n",
      "Tested representations : 959 over 1000\n",
      "Tested representations : 960 over 1000\n",
      "Tested representations : 961 over 1000\n",
      "Tested representations : 962 over 1000\n",
      "Tested representations : 963 over 1000\n",
      "Tested representations : 964 over 1000\n",
      "Tested representations : 965 over 1000\n",
      "Tested representations : 966 over 1000\n",
      "Tested representations : 967 over 1000\n",
      "Tested representations : 968 over 1000\n",
      "Tested representations : 969 over 1000\n",
      "Tested representations : 970 over 1000\n",
      "Tested representations : 971 over 1000\n",
      "Tested representations : 972 over 1000\n",
      "Tested representations : 973 over 1000\n",
      "Tested representations : 974 over 1000\n",
      "Tested representations : 975 over 1000\n",
      "Tested representations : 976 over 1000\n",
      "Tested representations : 977 over 1000\n",
      "Tested representations : 978 over 1000\n",
      "Tested representations : 979 over 1000\n",
      "Tested representations : 980 over 1000\n",
      "Tested representations : 981 over 1000\n",
      "Tested representations : 982 over 1000\n",
      "Tested representations : 983 over 1000\n",
      "Tested representations : 984 over 1000\n",
      "Tested representations : 985 over 1000\n",
      "Tested representations : 986 over 1000\n",
      "Tested representations : 987 over 1000\n",
      "Tested representations : 988 over 1000\n",
      "Tested representations : 989 over 1000\n",
      "Tested representations : 990 over 1000\n",
      "Tested representations : 991 over 1000\n",
      "Tested representations : 992 over 1000\n",
      "Tested representations : 993 over 1000\n",
      "Tested representations : 994 over 1000\n",
      "Tested representations : 995 over 1000\n",
      "Tested representations : 996 over 1000\n",
      "Tested representations : 997 over 1000\n",
      "Tested representations : 998 over 1000\n",
      "Tested representations : 999 over 1000\n",
      "Tested representations : 1000 over 1000\n"
     ]
    },
    {
     "data": {
      "text/html": [
       "<html><script type=\"math/tex; mode=display\">\\newcommand{\\Bold}[1]{\\mathbf{#1}}\\left(\\mathrm{True}, \\mathrm{None}, \\mathrm{None}\\right)</script></html>"
      ],
      "text/latex": [
       "$$\\newcommand{\\Bold}[1]{\\mathbf{#1}}\\left(\\mathrm{True}, \\mathrm{None}, \\mathrm{None}\\right)$$"
      ],
      "text/plain": [
       "(True, None, None)"
      ]
     },
     "execution_count": 19,
     "metadata": {},
     "output_type": "execute_result"
    }
   ],
   "source": [
    "Cat = random_cat(L)\n",
    "show(Cat)\n",
    "smart_test_JR(L,Cat,4,1000)"
   ]
  },
  {
   "cell_type": "code",
   "execution_count": null,
   "metadata": {},
   "outputs": [],
   "source": []
  },
  {
   "cell_type": "markdown",
   "metadata": {},
   "source": [
    "# 8) Generating the CJR categories.\n",
    "\n",
    "There are those for which we know everything is going well [Deq23 - Canonically Jordan recoverable...]."
   ]
  },
  {
   "cell_type": "code",
   "execution_count": 20,
   "metadata": {},
   "outputs": [],
   "source": [
    "#Given a bipartition of {0,...,n+1}, it gives a maximal canonically Jordan recoverable category in an A_n type quiver\n",
    "#If you choose B and E as subsets of {0,...,n+1} with no intersection, we still end up with a CJR category.\n",
    "def CJR(B,E):\n",
    "    L = []\n",
    "    for b in B:\n",
    "        for e in E:\n",
    "            if b<e: L.append((b,e-1))\n",
    "    return L"
   ]
  },
  {
   "cell_type": "code",
   "execution_count": 21,
   "metadata": {},
   "outputs": [
    {
     "data": {
      "text/html": [
       "<html><script type=\"math/tex; mode=display\">\\newcommand{\\Bold}[1]{\\mathbf{#1}}\\left[\\left(0, 0\\right), \\left(0, 3\\right), \\left(0, 4\\right), \\left(0, 5\\right), \\left(2, 3\\right), \\left(2, 4\\right), \\left(2, 5\\right), \\left(3, 3\\right), \\left(3, 4\\right), \\left(3, 5\\right)\\right]</script></html>"
      ],
      "text/latex": [
       "$$\\newcommand{\\Bold}[1]{\\mathbf{#1}}\\left[\\left(0, 0\\right), \\left(0, 3\\right), \\left(0, 4\\right), \\left(0, 5\\right), \\left(2, 3\\right), \\left(2, 4\\right), \\left(2, 5\\right), \\left(3, 3\\right), \\left(3, 4\\right), \\left(3, 5\\right)\\right]$$"
      ],
      "text/plain": [
       "[(0, 0),\n",
       " (0, 3),\n",
       " (0, 4),\n",
       " (0, 5),\n",
       " (2, 3),\n",
       " (2, 4),\n",
       " (2, 5),\n",
       " (3, 3),\n",
       " (3, 4),\n",
       " (3, 5)]"
      ]
     },
     "execution_count": 21,
     "metadata": {},
     "output_type": "execute_result"
    }
   ],
   "source": [
    "Cat = CJR([0,2,3],[1,4,5,6]);Cat"
   ]
  },
  {
   "cell_type": "code",
   "execution_count": 22,
   "metadata": {},
   "outputs": [
    {
     "name": "stdout",
     "output_type": "stream",
     "text": [
      "Tested representations : 243 over 1000\n",
      "Tested representations : 863 over 1000\n",
      "Tested representations : 1058 over 1000\n"
     ]
    },
    {
     "data": {
      "text/html": [
       "<html><script type=\"math/tex; mode=display\">\\newcommand{\\Bold}[1]{\\mathbf{#1}}\\left(\\mathrm{True}, \\mathrm{None}, \\mathrm{None}\\right)</script></html>"
      ],
      "text/latex": [
       "$$\\newcommand{\\Bold}[1]{\\mathbf{#1}}\\left(\\mathrm{True}, \\mathrm{None}, \\mathrm{None}\\right)$$"
      ],
      "text/plain": [
       "(True, None, None)"
      ]
     },
     "execution_count": 22,
     "metadata": {},
     "output_type": "execute_result"
    }
   ],
   "source": [
    "smart_test_JR(L,Cat,4,1000)"
   ]
  },
  {
   "cell_type": "markdown",
   "metadata": {},
   "source": [
    "# 9) Testing JR conjectural condition\n",
    "\n",
    "Here are checking that the conjecture I gave for JR categories holds :\n",
    "\n",
    "$\\textbf{Conjecture :}$ A category $\\mathscr{C}$ is Jordan recoverable if, and only if, the set of intervals correspondings to indecomposables representations in $\\mathscr{C}$, written $\\operatorname{Int}(\\mathscr{C})$, is double-covering avoiding.\n",
    "It means that, for any interval $I \\subseteq \\{0,\\ldots,n\\}$ there exists at most one set partition $\\{J_1,\\ldots,J_p\\}$ such that $J_k \\in \\operatorname{Int}(\\mathscr{C})$ for all $k \\in \\{1,\\ldots, p\\}$.\n"
   ]
  },
  {
   "cell_type": "code",
   "execution_count": 5,
   "metadata": {},
   "outputs": [],
   "source": [
    "@cached_function\n",
    "def Intervals_decompositions(t):\n",
    "    if t[0] == t[1] : return [[t]]\n",
    "    else :\n",
    "        L = []\n",
    "        for i in range(t[0],t[1]+1):\n",
    "            for j in range(i,t[1]+1):\n",
    "                if (i,j) == t: L.append([t])\n",
    "                elif i == t[0] : \n",
    "                    List1 = Intervals_decompositions((j+1,t[1]))\n",
    "                    for l in List1 :\n",
    "                        u = [(t[0], j)]+l\n",
    "                        if not(u in L) : L.append(u)\n",
    "                elif j == t[1]:\n",
    "                    List1 = Intervals_decompositions((t[0],i-1))\n",
    "                    for l in List1 :\n",
    "                        v = l + [(i,t[1])]\n",
    "                        if not(v in L) : L.append(v)\n",
    "                else :\n",
    "                    List1 = Intervals_decompositions((t[0],i-1))\n",
    "                    List2 = Intervals_decompositions((j+1,t[1]))\n",
    "                    for l in List1 :\n",
    "                        for m in List2:\n",
    "                            w = l + [(i,j)]+ m\n",
    "                            if not(w in L): L.append(w)\n",
    "        return L\n",
    "    \n",
    "def Test_conj_JR(L,Cat):\n",
    "    if len(Cat) < 3 : return True\n",
    "    else :\n",
    "        d = True\n",
    "        i=0\n",
    "        j=1\n",
    "        while d and i < len(L)+1 and j < len(L)+1:\n",
    "            Int = Intervals_decompositions((i,j))\n",
    "            Decomp_in_Cat = [D for D in Int if prod([int(t in Cat) for t in D])==1]\n",
    "            if len(Decomp_in_Cat)>1 : \n",
    "                d = False\n",
    "            else :\n",
    "                if j < len(L) : j+=1\n",
    "                elif i < len(L)-1 : \n",
    "                    i+=1\n",
    "                    j=i+1\n",
    "                else : j+=1\n",
    "        if d : return (d,None)\n",
    "        else : return (d,Decomp_in_Cat)"
   ]
  },
  {
   "cell_type": "code",
   "execution_count": 26,
   "metadata": {},
   "outputs": [
    {
     "data": {
      "text/html": [
       "<html>\\(\\displaystyle \\left[\\left[\\left(1, 1\\right), \\left(2, 2\\right), \\left(3, 3\\right), \\left(4, 4\\right)\\right], \\left[\\left(1, 1\\right), \\left(2, 2\\right), \\left(3, 4\\right)\\right], \\left[\\left(1, 1\\right), \\left(2, 3\\right), \\left(4, 4\\right)\\right], \\left[\\left(1, 1\\right), \\left(2, 4\\right)\\right], \\left[\\left(1, 2\\right), \\left(3, 3\\right), \\left(4, 4\\right)\\right], \\left[\\left(1, 2\\right), \\left(3, 4\\right)\\right], \\left[\\left(1, 3\\right), \\left(4, 4\\right)\\right], \\left[\\left(1, 4\\right)\\right]\\right]\\)</html>"
      ],
      "text/latex": [
       "$\\displaystyle \\left[\\left[\\left(1, 1\\right), \\left(2, 2\\right), \\left(3, 3\\right), \\left(4, 4\\right)\\right], \\left[\\left(1, 1\\right), \\left(2, 2\\right), \\left(3, 4\\right)\\right], \\left[\\left(1, 1\\right), \\left(2, 3\\right), \\left(4, 4\\right)\\right], \\left[\\left(1, 1\\right), \\left(2, 4\\right)\\right], \\left[\\left(1, 2\\right), \\left(3, 3\\right), \\left(4, 4\\right)\\right], \\left[\\left(1, 2\\right), \\left(3, 4\\right)\\right], \\left[\\left(1, 3\\right), \\left(4, 4\\right)\\right], \\left[\\left(1, 4\\right)\\right]\\right]$"
      ],
      "text/plain": [
       "[[(1, 1), (2, 2), (3, 3), (4, 4)],\n",
       " [(1, 1), (2, 2), (3, 4)],\n",
       " [(1, 1), (2, 3), (4, 4)],\n",
       " [(1, 1), (2, 4)],\n",
       " [(1, 2), (3, 3), (4, 4)],\n",
       " [(1, 2), (3, 4)],\n",
       " [(1, 3), (4, 4)],\n",
       " [(1, 4)]]"
      ]
     },
     "execution_count": 26,
     "metadata": {},
     "output_type": "execute_result"
    }
   ],
   "source": [
    "Intervals_decompositions((1,4))"
   ]
  },
  {
   "cell_type": "code",
   "execution_count": 25,
   "metadata": {},
   "outputs": [
    {
     "data": {
      "text/html": [
       "<html>\\(\\displaystyle \\left[\\left(0, 1\\right), \\left(0, 3\\right), \\left(1, 1\\right), \\left(1, 3\\right), \\left(2, 4\\right), \\left(3, 3\\right), \\left(3, 4\\right)\\right]\\)</html>"
      ],
      "text/latex": [
       "$\\displaystyle \\left[\\left(0, 1\\right), \\left(0, 3\\right), \\left(1, 1\\right), \\left(1, 3\\right), \\left(2, 4\\right), \\left(3, 3\\right), \\left(3, 4\\right)\\right]$"
      ],
      "text/plain": [
       "[(0, 1), (0, 3), (1, 1), (1, 3), (2, 4), (3, 3), (3, 4)]"
      ]
     },
     "metadata": {},
     "output_type": "display_data"
    }
   ],
   "source": [
    "#Research of a relevant example\n",
    "d = False\n",
    "while not(d) :\n",
    "    Cat = random_cat(L)\n",
    "    if len(Cat) > len(L): \n",
    "        #Make sure that the dimension vectors of the indecomposable representations in Cat are not linearly independant\n",
    "        d = Test_conj_JR(L,Cat)[0]\n",
    "show(Cat)"
   ]
  },
  {
   "cell_type": "code",
   "execution_count": null,
   "metadata": {},
   "outputs": [],
   "source": [
    "[1], [2], [1,2]"
   ]
  },
  {
   "cell_type": "code",
   "execution_count": 87,
   "metadata": {},
   "outputs": [
    {
     "name": "stdout",
     "output_type": "stream",
     "text": [
      "Tested representations : 6 over 100\n",
      "Tested representations : 8 over 100\n",
      "Tested representations : 11 over 100\n",
      "Tested representations : 13 over 100\n",
      "Tested representations : 14 over 100\n",
      "Tested representations : 18 over 100\n",
      "Tested representations : 20 over 100\n",
      "Tested representations : 21 over 100\n",
      "Tested representations : 26 over 100\n",
      "Tested representations : 30 over 100\n",
      "Tested representations : 33 over 100\n",
      "Tested representations : 37 over 100\n",
      "Tested representations : 43 over 100\n",
      "Tested representations : 44 over 100\n",
      "Tested representations : 50 over 100\n",
      "Tested representations : 51 over 100\n",
      "Tested representations : 56 over 100\n",
      "Tested representations : 60 over 100\n",
      "Tested representations : 66 over 100\n",
      "Tested representations : 71 over 100\n",
      "Tested representations : 74 over 100\n",
      "Tested representations : 77 over 100\n",
      "Tested representations : 79 over 100\n",
      "Tested representations : 86 over 100\n",
      "Tested representations : 90 over 100\n",
      "Tested representations : 92 over 100\n",
      "Tested representations : 93 over 100\n",
      "Tested representations : 95 over 100\n",
      "Tested representations : 96 over 100\n",
      "Tested representations : 101 over 100\n"
     ]
    },
    {
     "data": {
      "text/html": [
       "<html><script type=\"math/tex; mode=display\">\\newcommand{\\Bold}[1]{\\mathbf{#1}}\\left(\\mathrm{True}, \\mathrm{None}, \\mathrm{None}\\right)</script></html>"
      ],
      "text/latex": [
       "$$\\newcommand{\\Bold}[1]{\\mathbf{#1}}\\left(\\mathrm{True}, \\mathrm{None}, \\mathrm{None}\\right)$$"
      ],
      "text/plain": [
       "(True, None, None)"
      ]
     },
     "execution_count": 87,
     "metadata": {},
     "output_type": "execute_result"
    }
   ],
   "source": [
    "smart_test_JR(L,Cat,4,100)"
   ]
  },
  {
   "cell_type": "markdown",
   "metadata": {},
   "source": [
    "# 10) $\\operatorname{RSK}_{\\lambda, Q}$"
   ]
  },
  {
   "cell_type": "code",
   "execution_count": 138,
   "metadata": {},
   "outputs": [],
   "source": [
    "#Choose a quiver\n",
    "L = [1,0,0,1,0,1]\n",
    "#Choose a partition such that the hook length is len(L)+1\n",
    "Pi = [3,2,2,2]"
   ]
  },
  {
   "cell_type": "code",
   "execution_count": 139,
   "metadata": {},
   "outputs": [],
   "source": [
    "def Bipartition(Pi):\n",
    "    Pi2 = Pi[:]+[0]\n",
    "    B = [0]\n",
    "    E = [Pi[0] + len(Pi)]\n",
    "    k=1\n",
    "    for i in range(len(Pi2)-1):\n",
    "        e = Pi2[i] - Pi2[i+1]\n",
    "        while e > 0 :\n",
    "            E.append(k)\n",
    "            k+=1\n",
    "            e-=1\n",
    "        B.append(k)\n",
    "        k+=1\n",
    "    B.remove(Pi[0] + len(Pi))\n",
    "    return (B, sorted(E))"
   ]
  },
  {
   "cell_type": "code",
   "execution_count": 140,
   "metadata": {},
   "outputs": [
    {
     "data": {
      "text/html": [
       "<html><script type=\"math/tex; mode=display\">\\newcommand{\\Bold}[1]{\\mathbf{#1}}\\left(\\left[0, 2, 3, 4\\right], \\left[1, 5, 6, 7\\right]\\right)</script></html>"
      ],
      "text/latex": [
       "$$\\newcommand{\\Bold}[1]{\\mathbf{#1}}\\left(\\left[0, 2, 3, 4\\right], \\left[1, 5, 6, 7\\right]\\right)$$"
      ],
      "text/plain": [
       "([0, 2, 3, 4], [1, 5, 6, 7])"
      ]
     },
     "execution_count": 140,
     "metadata": {},
     "output_type": "execute_result"
    }
   ],
   "source": [
    "Bipart = Bipartition(Pi); Bipart"
   ]
  },
  {
   "cell_type": "code",
   "execution_count": 141,
   "metadata": {},
   "outputs": [
    {
     "data": {
      "text/html": [
       "<html><script type=\"math/tex; mode=display\">\\newcommand{\\Bold}[1]{\\mathbf{#1}}\\left[\\left(0, 0\\right), \\left(0, 4\\right), \\left(0, 5\\right), \\left(0, 6\\right), \\left(2, 4\\right), \\left(2, 5\\right), \\left(2, 6\\right), \\left(3, 4\\right), \\left(3, 5\\right), \\left(3, 6\\right), \\left(4, 4\\right), \\left(4, 5\\right), \\left(4, 6\\right)\\right]</script></html>"
      ],
      "text/latex": [
       "$$\\newcommand{\\Bold}[1]{\\mathbf{#1}}\\left[\\left(0, 0\\right), \\left(0, 4\\right), \\left(0, 5\\right), \\left(0, 6\\right), \\left(2, 4\\right), \\left(2, 5\\right), \\left(2, 6\\right), \\left(3, 4\\right), \\left(3, 5\\right), \\left(3, 6\\right), \\left(4, 4\\right), \\left(4, 5\\right), \\left(4, 6\\right)\\right]$$"
      ],
      "text/plain": [
       "[(0, 0),\n",
       " (0, 4),\n",
       " (0, 5),\n",
       " (0, 6),\n",
       " (2, 4),\n",
       " (2, 5),\n",
       " (2, 6),\n",
       " (3, 4),\n",
       " (3, 5),\n",
       " (3, 6),\n",
       " (4, 4),\n",
       " (4, 5),\n",
       " (4, 6)]"
      ]
     },
     "execution_count": 141,
     "metadata": {},
     "output_type": "execute_result"
    }
   ],
   "source": [
    "Cat = CJR(Bipart[0],Bipart[1]); Cat"
   ]
  },
  {
   "cell_type": "code",
   "execution_count": 142,
   "metadata": {},
   "outputs": [
    {
     "data": {
      "text/html": [
       "<html><script type=\"math/tex; mode=display\">\\newcommand{\\Bold}[1]{\\mathbf{#1}}\\left[\\left[9, \\left(0, 0\\right)\\right], \\left[2, \\left(0, 4\\right)\\right], \\left[10, \\left(0, 5\\right)\\right], \\left[4, \\left(0, 6\\right)\\right], \\left[10, \\left(2, 4\\right)\\right], \\left[10, \\left(2, 5\\right)\\right], \\left[5, \\left(2, 6\\right)\\right], \\left[8, \\left(3, 4\\right)\\right], \\left[6, \\left(3, 5\\right)\\right], \\left[2, \\left(3, 6\\right)\\right], \\left[0, \\left(4, 4\\right)\\right], \\left[8, \\left(4, 5\\right)\\right], \\left[2, \\left(4, 6\\right)\\right]\\right]</script></html>"
      ],
      "text/latex": [
       "$$\\newcommand{\\Bold}[1]{\\mathbf{#1}}\\left[\\left[9, \\left(0, 0\\right)\\right], \\left[2, \\left(0, 4\\right)\\right], \\left[10, \\left(0, 5\\right)\\right], \\left[4, \\left(0, 6\\right)\\right], \\left[10, \\left(2, 4\\right)\\right], \\left[10, \\left(2, 5\\right)\\right], \\left[5, \\left(2, 6\\right)\\right], \\left[8, \\left(3, 4\\right)\\right], \\left[6, \\left(3, 5\\right)\\right], \\left[2, \\left(3, 6\\right)\\right], \\left[0, \\left(4, 4\\right)\\right], \\left[8, \\left(4, 5\\right)\\right], \\left[2, \\left(4, 6\\right)\\right]\\right]$$"
      ],
      "text/plain": [
       "[[9, (0, 0)],\n",
       " [2, (0, 4)],\n",
       " [10, (0, 5)],\n",
       " [4, (0, 6)],\n",
       " [10, (2, 4)],\n",
       " [10, (2, 5)],\n",
       " [5, (2, 6)],\n",
       " [8, (3, 4)],\n",
       " [6, (3, 5)],\n",
       " [2, (3, 6)],\n",
       " [0, (4, 4)],\n",
       " [8, (4, 5)],\n",
       " [2, (4, 6)]]"
      ]
     },
     "execution_count": 142,
     "metadata": {},
     "output_type": "execute_result"
    }
   ],
   "source": [
    "#Choose a filling\n",
    "Rep = random_rep_in_cat(Cat,10);Rep"
   ]
  },
  {
   "cell_type": "code",
   "execution_count": 143,
   "metadata": {},
   "outputs": [
    {
     "data": {
      "text/html": [
       "<html><script type=\"math/tex; mode=display\">\\newcommand{\\Bold}[1]{\\mathbf{#1}}\\left[\\left[25\\right], \\left[16\\right], \\left[27, 14\\right], \\left[33, 19, 5\\right], \\left[36, 22, 9\\right], \\left[36, 11\\right], \\left[13\\right]\\right]</script></html>"
      ],
      "text/latex": [
       "$$\\newcommand{\\Bold}[1]{\\mathbf{#1}}\\left[\\left[25\\right], \\left[16\\right], \\left[27, 14\\right], \\left[33, 19, 5\\right], \\left[36, 22, 9\\right], \\left[36, 11\\right], \\left[13\\right]\\right]$$"
      ],
      "text/plain": [
       "[[25], [16], [27, 14], [33, 19, 5], [36, 22, 9], [36, 11], [13]]"
      ]
     },
     "execution_count": 143,
     "metadata": {},
     "output_type": "execute_result"
    }
   ],
   "source": [
    "#GenJF gives the reverse plane partition associated\n",
    "GenJF(L,Rep)"
   ]
  },
  {
   "cell_type": "code",
   "execution_count": null,
   "metadata": {},
   "outputs": [],
   "source": []
  }
 ],
 "metadata": {
  "kernelspec": {
   "display_name": "SageMath 10.1",
   "language": "sage",
   "name": "sagemath-10.1"
  },
  "language_info": {
   "codemirror_mode": {
    "name": "ipython",
    "version": 3
   },
   "file_extension": ".py",
   "mimetype": "text/x-python",
   "name": "python",
   "nbconvert_exporter": "python",
   "pygments_lexer": "ipython3",
   "version": "3.11.1"
  }
 },
 "nbformat": 4,
 "nbformat_minor": 4
}
