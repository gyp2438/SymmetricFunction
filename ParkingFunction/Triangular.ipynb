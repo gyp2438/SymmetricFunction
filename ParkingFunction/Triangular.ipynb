{
 "cells": [
  {
   "cell_type": "markdown",
   "metadata": {},
   "source": [
    "# <div align=\"center\">  <span style=\"color:blue\">  <img src=\"../Dessins/Triangular.pdf\" align=\"center\" width=\"150\" />  &emsp; Triangular Catalan Combinatorics</font></span> <div align=\"center\"> <font size=\"5\"> <span style=\"color:red\"> *François Bergeron*</span> <span style=\"color:green\"> (August 2023)</span>"
   ]
  },
  {
   "cell_type": "markdown",
   "metadata": {},
   "source": [
    "The basic tools include symmetric function for triangular (and concave) partitions. There are two dictionnaries for precalculated values of the fonctions $$F_\\tau(\\boldsymbol{q};\\boldsymbol{z})=\\sum_{\\mu\\vdash n} c_{\\lambda\\mu} s_\\lambda(\\boldsymbol{q})\\otimes e_{\\overline{\\mu}}(\\boldsymbol{z}),$$ where $\\overline{\\mu}$ denotes the partition obtained by removing from $\\mu$ its largest part; and (for more values) of $$A_\\tau(\\boldsymbol{q})=\\langle F_\\tau(\\boldsymbol{q};\\boldsymbol{z}),e_0(\\boldsymbol{z})\\rangle.$$"
   ]
  },
  {
   "cell_type": "code",
   "execution_count": 18,
   "metadata": {},
   "outputs": [
    {
     "data": {
      "text/html": [
       "\n",
       "<style>\n",
       "    div#notebook-container    { width: 95%; }\n",
       "    div#menubar-container     { width: 65%; }\n",
       "    div#maintoolbar-container { width: 99%; }\n",
       "</style>\n"
      ],
      "text/plain": [
       "<IPython.core.display.HTML object>"
      ]
     },
     "metadata": {},
     "output_type": "display_data"
    }
   ],
   "source": [
    "from IPython.display import display, HTML\n",
    "\n",
    "display(HTML(data=\"\"\"\n",
    "<style>\n",
    "    div#notebook-container    { width: 95%; }\n",
    "    div#menubar-container     { width: 65%; }\n",
    "    div#maintoolbar-container { width: 99%; }\n",
    "</style>\n",
    "\"\"\"))"
   ]
  },
  {
   "cell_type": "code",
   "execution_count": 19,
   "metadata": {},
   "outputs": [],
   "source": [
    "%display latex\n",
    "%runfile ../tools/Tools_For_Symmetric_Functions.py\n",
    "%runfile ../tools/Tools_For_Triangular_Partitions.py\n",
    "%runfile ../tools/Ajouts_Classe_Partages.py\n",
    "%runfile ../tools/Ajouts_Classe_Tenseurs.py\n",
    "%runfile ../tools/F_Dict.py\n",
    "%runfile ../tools/A_Dict.py\n",
    "%runfile ../tools/E_Dominant_Dict.py\n",
    "%runfile ../tools/Triangularity_Tests.py\n",
    "\n",
    "@cached_function\n",
    "def e_decontracte(F,n):\n",
    "    return add(c*tensor([s(mu),s(e(nu)*e[n-nu.size()])])  \n",
    "                  for (mu,nu),c in tensor([s,e])(F)).Pleth(Z-Integer(1))\n",
    "\n",
    "def Bar(nu):\n",
    "    if nu.length()==1:\n",
    "        return zero\n",
    "    else:\n",
    "        return Partition(nu[1:])\n",
    "    \n",
    "@cached_function\n",
    "def E_via_F(tau,n):\n",
    "    tau=Partition(tau)\n",
    "    if tau in Precalculated_F.keys():\n",
    "        return e_decontracte(Precalculated_F[tau],n)\n",
    "    elif tau.length()<=3:\n",
    "        return E(tau,n)\n",
    "    else:\n",
    "        print((tau,'To be calculated'))\n",
    "        return None\n",
    "        \n",
    "@cached_function\n",
    "def F_via_E(tau):\n",
    "    tau=Partition(tau)\n",
    "    return (tensor([s,e])(E(tau,2*tau.length()).Pleth(Z+1))).bar()\n",
    "\n",
    "@cached_function\n",
    "def F(tau,n=None):\n",
    "    if tau==None:\n",
    "        return 0*tensor([Un,Un])\n",
    "    else:\n",
    "        tau=Partition(tau)\n",
    "        if tau in Precalculated_F.keys() and n==None:\n",
    "            return Precalculated_F[tau]\n",
    "        elif tau in Precalculated_F.keys():\n",
    "            return fixe_n(Precalculated_F[tau],n)\n",
    "        elif tau.length()<=3 and tau[1]>1:\n",
    "            return F_via_E(tau)\n",
    "        else:\n",
    "            print((tau,'To be calculated'))\n",
    "            return None\n",
    "\n",
    "        \n",
    "@cached_function\n",
    "def fixe_n(F,n):\n",
    "    return tensor([s,e])(add(c*tensor([s(mu),s(e(nu)*e[n-nu.size()])])  \n",
    "                  for (mu,nu),c in tensor([s,e])(F)))\n",
    "        \n",
    "@cached_function\n",
    "def A(tau):\n",
    "    tau=Partition(list(tau))\n",
    "    if not Is_Dominant(tau):\n",
    "        return A(tau.conjugate())\n",
    "    elif tau in Precalculated_A.keys():\n",
    "        return Precalculated_A[tau]\n",
    "    elif tau in E_Dominant_Dict.keys():\n",
    "        return E(tau,len(tau)+1).scalar(e[len(tau)+1])\n",
    "    elif tau.length()<=1:\n",
    "        return s[tau.size()]\n",
    "    elif tau.length()==2:\n",
    "        (a,b)=tau\n",
    "        return add(s[a+b-2*d,d] for d in range(b+1) if 3*d<=a+b)\n",
    "    elif tau.length()==3 and not tau.Moins((3,2,1))==None  and Est_Concave(tau):\n",
    "        return A_v(part_to_vect(tau))+(A(tau.Moins((3,2,1)))*e[3]).restrict_partition_lengths(3)\n",
    "    elif tau.length()==3 and Est_Concave(tau):\n",
    "        return A_v(part_to_vect(tau))\n",
    "    else:\n",
    "        print((tau,'To be calculated or is not concave'))\n",
    "        return None\n",
    "\n",
    "@cached_function\n",
    "def E(tau,n=None):\n",
    "    tau=Partition(list(tau))\n",
    "    if tau in E_Dominant_Dict.keys() and n==tau.length()+1 and tau.length()>3:\n",
    "        return E_Dominant_Dict[tau]\n",
    "    elif tau in Precalculated_F.keys():\n",
    "        return E_via_F(tau,n)\n",
    "    elif n==None:\n",
    "        return E(tau,tau.length()+1)\n",
    "    elif tau.length()==3 and tau[0]>2 and tau[1]>1 and Est_Concave(tau):\n",
    "        return (Formal_Coefficients(E_v(part_to_vect(tau,n)))\n",
    "                +(tensor([e[3],Un])*E(tau.nabla(power=-1),n)).restrict_length(3))\n",
    "    else:\n",
    "        return Formal_Coefficients(E_v(part_to_vect(tau,n)))\n",
    "\n",
    "\n",
    "\n",
    "def e_bar(F):\n",
    "    return add(c*e(Bar(nu)) for nu,c in e(F))\n",
    "\n",
    "def e_debar(F,n):\n",
    "    return add(c*e(nu)*e(nu)*e[n-nu.size()] for nu,c in e(F))\n",
    "\n",
    "def F_skew(FF,n):\n",
    "    return add(c*tensor([s(mu).skew_by(e[n]),e(nu)]) for (mu,nu),c in FF)\n",
    "\n",
    "@cached_function\n",
    "def Delta(g,f):\n",
    "    if f==0:\n",
    "        return 0\n",
    "    else:\n",
    "        return s(add(c*g(B_mu(mu)-1)*H(mu) for (mu,c) in H(f)))\n",
    "\n",
    "@cached_function\n",
    "def InvDelta(g,f):\n",
    "    if f==0:\n",
    "        return 0\n",
    "    else:\n",
    "        return s(add(c*(1/(g(B_mu(mu)-1)))*H(mu) for (mu,c) in H(f)))\n",
    "    \n",
    "def B_mu(mu):\n",
    "    return add(q^(i-1)*t^(j-1) for (i,j) in Cellules(mu))\n",
    "\n",
    "@cached_function\n",
    "def BosFer(tau,n=None):\n",
    "    if n==None:\n",
    "        n=len(min_concave(tau))\n",
    "    return E(tau,n).Eval(q+t-u-v).map_coefficients(lambda c:c.substitute({u:-u,v:-v}))\n",
    "    \n",
    "def Test_skew_Delta(tau,n):\n",
    "    return all([E_via_F(tau,n).Eval(q+t)==(InvDelta(e[n-1-k],E_via_F(tau,n).skew_by(e[k]).Eval(q+t))).nabla() \n",
    "     for k in range(n)])\n",
    "\n",
    "def Factor(g):\n",
    "    if g==1 or g==0:\n",
    "        return g\n",
    "    else:\n",
    "        return factor(g)\n",
    "    \n",
    "@cached_function   \n",
    "def E_Complete(tau,n):\n",
    "    return E(tau,n).oplus(add(tensor([A(tau).skew_by(e[k]),s([k+1]+[1 for i in range(n-k-1)])]) for k in range(n-1)))\n",
    "\n",
    "def MinSupp(tau):\n",
    "    return min([add((k+1)*mu[k] for k in range(mu.length())) for mu,c in A(tau)])\n",
    "\n",
    "def MaxSupp(tau):\n",
    "    return max([add((k+1)*mu[k] for k in range(mu.length())) for mu,c in A(tau)])\n",
    "\n",
    "def A_HookPart(tau):\n",
    "    tau=Partition(tau)\n",
    "    n=min(tau.length(),tau[0])\n",
    "    return add(c[0]*Sym(s([1+SR(c[1]).degree(SR(v))]+[1 for i in range(SR(c[1]).degree(SR(u)))])) \n",
    "               for c in (v^(tau.size()-binomial(n+1,2))*mul((u+v^k) for k in range(2,n+1))).numerator())\n",
    "\n",
    "def Hooks_of_A(tau):\n",
    "    return add(c*s(mu) for mu,c in A(tau) if mu.length()==1 or mu[1]==1)\n",
    "\n",
    "def HookHookFormula(n):\n",
    "    return add(q_binomial(n-1,k)*prod(q^i+t for i in range(1,n-k))*s(hook(n,n-1-k)) for k in range(n))\n",
    "\n",
    "def Is_Hook(mu):\n",
    "    return mu.length()<=1 or mu[1]==1\n",
    "\n",
    "@cached_function\n",
    "def HookHookPol(G):\n",
    "    return G.restrict_support(Test=Is_Hook).Eval(q-t).map_coefficients(lambda c:(c.substitute({t:-t})))\n",
    "\n",
    "@cached_function\n",
    "def HookPol(G):\n",
    "    return G.Eval(q-t).map_coefficients(lambda c:(c.substitute({t:-t})))\n",
    "\n",
    "@cached_function\n",
    "def Super_nabla_v(v,g,Formal=True):\n",
    "    rep=add(c*lambda_mu_v(v,mu)*tensor([H(mu),H(mu)]) for (mu,c) in H(g))\n",
    "    if Formal and not rep==0:\n",
    "        return Formal_Symmetric(rep)\n",
    "    else:\n",
    "        return rep.To_b()\n",
    "    \n",
    "               \n",
    "@cached_function\n",
    "def PointCat(n,k=2):\n",
    "    return plot(add(point((Integer(SR(a[1]).degree(q)-1),Integer(SR(a[1]).degree(t))),size=max(2,k*a[0]))\n",
    "                   for a in (qt_catalan_number(n)*(q-t)).numerator() if a[0]>=0  and SR(a[1]).degree(t)>0))\n",
    "    \n",
    "def TableCoeff(F,g1=s,g2=s,Famille=Partitions):\n",
    "    n=F.degree()\n",
    "    f1=g1.dual_basis()\n",
    "    f2=g2.dual_basis()\n",
    "    return table([[(SR(var('mu')),SR(var('nu')))]\n",
    "                  +[g1(alpha) for alpha in sorted(Famille(n))]]\n",
    "                  +[[g2(beta)]+[F.scalar(f2(beta)).scalar(f1(alpha))\n",
    "                              for alpha in sorted(Famille(n))] \n",
    "                    for beta in sorted(Famille(n))])\n",
    "\n",
    "\n",
    "def Formal_Coefficients(F):\n",
    "    return add(tensor([InSchur(c),s(nu)]) for nu,c in F)\n",
    "\n",
    "def EPrintLatex(E):\n",
    "    n=E.degree()\n",
    "    Famille=Tous_Partages(n)\n",
    "    First=true\n",
    "    for mu in sorted(Famille):\n",
    "        val=E.scalar(s(mu))\n",
    "        if First and val.__len__()==1 and not val==0:\n",
    "            print(latex(val),LatexExpr(\"\\\\otimes s_{\"),latex(mu),LatexExpr(\"}\"))\n",
    "            First=false\n",
    "        elif First and not val==0:\n",
    "            print(LatexExpr(\"\\\\big(\"),latex(val),LatexExpr(\"\\\\big) \\\\otimes s_{\"),latex(mu),LatexExpr(\"}\"))\n",
    "            First=false\n",
    "        elif val.__len__()==1 and not val==0:\n",
    "            print(LatexExpr(\"+\"),latex(val),LatexExpr(\"\\\\otimes s_{\"),latex(mu),LatexExpr(\"}\"))\n",
    "        elif not val==0:\n",
    "            print(LatexExpr(\"+\\\\big(\"),\n",
    "                 latex(val),LatexExpr(\"\\\\big) \\\\otimes s_{\"),latex(mu),LatexExpr(\"}\"))\n",
    "\n",
    "@cached_function\n",
    "def SymCat(n):\n",
    "    return Sym(add(a[0]*Sym(s[SR(a[1]).degree(q)-1,SR(a[1]).degree(t)]) \n",
    "                   for a in (qt_catalan_number(n)*(q-t)).numerator() if a[0]>=0))"
   ]
  },
  {
   "cell_type": "raw",
   "metadata": {},
   "source": [
    "def RemNabla(tau):\n",
    "    tau=Partition(list(tau))\n",
    "    n=tau.length()\n",
    "    k=Min([tau[i]//(n-i) for i in range(n)])\n",
    "    if Is_Triangular(tau):\n",
    "        return tau.nabla(power=-k)\n",
    "    else:\n",
    "        return None\n",
    "    \n",
    "@cached_function\n",
    "def SansNabla(n,N=None,L=None):\n",
    "    if N==None:\n",
    "        N=n*(n+1)+1\n",
    "    rep=sorted(Set([RemNabla(tau) for k in range(N) \n",
    "            for tau in TriangularPartitions(k) \n",
    "            if tau.length()==n]))\n",
    "    if not L==None:\n",
    "        return [tau for tau in rep if tau.length()==L]\n",
    "    else:\n",
    "        return table([[k,[tau for tau in rep if tau.length()==k]] for k in range(n+1)])\n",
    "\n",
    "@cached_function\n",
    "def PreNabla(n):\n",
    "    return [(tuple([(n-i) for i in range(n)]),\n",
    "            tuple([SansNabla(n,L=i)[-1] for i in range(n-1)]+[SansNabla(n,L=n)[-1]])),\n",
    "            ((tuple([(n-i) for i in range(n)]),tuple([(n-1-i) for i in range(n-1)]),\n",
    "              ([tau for tau in SansNabla(n,L=n-1) if tau[0]<n-1][-1])))]\n",
    "\n"
   ]
  },
  {
   "cell_type": "markdown",
   "metadata": {},
   "source": [
    "# <span style=\"color:blue\"> <font size=\"5\">  $\\mu$-Dyck paths</span>\n",
    "\n",
    "For any partition $\\mu$, the set $\\mathcal{D}_\\mu:= \\{\\alpha \\, |\\, \\alpha\\subseteq \\mu\\}$ of <span style=\"color:blue\">**$\\mu$-Dyck paths**</span> is simply the set of partitions contained in $\\mu$. For the $k$-staircases, $(k(n-1),\\ldots,2k,k,0)$, the cardinalities of this sets is the Fu&szlig;-Catalan numbers. Other special cases include rational and rectangular Catalan situations. "
   ]
  },
  {
   "cell_type": "code",
   "execution_count": 20,
   "metadata": {},
   "outputs": [
    {
     "data": {
      "text/html": [
       "<html>\\(\\displaystyle 55\\)</html>"
      ],
      "text/latex": [
       "$\\displaystyle 55$"
      ],
      "text/plain": [
       "55"
      ]
     },
     "execution_count": 20,
     "metadata": {},
     "output_type": "execute_result"
    }
   ],
   "source": [
    "Dyck_tau((6,4,2)).cardinality()"
   ]
  },
  {
   "cell_type": "raw",
   "metadata": {
    "scrolled": true
   },
   "source": [
    "table([[Dyck_tau(tau).cardinality() for tau in TriangularPartitions(n)] \n",
    "       for n in range(10)])"
   ]
  },
  {
   "cell_type": "markdown",
   "metadata": {},
   "source": [
    "#  <span style=\"color:blue\">   <font size=\"5\"> Determinental formula for $q$-enumeration</span>\n",
    "\n",
    "The $q$-enumeration of partitions coantaining $\\nu$ and contained in $\\mu$:\n",
    "$$C_{\\mu/\\nu}(q) =  \\det\\left(q^{\\binom{j-i+1}{2} + (j-i+1)\\nu_j} \\binom{\\mu_j-\\nu_i+1}{j-i+1}_q\\right),$$ \n",
    "See:\n",
    "<a href=\"https://www.sciencedirect.com/science/article/pii/S0024379509004819\"><span style=\"color:blue\">*Note on enumeration of partitions \n",
    "contained in a given shape*</span></a> by Gessel and Loehr, in **Linear Algebra and its Applications**, Volume 432, Issues 2–3, 2010, Pages 583-585. \n",
    "\n",
    "Observing that $q^{\\binom{k}{2}} \\binom{n}{k}_q = e_k([n]_q)$, we may reformulate the above (when $\\mu=0$), as:\n",
    "\\begin{align} C_{\\mu}(q) \n",
    "&=  \\det\\left(q^{\\binom{j-i+1}{2}} \\binom{\\mu_j+1}{j-i+1}_q\\right)\\\\\n",
    "&=  \\det\\left( e_{j-i+1}([\\mu_j+1]_q) \\right)_{1\\leq i,j\\leq \\ell(\\mu)}\n",
    "\\end{align}\n",
    "\n",
    "We have the parking extension of this formula, with $\\mu=(\\mu_1,\\ldots,\\mu_\\ell,\\underbrace{0,\\ldots,0}_{n-\\ell})$:\n",
    "\\begin{align} \\mathcal{P}_{\\mu}(q;\\boldsymbol{z}) &:=  \\sum_{\\alpha\\subseteq \\mu} q^{|\\alpha|} s_{(\\alpha+1^n)/\\alpha}(\\boldsymbol{z})\\\\\n",
    "&= \\det\\left( h_{j-i+1}(\\boldsymbol{z}\\cdot\\,[\\mu_j+1]_q) \\right)_{1\\leq i,j\\leq n}\\\\\n",
    "&=\\tiny{\\left|  \\begin{matrix}\n",
    "h_1(\\boldsymbol{z}\\,h_{\\mu_1}(1,q)) \n",
    "\t& h_2(\\boldsymbol{z}\\,h_{\\mu_2}(1,q)) & \\ldots \n",
    "\t&h_{n-1}(\\boldsymbol{z}\\,h_{\\mu_{n-1}}(1,q))& h_n(\\boldsymbol{z} \\,h_{\\mu_n}(1,q))\\phantom{\\quad }\\\\\n",
    "1& h_1(\\boldsymbol{z} \\,h_{\\mu_2}(1,q)) & \\ldots &h_{n-2}(\\boldsymbol{z} \\,h_{\\mu_{n-1}}(1,q))&h_{n-1}(\\boldsymbol{z} \\,h_{\\mu_n}(1,q))\\\\\n",
    "0& 1 & \\ldots &h_{n-3}(\\boldsymbol{z} \\,h_{\\mu_{n-1}}(1,q))&h_{n-2}(\\boldsymbol{z} \\,h_{\\mu_n}(1,q))\\\\\n",
    "\\vdots& \\vdots & \\ddots &\\vdots&\\vdots\\\\\n",
    "0& 0 & \\ldots &1&h_{1}(\\boldsymbol{z} \\,h_{\\mu_n}(1,q))\\phantom{\\quad }\\\\\n",
    "\\end{matrix} \\right|}\n",
    "\\end{align}\n",
    "\n",
    "Expression stabilize as $n$ becomes large enough. For instance, when $n\\geq 5$,  \n",
    "\\begin{align}\n",
    "\\mathcal{P}_{(321,0^{n-3})}(q;\\boldsymbol z)\n",
    "&=(q^6\\, e_{111}(\\boldsymbol{z})\n",
    "    +(q^4+2q^5)\\,e_{21}(\\boldsymbol{z})+q^3\\,e_3(\\boldsymbol{z}))\\,e_{n-3}(\\boldsymbol{z})\\\\\n",
    "  &\\qquad  \n",
    "    +((q^5+q^4+q^3)\\,e_{11}(\\boldsymbol{z})\n",
    "     +(q^4+q^2)\\,e_{2}(\\boldsymbol{z}))\\, e_{n-2}(\\boldsymbol{z})\\\\\n",
    "   &\\qquad  +(q^3+q^2+q)\\, e_{1}(\\boldsymbol{z})\\,e_{n-1}(\\boldsymbol{z})\n",
    "    +  e_{n}(\\boldsymbol{z})\n",
    "\\end{align}\n",
    "The associated \"dimension\" is:\n",
    "$$\n",
    "\\langle \\mathcal{P}_{(321,0^{n-3})}(q;\\boldsymbol z),p_1^6\\rangle  = {\\left(6 \\, q^{6} + 6 \\, q^{5} + 3 \\, q^{4} + q^{3}\\right)} \\binom{n}{3} + {\\left(2 \\, q^{5} + 3 \\, q^{4} + 2 \\, q^{3} + q^{2}\\right)} \\binom{n}{2} + {\\left(q^{3} + q^{2} + q\\right)} \\binom{n}{1} + \\binom{n}{0}$$\n",
    "\n",
    "For all $\\mu$ dominant, padding with 0's to make $\\mu$ and $\\mu'$ be of same length, the difference $\\mathcal{P}_{\\mu'}(q,\\boldsymbol{z})-\\mathcal{P}_{\\mu}(q,\\boldsymbol{z})$ appears to be Schur positive.  "
   ]
  },
  {
   "cell_type": "raw",
   "metadata": {},
   "source": [
    "all([Is_Positive(P(mu.conjugate(),n)-P(mu,n)) \n",
    "     for mu in Partitions(5) \n",
    "     for n in range(6,10) if Is_Dominant(mu)])"
   ]
  },
  {
   "cell_type": "code",
   "execution_count": 21,
   "metadata": {},
   "outputs": [],
   "source": [
    "def q_int(n,k=0):\n",
    "    if k==-1:\n",
    "        return 1\n",
    "    else:\n",
    "    \treturn add(binomial(i+k,k)*q^i for i in range(n))\n",
    "\n",
    "\n",
    "def ee(k,n):\n",
    "    if k<0 or n<k:\n",
    "        return 0\n",
    "    else:\n",
    "        return e[k](q_int(n))\n",
    "\n",
    "\n",
    "def hkhnZ(k,n,j=1):\n",
    "    if k<0 or n<=0:\n",
    "        return 0*h[0]\n",
    "    else:\n",
    "        return h[k](h[n-1](j*q+1)*Z)\n",
    "\n",
    "def hkhnZqt(k,n,j=1):\n",
    "    if k<0 or n<=0:\n",
    "        return 0*h[0]\n",
    "    else:\n",
    "        return h[k](h[n-1](q+t)*Z)\n",
    "        \n",
    "def hknZ(k,n):\n",
    "    if k<0 or n<=0:\n",
    "        return 0*h[0]\n",
    "    else:\n",
    "        return h[k](n*Z)\n",
    "        \n",
    "def hhz(k,n):\n",
    "    if k<0:\n",
    "        return 0\n",
    "    else:\n",
    "        return h[k](q_int(n)*Z)\n",
    "        \n",
    "@cached_function\n",
    "def P_mu(mu,n=None,ff=hkhnZ):\n",
    "    if n==None:\n",
    "        n=len(mu)\n",
    "    mu=tuple(mu)+tuple([0 for i in range(n-len(mu))])\n",
    "    return det(matrix([[ ff(j-i+1,mu[j]+1) \n",
    "                                       for j in range(n)] \n",
    "                                      for i in range(n)]))\n",
    "@cached_function\n",
    "def C_lambda_mu(mu,nu=tuple([0]),q=q):\n",
    "    mu=Partition(mu)\n",
    "    nu=Partition(nu)\n",
    "    s=mu.length()\n",
    "    nu=list(nu)+[0 for i in range(s-nu.length())]\n",
    "    return det(matrix([[q_binomial(mu[j]-nu[i]+1,j-i+1,q=q)*q**(binomial(j-i+1,2)+(j-i+1)*nu[j])\n",
    "                                       for j in range(s)] \n",
    "                                      for i in range(s)]))\n",
    "@cached_function\n",
    "def q_Enumer_Dyck_mu(tau,x=q):\n",
    "    tau=Partition(tau)\n",
    "    return add(x**(Partition(mu).size()) for mu in Dyck_tau(tau))\n",
    "\n",
    "@cached_function\n",
    "def q_Enumer_Park_mu(tau,n=None,x=q):\n",
    "    tau=Partition(tau)\n",
    "    if n==None:\n",
    "        n=tau.length()+1\n",
    "    return s(add(x**(Partition(mu).size())*Sym_Park(mu,n) for mu in Dyck_tau(tau)))\n",
    "\n",
    "@cached_function\n",
    "def Sym_Park(mu,n):\n",
    "    mu=Partition(mu)\n",
    "    return e(s(mu.Plus(Partition([n]).conjugate())).skew_by(s(mu)))\n",
    "\n",
    "def E_from_P(mu,n=None):\n",
    "    mu=Partition(mu)\n",
    "    return q^(mu.size())*P(mu,n).map_coefficients(lambda c:c.substitute({q:1/q}))\n",
    "\n",
    "def N_lambda(mu):\n",
    "    n=len(mu)\n",
    "    return  factorial(n)*det(Mat_N_lambda(mu)) \n",
    "\n",
    "def Mat_N_lambda(mu):\n",
    "    n=len(mu)\n",
    "    def co(mu,i,j): \n",
    "        if i<=j+1: return (mu[n-i-1]+1)^(j-i+1)/factorial(j-i+1) \n",
    "        else: return 0\n",
    "    return matrix([[co(mu,i,j) for j in range(n)] for i in range(n)]) \n",
    "\n",
    "@cached_function\n",
    "def Mat_P(mu,n=None,ff=hkhnZ):\n",
    "    if n==None:\n",
    "        n=len(mu)+1\n",
    "    mu=tuple(mu)+tuple([0 for i in range(n-len(mu))])\n",
    "    return matrix([[ ff(j-i+1,mu[j]+1)  for j in range(n)]  for i in range(n)])\n",
    "\n",
    "@cached_function\n",
    "def Mat_C_mu(mu,nu=tuple([0]),q=q):\n",
    "    mu=tuple(mu)\n",
    "    nu=tuple([0])\n",
    "    s=len(mu)\n",
    "    nu=nu+tuple([0 for i in range(s-len(nu))])\n",
    "    return (matrix([[q_binomial(mu[j]-nu[i]+1,j-i+1,q=q)*q**(binomial(j-i+1,2)+(j-i+1)*nu[j])\n",
    "                                       for j in range(s)] \n",
    "                                      for i in range(s)]))\n",
    "\n",
    "def coco(a,b):\n",
    "    if a<0:\n",
    "        return 0*tensor([s[0],s[0]])\n",
    "    elif a==0:\n",
    "        return tensor([s[0],s[0]])\n",
    "    else:\n",
    "        return tensor([s,s])(h[a](tensor([h[b](Z+1),h[1]])))\n",
    "\n",
    "def Mcoco(mu):\n",
    "    n=len(mu)\n",
    "    return matrix([[ (coco(j-i+1,mu[j]))  for j in range(n)]  for i in range(n)])\n",
    "\n",
    "def Detcoco(mu):\n",
    "    return tensor([s,e])(det(Mcoco(mu)))"
   ]
  },
  {
   "cell_type": "markdown",
   "metadata": {},
   "source": [
    "<img src=\"Textes/Generalization.png\" width=\"300\" height=\"300\" />"
   ]
  },
  {
   "cell_type": "code",
   "execution_count": 22,
   "metadata": {
    "jupyter": {
     "source_hidden": true
    }
   },
   "outputs": [],
   "source": [
    "def Stan(mu):\n",
    "    n=len(mu)\n",
    "    def f(i,j): \n",
    "        if j-i+1<0: return 0 \n",
    "        else: return mu[n-1-i]^(j-i+1)/factorial(j-i+1)\n",
    "    return factorial(n)*det(matrix([[f(i,j)\n",
    "                           for j in range(n)] \n",
    "                          for i in range(n)]))"
   ]
  },
  {
   "cell_type": "code",
   "execution_count": 23,
   "metadata": {
    "scrolled": true
   },
   "outputs": [
    {
     "data": {
      "text/html": [
       "<html>\\(\\displaystyle \\mathrm{True}\\)</html>"
      ],
      "text/latex": [
       "$\\displaystyle \\mathrm{True}$"
      ],
      "text/plain": [
       "True"
      ]
     },
     "execution_count": 23,
     "metadata": {},
     "output_type": "execute_result"
    }
   ],
   "source": [
    "P_mu((3,2,1),5)==q_Enumer_Park_mu((3,2,1),5)"
   ]
  },
  {
   "cell_type": "raw",
   "metadata": {},
   "source": [
    "all([P_mu(mu,n)==q_Enumer_Park_mu(mu,n) for mu in Partitions(5) for n in range(6,8)])"
   ]
  },
  {
   "cell_type": "code",
   "execution_count": 77,
   "metadata": {},
   "outputs": [
    {
     "data": {
      "text/html": [
       "<html>\\(\\displaystyle \\mathrm{True}\\)</html>"
      ],
      "text/latex": [
       "$\\displaystyle \\mathrm{True}$"
      ],
      "text/plain": [
       "True"
      ]
     },
     "execution_count": 77,
     "metadata": {},
     "output_type": "execute_result"
    }
   ],
   "source": [
    "all([P_mu(mu,n)==q_Enumer_Park_mu(mu,n) for mu in Partitions(5) for n in range(6,8)])"
   ]
  },
  {
   "cell_type": "code",
   "execution_count": 24,
   "metadata": {
    "jupyter": {
     "source_hidden": true
    }
   },
   "outputs": [],
   "source": [
    "@add_method(ClassePartages)\n",
    "def moins(self,nu):\n",
    "    nu=Partition(nu)\n",
    "    a=self.length()\n",
    "    b=nu.length()\n",
    "    return Partition(sorted([self[j]-nu[j] for j in range(b)]+[self[j] for j in range(b,a)],reverse=True))\n",
    "    \n",
    "@cached_function\n",
    "def Y_Enumer_Park_mu(tau,n=None,x=q):\n",
    "    tau=Partition(tau)\n",
    "    if n==None:\n",
    "        n=tau.length()+Integer(1)\n",
    "    return add(tensor([h(tau.moins(mu)),Sym_Park(mu,n)]) for mu in Dyck_tau(tau))\n",
    "\n",
    "@cached_function\n",
    "def Y_Enumer_Park_mu(tau,n=None,x=q):\n",
    "    tau=Partition(tau)\n",
    "    if n==None:\n",
    "        n=tau.length()+Integer(1)\n",
    "    return add(tensor([s(mu).omega(),Sym_Park(mu,n)]) for mu in Dyck_tau(tau))"
   ]
  },
  {
   "cell_type": "markdown",
   "metadata": {},
   "source": [
    "#  <span style=\"color:blue\">   <font size=\"5\"> Subpartition Chains</span>"
   ]
  },
  {
   "cell_type": "markdown",
   "metadata": {},
   "source": [
    "<img src=\"Textes/Exrcice149_Page443_StanleyEC1.png\" width=\"400\" height=\"400\" />"
   ]
  },
  {
   "cell_type": "code",
   "execution_count": 25,
   "metadata": {
    "jupyter": {
     "source_hidden": true
    }
   },
   "outputs": [],
   "source": [
    "def hkhnZ1(k,n,j=1,q=1):\n",
    "    if k<0 or n<=0:\n",
    "        return 0*h[0]\n",
    "    else:\n",
    "        return h[k](h[n-1](j*q+1)*Z)\n",
    "        \n",
    "@cached_function\n",
    "def P_mu_r(mu,n=None,ff=hkhnZ1,r=1):\n",
    "    if n==None:\n",
    "        n=len(mu)\n",
    "    mu=tuple(mu)+tuple([0 for i in range(n-len(mu))])\n",
    "    return det(matrix([[ ff(j-i+r,mu[j]+r) \n",
    "                                       for j in range(n)] \n",
    "                                      for i in range(n)]))\n",
    "\n",
    "def MultCat(k,n):\n",
    "    if n<0:\n",
    "        return 0\n",
    "    else:\n",
    "        return matrix([[Cat(k+j+i) for j in range(n)] for i in range(n)]).determinant()\n",
    "\n",
    "@cached_function\n",
    "def MultNab(k,n):\n",
    "    return ((-1)^(n//2)*s[(n for i in range(n+k-1))]).nabla(t=1)\n",
    "\n",
    "def Tnk(k,n):\n",
    "    return mul(mul((i+j+2*n)/(i+j) for j in range(i,k)) for i in range(1,k))\n",
    "\n",
    "def SubPartitions(mu):\n",
    "    mu=Partition(mu)\n",
    "    return Set([Partition(list(nu)) for k in range(mu.size()+1) for nu in Partitions(k, outer=mu)])\n",
    "\n",
    "@cached_function\n",
    "def Young(n):\n",
    "    E=[mu for k in range(n+1) for mu in Partitions(k)]\n",
    "    ord = lambda x,y: y.contains(x)\n",
    "    return Poset((E,ord),facade=True)\n",
    "\n",
    "def SubpartitionChainNumber(mu,k):\n",
    "    mu=Partition(mu)\n",
    "    n=mu.size()\n",
    "    Yn=Young(n)\n",
    "    return Yn.subposet(SubPartitions(mu)).zeta_polynomial().substitute({q:k+1})"
   ]
  },
  {
   "cell_type": "code",
   "execution_count": 26,
   "metadata": {},
   "outputs": [],
   "source": [
    "%runfile ../tools/q_analogues.py"
   ]
  },
  {
   "cell_type": "code",
   "execution_count": 27,
   "metadata": {},
   "outputs": [
    {
     "data": {
      "text/html": [
       "<div class=\"notruncate\">\n",
       "<table  class=\"table_form\">\n",
       "<tbody>\n",
       "<tr class =\"row-a\">\n",
       "<td style=\"text-align:left\">\\(1\\)</td>\n",
       "<td style=\"text-align:left\">\\(2\\)</td>\n",
       "<td style=\"text-align:left\">\\(5\\)</td>\n",
       "<td style=\"text-align:left\">\\(14\\)</td>\n",
       "<td style=\"text-align:left\">\\(42\\)</td>\n",
       "</tr>\n",
       "<tr class =\"row-b\">\n",
       "<td style=\"text-align:left\">\\(1\\)</td>\n",
       "<td style=\"text-align:left\">\\(3\\)</td>\n",
       "<td style=\"text-align:left\">\\(14\\)</td>\n",
       "<td style=\"text-align:left\">\\(84\\)</td>\n",
       "<td style=\"text-align:left\">\\(594\\)</td>\n",
       "</tr>\n",
       "<tr class =\"row-a\">\n",
       "<td style=\"text-align:left\">\\(1\\)</td>\n",
       "<td style=\"text-align:left\">\\(4\\)</td>\n",
       "<td style=\"text-align:left\">\\(30\\)</td>\n",
       "<td style=\"text-align:left\">\\(330\\)</td>\n",
       "<td style=\"text-align:left\">\\(4719\\)</td>\n",
       "</tr>\n",
       "<tr class =\"row-b\">\n",
       "<td style=\"text-align:left\">\\(1\\)</td>\n",
       "<td style=\"text-align:left\">\\(5\\)</td>\n",
       "<td style=\"text-align:left\">\\(55\\)</td>\n",
       "<td style=\"text-align:left\">\\(1001\\)</td>\n",
       "<td style=\"text-align:left\">\\(26026\\)</td>\n",
       "</tr>\n",
       "</tbody>\n",
       "</table>\n",
       "</div>"
      ],
      "text/plain": [
       "  1   2   5    14     42\n",
       "  1   3   14   84     594\n",
       "  1   4   30   330    4719\n",
       "  1   5   55   1001   26026"
      ]
     },
     "execution_count": 27,
     "metadata": {},
     "output_type": "execute_result"
    }
   ],
   "source": [
    "table([[P_mu_r(delta(n,n),n=n,r=r).scalar(e[r*n]) for n in range(1,6)] for r in range(1,5)])"
   ]
  },
  {
   "cell_type": "code",
   "execution_count": 28,
   "metadata": {},
   "outputs": [
    {
     "data": {
      "text/html": [
       "<div class=\"notruncate\">\n",
       "<table  class=\"table_form\">\n",
       "<tbody>\n",
       "<tr class =\"row-a\">\n",
       "<td style=\"text-align:left\">\\(1\\)</td>\n",
       "<td style=\"text-align:left\">\\(3\\)</td>\n",
       "<td style=\"text-align:left\">\\(2^{4}\\)</td>\n",
       "<td style=\"text-align:left\">\\(5^{3}\\)</td>\n",
       "<td style=\"text-align:left\">\\(2^{4} \\cdot 3^{4}\\)</td>\n",
       "</tr>\n",
       "<tr class =\"row-b\">\n",
       "<td style=\"text-align:left\">\\(2^{2}\\)</td>\n",
       "<td style=\"text-align:left\">\\(2^{3} \\cdot 3 \\cdot 5\\)</td>\n",
       "<td style=\"text-align:left\">\\(2^{4} \\cdot 3^{3} \\cdot 5^{2}\\)</td>\n",
       "<td style=\"text-align:left\">\\(2^{5} \\cdot 3^{3} \\cdot 7^{4}\\)</td>\n",
       "<td style=\"text-align:left\">\\(2^{15} \\cdot 3^{2} \\cdot 7^{4}\\)</td>\n",
       "</tr>\n",
       "<tr class =\"row-a\">\n",
       "<td style=\"text-align:left\">\\(3^{3}\\)</td>\n",
       "<td style=\"text-align:left\">\\(2^{4} \\cdot 3^{3} \\cdot 5 \\cdot 7\\)</td>\n",
       "<td style=\"text-align:left\">\\(2^{11} \\cdot 3^{4} \\cdot 5 \\cdot 7^{2}\\)</td>\n",
       "<td style=\"text-align:left\">\\(2^{11} \\cdot 3^{10} \\cdot 5 \\cdot 7^{2} \\cdot 11\\)</td>\n",
       "<td style=\"text-align:left\">\\(2^{15} \\cdot 3^{10} \\cdot 5^{5} \\cdot 7 \\cdot 11 \\cdot 13\\)</td>\n",
       "</tr>\n",
       "<tr class =\"row-b\">\n",
       "<td style=\"text-align:left\">\\(2^{8}\\)</td>\n",
       "<td style=\"text-align:left\">\\(2^{9} \\cdot 3^{2} \\cdot 5^{3} \\cdot 7\\)</td>\n",
       "<td style=\"text-align:left\">\\(2^{13} \\cdot 3^{5} \\cdot 5^{5} \\cdot 7 \\cdot 11\\)</td>\n",
       "<td style=\"text-align:left\">\\(2^{15} \\cdot 3^{5} \\cdot 5^{5} \\cdot 7^{2} \\cdot 11^{4} \\cdot 13\\)</td>\n",
       "<td style=\"text-align:left\">\\(2^{22} \\cdot 3^{10} \\cdot 5^{5} \\cdot 7 \\cdot 11^{4} \\cdot 13 \\cdot 17 \\cdot 19\\)</td>\n",
       "</tr>\n",
       "</tbody>\n",
       "</table>\n",
       "</div>"
      ],
      "text/plain": [
       "  1     3                     2^4                         5^3                                  2^4 * 3^4\n",
       "  2^2   2^3 * 3 * 5           2^4 * 3^3 * 5^2             2^5 * 3^3 * 7^4                      2^15 * 3^2 * 7^4\n",
       "  3^3   2^4 * 3^3 * 5 * 7     2^11 * 3^4 * 5 * 7^2        2^11 * 3^10 * 5 * 7^2 * 11           2^15 * 3^10 * 5^5 * 7 * 11 * 13\n",
       "  2^8   2^9 * 3^2 * 5^3 * 7   2^13 * 3^5 * 5^5 * 7 * 11   2^15 * 3^5 * 5^5 * 7^2 * 11^4 * 13   2^22 * 3^10 * 5^5 * 7 * 11^4 * 13 * 17 * 19"
      ]
     },
     "execution_count": 28,
     "metadata": {},
     "output_type": "execute_result"
    }
   ],
   "source": [
    "table([[factor(P_mu_r(delta(n,n),n=n,r=r).scalar(p[1]^(r*n))) for n in range(1,6)] for r in range(1,5)])"
   ]
  },
  {
   "cell_type": "code",
   "execution_count": 29,
   "metadata": {},
   "outputs": [
    {
     "data": {
      "text/html": [
       "<div class=\"notruncate\">\n",
       "<table  class=\"table_form\">\n",
       "<tbody>\n",
       "<tr class =\"row-a\">\n",
       "<td style=\"text-align:left\">\\(1\\)</td>\n",
       "<td style=\"text-align:left\">\\(1\\)</td>\n",
       "<td style=\"text-align:left\">\\(1\\)</td>\n",
       "<td style=\"text-align:left\">\\(1\\)</td>\n",
       "<td style=\"text-align:left\">\\(1\\)</td>\n",
       "<td style=\"text-align:left\">\\(1\\)</td>\n",
       "<td style=\"text-align:left\">\\(1\\)</td>\n",
       "</tr>\n",
       "<tr class =\"row-b\">\n",
       "<td style=\"text-align:left\">\\(1\\)</td>\n",
       "<td style=\"text-align:left\">\\(1\\)</td>\n",
       "<td style=\"text-align:left\">\\(2\\)</td>\n",
       "<td style=\"text-align:left\">\\(5\\)</td>\n",
       "<td style=\"text-align:left\">\\(14\\)</td>\n",
       "<td style=\"text-align:left\">\\(42\\)</td>\n",
       "<td style=\"text-align:left\">\\(132\\)</td>\n",
       "</tr>\n",
       "<tr class =\"row-a\">\n",
       "<td style=\"text-align:left\">\\(1\\)</td>\n",
       "<td style=\"text-align:left\">\\(1\\)</td>\n",
       "<td style=\"text-align:left\">\\(3\\)</td>\n",
       "<td style=\"text-align:left\">\\(14\\)</td>\n",
       "<td style=\"text-align:left\">\\(84\\)</td>\n",
       "<td style=\"text-align:left\">\\(594\\)</td>\n",
       "<td style=\"text-align:left\">\\(4719\\)</td>\n",
       "</tr>\n",
       "<tr class =\"row-b\">\n",
       "<td style=\"text-align:left\">\\(1\\)</td>\n",
       "<td style=\"text-align:left\">\\(1\\)</td>\n",
       "<td style=\"text-align:left\">\\(4\\)</td>\n",
       "<td style=\"text-align:left\">\\(30\\)</td>\n",
       "<td style=\"text-align:left\">\\(330\\)</td>\n",
       "<td style=\"text-align:left\">\\(4719\\)</td>\n",
       "<td style=\"text-align:left\">\\(81796\\)</td>\n",
       "</tr>\n",
       "<tr class =\"row-a\">\n",
       "<td style=\"text-align:left\">\\(1\\)</td>\n",
       "<td style=\"text-align:left\">\\(1\\)</td>\n",
       "<td style=\"text-align:left\">\\(5\\)</td>\n",
       "<td style=\"text-align:left\">\\(55\\)</td>\n",
       "<td style=\"text-align:left\">\\(1001\\)</td>\n",
       "<td style=\"text-align:left\">\\(26026\\)</td>\n",
       "<td style=\"text-align:left\">\\(884884\\)</td>\n",
       "</tr>\n",
       "<tr class =\"row-b\">\n",
       "<td style=\"text-align:left\">\\(1\\)</td>\n",
       "<td style=\"text-align:left\">\\(1\\)</td>\n",
       "<td style=\"text-align:left\">\\(6\\)</td>\n",
       "<td style=\"text-align:left\">\\(91\\)</td>\n",
       "<td style=\"text-align:left\">\\(2548\\)</td>\n",
       "<td style=\"text-align:left\">\\(111384\\)</td>\n",
       "<td style=\"text-align:left\">\\(6852768\\)</td>\n",
       "</tr>\n",
       "<tr class =\"row-a\">\n",
       "<td style=\"text-align:left\">\\(1\\)</td>\n",
       "<td style=\"text-align:left\">\\(1\\)</td>\n",
       "<td style=\"text-align:left\">\\(7\\)</td>\n",
       "<td style=\"text-align:left\">\\(140\\)</td>\n",
       "<td style=\"text-align:left\">\\(5712\\)</td>\n",
       "<td style=\"text-align:left\">\\(395352\\)</td>\n",
       "<td style=\"text-align:left\">\\(41314284\\)</td>\n",
       "</tr>\n",
       "</tbody>\n",
       "</table>\n",
       "</div>"
      ],
      "text/plain": [
       "  1   1   1   1     1      1        1\n",
       "  1   1   2   5     14     42       132\n",
       "  1   1   3   14    84     594      4719\n",
       "  1   1   4   30    330    4719     81796\n",
       "  1   1   5   55    1001   26026    884884\n",
       "  1   1   6   91    2548   111384   6852768\n",
       "  1   1   7   140   5712   395352   41314284"
      ]
     },
     "execution_count": 29,
     "metadata": {},
     "output_type": "execute_result"
    }
   ],
   "source": [
    "table([[(MultCat(k,n)) for k in range(7)] for n in range(7)])"
   ]
  },
  {
   "cell_type": "code",
   "execution_count": 30,
   "metadata": {
    "scrolled": true
   },
   "outputs": [
    {
     "data": {
      "text/html": [
       "<div class=\"notruncate\">\n",
       "<table  class=\"table_form\">\n",
       "<tbody>\n",
       "<tr class =\"row-a\">\n",
       "<td style=\"text-align:left\">\\(1\\)</td>\n",
       "<td style=\"text-align:left\">\\(1\\)</td>\n",
       "<td style=\"text-align:left\">\\(1\\)</td>\n",
       "<td style=\"text-align:left\">\\(1\\)</td>\n",
       "<td style=\"text-align:left\">\\(1\\)</td>\n",
       "<td style=\"text-align:left\">\\(1\\)</td>\n",
       "<td style=\"text-align:left\">\\(1\\)</td>\n",
       "</tr>\n",
       "<tr class =\"row-b\">\n",
       "<td style=\"text-align:left\">\\(1\\)</td>\n",
       "<td style=\"text-align:left\">\\(1\\)</td>\n",
       "<td style=\"text-align:left\">\\(2\\)</td>\n",
       "<td style=\"text-align:left\">\\(5\\)</td>\n",
       "<td style=\"text-align:left\">\\(14\\)</td>\n",
       "<td style=\"text-align:left\">\\(42\\)</td>\n",
       "<td style=\"text-align:left\">\\(132\\)</td>\n",
       "</tr>\n",
       "<tr class =\"row-a\">\n",
       "<td style=\"text-align:left\">\\(1\\)</td>\n",
       "<td style=\"text-align:left\">\\(1\\)</td>\n",
       "<td style=\"text-align:left\">\\(3\\)</td>\n",
       "<td style=\"text-align:left\">\\(14\\)</td>\n",
       "<td style=\"text-align:left\">\\(84\\)</td>\n",
       "<td style=\"text-align:left\">\\(594\\)</td>\n",
       "<td style=\"text-align:left\">\\(4719\\)</td>\n",
       "</tr>\n",
       "<tr class =\"row-b\">\n",
       "<td style=\"text-align:left\">\\(1\\)</td>\n",
       "<td style=\"text-align:left\">\\(1\\)</td>\n",
       "<td style=\"text-align:left\">\\(4\\)</td>\n",
       "<td style=\"text-align:left\">\\(30\\)</td>\n",
       "<td style=\"text-align:left\">\\(330\\)</td>\n",
       "<td style=\"text-align:left\">\\(4719\\)</td>\n",
       "<td style=\"text-align:left\">\\(81796\\)</td>\n",
       "</tr>\n",
       "<tr class =\"row-a\">\n",
       "<td style=\"text-align:left\">\\(1\\)</td>\n",
       "<td style=\"text-align:left\">\\(1\\)</td>\n",
       "<td style=\"text-align:left\">\\(5\\)</td>\n",
       "<td style=\"text-align:left\">\\(55\\)</td>\n",
       "<td style=\"text-align:left\">\\(1001\\)</td>\n",
       "<td style=\"text-align:left\">\\(26026\\)</td>\n",
       "<td style=\"text-align:left\">\\(884884\\)</td>\n",
       "</tr>\n",
       "<tr class =\"row-b\">\n",
       "<td style=\"text-align:left\">\\(1\\)</td>\n",
       "<td style=\"text-align:left\">\\(1\\)</td>\n",
       "<td style=\"text-align:left\">\\(6\\)</td>\n",
       "<td style=\"text-align:left\">\\(91\\)</td>\n",
       "<td style=\"text-align:left\">\\(2548\\)</td>\n",
       "<td style=\"text-align:left\">\\(111384\\)</td>\n",
       "<td style=\"text-align:left\">\\(6852768\\)</td>\n",
       "</tr>\n",
       "<tr class =\"row-a\">\n",
       "<td style=\"text-align:left\">\\(1\\)</td>\n",
       "<td style=\"text-align:left\">\\(1\\)</td>\n",
       "<td style=\"text-align:left\">\\(7\\)</td>\n",
       "<td style=\"text-align:left\">\\(140\\)</td>\n",
       "<td style=\"text-align:left\">\\(5712\\)</td>\n",
       "<td style=\"text-align:left\">\\(395352\\)</td>\n",
       "<td style=\"text-align:left\">\\(41314284\\)</td>\n",
       "</tr>\n",
       "</tbody>\n",
       "</table>\n",
       "</div>"
      ],
      "text/plain": [
       "  1   1   1   1     1      1        1\n",
       "  1   1   2   5     14     42       132\n",
       "  1   1   3   14    84     594      4719\n",
       "  1   1   4   30    330    4719     81796\n",
       "  1   1   5   55    1001   26026    884884\n",
       "  1   1   6   91    2548   111384   6852768\n",
       "  1   1   7   140   5712   395352   41314284"
      ]
     },
     "execution_count": 30,
     "metadata": {},
     "output_type": "execute_result"
    }
   ],
   "source": [
    "table([[(Tnk(k,n)) for k in range(7)] for n in range(7)])"
   ]
  },
  {
   "cell_type": "code",
   "execution_count": 31,
   "metadata": {},
   "outputs": [
    {
     "data": {
      "text/html": [
       "<html>\\(\\displaystyle q^{21} + q^{20} + 3 q^{19} + 5 q^{18} + 8 q^{17} + 10 q^{16} + 13 q^{15} + 12 q^{14} + 12 q^{13} + 9 q^{12} + 6 q^{11} + 3 q^{10} + q^{9}\\)</html>"
      ],
      "text/latex": [
       "$\\displaystyle q^{21} + q^{20} + 3 q^{19} + 5 q^{18} + 8 q^{17} + 10 q^{16} + 13 q^{15} + 12 q^{14} + 12 q^{13} + 9 q^{12} + 6 q^{11} + 3 q^{10} + q^{9}$"
      ],
      "text/plain": [
       "q^21 + q^20 + 3*q^19 + 5*q^18 + 8*q^17 + 10*q^16 + 13*q^15 + 12*q^14 + 12*q^13 + 9*q^12 + 6*q^11 + 3*q^10 + q^9"
      ]
     },
     "execution_count": 31,
     "metadata": {},
     "output_type": "execute_result"
    }
   ],
   "source": [
    "((-s[2,2,2,2,2]).nabla(t=1).scalar(e[10]))"
   ]
  },
  {
   "cell_type": "code",
   "execution_count": 32,
   "metadata": {},
   "outputs": [],
   "source": [
    "@cached_function\n",
    "def Catr(n,r):\n",
    "    return e[n].nabla(t=1,power=r).scalar(e[n])"
   ]
  },
  {
   "cell_type": "code",
   "execution_count": 33,
   "metadata": {},
   "outputs": [],
   "source": [
    "def MultCatr(k,n,r=1):\n",
    "    if n<0:\n",
    "        return 0\n",
    "    else:\n",
    "        return matrix([[Catr(k+j+i,r) for j in range(n)] for i in range(n)]).determinant()\n"
   ]
  },
  {
   "cell_type": "code",
   "execution_count": 34,
   "metadata": {},
   "outputs": [
    {
     "data": {
      "text/html": [
       "<html>\\(\\displaystyle 273\\)</html>"
      ],
      "text/latex": [
       "$\\displaystyle 273$"
      ],
      "text/plain": [
       "273"
      ]
     },
     "execution_count": 34,
     "metadata": {},
     "output_type": "execute_result"
    }
   ],
   "source": [
    "MultCatr(5,1,r=2).substitute({q:1})"
   ]
  },
  {
   "cell_type": "code",
   "execution_count": 35,
   "metadata": {},
   "outputs": [
    {
     "data": {
      "text/html": [
       "<div class=\"notruncate\">\n",
       "<table  class=\"table_form\">\n",
       "<tbody>\n",
       "<tr class =\"row-a\">\n",
       "<td style=\"text-align:left\">\\(1\\)</td>\n",
       "<td style=\"text-align:left\">\\(1\\)</td>\n",
       "<td style=\"text-align:left\">\\(1\\)</td>\n",
       "<td style=\"text-align:left\">\\(1\\)</td>\n",
       "<td style=\"text-align:left\">\\(1\\)</td>\n",
       "<td style=\"text-align:left\">\\(1\\)</td>\n",
       "<td style=\"text-align:left\">\\(1\\)</td>\n",
       "</tr>\n",
       "<tr class =\"row-b\">\n",
       "<td style=\"text-align:left\">\\(1\\)</td>\n",
       "<td style=\"text-align:left\">\\(1\\)</td>\n",
       "<td style=\"text-align:left\">\\(2\\)</td>\n",
       "<td style=\"text-align:left\">\\(5\\)</td>\n",
       "<td style=\"text-align:left\">\\(14\\)</td>\n",
       "<td style=\"text-align:left\">\\(42\\)</td>\n",
       "<td style=\"text-align:left\">\\(132\\)</td>\n",
       "</tr>\n",
       "<tr class =\"row-a\">\n",
       "<td style=\"text-align:left\">\\(1\\)</td>\n",
       "<td style=\"text-align:left\">\\(1\\)</td>\n",
       "<td style=\"text-align:left\">\\(3\\)</td>\n",
       "<td style=\"text-align:left\">\\(14\\)</td>\n",
       "<td style=\"text-align:left\">\\(84\\)</td>\n",
       "<td style=\"text-align:left\">\\(594\\)</td>\n",
       "<td style=\"text-align:left\">\\(4719\\)</td>\n",
       "</tr>\n",
       "<tr class =\"row-b\">\n",
       "<td style=\"text-align:left\">\\(1\\)</td>\n",
       "<td style=\"text-align:left\">\\(1\\)</td>\n",
       "<td style=\"text-align:left\">\\(4\\)</td>\n",
       "<td style=\"text-align:left\">\\(30\\)</td>\n",
       "<td style=\"text-align:left\">\\(330\\)</td>\n",
       "<td style=\"text-align:left\">\\(4719\\)</td>\n",
       "<td style=\"text-align:left\">\\(81796\\)</td>\n",
       "</tr>\n",
       "<tr class =\"row-a\">\n",
       "<td style=\"text-align:left\">\\(1\\)</td>\n",
       "<td style=\"text-align:left\">\\(1\\)</td>\n",
       "<td style=\"text-align:left\">\\(5\\)</td>\n",
       "<td style=\"text-align:left\">\\(55\\)</td>\n",
       "<td style=\"text-align:left\">\\(1001\\)</td>\n",
       "<td style=\"text-align:left\">\\(26026\\)</td>\n",
       "<td style=\"text-align:left\">\\(884884\\)</td>\n",
       "</tr>\n",
       "<tr class =\"row-b\">\n",
       "<td style=\"text-align:left\">\\(1\\)</td>\n",
       "<td style=\"text-align:left\">\\(1\\)</td>\n",
       "<td style=\"text-align:left\">\\(6\\)</td>\n",
       "<td style=\"text-align:left\">\\(91\\)</td>\n",
       "<td style=\"text-align:left\">\\(2548\\)</td>\n",
       "<td style=\"text-align:left\">\\(111384\\)</td>\n",
       "<td style=\"text-align:left\">\\(6852768\\)</td>\n",
       "</tr>\n",
       "<tr class =\"row-a\">\n",
       "<td style=\"text-align:left\">\\(1\\)</td>\n",
       "<td style=\"text-align:left\">\\(1\\)</td>\n",
       "<td style=\"text-align:left\">\\(7\\)</td>\n",
       "<td style=\"text-align:left\">\\(140\\)</td>\n",
       "<td style=\"text-align:left\">\\(5712\\)</td>\n",
       "<td style=\"text-align:left\">\\(395352\\)</td>\n",
       "<td style=\"text-align:left\">\\(41314284\\)</td>\n",
       "</tr>\n",
       "</tbody>\n",
       "</table>\n",
       "</div>"
      ],
      "text/plain": [
       "  1   1   1   1     1      1        1\n",
       "  1   1   2   5     14     42       132\n",
       "  1   1   3   14    84     594      4719\n",
       "  1   1   4   30    330    4719     81796\n",
       "  1   1   5   55    1001   26026    884884\n",
       "  1   1   6   91    2548   111384   6852768\n",
       "  1   1   7   140   5712   395352   41314284"
      ]
     },
     "execution_count": 35,
     "metadata": {},
     "output_type": "execute_result"
    }
   ],
   "source": [
    "table([[SubpartitionChainNumber(delta(k,k),n) for k in range(7)] for n in range(7)])"
   ]
  },
  {
   "cell_type": "code",
   "execution_count": 36,
   "metadata": {},
   "outputs": [
    {
     "data": {
      "text/html": [
       "<div class=\"notruncate\">\n",
       "<table  class=\"table_form\">\n",
       "<tbody>\n",
       "<tr class =\"row-a\">\n",
       "<td style=\"text-align:left\">\\(1\\)</td>\n",
       "<td style=\"text-align:left\">\\(1\\)</td>\n",
       "<td style=\"text-align:left\">\\(1\\)</td>\n",
       "<td style=\"text-align:left\">\\(1\\)</td>\n",
       "<td style=\"text-align:left\">\\(1\\)</td>\n",
       "</tr>\n",
       "<tr class =\"row-b\">\n",
       "<td style=\"text-align:left\">\\(1\\)</td>\n",
       "<td style=\"text-align:left\">\\(3\\)</td>\n",
       "<td style=\"text-align:left\">\\(12\\)</td>\n",
       "<td style=\"text-align:left\">\\(55\\)</td>\n",
       "<td style=\"text-align:left\">\\(273\\)</td>\n",
       "</tr>\n",
       "<tr class =\"row-a\">\n",
       "<td style=\"text-align:left\">\\(1\\)</td>\n",
       "<td style=\"text-align:left\">\\(6\\)</td>\n",
       "<td style=\"text-align:left\">\\(66\\)</td>\n",
       "<td style=\"text-align:left\">\\(1001\\)</td>\n",
       "<td style=\"text-align:left\">\\(18564\\)</td>\n",
       "</tr>\n",
       "<tr class =\"row-b\">\n",
       "<td style=\"text-align:left\">\\(1\\)</td>\n",
       "<td style=\"text-align:left\">\\(10\\)</td>\n",
       "<td style=\"text-align:left\">\\(245\\)</td>\n",
       "<td style=\"text-align:left\">\\(9996\\)</td>\n",
       "<td style=\"text-align:left\">\\(569772\\)</td>\n",
       "</tr>\n",
       "<tr class =\"row-a\">\n",
       "<td style=\"text-align:left\">\\(1\\)</td>\n",
       "<td style=\"text-align:left\">\\(15\\)</td>\n",
       "<td style=\"text-align:left\">\\(714\\)</td>\n",
       "<td style=\"text-align:left\">\\(67830\\)</td>\n",
       "<td style=\"text-align:left\">\\(10296594\\)</td>\n",
       "</tr>\n",
       "</tbody>\n",
       "</table>\n",
       "</div>"
      ],
      "text/plain": [
       "  1   1    1     1       1\n",
       "  1   3    12    55      273\n",
       "  1   6    66    1001    18564\n",
       "  1   10   245   9996    569772\n",
       "  1   15   714   67830   10296594"
      ]
     },
     "execution_count": 36,
     "metadata": {},
     "output_type": "execute_result"
    }
   ],
   "source": [
    "table([[(SubpartitionChainNumber(delta(2*k,k),n)) for k in range(1,6)] for n in range(5)])"
   ]
  },
  {
   "cell_type": "code",
   "execution_count": 37,
   "metadata": {},
   "outputs": [
    {
     "data": {
      "text/html": [
       "<div class=\"notruncate\">\n",
       "<table  class=\"table_form\">\n",
       "<tbody>\n",
       "<tr class =\"row-a\">\n",
       "<td style=\"text-align:left\">\\(1\\)</td>\n",
       "<td style=\"text-align:left\">\\(3\\)</td>\n",
       "<td style=\"text-align:left\">\\(12\\)</td>\n",
       "<td style=\"text-align:left\">\\(55\\)</td>\n",
       "</tr>\n",
       "<tr class =\"row-b\">\n",
       "<td style=\"text-align:left\">\\(1\\)</td>\n",
       "<td style=\"text-align:left\">\\(6\\)</td>\n",
       "<td style=\"text-align:left\">\\(66\\)</td>\n",
       "<td style=\"text-align:left\">\\(1001\\)</td>\n",
       "</tr>\n",
       "<tr class =\"row-a\">\n",
       "<td style=\"text-align:left\">\\(1\\)</td>\n",
       "<td style=\"text-align:left\">\\(10\\)</td>\n",
       "<td style=\"text-align:left\">\\(245\\)</td>\n",
       "<td style=\"text-align:left\">\\(9996\\)</td>\n",
       "</tr>\n",
       "</tbody>\n",
       "</table>\n",
       "</div>"
      ],
      "text/plain": [
       "  1   3    12    55\n",
       "  1   6    66    1001\n",
       "  1   10   245   9996"
      ]
     },
     "execution_count": 37,
     "metadata": {},
     "output_type": "execute_result"
    }
   ],
   "source": [
    "table([[P_mu_r(delta(2*n,n),n=n,r=r).scalar(e[r*n]) for n in range(1,5)] for r in range(1,4)])"
   ]
  },
  {
   "attachments": {},
   "cell_type": "markdown",
   "metadata": {
    "editable": true,
    "slideshow": {
     "slide_type": ""
    },
    "tags": []
   },
   "source": [
    "#  <span style=\"color:blue\">  <font size=\"5\">  The operators $\\nabla^\\boldsymbol{v}$  and $\\nabla^\\boldsymbol{v}_{\\tiny{\\boldsymbol{Y}}}$ </span>\n",
    "Let $\\boldsymbol{v}$ be in $\\mathbb{Z}^n$, and $\\mu$ be a partition of length $n$ ($\\mu$ may have zero parts, and these are considered in its length). For any Standard Young Tableau (SYT) $\\theta$ of shape $\\mu$, we consider the rational fraction \n",
    "$$\\Omega_\\theta(q,t):= \\prod_{\\theta_{c}>\\theta_{d}}\n",
    "        \\frac{(z_c-z_d)^+ (z_c-qt\\,z_d)^+}\n",
    "                {  (z_c-t\\,z_d)^+ (z_c-q\\,z_d)^+}\n",
    "   \\prod_{\\theta_{c}=\\theta_{d}+1}\\frac{z_c}{z_c-qt\\,z_d}\n",
    "    \\prod_{d\\neq (0,0)} \\frac{1}{z_d-1}$$\n",
    "with $c$ and $d$ running over cells of $\\mu$; and where $z_c:=q^it^j$, if $c=(i,j)$. Here, the value of $\\alpha^+$ is set to be $\\alpha$, if $\\alpha\\neq 0$, and $1$ if $\\alpha=0$. We further set $\\omega_\\theta^{\\boldsymbol{v}}(q,t):=\\prod_{c\\in \\mu}z_c^{{\\boldsymbol{v}}(\\theta_{ij})-1}$, and consider the Macdonald eigenoperator $\\nabla^{\\boldsymbol{v}}$, whose eigenvalue on $\\widetilde{H}_\\mu(q,t;\\boldsymbol{z})$ is\n",
    "   $$\\lambda_\\mu^{\\boldsymbol{v}}(q,t):=\\frac{\\gamma_\\mu^{\\boldsymbol{v}}(q,t)}\n",
    "                     {\\gamma_\\mu^{\\boldsymbol{0}}(q,t)},\n",
    "        \\qquad {\\rm with} \\qquad\n",
    "      \\gamma_\\mu^{\\boldsymbol{v}}(q,t):=\\sum_{\\theta \\in \\mathrm{SYT}(\\mu)}\\omega_\\theta^{\\boldsymbol{v}}(q,t)\\,  \\Omega_\\theta(q,t).$$\n",
    "Thus $\\nabla^{\\boldsymbol{0}}={\\mathrm{Id}}$. It may be shown that \n",
    " $$e_n(\\boldsymbol{z}) =\\sum_{\\mu\\vdash n} \\gamma_\\mu^{\\boldsymbol{0}}(q,t)\\ \\widetilde{H}_\\mu(q,t;\\boldsymbol{z}),$$\n",
    "and\n",
    " $$\\nabla(e_n(\\boldsymbol{z})) =\\sum_{\\mu\\vdash n} \\gamma_\\mu^{1^{n}}(q,t)\\ \\widetilde{H}_\\mu(q,t;\\boldsymbol{z}),$$\n",
    "in other words we have $\\nabla^{(1^{n})}=\\nabla$, and it may be seen that $\\nabla^{(1^{n})}\\nabla^{\\boldsymbol{v}}=\\nabla^{(1^{n})+{\\boldsymbol{v}}}$. In particular, we consider \n",
    " $$\\mathcal{E}_{\\boldsymbol{v}}(q,t;\\boldsymbol z):=\\nabla^{\\boldsymbol{v}}(e_n(\\boldsymbol{z})) =\\sum_{\\mu\\vdash \\ell(v)}\n",
    "     \\gamma_\\mu^{\\boldsymbol{v}}(q,t)\\, \\widetilde{H}_\\mu(q,t;\\boldsymbol z).$$\n",
    "Moreover, when $\\boldsymbol{v}$ is the multiplicity vector of $\\mu=(\\mu_1,\\ldots,\\mu_\\ell,\\underbrace{0,\\ldots,0}_{n-\\ell})$, we also write $\\mathcal{E}^{(n)}_{\\mu}(q,t;\\boldsymbol z)$ for $\\mathcal{E}_{\\boldsymbol{v}}(q,t;\\boldsymbol z)$.\n",
    "\n",
    "The above notations are extended to parameter free expressions, encoded with tensor products, and having the necessary desired properties.\n",
    "\n",
    "**Conjecture** $\\mathcal{E}^{(n)}_{\\mu}(q,t;\\boldsymbol z)$ is (Schur$\\otimes$Schur)-positive, if and only if $(\\mu_1,\\ldots,\\mu_\\ell,\\underbrace{0,\\ldots,0}_{n-\\ell})$ is concave.\n"
   ]
  },
  {
   "cell_type": "code",
   "execution_count": 38,
   "metadata": {},
   "outputs": [],
   "source": [
    "def Oab(a,b,mu):\n",
    "    return (e[3]^b*( (hh(a-b)-hh(a-b-2))*h[1] + (hh(a-b-2)- hh(a-b-1))*h[2] ))(B_mu(mu)*Un).scalar(Un)/B_mu(mu)"
   ]
  },
  {
   "cell_type": "code",
   "execution_count": 39,
   "metadata": {},
   "outputs": [
    {
     "data": {
      "text/html": [
       "<html>\\(\\displaystyle \\mathrm{True}\\)</html>"
      ],
      "text/latex": [
       "$\\displaystyle \\mathrm{True}$"
      ],
      "text/plain": [
       "True"
      ]
     },
     "execution_count": 39,
     "metadata": {},
     "output_type": "execute_result"
    }
   ],
   "source": [
    "Nabla_tv((0,1,1,1),flip(P_mu((2,2,1),4)))==flip(P_mu((5,4,2),4))"
   ]
  },
  {
   "cell_type": "code",
   "execution_count": 40,
   "metadata": {},
   "outputs": [],
   "source": [
    "for n in range(10):\n",
    "    for mu in Partitions(n):\n",
    "        if Is_Dominant(mu):\n",
    "            n=len(min_concave(mu))\n",
    "            if not Nabla_tv(part_to_vect(mu,n),e[n])==flip(P_mu(mu,n)):\n",
    "                show(mu)"
   ]
  },
  {
   "cell_type": "code",
   "execution_count": 41,
   "metadata": {},
   "outputs": [
    {
     "data": {
      "text/html": [
       "<html>\\(\\displaystyle \\left(2, 2, 1, 1, 0\\right)\\)</html>"
      ],
      "text/latex": [
       "$\\displaystyle \\left(2, 2, 1, 1, 0\\right)$"
      ],
      "text/plain": [
       "(2, 2, 1, 1, 0)"
      ]
     },
     "execution_count": 41,
     "metadata": {},
     "output_type": "execute_result"
    }
   ],
   "source": [
    "min_concave((2,2,1,1))"
   ]
  },
  {
   "cell_type": "code",
   "execution_count": 42,
   "metadata": {},
   "outputs": [
    {
     "data": {
      "text/html": [
       "<html>\\(\\displaystyle q^{6} e_{4} + \\left(q^{5} + q^{4} + 2 q^{3}\\right) e_{31} + \\left(q^{4} + q^{2}\\right) e_{22} + \\left(q^{3} + 2 q^{2} + 3 q\\right) e_{211} + e_{1111}\\)</html>"
      ],
      "text/latex": [
       "$\\displaystyle q^{6} e_{4} + \\left(q^{5} + q^{4} + 2 q^{3}\\right) e_{31} + \\left(q^{4} + q^{2}\\right) e_{22} + \\left(q^{3} + 2 q^{2} + 3 q\\right) e_{211} + e_{1111}$"
      ],
      "text/plain": [
       "q^6*e[4] + (q^5+q^4+2*q^3)*e[3, 1] + (q^4+q^2)*e[2, 2] + (q^3+2*q^2+3*q)*e[2, 1, 1] + e[1, 1, 1, 1]"
      ]
     },
     "execution_count": 42,
     "metadata": {},
     "output_type": "execute_result"
    }
   ],
   "source": [
    "e(E_vt((0,1,1,1)))"
   ]
  },
  {
   "cell_type": "code",
   "execution_count": 43,
   "metadata": {},
   "outputs": [
    {
     "data": {
      "text/html": [
       "<html>\\(\\displaystyle s_{3} + \\left(q^{2} + q t + t^{2} + q + t\\right) s_{21} + \\left(q^{3} + q^{2} t + q t^{2} + t^{3} + q t\\right) s_{111}\\)</html>"
      ],
      "text/latex": [
       "$\\displaystyle s_{3} + \\left(q^{2} + q t + t^{2} + q + t\\right) s_{21} + \\left(q^{3} + q^{2} t + q t^{2} + t^{3} + q t\\right) s_{111}$"
      ],
      "text/plain": [
       "s[3] + (q^2+q*t+t^2+q+t)*s[2, 1] + (q^3+q^2*t+q*t^2+t^3+q*t)*s[1, 1, 1]"
      ]
     },
     "execution_count": 43,
     "metadata": {},
     "output_type": "execute_result"
    }
   ],
   "source": [
    "s(E_v((0,1,1)))"
   ]
  },
  {
   "cell_type": "code",
   "execution_count": 44,
   "metadata": {},
   "outputs": [
    {
     "data": {
      "text/html": [
       "<div class=\"notruncate\">\n",
       "<table  class=\"table_form\">\n",
       "<tbody>\n",
       "<tr class =\"row-a\">\n",
       "<td style=\"text-align:left\">\\(\\left(\\mu, \\nu\\right)\\)</td>\n",
       "<td style=\"text-align:left\">\\(s_{111}\\)</td>\n",
       "<td style=\"text-align:left\">\\(s_{21}\\)</td>\n",
       "<td style=\"text-align:left\">\\(s_{3}\\)</td>\n",
       "</tr>\n",
       "<tr class =\"row-b\">\n",
       "<td style=\"text-align:left\">\\(s_{111}\\)</td>\n",
       "<td style=\"text-align:left\">\\(s_{4} + s_{21}\\)</td>\n",
       "<td style=\"text-align:left\">\\(s_{3} + s_{2} + s_{11}\\)</td>\n",
       "<td style=\"text-align:left\">\\(s_{1}\\)</td>\n",
       "</tr>\n",
       "<tr class =\"row-a\">\n",
       "<td style=\"text-align:left\">\\(s_{21}\\)</td>\n",
       "<td style=\"text-align:left\">\\(s_{3} + s_{2} + s_{11}\\)</td>\n",
       "<td style=\"text-align:left\">\\(s_{2} + 2 s_{1}\\)</td>\n",
       "<td style=\"text-align:left\">\\(\\boldsymbol{1}\\)</td>\n",
       "</tr>\n",
       "<tr class =\"row-b\">\n",
       "<td style=\"text-align:left\">\\(s_{3}\\)</td>\n",
       "<td style=\"text-align:left\">\\(s_{1}\\)</td>\n",
       "<td style=\"text-align:left\">\\(\\boldsymbol{1}\\)</td>\n",
       "<td style=\"text-align:left\">\\(0\\)</td>\n",
       "</tr>\n",
       "</tbody>\n",
       "</table>\n",
       "</div>"
      ],
      "text/plain": [
       "  (mu, nu)     s[1, 1, 1]              s[2, 1]                 s[3]\n",
       "  s[1, 1, 1]   s[4] + s[2, 1]          s[3] + s[2] + s[1, 1]   s[1]\n",
       "  s[2, 1]      s[3] + s[2] + s[1, 1]   s[2] + 2*s[1]           s[]\n",
       "  s[3]         s[1]                    s[]                     0"
      ]
     },
     "execution_count": 44,
     "metadata": {},
     "output_type": "execute_result"
    }
   ],
   "source": [
    "TableCoeff(Super_nabla_v((1,1,0),e[3]))"
   ]
  },
  {
   "cell_type": "code",
   "execution_count": 45,
   "metadata": {},
   "outputs": [
    {
     "data": {
      "text/html": [
       "<div class=\"notruncate\">\n",
       "<table  class=\"table_form\">\n",
       "<tbody>\n",
       "<tr class =\"row-a\">\n",
       "<td style=\"text-align:left\">\\(\\left(\\mu, \\nu\\right)\\)</td>\n",
       "<td style=\"text-align:left\">\\(s_{111}\\)</td>\n",
       "<td style=\"text-align:left\">\\(s_{21}\\)</td>\n",
       "<td style=\"text-align:left\">\\(s_{3}\\)</td>\n",
       "</tr>\n",
       "<tr class =\"row-b\">\n",
       "<td style=\"text-align:left\">\\(s_{111}\\)</td>\n",
       "<td style=\"text-align:left\">\\(s_{5} + s_{31}\\)</td>\n",
       "<td style=\"text-align:left\">\\(s_{4} + s_{3} + s_{21}\\)</td>\n",
       "<td style=\"text-align:left\">\\(s_{2}\\)</td>\n",
       "</tr>\n",
       "<tr class =\"row-a\">\n",
       "<td style=\"text-align:left\">\\(s_{21}\\)</td>\n",
       "<td style=\"text-align:left\">\\(s_{4} + s_{3} + s_{21}\\)</td>\n",
       "<td style=\"text-align:left\">\\(s_{3} + 2 s_{2} + s_{11}\\)</td>\n",
       "<td style=\"text-align:left\">\\(s_{1}\\)</td>\n",
       "</tr>\n",
       "<tr class =\"row-b\">\n",
       "<td style=\"text-align:left\">\\(s_{3}\\)</td>\n",
       "<td style=\"text-align:left\">\\(s_{2}\\)</td>\n",
       "<td style=\"text-align:left\">\\(s_{1}\\)</td>\n",
       "<td style=\"text-align:left\">\\(0\\)</td>\n",
       "</tr>\n",
       "</tbody>\n",
       "</table>\n",
       "</div>"
      ],
      "text/plain": [
       "  (mu, nu)     s[1, 1, 1]              s[2, 1]                   s[3]\n",
       "  s[1, 1, 1]   s[5] + s[3, 1]          s[4] + s[3] + s[2, 1]     s[2]\n",
       "  s[2, 1]      s[4] + s[3] + s[2, 1]   s[3] + 2*s[2] + s[1, 1]   s[1]\n",
       "  s[3]         s[2]                    s[1]                      0"
      ]
     },
     "execution_count": 45,
     "metadata": {},
     "output_type": "execute_result"
    }
   ],
   "source": [
    "TableCoeff(Super_nabla_v((1,0,1),e[3]))"
   ]
  },
  {
   "cell_type": "code",
   "execution_count": 46,
   "metadata": {
    "scrolled": true
   },
   "outputs": [
    {
     "data": {
      "text/html": [
       "<div class=\"notruncate\">\n",
       "<table  class=\"table_form\">\n",
       "<tbody>\n",
       "<tr class =\"row-a\">\n",
       "<td style=\"text-align:left\">\\(\\left(\\mu, \\nu\\right)\\)</td>\n",
       "<td style=\"text-align:left\">\\(s_{1111}\\)</td>\n",
       "<td style=\"text-align:left\">\\(s_{211}\\)</td>\n",
       "<td style=\"text-align:left\">\\(s_{22}\\)</td>\n",
       "<td style=\"text-align:left\">\\(s_{31}\\)</td>\n",
       "<td style=\"text-align:left\">\\(s_{4}\\)</td>\n",
       "</tr>\n",
       "<tr class =\"row-b\">\n",
       "<td style=\"text-align:left\">\\(s_{1111}\\)</td>\n",
       "<td style=\"text-align:left\">\\(s_{8} + s_{61} + s_{51} + s_{42}\\)</td>\n",
       "<td style=\"text-align:left\">\\(s_{7} + s_{6} + s_{5} + s_{51} + 2 s_{41} + s_{32} + s_{31}\\)</td>\n",
       "<td style=\"text-align:left\">\\(s_{6} + s_{4} + s_{41} + s_{31} + s_{22}\\)</td>\n",
       "<td style=\"text-align:left\">\\(s_{5} + s_{4} + s_{3} + s_{31} + s_{21}\\)</td>\n",
       "<td style=\"text-align:left\">\\(s_{2}\\)</td>\n",
       "</tr>\n",
       "<tr class =\"row-a\">\n",
       "<td style=\"text-align:left\">\\(s_{211}\\)</td>\n",
       "<td style=\"text-align:left\">\\(s_{7} + s_{6} + s_{5} + s_{51} + 2 s_{41} + s_{32} + s_{31}\\)</td>\n",
       "<td style=\"text-align:left\">\\(s_{6} + 2 s_{5} + 3 s_{4} + s_{3} + s_{41} + 3 s_{31} + s_{22} + 2 s_{21}\\)</td>\n",
       "<td style=\"text-align:left\">\\(s_{5} + s_{4} + 2 s_{3} + s_{31} + 2 s_{21} + s_{11}\\)</td>\n",
       "<td style=\"text-align:left\">\\(s_{4} + 2 s_{3} + 2 s_{2} + s_{21} + s_{11}\\)</td>\n",
       "<td style=\"text-align:left\">\\(s_{1}\\)</td>\n",
       "</tr>\n",
       "<tr class =\"row-b\">\n",
       "<td style=\"text-align:left\">\\(s_{22}\\)</td>\n",
       "<td style=\"text-align:left\">\\(s_{6} + s_{4} + s_{41} + s_{31} + s_{22}\\)</td>\n",
       "<td style=\"text-align:left\">\\(s_{5} + s_{4} + 2 s_{3} + s_{31} + 2 s_{21} + s_{11}\\)</td>\n",
       "<td style=\"text-align:left\">\\(s_{4} + 2 s_{2} + s_{21}\\)</td>\n",
       "<td style=\"text-align:left\">\\(s_{3} + s_{2} + s_{1} + s_{11}\\)</td>\n",
       "<td style=\"text-align:left\">\\(\\boldsymbol{1}\\)</td>\n",
       "</tr>\n",
       "<tr class =\"row-a\">\n",
       "<td style=\"text-align:left\">\\(s_{31}\\)</td>\n",
       "<td style=\"text-align:left\">\\(s_{5} + s_{4} + s_{3} + s_{31} + s_{21}\\)</td>\n",
       "<td style=\"text-align:left\">\\(s_{4} + 2 s_{3} + 2 s_{2} + s_{21} + s_{11}\\)</td>\n",
       "<td style=\"text-align:left\">\\(s_{3} + s_{2} + s_{1} + s_{11}\\)</td>\n",
       "<td style=\"text-align:left\">\\(s_{2} + s_{1}\\)</td>\n",
       "<td style=\"text-align:left\">\\(0\\)</td>\n",
       "</tr>\n",
       "<tr class =\"row-b\">\n",
       "<td style=\"text-align:left\">\\(s_{4}\\)</td>\n",
       "<td style=\"text-align:left\">\\(s_{2}\\)</td>\n",
       "<td style=\"text-align:left\">\\(s_{1}\\)</td>\n",
       "<td style=\"text-align:left\">\\(\\boldsymbol{1}\\)</td>\n",
       "<td style=\"text-align:left\">\\(0\\)</td>\n",
       "<td style=\"text-align:left\">\\(0\\)</td>\n",
       "</tr>\n",
       "</tbody>\n",
       "</table>\n",
       "</div>"
      ],
      "text/plain": [
       "  (mu, nu)        s[1, 1, 1, 1]                                                  s[2, 1, 1]                                                                  s[2, 2]                                                s[3, 1]                                      s[4]\n",
       "  s[1, 1, 1, 1]   s[8] + s[6, 1] + s[5, 1] + s[4, 2]                             s[7] + s[6] + s[5] + s[5, 1] + 2*s[4, 1] + s[3, 2] + s[3, 1]                s[6] + s[4] + s[4, 1] + s[3, 1] + s[2, 2]              s[5] + s[4] + s[3] + s[3, 1] + s[2, 1]       s[2]\n",
       "  s[2, 1, 1]      s[7] + s[6] + s[5] + s[5, 1] + 2*s[4, 1] + s[3, 2] + s[3, 1]   s[6] + 2*s[5] + 3*s[4] + s[3] + s[4, 1] + 3*s[3, 1] + s[2, 2] + 2*s[2, 1]   s[5] + s[4] + 2*s[3] + s[3, 1] + 2*s[2, 1] + s[1, 1]   s[4] + 2*s[3] + 2*s[2] + s[2, 1] + s[1, 1]   s[1]\n",
       "  s[2, 2]         s[6] + s[4] + s[4, 1] + s[3, 1] + s[2, 2]                      s[5] + s[4] + 2*s[3] + s[3, 1] + 2*s[2, 1] + s[1, 1]                        s[4] + 2*s[2] + s[2, 1]                                s[3] + s[2] + s[1] + s[1, 1]                 s[]\n",
       "  s[3, 1]         s[5] + s[4] + s[3] + s[3, 1] + s[2, 1]                         s[4] + 2*s[3] + 2*s[2] + s[2, 1] + s[1, 1]                                  s[3] + s[2] + s[1] + s[1, 1]                           s[2] + s[1]                                  0\n",
       "  s[4]            s[2]                                                           s[1]                                                                        s[]                                                    0                                            0"
      ]
     },
     "execution_count": 46,
     "metadata": {},
     "output_type": "execute_result"
    }
   ],
   "source": [
    "TableCoeff(Super_nabla_v((0,0,1,0),e[4]))"
   ]
  },
  {
   "cell_type": "code",
   "execution_count": 47,
   "metadata": {},
   "outputs": [
    {
     "data": {
      "text/html": [
       "<html>\\(\\displaystyle \\big( s_{8} + s_{51} + s_{42} + s_{61} + s_{311} \\big) \\otimes s_{1111}\\)</html>"
      ],
      "text/latex": [
       "$\\displaystyle \\big( s_{8} + s_{51} + s_{42} + s_{61} + s_{311} \\big) \\otimes s_{1111}$"
      ],
      "text/plain": [
       "\\big( s[8] + s[5, 1] + s[4, 2] + s[6, 1] + s[3, 1, 1] \\big) \\otimes s[1, 1, 1, 1]"
      ]
     },
     "metadata": {},
     "output_type": "display_data"
    },
    {
     "data": {
      "text/html": [
       "<html>\\(\\displaystyle \\qquad +\\  \\big( s_{5} + s_{6} + s_{7} + s_{31} + s_{32} + 2 s_{41} + s_{51} + s_{211} \\big) \\otimes s_{211}\\)</html>"
      ],
      "text/latex": [
       "$\\displaystyle \\qquad +\\  \\big( s_{5} + s_{6} + s_{7} + s_{31} + s_{32} + 2 s_{41} + s_{51} + s_{211} \\big) \\otimes s_{211}$"
      ],
      "text/plain": [
       "\\qquad +\\  \\big( s[5] + s[6] + s[7] + s[3, 1] + s[3, 2] + 2*s[4, 1] + s[5, 1] + s[2, 1, 1] \\big) \\otimes s[2, 1, 1]"
      ]
     },
     "metadata": {},
     "output_type": "display_data"
    },
    {
     "data": {
      "text/html": [
       "<html>\\(\\displaystyle \\qquad +\\  \\big( s_{4} + s_{6} + s_{31} + s_{22} + s_{41} + s_{111} \\big) \\otimes s_{22}\\)</html>"
      ],
      "text/latex": [
       "$\\displaystyle \\qquad +\\  \\big( s_{4} + s_{6} + s_{31} + s_{22} + s_{41} + s_{111} \\big) \\otimes s_{22}$"
      ],
      "text/plain": [
       "\\qquad +\\  \\big( s[4] + s[6] + s[3, 1] + s[2, 2] + s[4, 1] + s[1, 1, 1] \\big) \\otimes s[2, 2]"
      ]
     },
     "metadata": {},
     "output_type": "display_data"
    },
    {
     "data": {
      "text/html": [
       "<html>\\(\\displaystyle \\qquad +\\  \\big( s_{3} + s_{4} + s_{5} + s_{21} + s_{31} \\big) \\otimes s_{31}\\)</html>"
      ],
      "text/latex": [
       "$\\displaystyle \\qquad +\\  \\big( s_{3} + s_{4} + s_{5} + s_{21} + s_{31} \\big) \\otimes s_{31}$"
      ],
      "text/plain": [
       "\\qquad +\\  \\big( s[3] + s[4] + s[5] + s[2, 1] + s[3, 1] \\big) \\otimes s[3, 1]"
      ]
     },
     "metadata": {},
     "output_type": "display_data"
    },
    {
     "data": {
      "text/html": [
       "<html>\\(\\displaystyle \\qquad +\\  s_{2} \\otimes s_{4}\\)</html>"
      ],
      "text/latex": [
       "$\\displaystyle \\qquad +\\  s_{2} \\otimes s_{4}$"
      ],
      "text/plain": [
       "\\qquad +\\  s[2] \\otimes s[4]"
      ]
     },
     "metadata": {},
     "output_type": "display_data"
    }
   ],
   "source": [
    "E((4,3,1),4).PP()"
   ]
  },
  {
   "cell_type": "code",
   "execution_count": 50,
   "metadata": {},
   "outputs": [],
   "source": [
    "%runfile ../tools/q_analogues.py"
   ]
  },
  {
   "cell_type": "code",
   "execution_count": 51,
   "metadata": {},
   "outputs": [
    {
     "data": {
      "text/html": [
       "<html>\\(\\displaystyle q^{10} s_{5} + \\frac{f_{7} q^{4}}{f_{3} f_{4}} s_{32} + \\frac{f_{4} f_{7} q^{6}}{f_{2} f_{3} f_{6}} s_{41} + \\frac{f_{8} q^{2}}{f_{4}^{2}} s_{221} + \\frac{f_{4} f_{8} q^{3}}{f_{2}^{2} f_{3} f_{6}} s_{311} + \\frac{f_{9} q}{f_{3} f_{6}} s_{2111} + \\frac{f_{10}}{f_{5} f_{6}} s_{11111}\\)</html>"
      ],
      "text/latex": [
       "$\\displaystyle q^{10} s_{5} + \\frac{f_{7} q^{4}}{f_{3} f_{4}} s_{32} + \\frac{f_{4} f_{7} q^{6}}{f_{2} f_{3} f_{6}} s_{41} + \\frac{f_{8} q^{2}}{f_{4}^{2}} s_{221} + \\frac{f_{4} f_{8} q^{3}}{f_{2}^{2} f_{3} f_{6}} s_{311} + \\frac{f_{9} q}{f_{3} f_{6}} s_{2111} + \\frac{f_{10}}{f_{5} f_{6}} s_{11111}$"
      ],
      "text/plain": [
       "q^10*s[5] + f_7*q^4/(f_3*f_4)*s[3, 2] + f_4*f_7*q^6/(f_2*f_3*f_6)*s[4, 1] + f_8*q^2/f_4^2*s[2, 2, 1] + f_4*f_8*q^3/(f_2^2*f_3*f_6)*s[3, 1, 1] + f_9*q/(f_3*f_6)*s[2, 1, 1, 1] + f_10/(f_5*f_6)*s[1, 1, 1, 1, 1]"
      ]
     },
     "execution_count": 51,
     "metadata": {},
     "output_type": "execute_result"
    }
   ],
   "source": [
    "mu=Partition((4,3,2,1))\n",
    "n=mu.length()+1\n",
    "(E(mu,n).Eval(q+1/q)*q^(mu.size())).map_coefficients(to_q_fact)"
   ]
  },
  {
   "cell_type": "code",
   "execution_count": 52,
   "metadata": {},
   "outputs": [
    {
     "data": {
      "text/html": [
       "<html>\\(\\displaystyle s_{11111}\\)</html>"
      ],
      "text/latex": [
       "$\\displaystyle s_{11111}$"
      ],
      "text/plain": [
       "s[1, 1, 1, 1, 1]"
      ]
     },
     "execution_count": 52,
     "metadata": {},
     "output_type": "execute_result"
    }
   ],
   "source": [
    "mu=Partition((4,3,2,1))\n",
    "n=mu.length()+1\n",
    "q_int(6)*((E(mu,n).Eval(q+1/q)*q^(mu.size())))(Z/q_int(6))"
   ]
  },
  {
   "cell_type": "code",
   "execution_count": 53,
   "metadata": {},
   "outputs": [
    {
     "data": {
      "text/html": [
       "<html>\\(\\displaystyle \\frac{1}{6} \\, q_{5}^{2} p_{111} + \\left(-\\frac{q_{10}}{2 \\, q_{2}}\\right) p_{21} + \\frac{q_{15}}{3 \\, q_{3} q_{5}} p_{3}\\)</html>"
      ],
      "text/latex": [
       "$\\displaystyle \\frac{1}{6} \\, q_{5}^{2} p_{111} + \\left(-\\frac{q_{10}}{2 \\, q_{2}}\\right) p_{21} + \\frac{q_{15}}{3 \\, q_{3} q_{5}} p_{3}$"
      ],
      "text/plain": [
       "1/6*q_5^2*p[1, 1, 1] + (-1/2*q_10/q_2)*p[2, 1] + 1/3*q_15/(q_3*q_5)*p[3]"
      ]
     },
     "execution_count": 53,
     "metadata": {},
     "output_type": "execute_result"
    }
   ],
   "source": [
    "mu=delta(5,3)\n",
    "n=mu.length()+1\n",
    "p(E(mu,n).Eval(q+1/q)*q^(mu.size())).map_coefficients(to_qn)"
   ]
  },
  {
   "cell_type": "code",
   "execution_count": 54,
   "metadata": {},
   "outputs": [
    {
     "data": {
      "text/html": [
       "<html>\\(\\displaystyle s_{111}\\)</html>"
      ],
      "text/latex": [
       "$\\displaystyle s_{111}$"
      ],
      "text/plain": [
       "s[1, 1, 1]"
      ]
     },
     "execution_count": 54,
     "metadata": {},
     "output_type": "execute_result"
    }
   ],
   "source": [
    "a=5\n",
    "b=3\n",
    "mu=delta(5,3)\n",
    "n=mu.length()+1\n",
    "q_int(a)*((E(mu,n).Eval(q+1/q)*q^(mu.size())))(Z/q_int(a))"
   ]
  },
  {
   "cell_type": "markdown",
   "metadata": {},
   "source": [
    "# <span style=\"color:blue\"><font size=\"5\">  Concavity Conjecture</span>\n",
    "$\\nabla^{\\boldsymbol{v}(\\mu)}(e_n(\\boldsymbol{z}))$ is $(q,t)$-Schur positive if and only if $\\mu$ is concave."
   ]
  },
  {
   "cell_type": "code",
   "execution_count": 55,
   "metadata": {
    "jupyter": {
     "source_hidden": true
    }
   },
   "outputs": [],
   "source": [
    "def Est_Concave(mu):\n",
    "    nu=vector(mu)+vector(1 for i in range(len(mu)))\n",
    "    return Is_Concave(Partition(nu))\n",
    "\n",
    "def Test_Concave_Conjecture(mu):\n",
    "    return Is_Positive(Formal_Coefficients(Nabla_v(part_to_vect(mu,len(min_concave(mu))),e[len(min_concave(mu))])))"
   ]
  },
  {
   "cell_type": "raw",
   "metadata": {},
   "source": [
    "[tau for tau in Precalculated_F.keys() if not min_concave(tau)==min_concave_F(tau)]    "
   ]
  },
  {
   "cell_type": "raw",
   "metadata": {},
   "source": [
    "[all([Test_Concave_Conjecture(mu)==Is_Concave(mu)\n",
    "       for mu in Partitions(n)]) for n in range(7)]"
   ]
  },
  {
   "cell_type": "raw",
   "metadata": {},
   "source": [
    "[all([Test_Concave_Conjecture(mu)==Is_Concave(mu)\n",
    "       for mu in Partitions(n) if Is_Dominant(mu)]) for n in range(14)]"
   ]
  },
  {
   "cell_type": "markdown",
   "metadata": {},
   "source": [
    "# <span style=\"color:blue\"> <font size=\"5\">    $\\nu$-Tamari Posets &emsp; <img src=\"../Dessins/Tamari84.png\" align=\"top\" width=\"100\" height=\"80\" />\n",
    "</span>\n",
    "\n",
    " These are pure polyhedral complexes"
   ]
  },
  {
   "cell_type": "raw",
   "metadata": {},
   "source": [
    "SpringDrawPoset(Tamari((3,3,1,1)))"
   ]
  },
  {
   "cell_type": "raw",
   "metadata": {},
   "source": [
    "(A((6,4,3,2))(q+2))-Tam_q_Enumer((6,4,3,2))==3*q^6 + 9*q^5 + 15*q^4 + 13*q^3 + 7*q^2 + 6*q"
   ]
  },
  {
   "cell_type": "raw",
   "metadata": {},
   "source": [
    "([tau for tau in Triangles(8) if not e(E(tau).Eval(q+2))==Tamari_q_z(tau,len(tau)+1)]==\n",
    "[[2, 1, 1], [2, 1, 1, 1], [2, 2, 1], [2, 1, 1, 1, 1], [2, 2, 1, 1], [2, 1, 1, 1, 1, 1], [2, 2, 1, 1, 1], \n",
    " [3, 2, 1, 1], [4, 2, 1], [2, 1, 1, 1, 1, 1, 1], [2, 2, 1, 1, 1, 1], [2, 2, 2, 1, 1], [3, 2, 2, 1], [4, 3, 1]])"
   ]
  },
  {
   "cell_type": "raw",
   "metadata": {},
   "source": [
    "([tau for tau in Triangles(8) if e(E(tau).Eval(q+2))==Tamari_q_z(tau,len(tau)+1)]==\n",
    " [[], [1], [1, 1], [2], [1, 1, 1], [2, 1], [3], [1, 1, 1, 1], [3, 1], [4], [1, 1, 1, 1, 1], \n",
    "  [3, 2], [4, 1], [5], [1, 1, 1, 1, 1, 1], [3, 2, 1], [4, 2], [5, 1], [6], [1, 1, 1, 1, 1, 1, 1], \n",
    "  [5, 2], [6, 1], [7], [1, 1, 1, 1, 1, 1, 1, 1], [5, 3], [6, 2], [7, 1], [8]])"
   ]
  },
  {
   "cell_type": "raw",
   "metadata": {},
   "source": [
    "A_2q_dim((6,5,4,3,2,1))==Tam_q_Enumer((6,5,4,3,2,1))"
   ]
  },
  {
   "cell_type": "code",
   "execution_count": 56,
   "metadata": {
    "scrolled": true
   },
   "outputs": [
    {
     "data": {
      "text/html": [
       "<html>\\(\\displaystyle q e_{31} + \\left(-q\\right) e_{22}\\)</html>"
      ],
      "text/latex": [
       "$\\displaystyle q e_{31} + \\left(-q\\right) e_{22}$"
      ],
      "text/plain": [
       "q*e[3, 1] + (-q)*e[2, 2]"
      ]
     },
     "execution_count": 56,
     "metadata": {},
     "output_type": "execute_result"
    }
   ],
   "source": [
    "e(E((2,1,1),4).Eval(q+2))-Tamari_q_z((2,1,1),4)"
   ]
  },
  {
   "cell_type": "markdown",
   "metadata": {},
   "source": [
    "# <span style=\"color:blue\"><font size=\"5\">  Properties </span>\n",
    "For $\\mu=(\\mu_1,\\ldots,\\mu_\\ell,\\underbrace{0,\\ldots,0}_{n-\\ell})$, we consider formal expressions\n",
    "$\\displaystyle \\mathcal{E}_{\\mu}:=\\sum_{\\mu\\vdash n} \\left(\\sum_\\lambda c_\\lambda^\\mu s_\\lambda\\right) \\otimes s_\\mu$ that are such that\n",
    "1. (support) For $\\tau$ triangular, $\\langle s_\\lambda\\otimes s_{\\mu}, \\mathcal{E}_\\tau\\rangle \\not= 0$  forces $$\\sum_i \\binom{\\mu_i}{2} + \\sum_k k\\,\\lambda_k \\leq |\\tau|,$$ and this is sharp. In other words, we have $c_\\lambda^\\mu\\neq 0$  only if  $\\omega(\\lambda)\\leq|\\tau|-\\eta(\\mu)$ where $\\eta(\\mu):=\\textstyle{\\sum_i \\binom{\\mu_i}{2}}$, and $\\deg(\\textstyle{\\sum_\\lambda c_\\lambda^\\mu s_\\lambda})=|\\tau|-\\eta(\\mu)$;\n",
    "2. (hooks in alternants) For $\\tau$ triangular, writing $\\mathcal{A}_\\tau$ for $\\langle \\mathcal{E}_\\tau, e_n(\\boldsymbol{z})\\rangle$, setting $k:=\\min(\\ell(\\tau),\\ell(\\tau'))$, we have $$\\frac{1}{u+w}\\mathcal{A}_\\tau[u-\\varepsilon w]=u^{|\\tau|-\\binom{k+1}{2}}(u^2+w)\\cdots (u^{k}+w)\n",
    ";$$\n",
    "3. For $\\tau$ triangular and dominant, $$e_n^\\perp \\mathcal{E}_\\tau = \\mathcal{E}_{\\tau-(n,\\ldots,2,1)};$$\n",
    "4. (hook components via skew) For all $a+\\ell=n-1$ we have $$e_a^\\perp \\mathcal{A}_\\mu =\\langle \\mathcal{E}_\\mu, s_{(a\\,|\\,\\ell)}\\rangle;$$\n",
    "5. If $\\boldsymbol{v}$ is the *part-difference vector* of $\\mu$, then $$\\mathcal{E}_{\\mu}(q+t;\\boldsymbol z)=\\nabla_{\\boldsymbol{v}}(e_n(\\boldsymbol{z}));$$\n",
    "6. (Boson Fermion) For any $n$, we have $$ \\mathcal{E}_\\delta(q+t-\\varepsilon(u+v);\\boldsymbol{z})=\\sum_{k=0}^{n-1} \\Theta_{e_k[(\\vert{u+v})\\boldsymbol{z}]}(\\nabla(e_k^\\perp e_{n})) $$\n",
    "where, the operator $\\Theta_g f$ is defined as\n",
    "     $$\\Theta_g  := \\Pi\\, g^*\\,\\Pi^{-1},\\qquad\n",
    "        {\\rm with}\\qquad g^*(\\boldsymbol{z}):=g[\\boldsymbol{z}/(1-t)(1-q)] ,$$\n",
    "and $\\Pi$ stands for the Macdonald eigenoperator having eigenvalues  $\\prod_{(i,j)\\in\\mu/(1)} (1 - q^it^j)$. \n",
    "7. (skew and delta) For $\\tau$ triangular and dominant, and all $0\\leq k<n$, we have $$\\Delta_{e_{n-1-k}}  \\mathcal{E}^{(n)}_\\tau(q+t;\\boldsymbol{z}) = \\nabla( (e_k^\\perp \\mathcal{E}^{(n)}_\\tau)(q+t;\\boldsymbol{z}));$$ \n",
    "8. For all $\\mu$, we have $$\\mathcal{E}_\\mu(q+1;\\boldsymbol{z})=\\mathcal{P}_{\\mu}(q,\\boldsymbol{z});$$\n",
    "9. Padding them with 0's, to make both $\\mu$ and $\\mu'$ of same length, we have that $\\mathcal{E}_{\\mu'}-\\mathcal{E}_\\mu$ is (Schur$\\,\\otimes$ Schur)-positive.\n",
    "10. For all $\\ell$, we have the relation (implied by 4) $$\\big({\\sum_{k} (-1)^{k+\\ell} {\\textstyle \\binom{k}{\\ell}}} e_k\\big)^\\perp \\mathcal{A}_\\tau = \n",
    "\\big\\langle \\mathcal{E}^{(n)}_\\tau,\\sum_{\\ell(\\nu)=\\ell+1} f_{\\nu} \\big\\rangle .$$\n",
    "Indeed, observe that $\\sum_{\\ell(\\nu)=\\ell+1} f_{\\nu}$ is a linear combination of hook-indexed Schur, namely: $$\\sum_{\\ell(\\nu)=\\ell+1} f_{\\nu} = \\sum_{k} (-1)^{k+\\ell}  {\\textstyle \\binom{k}{\\ell}} s_{(k\\,|\\, n-k-1)}.$$ We also have $e_n=\\sum_{\\nu\\vdash n} f_\\nu$, hence "
   ]
  },
  {
   "cell_type": "code",
   "execution_count": 57,
   "metadata": {
    "scrolled": true
   },
   "outputs": [],
   "source": [
    "def OK_Support(tau,n=None):\n",
    "    if n==None:\n",
    "        n=len(tau)+1\n",
    "    return all([max([0]+[w(nu) for nu,c in E(tau,n).scalar(s(mu))])<=add(tau)+1-mu[0]  for mu in Partitions(n)])\n",
    "\n",
    "def OK_skew_Delta(tau,n):\n",
    "    return all([Delta(e[n-1-k],E(tau,n).Eval(q+t))==E(tau,n).skew_by(e[k]).Eval(q+t).nabla()\n",
    "     for k in range(n)])\n",
    "\n",
    "def OK_skew_hook(tau,n):\n",
    "    return all([A(tau).skew_by(e[k])==E(tau,n).scalar(s(hook(n,n-k-1)))\n",
    "     for k in range(n)])\n",
    "\n",
    "def OK_hook_alt(tau):\n",
    "    tau=Partition(tau)\n",
    "    k=len(tau)+1\n",
    "    return (A(tau)(u-v).substitute({v:-v})/(u+v)==u^(tau.size()-binomial(k,2))*mul(u^j+v for j in range(2,k)))\n",
    "\n",
    "def OK_scalar_f(tau):\n",
    "    n=len(tau)+1\n",
    "    return  all([(A(tau).skew_by(add((-1)^(k+l)*binomial(k,l)*e[k] for k in range(n)))\n",
    "                  ==E(tau,n).scalar(add(f(nu) for nu in Partitions(n) if len(nu)==l+1))) for l in range(n)])\n",
    "\n",
    "def OK_Schur_Schur(tau):\n",
    "    tau=Partition(tau)\n",
    "    if not Is_Dominant(tau):\n",
    "        return OK_Schur_Schur(tau.conjugate())\n",
    "    n=2*max(len(tau),len(tau.conjugate()))\n",
    "    return Is_Positive(E_via_F(tau.conjugate(),n)-E_via_F(tau,n))\n",
    "\n",
    "def OK_deg_mu(tau):\n",
    "    return all([w(mu)<=deg_mu(tau,nu) for (mu,nu),c in E(tau,len(min_concave(tau)))])\n",
    "\n",
    "def OK_Boson_Fermion(n):\n",
    "    return BosFer(delta(n,n))==Psi(e[n])\n",
    "\n",
    "def OK_skew_A_f(tau,n):\n",
    "    return all([(A(tau).skew_by(add((-1)^(k+l)*binomial(k,l)*e[k] for k in range(n))) ==\n",
    "                 E(tau,n).scalar(add(f(nu) for nu in Partitions(n,length=l+1)))) for l in range(n)])"
   ]
  },
  {
   "cell_type": "markdown",
   "metadata": {},
   "source": [
    "### All tests"
   ]
  },
  {
   "cell_type": "raw",
   "metadata": {},
   "source": [
    "[all([OK_Support(mu)==Is_Triangular(mu) for mu in Partitions(n) if Is_Dominant(mu) and Is_Triangular(mu)]) \n",
    " for n in range(10)]"
   ]
  },
  {
   "cell_type": "raw",
   "metadata": {},
   "source": [
    "for tau in E_Dominant_Dict.keys():\n",
    "        if ((not tau.Moins(delta(tau.length()+1,tau.length()+2))==None) and\n",
    "            (not E(tau).skew_by(e[tau.length()])==E(tau.Moins(delta(tau.length()+1,tau.length()+2)),tau.length()+1))):\n",
    "            show(tau)"
   ]
  },
  {
   "cell_type": "raw",
   "metadata": {},
   "source": [
    "for tau in E_Dominant_Dict.keys():\n",
    "    if not OK_skew_Delta(tau,len(tau)+1):\n",
    "        show(tau)"
   ]
  },
  {
   "cell_type": "raw",
   "metadata": {},
   "source": [
    "for tau in E_Dominant_Dict.keys():\n",
    "    if not OK_skew_hook(tau,len(tau)+1):\n",
    "        show(tau)"
   ]
  },
  {
   "cell_type": "raw",
   "metadata": {},
   "source": [
    "for tau in E_Dominant_Dict.keys():\n",
    "    if not OK_hook_alt(tau):\n",
    "        show(tau)"
   ]
  },
  {
   "cell_type": "raw",
   "metadata": {},
   "source": [
    "for tau in E_Dominant_Dict.keys():\n",
    "    if not OK_scalar_f(tau):\n",
    "        show(tau)"
   ]
  },
  {
   "cell_type": "raw",
   "metadata": {},
   "source": [
    "for tau in Precalculated_F.keys():\n",
    "    if not OK_Schur_Schur(tau):\n",
    "        show(tau)"
   ]
  },
  {
   "cell_type": "raw",
   "metadata": {},
   "source": [
    "for tau in E_Dominant_Dict.keys():\n",
    "    if not OK_deg_mu(tau):\n",
    "        show(tau)"
   ]
  },
  {
   "cell_type": "raw",
   "metadata": {},
   "source": [
    "for tau in Precalculated_F.keys():\n",
    "    if not OK_deg_mu(tau):\n",
    "        show(tau)"
   ]
  },
  {
   "cell_type": "raw",
   "metadata": {},
   "source": [
    "all([OK_Boson_Fermion(n) for n in range(8)])"
   ]
  },
  {
   "cell_type": "raw",
   "metadata": {},
   "source": [
    "for tau in E_Dominant_Dict.keys() or Precalculated_F.keys():\n",
    "    if not OK_skew_A_f(tau,len(tau)+1):\n",
    "        show(tau)"
   ]
  },
  {
   "cell_type": "raw",
   "metadata": {},
   "source": [
    "n=6\n",
    "table([(l+1,s(add(f(nu) for nu in Partitions(n,length=l+1)))\n",
    "        ==add((-1)^(k+l)*binomial(k,l)*s(hook(n,n-k-1)) for k in range(6))) \n",
    "       for l in range(6)])"
   ]
  },
  {
   "cell_type": "markdown",
   "metadata": {
    "jp-MarkdownHeadingCollapsed": true
   },
   "source": [
    "#  <span style=\"color:blue\">  <font size=\"5\">  Filtered Harmonic Modules for $\\mathcal{E}_\\tau$  </span>\n",
    "    \n",
    "For a triangular partition $\\tau=0^{d_0}1^{d_1}2^{d_2}\\cdots a^{d_a}\\cdots k^{d_k}$, with $n=\\sum_i d_i$, set \n",
    "$$\\mathbb{V}_\\tau:=\\det \\Big(\\frac{x_i^a}{a!} \\frac{\\theta_i^j}{j!} \\Big)_{{1\\leq i\\leq n} \\atop (0\\leq j\\leq d_a)_{a}},$$\n",
    "where the $\\theta_i$'s are inert variables. We consider the smallest module, $\\mathcal{M}_\\tau$ containing $\\mathbb{V}_\\tau$ which is closed under derivation and polarization operators indexed by partitions that fit inside $\\tau$. Here the $x_i=x_{1i}$ lie in the \"first\" set of variables $\\boldsymbol{x}_1 = (x_{11},\\ldots,x_{1n})$.\n",
    "These are of the operators of form $E_{(\\alpha,\\boldsymbol{v})} = E_{(\\alpha_1,v_1)}E_{(\\alpha_2,v_2)} \\cdots E_{(\\alpha_k,v_k)}$, with $\\alpha\\subseteq \\tau$. The components of $\\boldsymbol{v}$ are pairs $(k,\\ell)$ of distinct indices of variable sets $\\boldsymbol{x}_k = (x_{k1},\\ldots,x_{kn})$ and $\\boldsymbol{x}_\\ell=(x_{\\ell 1},\\dots, x_{\\ell n})$, and $$E_{(a,(k,\\ell))} := \\sum_{i=1}^n x_{ki} \\partial x_{\\ell i}^a.$$\n",
    "Recall that the closure under operators of this form, with all $a_i=1$, gives a $\\mathrm{GL}_\\infty$ representation. Hence the associated character is Schur positive (in the $\\boldsymbol{q}$-variables). \n",
    "    \n",
    "The conjecture is that $\\mathcal{E}_\\tau(\\boldsymbol{q},\\boldsymbol{z})$ appears as the $(\\mathrm{GL}_\\infty\\times S_n)$-Frobenius character of the \"top part\" of  $\\mathcal{M}_\\tau$. More precisely, we have $$\\mathcal{M}_\\tau^{(n)}(\\boldsymbol{q};\\boldsymbol{z}) -\\mathcal{D}^{*}\\mathcal{M}_\\tau^{(n)}(\\boldsymbol{q};\\boldsymbol{z})=\\mathcal{E}_\\tau^{(n)}(\\boldsymbol{q};\\boldsymbol{z})$$"
   ]
  },
  {
   "cell_type": "code",
   "execution_count": null,
   "metadata": {
    "jupyter": {
     "source_hidden": true
    }
   },
   "outputs": [],
   "source": [
    "from sage.rings.polynomial.flatten import FlatteningMorphism\n",
    "\n",
    "def Base(L):\n",
    "    if L.is_empty():\n",
    "        return L\n",
    "    else:\n",
    "        C,m=Sequence(L).coefficient_matrix()\n",
    "        return Set(((C.row_space().basis_matrix())*m).list())\n",
    "\n",
    "def irred_idemp(nu):\n",
    "    nu=Partition(nu)\n",
    "    n=nu.size()\n",
    "    Sn=SymmetricGroup(n)\n",
    "    QSn=SymmetricGroupAlgebra(Rqtuv, n)\n",
    "    return 1/factorial(n)*add(s(nu).scalar(p(sigma.cycle_type()))*QSn(sigma) for sigma in Sn.list())\n",
    "\n",
    "def Orbit(pol,n):\n",
    "    return Set([action(sigma,pol,n) for sigma in Sn.list()])\n",
    "\n",
    "def Projection(L,nu):\n",
    "    nu=Partition(nu)\n",
    "    n=nu.size()\n",
    "    return Base(Set([Diagact(irred_idemp(nu),pol,n) for pol in L]))\n",
    "\n",
    "def action(sigma,pol,n):\n",
    "    Sn=SymmetricGroup(n)\n",
    "    QSn=SymmetricGroupAlgebra(Rqtuv, n)\n",
    "    return pol.substitute({X[j][i]:X[j][sigma(i+1)-1]\n",
    "                           for j in range(n) \n",
    "                           for i in range(n)}|{T[i]:T[sigma(i+1)-1]\n",
    "                                               for i in range(n)})\n",
    "\n",
    "def Diagact(id_mu,pol,n):\n",
    "    Sn=SymmetricGroup(n)\n",
    "    QSn=SymmetricGroupAlgebra(Rqtuv, n)\n",
    "    return add(Rv(c)*action(sigma,pol,n) for sigma,c in id_mu)\n",
    "\n",
    "@cached_function\n",
    "def X_component_Diag(Diag,k):\n",
    "    n=len(Diag)\n",
    "    d=add(a for (a,b) in Diag)\n",
    "    if k>d:\n",
    "        return Set([])\n",
    "    elif k==d:\n",
    "        return Set([Delta_Diag(Diag)])\n",
    "    else:\n",
    "        return Base(Set([pol.derivative(X[0][i]) \n",
    "                             for i in range(n) \n",
    "                             for pol in X_component_Diag(Diag,k+1)]))\n",
    "\n",
    "def Diag_tau(tau,n):\n",
    "    L=[(k,list(tau).count(k)) for k in sorted(Set(tau),reverse=True)]+[(0,n-len(tau))]\n",
    "    return tuple([(a,j) for (a,b) in L for j in range(b)])\n",
    "\n",
    "def Delta_Diag(Diag):\n",
    "    n=len(Diag)\n",
    "    return Rv(det(matrix([[X[0][i]**a/factorial(a)*T[i]**b/factorial(b) \n",
    "                            for (a,b) in Diag] for i in range(n)])))\n",
    "\n",
    "def Delta_tau(tau,n):\n",
    "    return Delta_Diag(Diag_tau(tau,n))\n",
    "\n",
    "@cached_function\n",
    "def X_component(tau,k):\n",
    "    return X_component_Diag(Diag_tau(tau,n),k)\n",
    "\n",
    "@cached_function\n",
    "def Frobenius(L,n):\n",
    "    if L.is_empty():\n",
    "        return 0\n",
    "    else:\n",
    "        return add(Projection(L,nu).cardinality()/(s(nu).scalar(p[1]^n))*s(nu) for nu in Partitions(n))\n",
    "\n",
    "@cached_function\n",
    "def Frob_Alt(L,n):\n",
    "    if L.is_empty():\n",
    "        return 0\n",
    "    else:\n",
    "        nu=Partition([n]).conjugate()\n",
    "        return Projection(L,nu).cardinality()/(s(nu).scalar(p[1]^n))\n",
    "\n",
    "\n",
    "@cached_function\n",
    "def Irred_X_component(tau,mu,k):\n",
    "    V=X_component(tau,k)\n",
    "    return Projection(V,mu)\n",
    "\n",
    "@cached_function\n",
    "def Irred_X_component_Diag(Diag,mu,k):\n",
    "    V=X_component_Diag(Diag,k)\n",
    "    return Projection(V,mu)\n",
    "\n",
    "\n",
    "@cached_function\n",
    "def MX_module(tau,n):\n",
    "    return add(q^k*Frobenius(Irred_X_component(tau,mu,k),n) \n",
    "               for mu in Partitions(n) \n",
    "               for k in range(add(tau)+1))\n",
    "\n",
    "@cached_function\n",
    "def MX_module_Diag(Diag):\n",
    "    n=len(Diag)\n",
    "    d=add(a for (a,b) in Diag)\n",
    "    return add(q^k*Frobenius(Irred_X_component_Diag(Diag,mu,k),n) \n",
    "               for mu in Partitions(n) \n",
    "               for k in range(d+1))\n",
    "\n",
    "n=10\n",
    "Qtheta=PolynomialRing(QQ,n,var_array=['theta'])\n",
    "Rtheta=FractionField(Qtheta)\n",
    "Rxyz=PolynomialRing(Qtheta,n,n,var_array=['x'])\n",
    "Rxyz.inject_variables(verbose=False)\n",
    "X=Family({i:Rxyz.gens()[n*i:n*(i+1)] for i in range(n)})\n",
    "Phi=FlatteningMorphism(Rxyz)\n",
    "Rv=Phi(X[0][1]).parent()\n",
    "Rv.inject_variables(verbose=False)\n",
    "X=Family({i:Rv.gens()[n*(i+1):n*(i+2)] for i in range(n)})\n",
    "T=Rv.gens()[:n]\n",
    "\n",
    "Sn=SymmetricGroup(n)\n",
    "QSn=SymmetricGroupAlgebra(Rqtuv, n)\n",
    "\n",
    "def DD(g,j=1,U=X[0]):\n",
    "    n=len(X[0])\n",
    "    if j==0:\n",
    "        return g\n",
    "    else:\n",
    "        return Rv(add(g.derivative(U[i],j) for i in range(n)))\n",
    "\n",
    "@cached_function\n",
    "def DDX_module_Diag(Diag):\n",
    "    n=len(Diag)\n",
    "    d=add(a for (a,b) in Diag)\n",
    "    l=max(a for (a,b) in Diag)\n",
    "    return add(q^k*Frobenius(Base(Set([DD(pol,j=i) \n",
    "                                       for i in range(1,l+1) \n",
    "                                       for pol in Irred_X_component_Diag(Diag,mu,k+i)])),n) \n",
    "               for mu in Partitions(n)\n",
    "               for k in range(d+1))\n",
    "    \n",
    "@cached_function\n",
    "def DDX_module(tau,n):\n",
    "    return add(q^k*Frobenius(Base(Set([DD(pol,j=i) \n",
    "                                       for i in range(1,max(tau)+1) \n",
    "                                       for pol in Irred_X_component(tau,mu,k+i)])),n) \n",
    "               for mu in Partitions(n)\n",
    "               for k in range(add(tau)+1))"
   ]
  },
  {
   "cell_type": "markdown",
   "metadata": {
    "jp-MarkdownHeadingCollapsed": true
   },
   "source": [
    "### Développement en terme de Flip"
   ]
  },
  {
   "cell_type": "code",
   "execution_count": null,
   "metadata": {
    "jupyter": {
     "source_hidden": true
    }
   },
   "outputs": [],
   "source": [
    "@cached_function\n",
    "def Trivial_X_component_Diag(Diag):\n",
    "    d=add(a for (a,b) in Diag)\n",
    "    n=len(Diag)\n",
    "    return Set([pol for k in range(d+1) for pol in Irred_X_component_Diag(Diag,Partition([n]),k)]) \n",
    "\n",
    "@cached_function\n",
    "def Alt_X_component_Diag(Diag):\n",
    "    d=add(a for (a,b) in Diag)\n",
    "    n=len(Diag)\n",
    "    return Set([pol for k in range(d+1) for pol in Irred_X_component_Diag(Diag,Partition([n]).conjugate(),k)]) \n",
    "\n",
    "def Delivative(Del,pol):\n",
    "    return add(c[0]*DerMon(c[1],pol) for c in Del).numerator()\n",
    "\n",
    "def DerMon(mon,pol):\n",
    "    rep=pol\n",
    "    for v in mon.variables():\n",
    "        if not v in T:\n",
    "            rep=rep.derivative(v,mon.degree(v))\n",
    "    return rep\n",
    "\n",
    "def Flip(Diag1,Diag2):\n",
    "    return Delivative(Delta_Diag(Diag1),Delta_Diag(Diag2))\n",
    "\n",
    "def ListFlip(DDD,Diag):\n",
    "    return Base(Set([Flip(DD,Diag) for DD in DDD]))"
   ]
  },
  {
   "cell_type": "raw",
   "metadata": {},
   "source": [
    "Diag2=((3,0),(2,1),(0,3))\n",
    "ListFlip([((2,0),(1,0),(0,0)),\n",
    "          ((3,0),(1,0),(0,0)),\n",
    "          ((3,0),(2,0),(0,0))],Diag2)==Trivial_X_component_Diag(Diag2)"
   ]
  },
  {
   "cell_type": "raw",
   "metadata": {
    "scrolled": true
   },
   "source": [
    "Diag2=((4,0),(2,1),(1,2),(0,3))\n",
    "ListFlip([((3,0),(2,0),(1,0),(0,0)),\n",
    "          ((4,0),(2,0),(1,0),(0,0))],Diag2)==Trivial_X_component_Diag(Diag2)"
   ]
  },
  {
   "cell_type": "code",
   "execution_count": null,
   "metadata": {
    "jupyter": {
     "source_hidden": true
    }
   },
   "outputs": [],
   "source": [
    "@add_method(Diagram([(0,0)]).__class__)\n",
    "def diagram(self,col='green'):\n",
    "    pp=plot(grid(self.number_of_cols(),self.number_of_rows())\n",
    "             +add(carre((c[1]+1,c[0]+1),col=col) for c in self.cells()))\n",
    "    pp.axes(show=False)\n",
    "    return pp\n",
    "\n",
    "@add_method(Diagram([(0,0)]).__class__)\n",
    "def conjugate(self):\n",
    "    return Diagram([(c[1],c[0]) for c in self.cells()])\n",
    "\n",
    "def DiagLatex(Diag):\n",
    "    pp=Diagram(Diag).diagram()\n",
    "    return pp.show(figsize=2)\n",
    "\n",
    "Diagram._latex_= DiagLatex\n",
    "\n"
   ]
  },
  {
   "cell_type": "markdown",
   "metadata": {
    "jp-MarkdownHeadingCollapsed": true
   },
   "source": [
    "### Action et antisymétriseurs"
   ]
  },
  {
   "cell_type": "code",
   "execution_count": null,
   "metadata": {
    "jupyter": {
     "source_hidden": true
    }
   },
   "outputs": [],
   "source": [
    "def Support(pol):\n",
    "    V=pol.variables()\n",
    "    return tuple([i for i in range(n) if X[0][i] in V or T[i] in V])\n",
    "    \n",
    "def Action(sigma,pol,A):\n",
    "    return pol.substitute({X[0][i]:X[0][sigma(i)]\n",
    "                           for i in A}|{T[i]:T[sigma(i)] for i in A})\n",
    "def Antisymmetrizer(pol,A=None):\n",
    "    if A==None:\n",
    "        A=Set(Support(pol))\n",
    "    SA=SymmetricGroup(A)\n",
    "    n=A.cardinality()\n",
    "    return 1/factorial(n)*add(sigma.sign()*Action(sigma,pol,A) for sigma in SA)\n",
    "\n",
    "def Symmetrizer(pol,A=None):\n",
    "    if A==None:\n",
    "        A=Set(Support(pol))\n",
    "    SA=SymmetricGroup(A)\n",
    "    n=A.cardinality()\n",
    "    return 1/factorial(n)*add(Action(sigma,pol,A) for sigma in SA)\n",
    "\n",
    "def Is_Antisymmetric(pol):\n",
    "    return pol==Antisymmetrizer(pol)\n",
    "\n",
    "def Is_Symmetric(pol):\n",
    "    return pol==Symmetrizer(pol)\n"
   ]
  },
  {
   "cell_type": "markdown",
   "metadata": {
    "jp-MarkdownHeadingCollapsed": true
   },
   "source": [
    "### Codage des alternants par des monômes (diagrammes)"
   ]
  },
  {
   "cell_type": "code",
   "execution_count": null,
   "metadata": {
    "jupyter": {
     "source_hidden": true
    }
   },
   "outputs": [],
   "source": [
    "def Pol_to_Diags(pol):\n",
    "    return Set([tuple(sorted([(mon.degree(X[0][i]),mon.degree(T[i])) for i in Support(pol)])) for (c,mon) in pol])\n",
    "\n",
    "def Diag_to_Mon(DD):\n",
    "    return mul(X[0][i]^DD[i][0] * T[i]^DD[i][1] for i in range(len(DD)))\n",
    "    \n",
    "def Alt_Monomial_Encoding(pol):\n",
    "    pol=Rv(pol.numerator())\n",
    "    if Is_Antisymmetric(pol):\n",
    "        Diags=Pol_to_Diags(pol)\n",
    "        return add(c*mon for (c,mon) in pol if mon in Set([Diag_to_Mon(DD) for DD in Diags]))\n",
    "    else:\n",
    "        return 0\n",
    "        \n",
    "\n",
    "def Sym_Monomial_Encoding(pol):\n",
    "    pol=Rv(pol.numerator())\n",
    "    if Is_Symmetric(pol):\n",
    "        Diags=Pol_to_Diags(pol)\n",
    "        return add(c*mon for (c,mon) in pol if mon in Set([Diag_to_Mon(DD) for DD in Diags]))\n",
    "    else:\n",
    "        return 0"
   ]
  },
  {
   "cell_type": "code",
   "execution_count": null,
   "metadata": {},
   "outputs": [],
   "source": [
    "Diag2=((4,0),(2,1),(1,2),(0,3))\n",
    "for pol in Trivial_X_component_Diag(Diag2):\n",
    "    show(Sym_Monomial_Encoding(pol))"
   ]
  },
  {
   "cell_type": "code",
   "execution_count": null,
   "metadata": {},
   "outputs": [],
   "source": [
    "Alt_Monomial_Encoding(Delta_Diag(Diag2))/Diag_to_Mon(sorted(((3,0),(2,0),(1,0),(0,0))))"
   ]
  },
  {
   "cell_type": "code",
   "execution_count": null,
   "metadata": {
    "scrolled": true
   },
   "outputs": [],
   "source": [
    "Diag2=((4,0),(2,1),(1,2),(0,3))\n",
    "ListFlip([sorted(((3,0),(2,0),(1,0),(0,0))),\n",
    "          sorted(((4,0),(2,0),(1,0),(0,0)))],Diag2)==Trivial_X_component_Diag(Diag2)"
   ]
  },
  {
   "cell_type": "code",
   "execution_count": null,
   "metadata": {},
   "outputs": [],
   "source": [
    "Diag_to_Mon(sorted(((3,0),(2,0),(1,0),(0,0))))"
   ]
  },
  {
   "cell_type": "markdown",
   "metadata": {},
   "source": [
    "# <span style=\"color:blue\">  <font size=\"5\">  Polarization closure  </span>"
   ]
  },
  {
   "cell_type": "code",
   "execution_count": null,
   "metadata": {
    "jupyter": {
     "source_hidden": true
    }
   },
   "outputs": [],
   "source": [
    "def Pol(k,g,a,b,n):\n",
    "    if k==0:\n",
    "        return g\n",
    "    else:\n",
    "        return add(X[a][i]*g.derivative(X[b][i],k) for i in range(n))\n",
    "\n",
    "def ei(i,n):\n",
    "    return vector([0 for k in range(i)]+[1]+[0 for k in range(n-i-1)])\n",
    "\n",
    "def min_non_nul(v):\n",
    "    v=vector(v)\n",
    "    return min([v.length()-1]+[i-1 for i in range(v.length()) if max(v[i:])==0])"
   ]
  },
  {
   "cell_type": "code",
   "execution_count": null,
   "metadata": {
    "jupyter": {
     "source_hidden": true
    }
   },
   "outputs": [],
   "source": [
    "@cached_function\n",
    "def GradedFrobenius(tau,n):\n",
    "    V=(q,t,u,v)   \n",
    "    return add(mul(V[i]^deg[i] for i in range(len(deg)))*Frobenius(Polarized_Closure(tau,deg),n) \n",
    "               for deg in AllDeg(add(tau),len(tau)))\n",
    "\n",
    "def AllDeg(d,l):\n",
    "    if l==1:\n",
    "        return [vector([i]) for i in range(d+1)]\n",
    "    else:\n",
    "        return [vector([i]+v.list()) for v in AllDeg(d,l-1) for i in range(d-add(v)+1)]\n",
    "    \n",
    "@cached_function\n",
    "def GradedAlt(tau,n):\n",
    "    return InSchur(GradedFrobenius(tau,n).scalar(e[n]))"
   ]
  },
  {
   "cell_type": "raw",
   "metadata": {},
   "source": [
    "@cached_function\n",
    "def X_component(tau,k,a=0):\n",
    "    dtau=add(tau)\n",
    "    l=len(tau)-1\n",
    "    if k>dtau:\n",
    "        return Set([])\n",
    "    elif k==dtau:\n",
    "        return Set([Delta_tau(tau,n)])\n",
    "    elif not a==0:\n",
    "        return Exchange(0,a,X_component(tau,k,a=0))\n",
    "    else:\n",
    "        return Base(Set([pol.derivative(X[a][i]) \n",
    "                             for i in range(n) \n",
    "                             for pol in X_component(tau,k+1)]))\n",
    "\n",
    "def Exchange(a,b,B):\n",
    "    n=len(X[a])\n",
    "    return Set([pol.substitute({X[a][i]:X[b][i] for i in range(n)}) for pol in B])"
   ]
  },
  {
   "cell_type": "raw",
   "metadata": {},
   "source": [
    "@cached_function\n",
    "def Polarized_Closure_mu(tau,mu,deg):\n",
    "    deg=vector(deg)\n",
    "    dtau=add(tau)\n",
    "    l=len(deg)\n",
    "    if min(deg)<0 or max(deg)>dtau:\n",
    "        return Set([])\n",
    "    elif min_non_nul(deg)<=0:\n",
    "        return Irred_X_component(tau,mu,deg[0])\n",
    "    else:\n",
    "        a=min_non_nul(deg)\n",
    "        v=deg-ei(a,l)\n",
    "        return Base(Set([g\n",
    "                         for b in range(a) for k in range(1,max(tau)+1)\n",
    "                         for pol in Polarized_Closure_mu(tau,mu,v+k*ei(b,l))\n",
    "                         for g in Orbit(Pol(k,pol,a,b,n),n)]))"
   ]
  },
  {
   "cell_type": "code",
   "execution_count": null,
   "metadata": {
    "jupyter": {
     "source_hidden": true
    }
   },
   "outputs": [],
   "source": [
    "@cached_function\n",
    "def GradedFrobenius(tau,n):\n",
    "    V=(q,t,u,v)   \n",
    "    return add(mul(V[i]^deg[i] for i in range(len(deg)))*Frobenius(Polarized_Closure_mu(tau,mu,deg),n) \n",
    "               for mu in Partitions(n)\n",
    "               for deg in AllDeg(add(tau),len(tau)))"
   ]
  },
  {
   "cell_type": "code",
   "execution_count": null,
   "metadata": {
    "jupyter": {
     "source_hidden": true
    }
   },
   "outputs": [],
   "source": [
    "@cached_function\n",
    "def Polarized_Closure_mu(tau,mu,deg):\n",
    "    deg=vector(deg)\n",
    "    dtau=add(tau)\n",
    "    l=len(deg)\n",
    "    if min(deg)<0 or max(deg)>dtau:\n",
    "        return Set([])\n",
    "    elif min_non_nul(deg)<=0:\n",
    "        return Irred_X_component(tau,mu,deg[0])\n",
    "    else:\n",
    "        a=min_non_nul(deg)\n",
    "        v=deg-ei(a,l)\n",
    "        return Base(Set([Pol(k,pol,a,b,n)\n",
    "                         for b in range(a) for k in range(1,max(tau)+1)\n",
    "                         for pol in Polarized_Closure_mu(tau,mu,v+k*ei(b,l))])\n",
    "                   )\n",
    "\n"
   ]
  },
  {
   "cell_type": "code",
   "execution_count": null,
   "metadata": {
    "jupyter": {
     "source_hidden": true
    }
   },
   "outputs": [],
   "source": [
    "@cached_function\n",
    "def Polarized_Closure_mu(tau,mu,deg):\n",
    "    deg=vector(deg)\n",
    "    dtau=add(tau)\n",
    "    l=len(deg)\n",
    "    if min(deg)<0 or max(deg)>dtau:\n",
    "        return Set([])\n",
    "    elif min_non_nul(deg)<=0:\n",
    "        return Irred_X_component(tau,mu,deg[0])\n",
    "    else:\n",
    "        a=min_non_nul(deg)\n",
    "        v=deg-ei(a,l)\n",
    "        return Base(Set([Pol(k,pol,a,b,n)\n",
    "                         for b in range(a) for k in range(1,max(tau)+1)\n",
    "                         for pol in Polarized_Closure_mu(tau,mu,v+k*ei(b,l))]))\n"
   ]
  },
  {
   "cell_type": "code",
   "execution_count": null,
   "metadata": {},
   "outputs": [],
   "source": [
    "SR(mul(1/(1-q^i*t) for i in range(2,5))).series(q,8)"
   ]
  },
  {
   "cell_type": "markdown",
   "metadata": {
    "jp-MarkdownHeadingCollapsed": true
   },
   "source": [
    "#  <span style=\"color:blue\">  <font size=\"5\">  Hook-Hook Components  </span>\n",
    "For $\\delta=(n,\\ldots,2,1,0)$, we have the formula: $$\\frac{1}{u+v}\\mathcal{E}_\\delta(q-\\varepsilon t;u-\\varepsilon v)=\\sum_{a+\\ell=n} (t;q)_\\ell\\, \\textstyle{\\binom{n}{\\ell}_q}\\, u^av^\\ell,$$ where $(t;q)_\\ell:=\\textstyle{\\prod_{i=1}^\\ell q^i+t}$. Recall that $$\\frac{1}{u+v}s_\\mu(u-\\varepsilon v) =\\begin{cases} u^av^\\ell, & \\textrm{if}\\ \\mu=(a\\,|\\,\\ell),\\\\ 0,&\\textrm{otherwise}.\\end{cases}$$\n",
    "\n",
    " \n",
    "\n",
    "Furthermore, for $k>1$, we have $$\\frac{1}{u+v}\\mathcal{E}_{k\\delta}(q-\\varepsilon t;u-\\varepsilon v) = q^{(k-1)\\binom{n+1}{2}}(t;q)_n (u/v;q)_n v^n.$$ "
   ]
  },
  {
   "cell_type": "code",
   "execution_count": null,
   "metadata": {
    "jupyter": {
     "source_hidden": true
    }
   },
   "outputs": [],
   "source": [
    "@cached_function\n",
    "def HookHook(tau,n=None):\n",
    "    if n==None:\n",
    "        n=len(tau)+1\n",
    "    return Factor(1/(u+v)*(E(tau,n).Eval(q-t))(u-v).substitute({t:-t,v:-v}))\n",
    "\n",
    "    \n",
    "def MaxComp(c):\n",
    "    d=c.numerator().degrees()[1]\n",
    "    return qfact(d)*c.numerator().coefficient({t:d})\n",
    "\n",
    "def MaxCompCompact(c):\n",
    "    d=c.numerator().degrees()[1]\n",
    "    return t^d*c.numerator().coefficient({t:d})\n",
    "\n",
    "def qfact(n):\n",
    "    return mul(q^k+t for k in range(1,n+1))\n",
    "\n",
    "def CompHook(F):\n",
    "    return add(s(mu)*MaxComp(c) for mu,c in F).map_coefficients(Factor)\n",
    "\n",
    "def CompHookCompact(F):\n",
    "    return add(s(mu)*MaxCompCompact(c) for mu,c in F).map_coefficients(Factor)\n",
    "\n",
    "def DeCompHookCompact(F):\n",
    "    if F==0:\n",
    "        return 0\n",
    "    else:\n",
    "        show(CompHookCompact(F))\n",
    "        DeCompHookCompact(F-CompHook(F))\n",
    "\n",
    "def DeCompHook(F):\n",
    "    if F==0:\n",
    "        return 0\n",
    "    else:\n",
    "        show(CompHook(F))\n",
    "        DeCompHook(F-CompHook(F))\n",
    "\n",
    "def HookHookComp(tau):\n",
    "    tau=Partition(tau)\n",
    "    if not Is_Triangular(tau):\n",
    "        return 'Not Triangular'\n",
    "    elif not Is_Dominant(tau):\n",
    "        return HookHookComp(tau.conjugate())\n",
    "    else:\n",
    "        return DeCompHookCompact(HookHookPol(E(tau,len(tau)+1)))\n"
   ]
  },
  {
   "cell_type": "raw",
   "metadata": {},
   "source": [
    "HookHookComp((4,3,2,1))"
   ]
  },
  {
   "cell_type": "raw",
   "metadata": {},
   "source": [
    "HookHook((8,6,4,2),5)"
   ]
  },
  {
   "cell_type": "raw",
   "metadata": {},
   "source": [
    "HookHook((9,6,3),4)"
   ]
  },
  {
   "cell_type": "markdown",
   "metadata": {
    "jp-MarkdownHeadingCollapsed": true
   },
   "source": [
    "#  <span style=\"color:blue\">  <font size=\"5\">  Boson-Fermion specialization </span>"
   ]
  },
  {
   "cell_type": "code",
   "execution_count": null,
   "metadata": {
    "jupyter": {
     "source_hidden": true
    }
   },
   "outputs": [],
   "source": [
    "def Pi_mu(mu):\n",
    "    mu=Partition(mu)\n",
    "    return mul(1-q^j*t^i for (i,j) in mu.cells() if not (i,j)==(0,0))\n",
    "\n",
    "@cached_function\n",
    "def Psi(f):\n",
    "    n=f.degree()\n",
    "    return add(Theta(e[k]((u+v)*Z),(f.skew_by(e[k])).nabla()) for k in range(n))"
   ]
  },
  {
   "cell_type": "code",
   "execution_count": null,
   "metadata": {},
   "outputs": [],
   "source": [
    "Psi(e[3])"
   ]
  },
  {
   "cell_type": "raw",
   "metadata": {},
   "source": [
    "BosFer((3,2,1))==Psi(e[4])"
   ]
  },
  {
   "cell_type": "raw",
   "metadata": {},
   "source": [
    "BosFer((4,3,2,1))==Psi(e[5])"
   ]
  },
  {
   "cell_type": "raw",
   "metadata": {},
   "source": [
    "BosFer((5,4,3,2,1))==Psi(e[6])"
   ]
  },
  {
   "cell_type": "raw",
   "metadata": {},
   "source": [
    "BosFer((6,5,4,3,2,1))==Psi(e[7])"
   ]
  },
  {
   "cell_type": "markdown",
   "metadata": {
    "jp-MarkdownHeadingCollapsed": true
   },
   "source": [
    "#    <span style=\"color:blue\">  <font size=\"5\">  Differences along poset covers, and around faces </span>\n",
    "When $\\tau\\succeq \\mu$ in the triangular lattice, we have ${\\mathcal{A}_\\tau}-{\\mathcal{A}_\\mu^+}$ Schur positive. Here, ${g^+}$ means that we add $1$ to the first part of partitions occuring in the Schur expansion of $g$. Likewise, we write $\\mathcal{E}^+_\\mu$ for the effect of the same transformation on first components of tensors; and we have a similar positivity for the analoguous difference (having same sizes for second components)."
   ]
  },
  {
   "cell_type": "code",
   "execution_count": null,
   "metadata": {
    "jupyter": {
     "source_hidden": true
    }
   },
   "outputs": [],
   "source": [
    "def TriangularSuccessors(tau):\n",
    "    tau=Partition(tau)\n",
    "    n=tau.size()\n",
    "    return Set([Partition(list(tau.add_cell(c[0])))\n",
    "                       for c in tau.addable_cells()\n",
    "                       if Is_Triangular(tau.add_cell(c[0]))])\n",
    "\n",
    "def TriangularPredecessors(tau):\n",
    "    tau=Partition(tau)\n",
    "    n=tau.size()\n",
    "    return Set([Partition(list(tau.remove_cell(c[0])))\n",
    "                       for c in tau.removable_cells()\n",
    "                       if Is_Triangular(tau.remove_cell(c[0]))])\n",
    "\n",
    "def prime(mu,k=1):\n",
    "    if len(mu)==0:\n",
    "        return Partition([0])\n",
    "    elif len(mu)==1:\n",
    "        Partition([max([0,mu[0]-k])])\n",
    "    elif mu[0]>=mu[1]+k: \n",
    "        return Partition([mu[0]-k]+mu[1:])\n",
    "    else:\n",
    "        return Partition([0])\n",
    "\n",
    "def coprime(mu,k=1):\n",
    "    if len(mu)==0:\n",
    "        return Partition([k])\n",
    "    else:\n",
    "        return Partition([mu[0]+k]+mu[1:])\n",
    "\n",
    "@cached_function\n",
    "def CoPrime(g,n=1):\n",
    "    if n==0:\n",
    "        return g\n",
    "    else:\n",
    "        return add(c*s(coprime(mu,n)) for mu,c in g)\n",
    "\n",
    "@cached_function\n",
    "def Prime(g,n=1):\n",
    "    if n==0:\n",
    "        return g\n",
    "    else:\n",
    "        return add(c*s(prime(mu,n)) \n",
    "                   for mu,c in g \n",
    "                   if (not len(mu)==0) \n",
    "                   or (len(mu)==1 and mu[0]>=n) \n",
    "                   or (mu[0]>mu[1]+n))\n",
    "\n",
    "@cached_function\n",
    "def CoPrimeTens(F,n=1):\n",
    "    if n==0:\n",
    "        return F\n",
    "    else:\n",
    "        return add(c*tensor([s(coprime(mu,n)),s(nu)]) for (mu,nu),c in F)\n",
    "\n",
    "\n",
    "@cached_function\n",
    "def A_Face(tau):\n",
    "    tau=Partition(tau)\n",
    "    if tau.length()==0:\n",
    "        return A(tau)\n",
    "    else:\n",
    "        return add((-1)^(tau.size()-mu.size())*CoPrime(A(mu),tau.size()-mu.size()) for mu in Face(tau))\n",
    "\n",
    "@cached_function\n",
    "def A_Face_P(tau):\n",
    "    tau=Partition(tau)\n",
    "    if tau.length()==0:\n",
    "        return 0\n",
    "    else:\n",
    "        n=len(Diagonale(tau))\n",
    "        return add((-1)^(n-tau.size()+mu.size())*Prime(A(mu),n-tau.size()+mu.size()) for mu in Face(tau))\n",
    "\n",
    "@cached_function\n",
    "def A_arrete(mu,tau):\n",
    "    return A(tau)-CoPrime(A(mu))\n",
    "\n",
    "@cached_function\n",
    "def E_arrete(mu,tau,n=None):\n",
    "    if n==None:\n",
    "        n=len(tau)+1\n",
    "    return E(tau,n)-CoPrimeTens(E(mu,n))\n",
    "\n",
    "def A_chain(C):\n",
    "    n=len(C)\n",
    "    return CoPrime(A(C[0]),n-1)+add(CoPrime(A_arrete(C[i-1],C[i]),n-i-1) for i in range(1,n))\n",
    "\n",
    "def A_chain_weights(C):\n",
    "    n=len(C)\n",
    "    return [CoPrime(A(C[0]),n-1)]+[CoPrime(A_arrete(C[i-1],C[i]),n-i-1) for i in range(1,n)]\n",
    "    \n",
    "def All_Chains(tau):\n",
    "    tau=Partition(tau)\n",
    "    n=tau.size()\n",
    "    return Set([C for C in Young_Triangle(n).maximal_chains() if C[-1]==tau])"
   ]
  },
  {
   "cell_type": "raw",
   "metadata": {},
   "source": [
    "for tau in Triangles(10,condition=(lambda mu:Is_Dominant(mu) and not len(mu)==0)):\n",
    "    n=len(tau)+1\n",
    "    for mu in TriangularPredecessors(tau):\n",
    "        if (tau in E_Dominant_Dict.keys() or len(tau)<=3) and not Is_Positive(E_arrete(mu,tau,len(tau)+2)):\n",
    "            show((tau,mu))"
   ]
  },
  {
   "cell_type": "code",
   "execution_count": null,
   "metadata": {},
   "outputs": [],
   "source": [
    "def No_Zero(L):\n",
    "    return tuple([c for c in L if not c==0])"
   ]
  },
  {
   "cell_type": "code",
   "execution_count": null,
   "metadata": {},
   "outputs": [],
   "source": [
    "for C in Set([No_Zero(A_chain_weights(C)) for C in All_Chains((4,3,2,1))]):\n",
    "    show(C)"
   ]
  },
  {
   "cell_type": "code",
   "execution_count": null,
   "metadata": {},
   "outputs": [],
   "source": [
    "Set([No_Zero(A_chain_weights(C)) for C in All_Chains((5,3,2,1))])[2]"
   ]
  },
  {
   "cell_type": "code",
   "execution_count": null,
   "metadata": {
    "jupyter": {
     "source_hidden": true
    }
   },
   "outputs": [],
   "source": [
    "#@cached_function\n",
    "def Comprime(g,n=1):\n",
    "    if n==0:\n",
    "        return g\n",
    "    else:\n",
    "        return add(c*comprime(mu,n) for mu,c in g)\n",
    "\n",
    "def comprime(mu,k):\n",
    "    mu==Partition(mu)\n",
    "    if k in Set([c[0]+1 for c in mu.removable_cells()]):\n",
    "        return s(mu.remove_cell(k-1))\n",
    "    else:\n",
    "        return 0"
   ]
  },
  {
   "cell_type": "markdown",
   "metadata": {
    "jp-MarkdownHeadingCollapsed": true
   },
   "source": [
    "#  <span style=\"color:blue\">  <font size=\"5\">  Immanants </span>"
   ]
  },
  {
   "cell_type": "code",
   "execution_count": null,
   "metadata": {
    "jupyter": {
     "source_hidden": true
    }
   },
   "outputs": [],
   "source": [
    "def GenImm(A,v=1):\n",
    "    n=A.dimensions()[0]\n",
    "    Sn=SymmetricGroup(n)\n",
    "    rep=add(tensor([mul(A[i-1,sigma(i+1)-1] for i in range(n)),s(p(sigma.cycle_type()))]) \n",
    "               for sigma in Sn)\n",
    "    return -add((-1)^(nu.length())*c.substitute({q:v})*tensor([s(mu),s(nu)]) for (mu,nu),c in rep)\n",
    "\n",
    "def Grass(k,n):\n",
    "    if k==0 or n==0:\n",
    "        return Partition([0])\n",
    "    return Partition([k for i in range(n)])\n",
    "\n",
    "def CharacGrassDet(k,n):\n",
    "    return e[n](q_int(k+1)*Z)\n",
    "\n",
    "def CharacGrassPerm(k,n):\n",
    "    return (add(factorial(mu.length())/mul(factorial(j) for j in mu.to_exp())*h(mu) for mu in Partitions(n)))(q_int(k+1)*Z)"
   ]
  },
  {
   "cell_type": "code",
   "execution_count": null,
   "metadata": {},
   "outputs": [],
   "source": [
    "N=5\n",
    "all([GenImm(Mat_P(Grass(k,n),n),v=q).scalar(e[n])==CharacGrassDet(k,n) for n in range(1,N) for k in range(1,N)])"
   ]
  },
  {
   "cell_type": "code",
   "execution_count": null,
   "metadata": {},
   "outputs": [],
   "source": [
    "all([GenImm(Mat_P(Grass(k,n),n),v=q).scalar(s[n])==CharacGrassPerm(k,n) for k in range(1,N) for n in range(1,N)])"
   ]
  },
  {
   "cell_type": "code",
   "execution_count": null,
   "metadata": {},
   "outputs": [],
   "source": [
    "n=4\n",
    "k=2\n",
    "GenImm(Mat_P(Grass(k,n),n),v=q)"
   ]
  },
  {
   "cell_type": "markdown",
   "metadata": {
    "jp-MarkdownHeadingCollapsed": true
   },
   "source": [
    "#  <span style=\"color:blue\">  <font size=\"5\">  Ordered partitions </span>\n",
    "\n",
    "Permanent for the case of Grassmaniann"
   ]
  },
  {
   "cell_type": "code",
   "execution_count": null,
   "metadata": {},
   "outputs": [],
   "source": []
  },
  {
   "cell_type": "code",
   "execution_count": null,
   "metadata": {},
   "outputs": [],
   "source": [
    "k=2\n",
    "n=3\n",
    "GenImm(Mat_P(Grass(k,n),n).apply_map(lambda c:c(Z/q_int(3)))).PP()"
   ]
  },
  {
   "cell_type": "code",
   "execution_count": null,
   "metadata": {},
   "outputs": [],
   "source": [
    "print([add(factorial(mu.length())/mul(factorial(j) \n",
    "                                for j in mu.to_exp())*h(mu) \n",
    "     for mu in Partitions(n)).scalar(p[1]^n) for n in range(1,7)])"
   ]
  },
  {
   "cell_type": "code",
   "execution_count": null,
   "metadata": {},
   "outputs": [],
   "source": [
    "[e((n+1)*GenImm(Mat_P(delta(n,n),n)).scalar(e[n])(Z/(n+1))) for n in range(1,7)]"
   ]
  },
  {
   "cell_type": "code",
   "execution_count": null,
   "metadata": {},
   "outputs": [],
   "source": [
    "table([(n,e(GenImm(Mat_P(delta(n,n),n),v=0).scalar(e[n]))) for n in range(1,7)])"
   ]
  },
  {
   "cell_type": "markdown",
   "metadata": {},
   "source": [
    "Voir https://oeis.org/A171792"
   ]
  },
  {
   "cell_type": "code",
   "execution_count": null,
   "metadata": {},
   "outputs": [],
   "source": [
    "table([(n,h(GenImm(Mat_P(delta(n,n),n)).scalar(s[n]))) for n in range(1,7)])"
   ]
  },
  {
   "cell_type": "code",
   "execution_count": null,
   "metadata": {},
   "outputs": [],
   "source": [
    "table([(n,h(GenImm(Mat_P(delta(n,n),n),v=0).scalar(s[n])(Z*n))) for n in range(1,7)])"
   ]
  },
  {
   "cell_type": "code",
   "execution_count": null,
   "metadata": {},
   "outputs": [],
   "source": [
    "@cached_function\n",
    "def P_dim(mu,n=None):\n",
    "    if n==None:\n",
    "        n=len(mu)+1\n",
    "    def ff(k,n):\n",
    "        if k<0 or n<=0:\n",
    "            return 0\n",
    "        else:\n",
    "            return add(q^j for j in range(n))^k/factorial(k)\n",
    "    mu=tuple(mu)+tuple([0 for i in range(n-len(mu))])\n",
    "    return factorial(n)*det(matrix([[ ff(j-i+1,mu[j]+1)  for j in range(n)]  for i in range(n)]))"
   ]
  },
  {
   "cell_type": "code",
   "execution_count": null,
   "metadata": {},
   "outputs": [],
   "source": [
    "P_dim((2,2,1),4).substitute({q:1})"
   ]
  },
  {
   "cell_type": "code",
   "execution_count": null,
   "metadata": {},
   "outputs": [],
   "source": [
    "P_mu((2,2,1,0)).scalar(p[1]^4).substitute({q:1})"
   ]
  },
  {
   "cell_type": "markdown",
   "metadata": {
    "jp-MarkdownHeadingCollapsed": true
   },
   "source": [
    "#  <span style=\"color:blue\">  <font size=\"5\">  Triangular Permutations, via RSK </span>"
   ]
  },
  {
   "cell_type": "code",
   "execution_count": null,
   "metadata": {
    "jupyter": {
     "source_hidden": true
    }
   },
   "outputs": [],
   "source": [
    "from sage.combinat.tableau import from_chain\n",
    "\n",
    "Permutation._latex_= compact\n",
    "\n",
    "@cached_function\n",
    "def Young_Triangle_cond(n,condition=(lambda tau:True)):\n",
    "    E=[nu for k in range(n+1) for nu in TriangularPartitions(k) if condition(nu)]\n",
    "    R=[(mu,nu) for k in range(1,n+1) for mu in TriangularPartitions(k-1) if condition(mu)\n",
    "       for nu in TriangularPartitions(k) if condition(nu) and nu.contains(mu)]\n",
    "    return Poset([E,R],cover_relations=True)\n",
    "\n",
    "@cached_function\n",
    "def MaxChains(tau,condition=(lambda tau:True)):\n",
    "    tau=Partition(tau)\n",
    "    n=tau.size()\n",
    "    Yn=Young_Triangle_cond(n,condition=condition)\n",
    "    return Set((Yn.subposet(Set(Yn.interval(zero,tau)))).maximal_chains())\n",
    "\n",
    "@cached_function\n",
    "def MaxChainsTab(tau,condition=(lambda tau:True)):\n",
    "    tau=Partition(tau)\n",
    "    return Set([from_chain(c) for c in MaxChains(tau,condition=condition) if TestChaine(c)])\n",
    "\n",
    "@cached_function\n",
    "def RSK_Perm(tau,condition=(lambda tau:True)):\n",
    "    return Set([Permutation(RSK_inverse(P,Q)[1]) \n",
    "                for P in MaxChainsTab(tau,condition=condition) \n",
    "                for Q in MaxChainsTab(tau,condition=condition)])\n",
    "\n",
    "@cached_function\n",
    "def RSK_Triangular_Perms(n,condition=(lambda tau:True)):\n",
    "    return Set([sigma for tau in TriangularPartitions(n) if condition(tau) for sigma in RSK_Perm(tau,condition=condition)])\n",
    "\n",
    "\n",
    "def TestChaine(c):  # Pour des chaines de pentes compatibles\n",
    "    return max([Cone(c[i])[0] for i in range(len(c))])<min([Cone(c[i])[1] for i in range(len(c))])\n",
    "\n",
    "def TestChaine(c):\n",
    "    return True"
   ]
  },
  {
   "cell_type": "code",
   "execution_count": null,
   "metadata": {},
   "outputs": [],
   "source": [
    "print([RSK_Triangular_Perms(n).cardinality() for n in range(7)])"
   ]
  },
  {
   "cell_type": "code",
   "execution_count": null,
   "metadata": {},
   "outputs": [],
   "source": [
    "RSK_Triangular_Perms(4)"
   ]
  },
  {
   "cell_type": "code",
   "execution_count": null,
   "metadata": {},
   "outputs": [],
   "source": [
    "[MaxChainsTab(tau).cardinality() for tau in TriangularPartitions(6)]"
   ]
  },
  {
   "cell_type": "code",
   "execution_count": null,
   "metadata": {},
   "outputs": [],
   "source": [
    "[MaxChainsTab(tau).cardinality() for tau in TriangularPartitions(7)]"
   ]
  },
  {
   "cell_type": "code",
   "execution_count": null,
   "metadata": {},
   "outputs": [],
   "source": [
    "[MaxChainsTab(tau).cardinality() for tau in TriangularPartitions(8)]"
   ]
  },
  {
   "cell_type": "code",
   "execution_count": null,
   "metadata": {},
   "outputs": [],
   "source": [
    "[MaxChainsTab(tau).cardinality() for tau in TriangularPartitions(9)]"
   ]
  },
  {
   "cell_type": "code",
   "execution_count": null,
   "metadata": {},
   "outputs": [],
   "source": [
    "part_to_vect((7,4,3,1,1))"
   ]
  },
  {
   "cell_type": "code",
   "execution_count": null,
   "metadata": {},
   "outputs": [],
   "source": [
    "A_mu((7,4,3,1,1))(q+t)"
   ]
  },
  {
   "cell_type": "code",
   "execution_count": null,
   "metadata": {},
   "outputs": [],
   "source": [
    "A_mu((7,4,3,1,1))"
   ]
  },
  {
   "cell_type": "code",
   "execution_count": null,
   "metadata": {},
   "outputs": [],
   "source": [
    "mu=Partition((7,4,3,1,1))\n",
    "part_to_vect(mu,len(min_concave(mu)))"
   ]
  },
  {
   "cell_type": "code",
   "execution_count": null,
   "metadata": {},
   "outputs": [],
   "source": [
    "Test_Concave_Conjecture(mu)"
   ]
  },
  {
   "cell_type": "raw",
   "metadata": {},
   "source": [
    "ListLowAreaDinv(18)\n",
    "[0, 0, 1, 3, 5, 8, 11, 15, 19, 23, 28, 33, 38, 44, 50, 56, 62, 69]"
   ]
  },
  {
   "cell_type": "markdown",
   "metadata": {},
   "source": [
    "# <span style=\"color:blue\">  <font size=\"5\">  Schur expansion support </span>\n",
    "<img src=\"Dessins/seizeregion.pdf\" align=\"center\" width=\"400\" /> <img src=\"Dessins/dixhuitregion.pdf\" align=\"center\" width=\"400\" /> "
   ]
  },
  {
   "cell_type": "code",
   "execution_count": 58,
   "metadata": {
    "scrolled": true
   },
   "outputs": [
    {
     "data": {
      "text/html": [
       "<div class=\"notruncate\">\n",
       "<table  class=\"table_form\">\n",
       "<tbody>\n",
       "<tr class =\"row-a\">\n",
       "<td style=\"text-align:left\">\\(1\\)</td>\n",
       "<td style=\"text-align:left\">\\(\\boldsymbol{1}\\)</td>\n",
       "</tr>\n",
       "<tr class =\"row-b\">\n",
       "<td style=\"text-align:left\">\\(2\\)</td>\n",
       "<td style=\"text-align:left\">\\(s_{1}\\)</td>\n",
       "</tr>\n",
       "<tr class =\"row-a\">\n",
       "<td style=\"text-align:left\">\\(3\\)</td>\n",
       "<td style=\"text-align:left\">\\(s_{3} + s_{11}\\)</td>\n",
       "</tr>\n",
       "<tr class =\"row-b\">\n",
       "<td style=\"text-align:left\">\\(4\\)</td>\n",
       "<td style=\"text-align:left\">\\(s_{6} + s_{41} + s_{31} + s_{111}\\)</td>\n",
       "</tr>\n",
       "<tr class =\"row-a\">\n",
       "<td style=\"text-align:left\">\\(5\\)</td>\n",
       "<td style=\"text-align:left\">\\(s_{10.} + s_{81} + s_{71} + s_{61} + s_{62} + s_{43} + s_{42} + s_{511} + s_{411} + s_{311} + s_{1111}\\)</td>\n",
       "</tr>\n",
       "<tr class =\"row-b\">\n",
       "<td style=\"text-align:left\">\\(6\\)</td>\n",
       "<td style=\"text-align:left\">\\(s_{15.} + s_{13.1} + s_{12.1} + s_{11.1} + s_{10.1} + s_{11.2} + s_{10.2} + s_{93} + s_{92} + s_{83} + s_{74} + s_{82} + s_{73} + s_{64} + s_{72} + s_{63} + s_{44} + s_{10.11} + s_{911} + 2 s_{811} + s_{711} + s_{611} + s_{421} + s_{431} + s_{441} + s_{521} + s_{531} + s_{621} + s_{631} + s_{721} + s_{821} + s_{6111} + s_{5111} + s_{4111} + s_{3111} + s_{11111}\\)</td>\n",
       "</tr>\n",
       "<tr class =\"row-a\">\n",
       "<td style=\"text-align:left\">\\(7\\)</td>\n",
       "<td style=\"text-align:left\">\\(s_{21.} + s_{17.2} + s_{16.2} + s_{15.3} + 2 s_{15.2} + s_{14.3} + s_{13.4} + s_{14.2} + 2 s_{13.3} + s_{12.4} + s_{11.5} + 2 s_{13.2} + 2 s_{12.3} + 2 s_{11.4} + s_{10.5} + s_{96} + s_{12.2} + 2 s_{11.3} + 2 s_{10.4} + s_{95} + s_{86} + s_{77} + s_{11.2} + s_{10.3} + 2 s_{94} + s_{85} + s_{76} + s_{93} + s_{84} + s_{75} + s_{74} + s_{19.1} + s_{18.1} + s_{17.1} + s_{16.1} + s_{15.1} + s_{14.21} + 2 s_{13.21} + s_{12.31} + 2 s_{12.21} + 2 s_{11.31} + s_{10.41} + 3 s_{11.21} + 3 s_{10.31} + 2 s_{941} + s_{851} + 3 s_{10.21} + 3 s_{931} + 3 s_{841} + s_{751} + s_{661} + 2 s_{921} + 3 s_{831} + 3 s_{741} + s_{651} + 2 s_{821} + 2 s_{731} + 2 s_{641} + s_{721} + s_{631} + s_{541} + s_{441} + s_{11.22} + s_{932} + s_{832} + s_{922} + s_{742} + s_{732} + s_{822} + s_{642} + s_{632} + s_{722} + s_{542} + s_{532} + s_{442} + s_{522} + s_{633} + s_{443} + s_{16.11} + s_{15.11} + 2 s_{14.11} + 2 s_{13.11} + 2 s_{12.11} + s_{11.11} + s_{10.11} + s_{10.211} + s_{9211} + s_{8311} + 2 s_{8211} + s_{7311} + s_{6411} + s_{7211} + 2 s_{6311} + s_{5411} + 2 s_{6211} + s_{5311} + s_{4411} + s_{5211} + s_{4311} + s_{4211} + s_{12.111} + s_{11.111} + 2 s_{10.111} + 2 s_{9111} + 2 s_{8111} + s_{7111} + s_{6111} + s_{71111} + s_{61111} + s_{51111} + s_{41111} + s_{31111} + s_{111111}\\)</td>\n",
       "</tr>\n",
       "</tbody>\n",
       "</table>\n",
       "</div>"
      ],
      "text/plain": [
       "  1   s[]\n",
       "  2   s[1]\n",
       "  3   s[3] + s[1, 1]\n",
       "  4   s[6] + s[4, 1] + s[3, 1] + s[1, 1, 1]\n",
       "  5   s[10] + s[8, 1] + s[7, 1] + s[6, 1] + s[6, 2] + s[4, 3] + s[4, 2] + s[5, 1, 1] + s[4, 1, 1] + s[3, 1, 1] + s[1, 1, 1, 1]\n",
       "  6   s[15] + s[13, 1] + s[12, 1] + s[11, 1] + s[10, 1] + s[11, 2] + s[10, 2] + s[9, 3] + s[9, 2] + s[8, 3] + s[7, 4] + s[8, 2] + s[7, 3] + s[6, 4] + s[7, 2] + s[6, 3] + s[4, 4] + s[10, 1, 1] + s[9, 1, 1] + 2*s[8, 1, 1] + s[7, 1, 1] + s[6, 1, 1] + s[4, 2, 1] + s[4, 3, 1] + s[4, 4, 1] + s[5, 2, 1] + s[5, 3, 1] + s[6, 2, 1] + s[6, 3, 1] + s[7, 2, 1] + s[8, 2, 1] + s[6, 1, 1, 1] + s[5, 1, 1, 1] + s[4, 1, 1, 1] + s[3, 1, 1, 1] + s[1, 1, 1, 1, 1]\n",
       "  7   s[21] + s[17, 2] + s[16, 2] + s[15, 3] + 2*s[15, 2] + s[14, 3] + s[13, 4] + s[14, 2] + 2*s[13, 3] + s[12, 4] + s[11, 5] + 2*s[13, 2] + 2*s[12, 3] + 2*s[11, 4] + s[10, 5] + s[9, 6] + s[12, 2] + 2*s[11, 3] + 2*s[10, 4] + s[9, 5] + s[8, 6] + s[7, 7] + s[11, 2] + s[10, 3] + 2*s[9, 4] + s[8, 5] + s[7, 6] + s[9, 3] + s[8, 4] + s[7, 5] + s[7, 4] + s[19, 1] + s[18, 1] + s[17, 1] + s[16, 1] + s[15, 1] + s[14, 2, 1] + 2*s[13, 2, 1] + s[12, 3, 1] + 2*s[12, 2, 1] + 2*s[11, 3, 1] + s[10, 4, 1] + 3*s[11, 2, 1] + 3*s[10, 3, 1] + 2*s[9, 4, 1] + s[8, 5, 1] + 3*s[10, 2, 1] + 3*s[9, 3, 1] + 3*s[8, 4, 1] + s[7, 5, 1] + s[6, 6, 1] + 2*s[9, 2, 1] + 3*s[8, 3, 1] + 3*s[7, 4, 1] + s[6, 5, 1] + 2*s[8, 2, 1] + 2*s[7, 3, 1] + 2*s[6, 4, 1] + s[7, 2, 1] + s[6, 3, 1] + s[5, 4, 1] + s[4, 4, 1] + s[11, 2, 2] + s[9, 3, 2] + s[8, 3, 2] + s[9, 2, 2] + s[7, 4, 2] + s[7, 3, 2] + s[8, 2, 2] + s[6, 4, 2] + s[6, 3, 2] + s[7, 2, 2] + s[5, 4, 2] + s[5, 3, 2] + s[4, 4, 2] + s[5, 2, 2] + s[6, 3, 3] + s[4, 4, 3] + s[16, 1, 1] + s[15, 1, 1] + 2*s[14, 1, 1] + 2*s[13, 1, 1] + 2*s[12, 1, 1] + s[11, 1, 1] + s[10, 1, 1] + s[10, 2, 1, 1] + s[9, 2, 1, 1] + s[8, 3, 1, 1] + 2*s[8, 2, 1, 1] + s[7, 3, 1, 1] + s[6, 4, 1, 1] + s[7, 2, 1, 1] + 2*s[6, 3, 1, 1] + s[5, 4, 1, 1] + 2*s[6, 2, 1, 1] + s[5, 3, 1, 1] + s[4, 4, 1, 1] + s[5, 2, 1, 1] + s[4, 3, 1, 1] + s[4, 2, 1, 1] + s[12, 1, 1, 1] + s[11, 1, 1, 1] + 2*s[10, 1, 1, 1] + 2*s[9, 1, 1, 1] + 2*s[8, 1, 1, 1] + s[7, 1, 1, 1] + s[6, 1, 1, 1] + s[7, 1, 1, 1, 1] + s[6, 1, 1, 1, 1] + s[5, 1, 1, 1, 1] + s[4, 1, 1, 1, 1] + s[3, 1, 1, 1, 1] + s[1, 1, 1, 1, 1, 1]"
      ]
     },
     "execution_count": 58,
     "metadata": {},
     "output_type": "execute_result"
    }
   ],
   "source": [
    "table([[n,A(delta(n,n))] for n in range(1,8)])"
   ]
  },
  {
   "cell_type": "code",
   "execution_count": 59,
   "metadata": {
    "jupyter": {
     "source_hidden": true
    }
   },
   "outputs": [],
   "source": [
    "@cached_function\n",
    "def minpartval(n):\n",
    "    return min([add((k+1)*mu[k] for k in range(mu.length())) for mu,c in A_mu(delta(n,n))])\n",
    "\n",
    "@cached_function\n",
    "def minareadinv(n,a=1,b=2):\n",
    "    return min([a*area_tau(alpha,delta(n,n))+b*dinv_tau(alpha,delta(n,n)) for alpha in Dyck_tau(delta(n,n))])\n",
    "\n",
    "@cached_function\n",
    "def CandSupport(n):\n",
    "    return Set([mu for N in range(binomial(n,2)+1) for mu in Partitions(N) \n",
    "                if  minpartval(n)<=add((k+1)*mu[k] for k in range(mu.length())) <=add(delta(n,n))])\n",
    "\n",
    "def PartitionSupport(f):\n",
    "    return Set([mu for mu,c in s(f)])\n",
    "\n",
    "def Minpartval(n):\n",
    "    return min([add((k+1)*mu[k] for k in range(mu.length())) for mu,c in A(delta(n,n))])\n",
    "\n",
    "def ListLowAreaDinv(N):\n",
    "    return [LowAreaDinv(n) for n in range(N)]\n",
    "\n",
    "@cached_function\n",
    "def LowAreaDinv(N):\n",
    "    return (SR(qt_catalan_number(N)).substitute({t:q^2})).low_degree(q)\n",
    "\n",
    "@cached_function\n",
    "def PointCat(n,k=2):\n",
    "    return plot(add(point((Integer(SR(a[1]).degree(q)-1),Integer(SR(a[1]).degree(t))),size=max(2,k*a[0]))\n",
    "                   for a in (qt_catalan_number(n)*(q-t)).numerator() if a[0]>=0  and SR(a[1]).degree(t)>0))\n",
    "\n",
    "@cached_function\n",
    "def RegionCat(n,k=2,grandeur=5):\n",
    "    LesPoints=PointCat(n,k=k)\n",
    "    return (Polyhedron(vertices=[a[0] for a in LesPoints]).plot(point=False,line=False,color='yellow',aspect_ratio=1,figsize=grandeur)\n",
    "            +LesPoints)\n",
    "\n",
    "def v_mu(mu):\n",
    "    return add(vector([i-1,j-1]) for i,j in Cellules(mu))\n",
    "\n",
    "def Cellules(mu):\n",
    "    mu=Partition(mu)\n",
    "    return [(b+1,a+1) for a in range(mu.length()) for b in range(mu[a])]\n",
    "\n",
    "def PointsPartages(n):\n",
    "    ppp=Polyhedron(vertices=Set([v_mu(mu) for mu in Partitions(n) \n",
    "                         if v_mu(mu)[0]>=v_mu(mu)[1] \n",
    "                                 and not v_mu(mu)[1]==0 \n",
    "                                 and max(mu.to_exp())==1]))\n",
    "    return Set([tuple(v) for v in ppp.vertices_list()])"
   ]
  },
  {
   "cell_type": "raw",
   "metadata": {},
   "source": [
    "RegionCat(18,k=.05)"
   ]
  },
  {
   "cell_type": "raw",
   "metadata": {},
   "source": [
    "RegionCat(18,k=.05).save(\"dixhuitregion.eps\",dpi=1000)"
   ]
  },
  {
   "cell_type": "raw",
   "metadata": {},
   "source": [
    "P6=[(4, 4), (13, 1), (10, 1), (7, 4), (7, 2)]\n",
    "\n",
    "P7=[(7, 7), (19, 1), (15, 1), (11, 2), (7, 4)]\n",
    "\n",
    "P8=[(7, 7), (26, 1), (21, 1), (10, 9), (16, 2), (13, 3), (9, 5)]\n",
    "\n",
    "P9=[(12, 12), (34, 1), (28, 1), (22, 2), (18, 3), (13, 5), (9, 9), (10, 7)]\n",
    "\n",
    "P10=[(15, 15), (43, 1), (36, 1), (29, 2), (24, 3), (18, 5), (14, 7), (10, 10)]\n",
    "\n",
    "P11=[(17, 17), (53, 1), (45, 1), (37, 2), (19, 18), (31, 3), (27, 4), (21, 6), (13, 13), (17, 8), (13, 12), (14, 10)]\n",
    "\n",
    "P12=[(22, 22), (64, 1), (55, 1), (46, 2), (39, 3), (34, 4), (27, 6), (22, 8), (15, 15), (17, 11), (15, 13)]\n",
    "\n",
    "P13=[(26, 26), (76, 1), (66, 1), (56, 2), (48, 3), (42, 4), (34, 6), (28, 8), (17, 17), (22, 11), (19, 13), (17, 15)]\n",
    "\n",
    "P14=[(29, 29), (89, 1), (78, 1), (67, 2), (58, 3), (31, 30), (51, 4), (46, 5), (38, 7), (32, 9), (19, 19), (24, 13), (19, 18), (20, 16)]\n",
    "\n",
    "P15=[(35, 35), (103, 1), (91, 1), (79, 2), (69, 3), (61, 4), (55, 5), (46, 7), (39, 9), (34, 11), (28, 14), (25, 16), (20, 20)]\n",
    "\n",
    "P16=[(40, 40), (118, 1), (105, 1), (92, 2), (81, 3), (72, 4), (65, 5), (55, 7), (47, 9), (41, 11), (34, 14), (29, 17), (23, 23), (25, 20)]\n",
    "\n",
    "P18=[(28, 28), (29, 26), (32, 23), (38, 19), (46, 15), (54, 12), (61, 10), (70, 8), (81, 6), (88, 5), (97, 4), (108, 3), (121, 2), (136, 1), (151, 1), (51, 51)]"
   ]
  },
  {
   "cell_type": "code",
   "execution_count": 60,
   "metadata": {},
   "outputs": [
    {
     "data": {
      "text/html": [
       "<html>\\(\\displaystyle 231\\)</html>"
      ],
      "text/latex": [
       "$\\displaystyle 231$"
      ],
      "text/plain": [
       "231"
      ]
     },
     "execution_count": 60,
     "metadata": {},
     "output_type": "execute_result"
    }
   ],
   "source": [
    "Partitions(16).cardinality()"
   ]
  },
  {
   "cell_type": "code",
   "execution_count": 61,
   "metadata": {},
   "outputs": [],
   "source": [
    "P16=Set([(40, 40), (118, 1), (105, 1), (92, 2), (81, 3), (72, 4), (65, 5), (55, 7), \n",
    "         (47, 9), (41, 11), (34, 14), (29, 17), (23, 23), (25, 20)])\n",
    "\n",
    "P18=Set([(28, 28), (29, 26), (32, 23), (38, 19), (46, 15), (54, 12), (61, 10), (70, 8), (81, 6), \n",
    "     (88, 5), (97, 4), (108, 3), (121, 2), (136, 1), (151, 1), (51, 51)])"
   ]
  },
  {
   "cell_type": "code",
   "execution_count": 62,
   "metadata": {},
   "outputs": [
    {
     "data": {
      "image/png": "[encoded data removed]",
      "text/plain": [
       "Graphics object consisting of 29 graphics primitives"
      ]
     },
     "execution_count": 62,
     "metadata": {},
     "output_type": "execute_result"
    }
   ],
   "source": [
    "(Polyhedron(vertices=P16).plot()+Polyhedron(vertices=PointsPartages(16)).plot(color='yellow'))"
   ]
  },
  {
   "cell_type": "code",
   "execution_count": 63,
   "metadata": {},
   "outputs": [
    {
     "data": {
      "image/png": "[encoded data removed]",
      "text/plain": [
       "Graphics object consisting of 32 graphics primitives"
      ]
     },
     "execution_count": 63,
     "metadata": {},
     "output_type": "execute_result"
    }
   ],
   "source": [
    "(Polyhedron(vertices=P18).plot()+Polyhedron(vertices=PointsPartages(18)).plot(color='yellow'))"
   ]
  },
  {
   "cell_type": "code",
   "execution_count": 64,
   "metadata": {},
   "outputs": [
    {
     "data": {
      "text/html": [
       "<html>\\(\\displaystyle \\left\\{\\left(136, 1\\right), \\left(108, 3\\right), \\left(38, 19\\right), \\left(97, 4\\right), \\left(61, 10\\right), \\left(32, 23\\right), \\left(54, 12\\right), \\left(81, 6\\right), \\left(121, 2\\right), \\left(70, 8\\right), \\left(88, 5\\right), \\left(46, 15\\right)\\right\\}\\)</html>"
      ],
      "text/latex": [
       "$\\displaystyle \\left\\{\\left(136, 1\\right), \\left(108, 3\\right), \\left(38, 19\\right), \\left(97, 4\\right), \\left(61, 10\\right), \\left(32, 23\\right), \\left(54, 12\\right), \\left(81, 6\\right), \\left(121, 2\\right), \\left(70, 8\\right), \\left(88, 5\\right), \\left(46, 15\\right)\\right\\}$"
      ],
      "text/plain": [
       "{(136, 1), (108, 3), (38, 19), (97, 4), (61, 10), (32, 23), (54, 12), (81, 6), (121, 2), (70, 8), (88, 5), (46, 15)}"
      ]
     },
     "execution_count": 64,
     "metadata": {},
     "output_type": "execute_result"
    }
   ],
   "source": [
    "PointsPartages(18)"
   ]
  },
  {
   "cell_type": "code",
   "execution_count": 65,
   "metadata": {},
   "outputs": [
    {
     "data": {
      "text/html": [
       "<html>\\(\\displaystyle \\left\\{\\left(29, 26\\right), \\left(51, 51\\right), \\left(151, 1\\right), \\left(28, 28\\right)\\right\\}\\)</html>"
      ],
      "text/latex": [
       "$\\displaystyle \\left\\{\\left(29, 26\\right), \\left(51, 51\\right), \\left(151, 1\\right), \\left(28, 28\\right)\\right\\}$"
      ],
      "text/plain": [
       "{(29, 26), (51, 51), (151, 1), (28, 28)}"
      ]
     },
     "execution_count": 65,
     "metadata": {},
     "output_type": "execute_result"
    }
   ],
   "source": [
    "P18.difference(PointsPartages(18))"
   ]
  },
  {
   "cell_type": "code",
   "execution_count": 66,
   "metadata": {},
   "outputs": [
    {
     "data": {
      "text/html": [
       "<html>\\(\\displaystyle s_{10.} + s_{81} + s_{71} + s_{62} + s_{61} + s_{43} + s_{42}\\)</html>"
      ],
      "text/latex": [
       "$\\displaystyle s_{10.} + s_{81} + s_{71} + s_{62} + s_{61} + s_{43} + s_{42}$"
      ],
      "text/plain": [
       "s[10] + s[8, 1] + s[7, 1] + s[6, 2] + s[6, 1] + s[4, 3] + s[4, 2]"
      ]
     },
     "execution_count": 66,
     "metadata": {},
     "output_type": "execute_result"
    }
   ],
   "source": [
    "A_mu((4,3,2,1))"
   ]
  },
  {
   "cell_type": "code",
   "execution_count": 67,
   "metadata": {},
   "outputs": [
    {
     "data": {
      "text/html": [
       "<html>\\(\\displaystyle s_{8} + s_{61} + s_{51} + s_{42}\\)</html>"
      ],
      "text/latex": [
       "$\\displaystyle s_{8} + s_{61} + s_{51} + s_{42}$"
      ],
      "text/plain": [
       "s[8] + s[6, 1] + s[5, 1] + s[4, 2]"
      ]
     },
     "execution_count": 67,
     "metadata": {},
     "output_type": "execute_result"
    }
   ],
   "source": [
    "A_mu((3,2,2,1))"
   ]
  },
  {
   "cell_type": "code",
   "execution_count": 68,
   "metadata": {
    "jupyter": {
     "source_hidden": true
    }
   },
   "outputs": [],
   "source": [
    "def Eleve(f):\n",
    "    return add(c*s(mu.Plus([1])) for mu,c in s(f))\n",
    "\n",
    "def YT_cover(mu):\n",
    "    mu=Partition(mu)\n",
    "    return Set([mu.add_cell(c[1]-1,c[0]-1) for c in AddableCells(mu)])"
   ]
  },
  {
   "cell_type": "code",
   "execution_count": 69,
   "metadata": {},
   "outputs": [
    {
     "data": {
      "text/html": [
       "<div class=\"notruncate\">\n",
       "<table  class=\"table_form\">\n",
       "<tbody>\n",
       "<tr class =\"row-a\">\n",
       "<td style=\"text-align:left\">\\(\\left[\\left(0, 1\\right), 0\\right]\\)</td>\n",
       "</tr>\n",
       "<tr class =\"row-b\">\n",
       "<td style=\"text-align:left\">\\(\\left[\\left(1, 2\\right), 0\\right]\\)</td>\n",
       "</tr>\n",
       "<tr class =\"row-a\">\n",
       "<td style=\"text-align:left\">\\(\\left[\\left(2, 3\\right), 0\\right]\\)</td>\n",
       "<td style=\"text-align:left\">\\(\\left[\\left(2, 21\\right), s_{11}\\right]\\)</td>\n",
       "</tr>\n",
       "<tr class =\"row-b\">\n",
       "<td style=\"text-align:left\">\\(\\left[\\left(21, 31\\right), 0\\right]\\)</td>\n",
       "</tr>\n",
       "<tr class =\"row-a\">\n",
       "<td style=\"text-align:left\">\\(\\left[\\left(3, 31\\right), s_{21}\\right]\\)</td>\n",
       "<td style=\"text-align:left\">\\(\\left[\\left(3, 4\\right), 0\\right]\\)</td>\n",
       "</tr>\n",
       "<tr class =\"row-b\">\n",
       "<td style=\"text-align:left\">\\(\\left[\\left(31, 32\\right), 0\\right]\\)</td>\n",
       "<td style=\"text-align:left\">\\(\\left[\\left(31, 41\\right), 0\\right]\\)</td>\n",
       "</tr>\n",
       "<tr class =\"row-a\">\n",
       "<td style=\"text-align:left\">\\(\\left[\\left(4, 41\\right), s_{31}\\right]\\)</td>\n",
       "<td style=\"text-align:left\">\\(\\left[\\left(4, 5\\right), 0\\right]\\)</td>\n",
       "</tr>\n",
       "<tr class =\"row-b\">\n",
       "<td style=\"text-align:left\">\\(\\left[\\left(32, 321\\right), s_{31}\\right]\\)</td>\n",
       "<td style=\"text-align:left\">\\(\\left[\\left(32, 42\\right), s_{22}\\right]\\)</td>\n",
       "</tr>\n",
       "<tr class =\"row-a\">\n",
       "<td style=\"text-align:left\">\\(\\left[\\left(41, 51\\right), 0\\right]\\)</td>\n",
       "<td style=\"text-align:left\">\\(\\left[\\left(41, 42\\right), s_{22}\\right]\\)</td>\n",
       "</tr>\n",
       "<tr class =\"row-b\">\n",
       "<td style=\"text-align:left\">\\(\\left[\\left(5, 6\\right), 0\\right]\\)</td>\n",
       "<td style=\"text-align:left\">\\(\\left[\\left(5, 51\\right), s_{41}\\right]\\)</td>\n",
       "</tr>\n",
       "<tr class =\"row-a\">\n",
       "<td style=\"text-align:left\">\\(\\left[\\left(321, 421\\right), s_{32}\\right]\\)</td>\n",
       "</tr>\n",
       "<tr class =\"row-b\">\n",
       "<td style=\"text-align:left\">\\(\\left[\\left(42, 421\\right), s_{41}\\right]\\)</td>\n",
       "<td style=\"text-align:left\">\\(\\left[\\left(42, 52\\right), 0\\right]\\)</td>\n",
       "</tr>\n",
       "<tr class =\"row-a\">\n",
       "<td style=\"text-align:left\">\\(\\left[\\left(51, 61\\right), 0\\right]\\)</td>\n",
       "<td style=\"text-align:left\">\\(\\left[\\left(51, 52\\right), s_{32}\\right]\\)</td>\n",
       "</tr>\n",
       "<tr class =\"row-b\">\n",
       "<td style=\"text-align:left\">\\(\\left[\\left(6, 61\\right), s_{51}\\right]\\)</td>\n",
       "<td style=\"text-align:left\">\\(\\left[\\left(6, 7\\right), 0\\right]\\)</td>\n",
       "</tr>\n",
       "<tr class =\"row-a\">\n",
       "<td style=\"text-align:left\">\\(\\left[\\left(421, 431\\right), 0\\right]\\)</td>\n",
       "</tr>\n",
       "<tr class =\"row-b\">\n",
       "<td style=\"text-align:left\">\\(\\left[\\left(52, 53\\right), 0\\right]\\)</td>\n",
       "<td style=\"text-align:left\">\\(\\left[\\left(52, 62\\right), 0\\right]\\)</td>\n",
       "</tr>\n",
       "<tr class =\"row-a\">\n",
       "<td style=\"text-align:left\">\\(\\left[\\left(61, 62\\right), s_{42}\\right]\\)</td>\n",
       "<td style=\"text-align:left\">\\(\\left[\\left(61, 71\\right), 0\\right]\\)</td>\n",
       "</tr>\n",
       "<tr class =\"row-b\">\n",
       "<td style=\"text-align:left\">\\(\\left[\\left(7, 8\\right), 0\\right]\\)</td>\n",
       "<td style=\"text-align:left\">\\(\\left[\\left(7, 71\\right), s_{61}\\right]\\)</td>\n",
       "</tr>\n",
       "<tr class =\"row-a\">\n",
       "<td style=\"text-align:left\">\\(\\left[\\left(431, 432\\right), s_{33}\\right]\\)</td>\n",
       "<td style=\"text-align:left\">\\(\\left[\\left(431, 531\\right), s_{42}\\right]\\)</td>\n",
       "</tr>\n",
       "<tr class =\"row-b\">\n",
       "<td style=\"text-align:left\">\\(\\left[\\left(53, 63\\right), s_{33}\\right]\\)</td>\n",
       "<td style=\"text-align:left\">\\(\\left[\\left(53, 531\\right), s_{61} + s_{42}\\right]\\)</td>\n",
       "</tr>\n",
       "<tr class =\"row-a\">\n",
       "<td style=\"text-align:left\">\\(\\left[\\left(62, 63\\right), s_{33}\\right]\\)</td>\n",
       "<td style=\"text-align:left\">\\(\\left[\\left(62, 72\\right), 0\\right]\\)</td>\n",
       "</tr>\n",
       "<tr class =\"row-b\">\n",
       "<td style=\"text-align:left\">\\(\\left[\\left(71, 72\\right), s_{52}\\right]\\)</td>\n",
       "<td style=\"text-align:left\">\\(\\left[\\left(71, 81\\right), 0\\right]\\)</td>\n",
       "</tr>\n",
       "<tr class =\"row-a\">\n",
       "<td style=\"text-align:left\">\\(\\left[\\left(8, 9\\right), 0\\right]\\)</td>\n",
       "<td style=\"text-align:left\">\\(\\left[\\left(8, 81\\right), s_{71}\\right]\\)</td>\n",
       "</tr>\n",
       "<tr class =\"row-b\">\n",
       "<td style=\"text-align:left\">\\(\\left[\\left(432, 532\\right), s_{52}\\right]\\)</td>\n",
       "<td style=\"text-align:left\">\\(\\left[\\left(432, 4321\\right), s_{61} + s_{42}\\right]\\)</td>\n",
       "</tr>\n",
       "<tr class =\"row-a\">\n",
       "<td style=\"text-align:left\">\\(\\left[\\left(531, 532\\right), s_{43}\\right]\\)</td>\n",
       "<td style=\"text-align:left\">\\(\\left[\\left(531, 631\\right), s_{43}\\right]\\)</td>\n",
       "</tr>\n",
       "<tr class =\"row-b\">\n",
       "<td style=\"text-align:left\">\\(\\left[\\left(63, 631\\right), s_{71} + s_{52}\\right]\\)</td>\n",
       "<td style=\"text-align:left\">\\(\\left[\\left(63, 73\\right), 0\\right]\\)</td>\n",
       "</tr>\n",
       "<tr class =\"row-a\">\n",
       "<td style=\"text-align:left\">\\(\\left[\\left(72, 82\\right), 0\\right]\\)</td>\n",
       "<td style=\"text-align:left\">\\(\\left[\\left(72, 73\\right), s_{43}\\right]\\)</td>\n",
       "</tr>\n",
       "<tr class =\"row-b\">\n",
       "<td style=\"text-align:left\">\\(\\left[\\left(81, 82\\right), s_{62}\\right]\\)</td>\n",
       "<td style=\"text-align:left\">\\(\\left[\\left(81, 91\\right), 0\\right]\\)</td>\n",
       "</tr>\n",
       "<tr class =\"row-a\">\n",
       "<td style=\"text-align:left\">\\(\\left[\\left(9, 91\\right), s_{81}\\right]\\)</td>\n",
       "<td style=\"text-align:left\">\\(\\left[\\left(9, 10.\\right), 0\\right]\\)</td>\n",
       "</tr>\n",
       "<tr class =\"row-b\">\n",
       "<td style=\"text-align:left\">\\(\\left[\\left(4321, 5321\\right), s_{62} + s_{43}\\right]\\)</td>\n",
       "</tr>\n",
       "<tr class =\"row-a\">\n",
       "<td style=\"text-align:left\">\\(\\left[\\left(532, 5321\\right), s_{71} + s_{52} + s_{43}\\right]\\)</td>\n",
       "<td style=\"text-align:left\">\\(\\left[\\left(532, 542\\right), 0\\right]\\)</td>\n",
       "</tr>\n",
       "<tr class =\"row-b\">\n",
       "<td style=\"text-align:left\">\\(\\left[\\left(631, 641\\right), 0\\right]\\)</td>\n",
       "</tr>\n",
       "<tr class =\"row-a\">\n",
       "<td style=\"text-align:left\">\\(\\left[\\left(73, 74\\right), 0\\right]\\)</td>\n",
       "<td style=\"text-align:left\">\\(\\left[\\left(73, 83\\right), 0\\right]\\)</td>\n",
       "</tr>\n",
       "<tr class =\"row-b\">\n",
       "<td style=\"text-align:left\">\\(\\left[\\left(82, 83\\right), s_{53}\\right]\\)</td>\n",
       "<td style=\"text-align:left\">\\(\\left[\\left(82, 92\\right), 0\\right]\\)</td>\n",
       "</tr>\n",
       "<tr class =\"row-a\">\n",
       "<td style=\"text-align:left\">\\(\\left[\\left(91, 10.1\\right), 0\\right]\\)</td>\n",
       "<td style=\"text-align:left\">\\(\\left[\\left(91, 92\\right), s_{72}\\right]\\)</td>\n",
       "</tr>\n",
       "<tr class =\"row-b\">\n",
       "<td style=\"text-align:left\">\\(\\left[\\left(10., 11.\\right), 0\\right]\\)</td>\n",
       "<td style=\"text-align:left\">\\(\\left[\\left(10., 10.1\\right), s_{91}\\right]\\)</td>\n",
       "</tr>\n",
       "</tbody>\n",
       "</table>\n",
       "</div>"
      ],
      "text/plain": [
       "  [([], [1]), 0]\n",
       "  [([1], [2]), 0]\n",
       "  [([2], [3]), 0]\n",
       "  [([2, 1], [3, 1]), 0]\n",
       "  [([3], [3, 1]), s[2, 1]]\n",
       "  [([3, 1], [3, 2]), 0]\n",
       "  [([4], [4, 1]), s[3, 1]]\n",
       "  [([3, 2], [3, 2, 1]), s[3, 1]]\n",
       "  [([4, 1], [5, 1]), 0]\n",
       "  [([5], [6]), 0]\n",
       "  [([3, 2, 1], [4, 2, 1]), s[3, 2]]\n",
       "  [([4, 2], [4, 2, 1]), s[4, 1]]\n",
       "  [([5, 1], [6, 1]), 0]\n",
       "  [([6], [6, 1]), s[5, 1]]\n",
       "  [([4, 2, 1], [4, 3, 1]), 0]\n",
       "  [([5, 2], [5, 3]), 0]\n",
       "  [([6, 1], [6, 2]), s[4, 2]]\n",
       "  [([7], [8]), 0]\n",
       "  [([4, 3, 1], [4, 3, 2]), s[3, 3]]\n",
       "  [([5, 3], [6, 3]), s[3, 3]]\n",
       "  [([6, 2], [6, 3]), s[3, 3]]\n",
       "  [([7, 1], [7, 2]), s[5, 2]]\n",
       "  [([8], [9]), 0]\n",
       "  [([4, 3, 2], [5, 3, 2]), s[5, 2]]\n",
       "  [([5, 3, 1], [5, 3, 2]), s[4, 3]]\n",
       "  [([6, 3], [6, 3, 1]), s[7, 1] + s[5, 2]]\n",
       "  [([7, 2], [8, 2]), 0]\n",
       "  [([8, 1], [8, 2]), s[6, 2]]\n",
       "  [([9], [9, 1]), s[8, 1]]\n",
       "  [([4, 3, 2, 1], [5, 3, 2, 1]), s[6, 2] + s[4, 3]]\n",
       "  [([5, 3, 2], [5, 3, 2, 1]), s[7, 1] + s[5, 2] + s[4, 3]]\n",
       "  [([6, 3, 1], [6, 4, 1]), 0]\n",
       "  [([7, 3], [7, 4]), 0]\n",
       "  [([8, 2], [8, 3]), s[5, 3]]\n",
       "  [([9, 1], [10, 1]), 0]\n",
       "  [([10], [11]), 0]"
      ]
     },
     "execution_count": 69,
     "metadata": {},
     "output_type": "execute_result"
    }
   ],
   "source": [
    "table([[[(tau,mu),A_mu(mu)-Eleve(A_mu(tau))] \n",
    "        for mu in YT_cover(tau) if Is_Dominant(mu)] \n",
    "       for tau in Triangles(10,condition=Is_Dominant)])"
   ]
  },
  {
   "cell_type": "code",
   "execution_count": 70,
   "metadata": {
    "jupyter": {
     "source_hidden": true
    }
   },
   "outputs": [],
   "source": [
    "@cached_function\n",
    "def A_mu(mu,n=None):\n",
    "    mu=Partition(mu)\n",
    "    if n==None:\n",
    "        n=len(mu) \n",
    "    if n==len(mu) and not Is_Dominant(mu):\n",
    "        return A_mu(Partition(mu).conjugate())\n",
    "    else:\n",
    "        return A_v(part_to_vect(mu,n))\n",
    "\n",
    "def PoidArete(v,star=True):\n",
    "    val=A_mu(topart(v[1]))-Eleve(A_mu(topart(v[0])))\n",
    "    if val==0 or len(val)==1:\n",
    "        return val\n",
    "    if star:\n",
    "        return ' '\n",
    "    else:\n",
    "        return val\n",
    "\n",
    "def PoidArete(v,star=True):\n",
    "    val=A_mu_norm((v[1]))-A_mu_norm((v[0]))\n",
    "    if val==0 or len(val)==1:\n",
    "        return val\n",
    "    if star:\n",
    "        return ' '\n",
    "    else:\n",
    "        return val\n",
    "\n",
    "def tonum(mu):\n",
    "    mu=Partition(mu)\n",
    "    k=mu.length()\n",
    "    return add(10^(k-i-1)*mu[i] for i in range(k))\n",
    "\n",
    "def topart(num):\n",
    "    return Partition([Integer(d) for d in str(num)])\n",
    "    \n",
    "@cached_function\n",
    "def Young_Triangle_cond(n,condition=(lambda tau:True)):\n",
    "    E=[tonum(nu) for k in range(n+1) for nu in TriangularPartitions(k) if condition(nu)]\n",
    "    R=[(tonum(mu),tonum(nu)) for k in range(1,n+1) \n",
    "       for mu in TriangularPartitions(k-1) if condition(mu)\n",
    "       for nu in TriangularPartitions(k) if condition(nu) and nu.contains(mu)]\n",
    "    return Poset([E,R],cover_relations=True)\n",
    "\n",
    "@cached_function\n",
    "def Young_Triangle_cond(n,condition=(lambda tau:True)):\n",
    "    E=[nu for k in range(n+1) for nu in TriangularPartitions(k) if condition(nu)]\n",
    "    R=[(mu,nu) for k in range(1,n+1) \n",
    "       for mu in TriangularPartitions(k-1) if condition(mu)\n",
    "       for nu in TriangularPartitions(k) if condition(nu) and nu.contains(mu)]\n",
    "    return Poset([E,R],cover_relations=True)\n",
    "\n",
    "@cached_function\n",
    "def flip_norm(F,n=None):\n",
    "    if n==None:\n",
    "        n=F.degree()\n",
    "    return F.scalar(Un)*s[n]+add(c*s([n-mu[0]]+mu[1:]) for mu,c in s(F) if mu.length()>0)\n",
    "\n",
    "def A_norm(tau):\n",
    "    return flip_norm(A(tau),add(tau))\n",
    "\n",
    "def A_mu_norm(tau):\n",
    "    return flip_norm(A_mu(tau),add(tau))\n",
    "\n",
    "@cached_function\n",
    "def SchurCat(n,flip=False):\n",
    "    if flip:\n",
    "        return flip_norm(SchurCat(n))\n",
    "    else:\n",
    "        return add(v[0]*s[SR(v[1]).degree(q)-1,SR(v[1]).degree(t)] \n",
    "               for v in (qt_catalan_number(n)*(q-t)).numerator() if v[0]>0)\n",
    "\n",
    "@cached_function\n",
    "def Comprime(Exp):\n",
    "    return (Exp.scalar(Un)*Un + add(c*s(mu[1:]) for mu,c in s(Exp)(q*Z) if not mu.size()==0)).map_coefficients(to_qn)"
   ]
  },
  {
   "cell_type": "code",
   "execution_count": 71,
   "metadata": {},
   "outputs": [],
   "source": [
    "YT=Young_Triangle_cond(11)\n",
    "label={}\n",
    "for v in YT.cover_relations():\n",
    "    label[v[0],v[1]] =  PoidArete(v,star=True)\n",
    "YT.plot(cover_labels=label,figsize=30).save('Dessin.pdf')"
   ]
  },
  {
   "cell_type": "code",
   "execution_count": 72,
   "metadata": {},
   "outputs": [
    {
     "data": {
      "text/html": [
       "<html>\\(\\displaystyle \\boldsymbol{1} + s_{21} + s_{31} + s_{42} + s_{41} + s_{52} + s_{63} + s_{51} + s_{62} + s_{73} + s_{84} + s_{72} + s_{83} + s_{94} + s_{82} + s_{93} + s_{11.4}\\)</html>"
      ],
      "text/latex": [
       "$\\displaystyle \\boldsymbol{1} + s_{21} + s_{31} + s_{42} + s_{41} + s_{52} + s_{63} + s_{51} + s_{62} + s_{73} + s_{84} + s_{72} + s_{83} + s_{94} + s_{82} + s_{93} + s_{11.4}$"
      ],
      "text/plain": [
       "s[] + s[2, 1] + s[3, 1] + s[4, 2] + s[4, 1] + s[5, 2] + s[6, 3] + s[5, 1] + s[6, 2] + s[7, 3] + s[8, 4] + s[7, 2] + s[8, 3] + s[9, 4] + s[8, 2] + s[9, 3] + s[11, 4]"
      ]
     },
     "execution_count": 72,
     "metadata": {},
     "output_type": "execute_result"
    }
   ],
   "source": [
    "flip_norm(A_mu((5,4,3,2,1)),15)"
   ]
  },
  {
   "cell_type": "code",
   "execution_count": 73,
   "metadata": {},
   "outputs": [],
   "source": [
    "rep=Qqt(expand(SR(mul(1/(1-q^i*t) for i in range(2,14))).series(q,15)).poly())"
   ]
  },
  {
   "cell_type": "code",
   "execution_count": 74,
   "metadata": {},
   "outputs": [
    {
     "data": {
      "text/html": [
       "<html>\\(\\displaystyle 0\\)</html>"
      ],
      "text/latex": [
       "$\\displaystyle 0$"
      ],
      "text/plain": [
       "0"
      ]
     },
     "execution_count": 74,
     "metadata": {},
     "output_type": "execute_result"
    }
   ],
   "source": [
    "add(c*s([SR(mon).degree(q),SR(mon).degree(t)]) \n",
    "    for c,mon in Qqt(expand(rep)) \n",
    "    if SR(mon).degree(q)+SR(mon).degree(t)<16)-flip_norm(SchurCat(14)).restrict_degree(15,exact=False)"
   ]
  },
  {
   "cell_type": "code",
   "execution_count": 75,
   "metadata": {},
   "outputs": [
    {
     "data": {
      "text/html": [
       "<html>\\(\\displaystyle s_{12.2} + s_{11.2} + s_{10.2}\\)</html>"
      ],
      "text/latex": [
       "$\\displaystyle s_{12.2} + s_{11.2} + s_{10.2}$"
      ],
      "text/plain": [
       "s[12, 2] + s[11, 2] + s[10, 2]"
      ]
     },
     "execution_count": 75,
     "metadata": {},
     "output_type": "execute_result"
    }
   ],
   "source": [
    "N=10\n",
    "k=4\n",
    "rep=Qqt(expand(SR(mul(1/(1-q^i*t) for i in range(2,N))).series(q,N+k)).poly())\n",
    "add(c*s([SR(mon).degree(q),SR(mon).degree(t)]) \n",
    "    for c,mon in Qqt(expand(rep)) \n",
    "    if SR(mon).degree(q)+SR(mon).degree(t)<=N+k)-SchurCat(N,flip=True).restrict_degree(N+k,exact=False)"
   ]
  },
  {
   "cell_type": "code",
   "execution_count": 76,
   "metadata": {},
   "outputs": [
    {
     "data": {
      "text/html": [
       "<div class=\"notruncate\">\n",
       "<table  class=\"table_form\">\n",
       "<tbody>\n",
       "<tr class =\"row-a\">\n",
       "<td style=\"text-align:left\">\\(1\\)</td>\n",
       "<td style=\"text-align:left\">\\(\\boldsymbol{1}\\)</td>\n",
       "</tr>\n",
       "<tr class =\"row-b\">\n",
       "<td style=\"text-align:left\">\\(2\\)</td>\n",
       "<td style=\"text-align:left\">\\(\\boldsymbol{1}\\)</td>\n",
       "</tr>\n",
       "<tr class =\"row-a\">\n",
       "<td style=\"text-align:left\">\\(3\\)</td>\n",
       "<td style=\"text-align:left\">\\(\\boldsymbol{1} + q^{3} s_{1}\\)</td>\n",
       "</tr>\n",
       "<tr class =\"row-b\">\n",
       "<td style=\"text-align:left\">\\(4\\)</td>\n",
       "<td style=\"text-align:left\">\\(\\boldsymbol{1} + q^{3} q_{2} s_{1}\\)</td>\n",
       "</tr>\n",
       "<tr class =\"row-a\">\n",
       "<td style=\"text-align:left\">\\(5\\)</td>\n",
       "<td style=\"text-align:left\">\\(\\boldsymbol{1} + q^{3} q_{3} s_{1} + \\frac{q^{6} q_{4}}{q_{2}} s_{2} + q^{9} s_{3}\\)</td>\n",
       "</tr>\n",
       "<tr class =\"row-b\">\n",
       "<td style=\"text-align:left\">\\(6\\)</td>\n",
       "<td style=\"text-align:left\">\\(\\boldsymbol{1} + q^{3} q_{4} s_{1} + q^{6} q_{5} s_{2} + q^{9} q_{4} s_{3} + \\left({\\left(q^{3} + q + 1\\right)} q^{12}\\right) s_{4}\\)</td>\n",
       "</tr>\n",
       "<tr class =\"row-a\">\n",
       "<td style=\"text-align:left\">\\(7\\)</td>\n",
       "<td style=\"text-align:left\">\\(\\boldsymbol{1} + q^{3} q_{5} s_{1} + \\frac{q^{6} q_{3} q_{6}}{q_{2}} s_{2} + \\frac{q^{9} q_{4} q_{5}}{q_{2}} s_{3} + \\frac{q^{12} q_{4} q_{5}}{q_{2}} s_{4} + q^{15} q_{5} s_{5} + q^{18} q_{3} s_{6} + q^{21} s_{7}\\)</td>\n",
       "</tr>\n",
       "<tr class =\"row-b\">\n",
       "<td style=\"text-align:left\">\\(8\\)</td>\n",
       "<td style=\"text-align:left\">\\(\\boldsymbol{1} + q^{3} q_{6} s_{1} + \\frac{q^{6} q_{4} q_{7}}{q_{2}} s_{2} + \\frac{q^{9} q_{4} q_{5} q_{6}}{q_{2} q_{3}} s_{3} + \\left({\\left(q^{4} + q^{3} + q^{2} + 1\\right)} q^{12} q_{6}\\right) s_{4} + \\left({\\left(q^{9} + q^{8} + 2 \\, q^{7} + 3 \\, q^{6} + 4 \\, q^{5} + 3 \\, q^{4} + 3 \\, q^{3} + 2 \\, q^{2} + q + 1\\right)} q^{15}\\right) s_{5} + \\left({\\left(q^{4} + q^{3} + q^{2} + 1\\right)} q^{18} q_{4}\\right) s_{6} + \\left({\\left(q^{7} + q^{6} + 2 \\, q^{5} + 2 \\, q^{4} + 3 \\, q^{3} + 2 \\, q^{2} + q + 1\\right)} q^{21}\\right) s_{7} + q^{24} q_{4} s_{8} + q^{27} s_{9}\\)</td>\n",
       "</tr>\n",
       "</tbody>\n",
       "</table>\n",
       "</div>"
      ],
      "text/plain": [
       "  1   s[]\n",
       "  2   s[]\n",
       "  3   s[] + q^3*s[1]\n",
       "  4   s[] + q^3*q_2*s[1]\n",
       "  5   s[] + q^3*q_3*s[1] + q^6*q_4/q_2*s[2] + q^9*s[3]\n",
       "  6   s[] + q^3*q_4*s[1] + q^6*q_5*s[2] + q^9*q_4*s[3] + ((q^3+q+1)*q^12)*s[4]\n",
       "  7   s[] + q^3*q_5*s[1] + q^6*q_3*q_6/q_2*s[2] + q^9*q_4*q_5/q_2*s[3] + q^12*q_4*q_5/q_2*s[4] + q^15*q_5*s[5] + q^18*q_3*s[6] + q^21*s[7]\n",
       "  8   s[] + q^3*q_6*s[1] + q^6*q_4*q_7/q_2*s[2] + q^9*q_4*q_5*q_6/(q_2*q_3)*s[3] + ((q^4+q^3+q^2+1)*q^12*q_6)*s[4] + ((q^9+q^8+2*q^7+3*q^6+4*q^5+3*q^4+3*q^3+2*q^2+q+1)*q^15)*s[5] + ((q^4+q^3+q^2+1)*q^18*q_4)*s[6] + ((q^7+q^6+2*q^5+2*q^4+3*q^3+2*q^2+q+1)*q^21)*s[7] + q^24*q_4*s[8] + q^27*s[9]"
      ]
     },
     "execution_count": 76,
     "metadata": {},
     "output_type": "execute_result"
    }
   ],
   "source": [
    "table([[n,Comprime(SchurCat(n,flip=True))] for n in range(1,9)])"
   ]
  },
  {
   "cell_type": "code",
   "execution_count": null,
   "metadata": {},
   "outputs": [],
   "source": []
  },
  {
   "cell_type": "code",
   "execution_count": null,
   "metadata": {},
   "outputs": [],
   "source": []
  },
  {
   "cell_type": "code",
   "execution_count": null,
   "metadata": {},
   "outputs": [],
   "source": []
  },
  {
   "cell_type": "code",
   "execution_count": null,
   "metadata": {},
   "outputs": [],
   "source": []
  },
  {
   "cell_type": "code",
   "execution_count": null,
   "metadata": {},
   "outputs": [],
   "source": []
  },
  {
   "cell_type": "code",
   "execution_count": null,
   "metadata": {},
   "outputs": [],
   "source": []
  },
  {
   "cell_type": "code",
   "execution_count": null,
   "metadata": {},
   "outputs": [],
   "source": []
  },
  {
   "cell_type": "code",
   "execution_count": null,
   "metadata": {},
   "outputs": [],
   "source": []
  },
  {
   "cell_type": "code",
   "execution_count": null,
   "metadata": {},
   "outputs": [],
   "source": []
  }
 ],
 "metadata": {
  "kernelspec": {
   "display_name": "SageMath 10.1",
   "language": "sage",
   "name": "sagemath-10.1"
  },
  "language_info": {
   "codemirror_mode": {
    "name": "ipython",
    "version": 3
   },
   "file_extension": ".py",
   "mimetype": "text/x-python",
   "name": "python",
   "nbconvert_exporter": "python",
   "pygments_lexer": "ipython3",
   "version": "3.11.1"
  }
 },
 "nbformat": 4,
 "nbformat_minor": 4
}
