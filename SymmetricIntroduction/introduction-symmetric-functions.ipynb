{
 "cells": [
  {
   "cell_type": "markdown",
   "metadata": {},
   "source": [
    "$\n",
    "\\def\\vq{\\color{green}  q}\n",
    "\\def\\K{\\color{green}  K}\n",
    "\\def\\vt{{\\color{green} t}}\n",
    "\\def\\vM{{\\scriptstyle  {\\color{green} M}}}\n",
    "\\def\\LL{\\mathbb{L}}\n",
    "\\def\\ju{\\color{orange} u}\n",
    "\\def\\jbm#1{\\color{orange}{\\boldsymbol{#1}}}\n",
    "\\def\\rbm#1{\\color{red} {\\boldsymbol{#1}}}\n",
    "\\def\\vbm#1{\\color{green}{\\boldsymbol{#1}}}\n",
    "\\def\\bbm#1{\\color{blue} {\\boldsymbol{#1}}}\n",
    "\\def\\bq{\\vbm{q}}\n",
    "\\def\\bt{\\vbm{t}}\n",
    "\\def\\bu{\\jbm{u}}\n",
    "\\def\\bv{\\jbm{v}}\n",
    "\\def\\x{\\bbm{x}}\n",
    "\\def\\y{\\rbm{y}}\n",
    "\\def\\bz{\\bbm{z}}\n",
    "$\n",
    "\n",
    "# <div align=\"center\">   <span style=\"color:blue\">     Symmetric Functions in Sage</span> \n",
    "## <div align=\"center\">   <span style=\"color:orange\">      François Bergeron </span> \n",
    "\n",
    "This is an introduction to symmetric functions via sage. We mostly follow the notation conventions of Macdonald's book: *Symmetric Functions and Hall Polynomials*, Second Edition,\n",
    "Oxford Mathematical Monographs, 1998.\n",
    "We describe how to manipulate \"abstract\" symmetric functions (with coefficients in the ring of rational coefficient fractions in $q$ and $t$), in a denumerable set of variables . \n",
    "\n",
    "## <div align=\"center\">   <span style=\"color:green\">      The Ring $\\Lambda$ </span> \n",
    "The ring $\\Lambda$ of symmetric functions in a denumerable set of variables $\\x=(\\color{blue}x_1,\\color{blue}x_2,\\ldots)$ is graded by degree, so that it decomposes as the direct sum\n",
    "$$\\Lambda=\\bigoplus_{n\\in \\mathbb{N}} \\Lambda_n,$$\n",
    "with each $\\Lambda_n$ being the linear subspace of homogeneous degree $n$ symmetric functions. These supspaces are of finite dimension, with bases indexed by <span style=\"color:blue\">__partitions__</span> of $n$.\n",
    "\n",
    "## <div align=\"center\">   <span style=\"color:green\">     Integer Partitions</span> \n",
    "\n",
    "Recall that a <span style=\"color:blue\">__partition__</span> $\\mu$ of $n$, one writes $\\mu\\vdash n$, is a decreasing sequence of positive integers $(\\mu_0,\\mu_1,\\ldots, \\mu_{k-1})$ (the $\\mu_i$'s are the <span style=\"color:blue\">__parts__</span> of $\\mu$) with  $n=\\mu_0+\\mu_1+\\ldots+\\mu_{k-1}$. \n",
    "\n",
    "The number $\\ell(\\mu):=k$ of parts of $\\mu$ is said to be its  <span style=\"color:blue\">__length__</span>. A partition $\\mu$ may also be described as a <span style=\"color:blue\">__Ferrers diagram__</span>, which is the $n$-subset of $\\mathbb{N}\\times \\mathbb{N}$:\n",
    " $$\\{(a,b)\\ |\\ 0\\leq a<\\mu_i\\quad{\\rm and}\\quad b<\\ell(\\mu)\\}.$$\n",
    "This set is also denoted $\\mu$, and its elements are the  <span style=\"color:blue\">__cells__</span> of $\\mu$. \n",
    "The <span style=\"color:blue\">__conjuguate__</span> of $\\mu$, is the partition $\\mu'$ such that\n",
    " $$ \\mu'=\\{(b,a)\\ |\\ (a,b)\\in\\mu\\}.$$\n",
    "Parts of $\\mu$ are the lengths of the <span style=\"color:blue\">__rows__</span> of its diagram, and parts of $\\mu'$ are the lengths of its <span style=\"color:blue\">__columns__</span>.\n",
    "\n",
    "If $\\mu$ has $d_k$ parts of size $k$, one also writes $\\mu=1^{d_1}2^{d_2}\\cdots n^{d_n}$, and set\n",
    "$$z_\\mu:=\\prod_k k^{d_k}d_k! $$ \n",
    "\n",
    "The  <span style=\"color:blue\">__staircase partition__</span> is defined to be\n",
    "$$\\delta_n:=(n-1,n-2,\\ldots,1,1).$$\n",
    "\n",
    "For more, see https://en.wikipedia.org/wiki/Partition_(number_theory)\n",
    "\n",
    "\n",
    "\n",
    "## <div align=\"center\">   <span style=\"color:green\"> The six bases</span>\n",
    "\n",
    "The homogeneous components of $\\Lambda$ aford the following six classical bases, all indexed by partitions of $\\mu=\\mu_0\\mu_1\\cdots \\mu_{k-1}$ of $n\\in\\mathbb{N}$:\n",
    "\n",
    "-   The <span style=\"color:blue\">__monomial__</span> functions $m_{\\mu}$\n",
    "$$m_{\\mu}=m_{\\mu}(\\x):=\\sum_{{\\rm sort}(\\alpha)=\\mu} \\x^\\alpha,$$\n",
    "where $\\alpha=(a_1,a_2,\\ldots)$ has a finite number of non-zero entries $a_i\\in\\mathbb{N}$, with ${\\rm sort}(\\alpha)$ denoting the deacreasing reordering of these entries; and  $\\x^\\alpha=\\color{blue}x_1^{a_1}\\color{blue}x_2^{a_2}\\cdots$.\n",
    "-   The <span style=\"color:blue\">__power sum__</span> symmetric functions $p_\\mu=p_{\\mu_1}p_{\\mu_2}\\cdots p_{\\mu_2}$, where\n",
    "\n",
    "$$p_n=\\color{blue}x_1^n+\\color{blue}x_2^n+\\ldots$$\n",
    "-   The <span style=\"color:blue\">__(complete) homogeneous__</span> symmetric functions $h_\\mu=h_{\\mu_0}h_{\\mu_1}\\cdots h_{\\mu_{k-1}}$, with \n",
    "\n",
    "$$h_n=\\sum_{\\lambda\\vdash n} m_\\lambda.$$\n",
    "-   The <span style=\"color:blue\">__elementary__</span> symmetric functions $e_\\mu=e_{\\mu_0}e_{\\mu_1}\\cdots e_{\\mu_{k-1}}$, where $e_n=\\mu_{1^n}.$\n",
    "-   The <span style=\"color:blue\">__Schur__</span> functions $s_{\\mu}$:\n",
    "\n",
    "$$s_{\\mu} = \\sum_{\\lambda\\vdash n} \\chi^\\mu(\\lambda) \\frac{p_\\lambda}{z_\\lambda},$$\n",
    "with $\\chi^\\mu$ denoting the character of the irreducible reprensentation of $\\mathbb{S}_n$ indexed by $\\mu$.\n",
    "-   The <span style=\"color:blue\">__forgotten__</span> symmetric functions  $f_{\\mu}$, which are dual to the $e_\\mu$ for the scalar product described further below.\n"
   ]
  },
  {
   "cell_type": "code",
   "execution_count": 2,
   "metadata": {
    "jupyter": {
     "source_hidden": true
    }
   },
   "outputs": [],
   "source": [
    "%display latex          \n",
    "\n",
    "def mystr(i): \n",
    "    if i<10: \n",
    "        return str(i) \n",
    "    else: \n",
    "        return ''.join([str(i),\".\"])\n",
    "    \n",
    "def compact(mu):\n",
    "    if mu==Partition([]): return 0\n",
    "    else: return (''.join(mystr(i) for i in mu))\n",
    "\n",
    "Partition._latex_= compact\n",
    "Composition._latex_= compact\n",
    "\n",
    "Sym = SymmetricFunctions(FractionField(QQ['q','t']))\n",
    "Sym.inject_shorthands(verbose=false)\n",
    "H = Sym.macdonald().Ht()\n",
    "H.print_options(prefix=\"H\")\n",
    "t=H.t\n",
    "q=H.q\n",
    "\n",
    "X=s[1]\n",
    "One=s([])\n",
    "f = e.dual_basis(prefix='f');\n",
    "\n",
    "M=(1-t)*(1-q)\n",
    "S = SymmetricFunctions(QQ)\n",
    "\n",
    "f._latex_term = lambda mu: \"\\\\mathbb{1}\" if mu==[] else \"f_{%s}\"%(''.join(mystr(i) for i in mu))\n",
    "H._latex_term = lambda mu: \"\\\\mathbb{1}\" if mu==[] else \"\\\\widetilde{H}_{%s}\"%(''.join(mystr(i) for i in mu))\n",
    "s._latex_term = lambda mu: \"\\\\mathbb{1}\" if mu==[] else \"s_{%s}\"%(''.join(mystr(i) for i in mu))\n",
    "p._latex_term = lambda mu: \"\\\\mathbb{1}\" if mu==[] else \"p_{%s}\"%(''.join(mystr(i) for i in mu))\n",
    "h._latex_term = lambda mu: \"\\\\mathbb{1}\" if mu==[] else \"h_{%s}\"%(''.join(mystr(i) for i in mu))\n",
    "e._latex_term = lambda mu: \"\\\\mathbb{1}\" if mu==[] else \"e_{%s}\"%(''.join(mystr(i) for i in mu))\n",
    "m._latex_term = lambda mu: \"\\\\mathbb{1}\" if mu==[] else \"m_{%s}\"%(''.join(mystr(i) for i in mu))"
   ]
  },
  {
   "cell_type": "markdown",
   "metadata": {
    "jp-MarkdownHeadingCollapsed": true
   },
   "source": [
    "# <div align=\"center\">   <span style=\"color:green\">      Partitions</span>\n"
   ]
  },
  {
   "cell_type": "code",
   "execution_count": 3,
   "metadata": {},
   "outputs": [],
   "source": [
    "def zee(mu):\n",
    "    mu=Partition(mu)\n",
    "    return mu.aut()"
   ]
  },
  {
   "cell_type": "markdown",
   "metadata": {
    "jp-MarkdownHeadingCollapsed": true
   },
   "source": [
    "### Using partitions, their cells, length, size, zee value, and conjugate\n",
    "\n",
    "Partitions are displayed as words, with the convention that parts of size larger than $9$ are followed by a \".\""
   ]
  },
  {
   "cell_type": "code",
   "execution_count": 4,
   "metadata": {},
   "outputs": [
    {
     "data": {
      "text/html": [
       "<html>\\(\\displaystyle \\left[5, 41, 32, 311, 221, 2111, 11111\\right]\\)</html>"
      ],
      "text/latex": [
       "$\\displaystyle \\left[5, 41, 32, 311, 221, 2111, 11111\\right]$"
      ],
      "text/plain": [
       "[[5], [4, 1], [3, 2], [3, 1, 1], [2, 2, 1], [2, 1, 1, 1], [1, 1, 1, 1, 1]]"
      ]
     },
     "execution_count": 4,
     "metadata": {},
     "output_type": "execute_result"
    }
   ],
   "source": [
    "list(Partitions(5))"
   ]
  },
  {
   "cell_type": "code",
   "execution_count": 5,
   "metadata": {},
   "outputs": [
    {
     "data": {
      "text/html": [
       "<html>\\(\\displaystyle 17.13.3321\\)</html>"
      ],
      "text/latex": [
       "$\\displaystyle 17.13.3321$"
      ],
      "text/plain": [
       "[17, 13, 3, 3, 2, 1]"
      ]
     },
     "execution_count": 5,
     "metadata": {},
     "output_type": "execute_result"
    }
   ],
   "source": [
    "mu=Partition([17,13,3,3,2,1])\n",
    "mu"
   ]
  },
  {
   "cell_type": "code",
   "execution_count": 6,
   "metadata": {},
   "outputs": [
    {
     "data": {
      "text/html": [
       "<html>\\(\\displaystyle \\left[\\left(0, 0\\right), \\left(0, 1\\right), \\left(0, 2\\right), \\left(0, 3\\right), \\left(0, 4\\right), \\left(0, 5\\right), \\left(0, 6\\right), \\left(0, 7\\right), \\left(0, 8\\right), \\left(0, 9\\right), \\left(0, 10\\right), \\left(0, 11\\right), \\left(0, 12\\right), \\left(0, 13\\right), \\left(0, 14\\right), \\left(0, 15\\right), \\left(0, 16\\right), \\left(1, 0\\right), \\left(1, 1\\right), \\left(1, 2\\right), \\left(1, 3\\right), \\left(1, 4\\right), \\left(1, 5\\right), \\left(1, 6\\right), \\left(1, 7\\right), \\left(1, 8\\right), \\left(1, 9\\right), \\left(1, 10\\right), \\left(1, 11\\right), \\left(1, 12\\right), \\left(2, 0\\right), \\left(2, 1\\right), \\left(2, 2\\right), \\left(3, 0\\right), \\left(3, 1\\right), \\left(3, 2\\right), \\left(4, 0\\right), \\left(4, 1\\right), \\left(5, 0\\right)\\right]\\)</html>"
      ],
      "text/latex": [
       "$\\displaystyle \\left[\\left(0, 0\\right), \\left(0, 1\\right), \\left(0, 2\\right), \\left(0, 3\\right), \\left(0, 4\\right), \\left(0, 5\\right), \\left(0, 6\\right), \\left(0, 7\\right), \\left(0, 8\\right), \\left(0, 9\\right), \\left(0, 10\\right), \\left(0, 11\\right), \\left(0, 12\\right), \\left(0, 13\\right), \\left(0, 14\\right), \\left(0, 15\\right), \\left(0, 16\\right), \\left(1, 0\\right), \\left(1, 1\\right), \\left(1, 2\\right), \\left(1, 3\\right), \\left(1, 4\\right), \\left(1, 5\\right), \\left(1, 6\\right), \\left(1, 7\\right), \\left(1, 8\\right), \\left(1, 9\\right), \\left(1, 10\\right), \\left(1, 11\\right), \\left(1, 12\\right), \\left(2, 0\\right), \\left(2, 1\\right), \\left(2, 2\\right), \\left(3, 0\\right), \\left(3, 1\\right), \\left(3, 2\\right), \\left(4, 0\\right), \\left(4, 1\\right), \\left(5, 0\\right)\\right]$"
      ],
      "text/plain": [
       "[(0, 0),\n",
       " (0, 1),\n",
       " (0, 2),\n",
       " (0, 3),\n",
       " (0, 4),\n",
       " (0, 5),\n",
       " (0, 6),\n",
       " (0, 7),\n",
       " (0, 8),\n",
       " (0, 9),\n",
       " (0, 10),\n",
       " (0, 11),\n",
       " (0, 12),\n",
       " (0, 13),\n",
       " (0, 14),\n",
       " (0, 15),\n",
       " (0, 16),\n",
       " (1, 0),\n",
       " (1, 1),\n",
       " (1, 2),\n",
       " (1, 3),\n",
       " (1, 4),\n",
       " (1, 5),\n",
       " (1, 6),\n",
       " (1, 7),\n",
       " (1, 8),\n",
       " (1, 9),\n",
       " (1, 10),\n",
       " (1, 11),\n",
       " (1, 12),\n",
       " (2, 0),\n",
       " (2, 1),\n",
       " (2, 2),\n",
       " (3, 0),\n",
       " (3, 1),\n",
       " (3, 2),\n",
       " (4, 0),\n",
       " (4, 1),\n",
       " (5, 0)]"
      ]
     },
     "execution_count": 6,
     "metadata": {},
     "output_type": "execute_result"
    }
   ],
   "source": [
    "mu.cells()"
   ]
  },
  {
   "cell_type": "code",
   "execution_count": 7,
   "metadata": {},
   "outputs": [
    {
     "data": {
      "text/html": [
       "<html>\\(\\displaystyle 6\\)</html>"
      ],
      "text/latex": [
       "$\\displaystyle 6$"
      ],
      "text/plain": [
       "6"
      ]
     },
     "execution_count": 7,
     "metadata": {},
     "output_type": "execute_result"
    }
   ],
   "source": [
    "mu.length()"
   ]
  },
  {
   "cell_type": "code",
   "execution_count": 8,
   "metadata": {},
   "outputs": [
    {
     "data": {
      "text/html": [
       "<html>\\(\\displaystyle \\left[\\left(4, 1\\right), \\left(31, 2\\right), \\left(22, 2\\right), \\left(211, 3\\right), \\left(1111, 4\\right)\\right]\\)</html>"
      ],
      "text/latex": [
       "$\\displaystyle \\left[\\left(4, 1\\right), \\left(31, 2\\right), \\left(22, 2\\right), \\left(211, 3\\right), \\left(1111, 4\\right)\\right]$"
      ],
      "text/plain": [
       "[([4], 1), ([3, 1], 2), ([2, 2], 2), ([2, 1, 1], 3), ([1, 1, 1, 1], 4)]"
      ]
     },
     "execution_count": 8,
     "metadata": {},
     "output_type": "execute_result"
    }
   ],
   "source": [
    "[(nu,nu.length()) for nu in Partitions(4)]"
   ]
  },
  {
   "cell_type": "code",
   "execution_count": 9,
   "metadata": {},
   "outputs": [
    {
     "data": {
      "text/html": [
       "<html>\\(\\displaystyle 39\\)</html>"
      ],
      "text/latex": [
       "$\\displaystyle 39$"
      ],
      "text/plain": [
       "39"
      ]
     },
     "execution_count": 9,
     "metadata": {},
     "output_type": "execute_result"
    }
   ],
   "source": [
    "mu.size()"
   ]
  },
  {
   "cell_type": "code",
   "execution_count": 10,
   "metadata": {},
   "outputs": [
    {
     "data": {
      "text/html": [
       "<html>\\(\\displaystyle 65422222222221111\\)</html>"
      ],
      "text/latex": [
       "$\\displaystyle 65422222222221111$"
      ],
      "text/plain": [
       "[6, 5, 4, 2, 2, 2, 2, 2, 2, 2, 2, 2, 2, 1, 1, 1, 1]"
      ]
     },
     "execution_count": 10,
     "metadata": {},
     "output_type": "execute_result"
    }
   ],
   "source": [
    "mu.conjugate()"
   ]
  },
  {
   "cell_type": "code",
   "execution_count": 11,
   "metadata": {},
   "outputs": [
    {
     "data": {
      "text/html": [
       "<html>\\(\\displaystyle \\left[\\left(4, 1111\\right), \\left(31, 211\\right), \\left(22, 22\\right), \\left(211, 31\\right), \\left(1111, 4\\right)\\right]\\)</html>"
      ],
      "text/latex": [
       "$\\displaystyle \\left[\\left(4, 1111\\right), \\left(31, 211\\right), \\left(22, 22\\right), \\left(211, 31\\right), \\left(1111, 4\\right)\\right]$"
      ],
      "text/plain": [
       "[([4], [1, 1, 1, 1]),\n",
       " ([3, 1], [2, 1, 1]),\n",
       " ([2, 2], [2, 2]),\n",
       " ([2, 1, 1], [3, 1]),\n",
       " ([1, 1, 1, 1], [4])]"
      ]
     },
     "execution_count": 11,
     "metadata": {},
     "output_type": "execute_result"
    }
   ],
   "source": [
    "[(nu,nu.conjugate()) for nu in Partitions(4)]"
   ]
  },
  {
   "cell_type": "code",
   "execution_count": 12,
   "metadata": {},
   "outputs": [
    {
     "data": {
      "text/html": [
       "<html>\\(\\displaystyle 7956\\)</html>"
      ],
      "text/latex": [
       "$\\displaystyle 7956$"
      ],
      "text/plain": [
       "7956"
      ]
     },
     "execution_count": 12,
     "metadata": {},
     "output_type": "execute_result"
    }
   ],
   "source": [
    "zee(mu)"
   ]
  },
  {
   "cell_type": "code",
   "execution_count": 13,
   "metadata": {},
   "outputs": [
    {
     "data": {
      "text/html": [
       "<html>\\(\\displaystyle \\left[\\left(4, 4\\right), \\left(31, 3\\right), \\left(22, 8\\right), \\left(211, 4\\right), \\left(1111, 24\\right)\\right]\\)</html>"
      ],
      "text/latex": [
       "$\\displaystyle \\left[\\left(4, 4\\right), \\left(31, 3\\right), \\left(22, 8\\right), \\left(211, 4\\right), \\left(1111, 24\\right)\\right]$"
      ],
      "text/plain": [
       "[([4], 4), ([3, 1], 3), ([2, 2], 8), ([2, 1, 1], 4), ([1, 1, 1, 1], 24)]"
      ]
     },
     "execution_count": 13,
     "metadata": {},
     "output_type": "execute_result"
    }
   ],
   "source": [
    "[(nu,zee(nu)) for nu in Partitions(4)]"
   ]
  },
  {
   "cell_type": "markdown",
   "metadata": {
    "jp-MarkdownHeadingCollapsed": true
   },
   "source": [
    "### One can restrict to subsets of partitions, such as limiting the number or size of parts; or to partitions lying inside another."
   ]
  },
  {
   "cell_type": "code",
   "execution_count": 14,
   "metadata": {},
   "outputs": [
    {
     "data": {
      "text/html": [
       "<html>\\(\\displaystyle \\left[91, 82, 73, 64, 55\\right]\\)</html>"
      ],
      "text/latex": [
       "$\\displaystyle \\left[91, 82, 73, 64, 55\\right]$"
      ],
      "text/plain": [
       "[[9, 1], [8, 2], [7, 3], [6, 4], [5, 5]]"
      ]
     },
     "execution_count": 14,
     "metadata": {},
     "output_type": "execute_result"
    }
   ],
   "source": [
    "list(Partitions(10,length=2))"
   ]
  },
  {
   "cell_type": "code",
   "execution_count": 15,
   "metadata": {},
   "outputs": [
    {
     "data": {
      "text/html": [
       "<html>\\(\\displaystyle \\left[41, 32, 311, 221, 2111\\right]\\)</html>"
      ],
      "text/latex": [
       "$\\displaystyle \\left[41, 32, 311, 221, 2111\\right]$"
      ],
      "text/plain": [
       "[[4, 1], [3, 2], [3, 1, 1], [2, 2, 1], [2, 1, 1, 1]]"
      ]
     },
     "execution_count": 15,
     "metadata": {},
     "output_type": "execute_result"
    }
   ],
   "source": [
    "list(Partitions(5,outer=[4,3,2,1]))"
   ]
  },
  {
   "cell_type": "code",
   "execution_count": 16,
   "metadata": {},
   "outputs": [
    {
     "data": {
      "text/html": [
       "<html>\\(\\displaystyle x^{6} + 3 \\, x^{5} + 3 \\, x^{4} + 3 \\, x^{3} + 2 \\, x^{2} + x + 1\\)</html>"
      ],
      "text/latex": [
       "$\\displaystyle x^{6} + 3 \\, x^{5} + 3 \\, x^{4} + 3 \\, x^{3} + 2 \\, x^{2} + x + 1$"
      ],
      "text/plain": [
       "x^6 + 3*x^5 + 3*x^4 + 3*x^3 + 2*x^2 + x + 1"
      ]
     },
     "execution_count": 16,
     "metadata": {},
     "output_type": "execute_result"
    }
   ],
   "source": [
    "add(Partitions(k,outer=[3,2,1]).cardinality()*x^k for k in range(7))"
   ]
  },
  {
   "cell_type": "code",
   "execution_count": 17,
   "metadata": {},
   "outputs": [],
   "source": [
    "def delta(n):\n",
    "    return Partition([n-1-k for k in range(n-1)])"
   ]
  },
  {
   "cell_type": "code",
   "execution_count": 18,
   "metadata": {},
   "outputs": [],
   "source": [
    "def x_catalan(n):\n",
    "    return add(Partitions(k,outer=delta(n)).cardinality()*x^k \n",
    "               for k in range(binomial(n,2)+1))"
   ]
  },
  {
   "cell_type": "code",
   "execution_count": 19,
   "metadata": {},
   "outputs": [
    {
     "data": {
      "text/html": [
       "<html>\\(\\displaystyle x^{15} + 5 \\, x^{14} + 10 \\, x^{13} + 14 \\, x^{12} + 17 \\, x^{11} + 16 \\, x^{10} + 16 \\, x^{9} + 14 \\, x^{8} + 11 \\, x^{7} + 9 \\, x^{6} + 7 \\, x^{5} + 5 \\, x^{4} + 3 \\, x^{3} + 2 \\, x^{2} + x + 1\\)</html>"
      ],
      "text/latex": [
       "$\\displaystyle x^{15} + 5 \\, x^{14} + 10 \\, x^{13} + 14 \\, x^{12} + 17 \\, x^{11} + 16 \\, x^{10} + 16 \\, x^{9} + 14 \\, x^{8} + 11 \\, x^{7} + 9 \\, x^{6} + 7 \\, x^{5} + 5 \\, x^{4} + 3 \\, x^{3} + 2 \\, x^{2} + x + 1$"
      ],
      "text/plain": [
       "x^15 + 5*x^14 + 10*x^13 + 14*x^12 + 17*x^11 + 16*x^10 + 16*x^9 + 14*x^8 + 11*x^7 + 9*x^6 + 7*x^5 + 5*x^4 + 3*x^3 + 2*x^2 + x + 1"
      ]
     },
     "execution_count": 19,
     "metadata": {},
     "output_type": "execute_result"
    }
   ],
   "source": [
    "x_catalan(6)"
   ]
  },
  {
   "cell_type": "code",
   "execution_count": 20,
   "metadata": {},
   "outputs": [
    {
     "data": {
      "text/html": [
       "<html>\\(\\displaystyle 1\\)</html>"
      ],
      "text/latex": [
       "$\\displaystyle 1$"
      ],
      "text/plain": [
       "1"
      ]
     },
     "metadata": {},
     "output_type": "display_data"
    },
    {
     "data": {
      "text/html": [
       "<html>\\(\\displaystyle 2\\)</html>"
      ],
      "text/latex": [
       "$\\displaystyle 2$"
      ],
      "text/plain": [
       "2"
      ]
     },
     "metadata": {},
     "output_type": "display_data"
    },
    {
     "data": {
      "text/html": [
       "<html>\\(\\displaystyle 5\\)</html>"
      ],
      "text/latex": [
       "$\\displaystyle 5$"
      ],
      "text/plain": [
       "5"
      ]
     },
     "metadata": {},
     "output_type": "display_data"
    },
    {
     "data": {
      "text/html": [
       "<html>\\(\\displaystyle 14\\)</html>"
      ],
      "text/latex": [
       "$\\displaystyle 14$"
      ],
      "text/plain": [
       "14"
      ]
     },
     "metadata": {},
     "output_type": "display_data"
    },
    {
     "data": {
      "text/html": [
       "<html>\\(\\displaystyle 42\\)</html>"
      ],
      "text/latex": [
       "$\\displaystyle 42$"
      ],
      "text/plain": [
       "42"
      ]
     },
     "metadata": {},
     "output_type": "display_data"
    },
    {
     "data": {
      "text/html": [
       "<html>\\(\\displaystyle 132\\)</html>"
      ],
      "text/latex": [
       "$\\displaystyle 132$"
      ],
      "text/plain": [
       "132"
      ]
     },
     "metadata": {},
     "output_type": "display_data"
    }
   ],
   "source": [
    "for n in range(1,7):\n",
    "    show(add(Partitions(k,outer=delta(n)).cardinality() for k in range(binomial(n,2)+1)))"
   ]
  },
  {
   "cell_type": "code",
   "execution_count": 21,
   "metadata": {},
   "outputs": [
    {
     "data": {
      "text/html": [
       "<html>\\(\\displaystyle x^{9} + x^{8} + 2 \\, x^{7} + 3 \\, x^{6} + 3 \\, x^{5} + 3 \\, x^{4} + 3 \\, x^{3} + 2 \\, x^{2} + x + 1\\)</html>"
      ],
      "text/latex": [
       "$\\displaystyle x^{9} + x^{8} + 2 \\, x^{7} + 3 \\, x^{6} + 3 \\, x^{5} + 3 \\, x^{4} + 3 \\, x^{3} + 2 \\, x^{2} + x + 1$"
      ],
      "text/plain": [
       "x^9 + x^8 + 2*x^7 + 3*x^6 + 3*x^5 + 3*x^4 + 3*x^3 + 2*x^2 + x + 1"
      ]
     },
     "execution_count": 21,
     "metadata": {},
     "output_type": "execute_result"
    }
   ],
   "source": [
    "fx=add(Partitions(k,outer=[3,3,3]).cardinality()*x^k for k in range(10))\n",
    "fx"
   ]
  },
  {
   "cell_type": "code",
   "execution_count": 22,
   "metadata": {},
   "outputs": [
    {
     "data": {
      "text/html": [
       "<html>\\(\\displaystyle {\\left(x^{4} + x^{3} + x^{2} + x + 1\\right)} {\\left(x^{2} - x + 1\\right)} {\\left(x^{2} + 1\\right)} {\\left(x + 1\\right)}\\)</html>"
      ],
      "text/latex": [
       "$\\displaystyle {\\left(x^{4} + x^{3} + x^{2} + x + 1\\right)} {\\left(x^{2} - x + 1\\right)} {\\left(x^{2} + 1\\right)} {\\left(x + 1\\right)}$"
      ],
      "text/plain": [
       "(x^4 + x^3 + x^2 + x + 1)*(x^2 - x + 1)*(x^2 + 1)*(x + 1)"
      ]
     },
     "execution_count": 22,
     "metadata": {},
     "output_type": "execute_result"
    }
   ],
   "source": [
    "factor(fx)"
   ]
  },
  {
   "cell_type": "code",
   "execution_count": 23,
   "metadata": {},
   "outputs": [
    {
     "data": {
      "text/html": [
       "<html>\\(\\displaystyle \\frac{{\\left(x^{6} - 1\\right)} {\\left(x^{5} - 1\\right)} {\\left(x^{4} - 1\\right)}}{{\\left(x^{3} - 1\\right)} {\\left(x^{2} - 1\\right)} {\\left(x - 1\\right)}}\\)</html>"
      ],
      "text/latex": [
       "$\\displaystyle \\frac{{\\left(x^{6} - 1\\right)} {\\left(x^{5} - 1\\right)} {\\left(x^{4} - 1\\right)}}{{\\left(x^{3} - 1\\right)} {\\left(x^{2} - 1\\right)} {\\left(x - 1\\right)}}$"
      ],
      "text/plain": [
       "(x^6 - 1)*(x^5 - 1)*(x^4 - 1)/((x^3 - 1)*(x^2 - 1)*(x - 1))"
      ]
     },
     "execution_count": 23,
     "metadata": {},
     "output_type": "execute_result"
    }
   ],
   "source": [
    "q_binomial(6,3,x)"
   ]
  },
  {
   "cell_type": "code",
   "execution_count": 24,
   "metadata": {},
   "outputs": [
    {
     "data": {
      "text/html": [
       "<html>\\(\\displaystyle {\\left(x^{4} + x^{3} + x^{2} + x + 1\\right)} {\\left(x^{2} - x + 1\\right)} {\\left(x^{2} + 1\\right)} {\\left(x + 1\\right)}\\)</html>"
      ],
      "text/latex": [
       "$\\displaystyle {\\left(x^{4} + x^{3} + x^{2} + x + 1\\right)} {\\left(x^{2} - x + 1\\right)} {\\left(x^{2} + 1\\right)} {\\left(x + 1\\right)}$"
      ],
      "text/plain": [
       "(x^4 + x^3 + x^2 + x + 1)*(x^2 - x + 1)*(x^2 + 1)*(x + 1)"
      ]
     },
     "execution_count": 24,
     "metadata": {},
     "output_type": "execute_result"
    }
   ],
   "source": [
    "factor(_)"
   ]
  },
  {
   "cell_type": "markdown",
   "metadata": {
    "jp-MarkdownHeadingCollapsed": true
   },
   "source": [
    "### Calculations of cardinalities of these sets are \"efficient\""
   ]
  },
  {
   "cell_type": "code",
   "execution_count": 25,
   "metadata": {},
   "outputs": [
    {
     "data": {
      "text/html": [
       "<html>\\(\\displaystyle 42963584246325385174883157483005920912690248645401139066014480612764163986215458185192990173314832179564211367228855321718015074490598095469727784182254987592569621576375743614022636192786\\)</html>"
      ],
      "text/latex": [
       "$\\displaystyle 42963584246325385174883157483005920912690248645401139066014480612764163986215458185192990173314832179564211367228855321718015074490598095469727784182254987592569621576375743614022636192786$"
      ],
      "text/plain": [
       "42963584246325385174883157483005920912690248645401139066014480612764163986215458185192990173314832179564211367228855321718015074490598095469727784182254987592569621576375743614022636192786"
      ]
     },
     "execution_count": 25,
     "metadata": {},
     "output_type": "execute_result"
    }
   ],
   "source": [
    "Partitions(30000).cardinality()"
   ]
  },
  {
   "cell_type": "code",
   "execution_count": 26,
   "metadata": {},
   "outputs": [
    {
     "data": {
      "text/html": [
       "<html>\\(\\displaystyle 1500\\)</html>"
      ],
      "text/latex": [
       "$\\displaystyle 1500$"
      ],
      "text/plain": [
       "1500"
      ]
     },
     "execution_count": 26,
     "metadata": {},
     "output_type": "execute_result"
    }
   ],
   "source": [
    "Partitions(3000,length=2).cardinality()"
   ]
  },
  {
   "cell_type": "code",
   "execution_count": 27,
   "metadata": {},
   "outputs": [
    {
     "data": {
      "text/html": [
       "<html>\\(\\displaystyle 5604\\)</html>"
      ],
      "text/latex": [
       "$\\displaystyle 5604$"
      ],
      "text/plain": [
       "5604"
      ]
     },
     "execution_count": 27,
     "metadata": {},
     "output_type": "execute_result"
    }
   ],
   "source": [
    "Partitions(30,outer=delta(100)).cardinality()"
   ]
  },
  {
   "cell_type": "markdown",
   "metadata": {
    "jp-MarkdownHeadingCollapsed": true
   },
   "source": [
    "# <div align=\"center\">   <span style=\"color:green\">     Symmetric functions</span>\n"
   ]
  },
  {
   "cell_type": "code",
   "execution_count": 28,
   "metadata": {},
   "outputs": [
    {
     "data": {
      "text/html": [
       "<html>\\(\\displaystyle \\left(m_{321}, s_{332221}, h_{321}, p_{22.1}, e_{754}\\right)\\)</html>"
      ],
      "text/latex": [
       "$\\displaystyle \\left(m_{321}, s_{332221}, h_{321}, p_{22.1}, e_{754}\\right)$"
      ],
      "text/plain": [
       "(m[3, 2, 1], s[3, 3, 2, 2, 2, 1], h[3, 2, 1], p[22, 1], e[7, 5, 4])"
      ]
     },
     "execution_count": 28,
     "metadata": {},
     "output_type": "execute_result"
    }
   ],
   "source": [
    "m[3,2,1],s[3,3,2,2,2,1], h[3,2,1], p[22,1], e[7,5,4]"
   ]
  },
  {
   "cell_type": "code",
   "execution_count": 29,
   "metadata": {},
   "outputs": [
    {
     "data": {
      "text/html": [
       "<html>\\(\\displaystyle s_{17.13.3321}\\)</html>"
      ],
      "text/latex": [
       "$\\displaystyle s_{17.13.3321}$"
      ],
      "text/plain": [
       "s[17, 13, 3, 3, 2, 1]"
      ]
     },
     "execution_count": 29,
     "metadata": {},
     "output_type": "execute_result"
    }
   ],
   "source": [
    "s(mu)"
   ]
  },
  {
   "cell_type": "markdown",
   "metadata": {
    "jp-MarkdownHeadingCollapsed": true
   },
   "source": [
    "### Explicit expansion of a symmetric in a set of variables (by default $x_0,x_1,\\ldots, x_{n-1}$)\n",
    "\n",
    "Simple examples include\n",
    "$$p_k(x_0,x_1,\\ldots, x_{n-1})= x_0^k+x_1^k+\\ldots +x_{n-1}^k,$$\n",
    "\n",
    "$$e_n(x_0,x_1,\\ldots, x_{n-1}) = x_0x_1\\cdots x_{n-1}.$$\n",
    "Recall that Python (and hence sage) likes to have \"ranges\" of length $n$ to go from\"0\" to \"$n-1$\".\n",
    "###  In sage\n",
    "\n",
    "For any $g$, the expression $g(x_0,x_1,\\ldots,x_{n-1})$ is obtained via \n",
    "$$g.{\\rm expand}(n)$$"
   ]
  },
  {
   "cell_type": "code",
   "execution_count": 30,
   "metadata": {},
   "outputs": [
    {
     "data": {
      "text/html": [
       "<html>\\(\\displaystyle x_{0}^{3} x_{1}^{2} x_{2} + x_{0}^{2} x_{1}^{3} x_{2} + x_{0}^{3} x_{1} x_{2}^{2} + x_{0} x_{1}^{3} x_{2}^{2} + x_{0}^{2} x_{1} x_{2}^{3} + x_{0} x_{1}^{2} x_{2}^{3} + x_{0}^{3} x_{1}^{2} x_{3} + x_{0}^{2} x_{1}^{3} x_{3} + x_{0}^{3} x_{2}^{2} x_{3} + x_{1}^{3} x_{2}^{2} x_{3} + x_{0}^{2} x_{2}^{3} x_{3} + x_{1}^{2} x_{2}^{3} x_{3} + x_{0}^{3} x_{1} x_{3}^{2} + x_{0} x_{1}^{3} x_{3}^{2} + x_{0}^{3} x_{2} x_{3}^{2} + x_{1}^{3} x_{2} x_{3}^{2} + x_{0} x_{2}^{3} x_{3}^{2} + x_{1} x_{2}^{3} x_{3}^{2} + x_{0}^{2} x_{1} x_{3}^{3} + x_{0} x_{1}^{2} x_{3}^{3} + x_{0}^{2} x_{2} x_{3}^{3} + x_{1}^{2} x_{2} x_{3}^{3} + x_{0} x_{2}^{2} x_{3}^{3} + x_{1} x_{2}^{2} x_{3}^{3}\\)</html>"
      ],
      "text/latex": [
       "$\\displaystyle x_{0}^{3} x_{1}^{2} x_{2} + x_{0}^{2} x_{1}^{3} x_{2} + x_{0}^{3} x_{1} x_{2}^{2} + x_{0} x_{1}^{3} x_{2}^{2} + x_{0}^{2} x_{1} x_{2}^{3} + x_{0} x_{1}^{2} x_{2}^{3} + x_{0}^{3} x_{1}^{2} x_{3} + x_{0}^{2} x_{1}^{3} x_{3} + x_{0}^{3} x_{2}^{2} x_{3} + x_{1}^{3} x_{2}^{2} x_{3} + x_{0}^{2} x_{2}^{3} x_{3} + x_{1}^{2} x_{2}^{3} x_{3} + x_{0}^{3} x_{1} x_{3}^{2} + x_{0} x_{1}^{3} x_{3}^{2} + x_{0}^{3} x_{2} x_{3}^{2} + x_{1}^{3} x_{2} x_{3}^{2} + x_{0} x_{2}^{3} x_{3}^{2} + x_{1} x_{2}^{3} x_{3}^{2} + x_{0}^{2} x_{1} x_{3}^{3} + x_{0} x_{1}^{2} x_{3}^{3} + x_{0}^{2} x_{2} x_{3}^{3} + x_{1}^{2} x_{2} x_{3}^{3} + x_{0} x_{2}^{2} x_{3}^{3} + x_{1} x_{2}^{2} x_{3}^{3}$"
      ],
      "text/plain": [
       "x0^3*x1^2*x2 + x0^2*x1^3*x2 + x0^3*x1*x2^2 + x0*x1^3*x2^2 + x0^2*x1*x2^3 + x0*x1^2*x2^3 + x0^3*x1^2*x3 + x0^2*x1^3*x3 + x0^3*x2^2*x3 + x1^3*x2^2*x3 + x0^2*x2^3*x3 + x1^2*x2^3*x3 + x0^3*x1*x3^2 + x0*x1^3*x3^2 + x0^3*x2*x3^2 + x1^3*x2*x3^2 + x0*x2^3*x3^2 + x1*x2^3*x3^2 + x0^2*x1*x3^3 + x0*x1^2*x3^3 + x0^2*x2*x3^3 + x1^2*x2*x3^3 + x0*x2^2*x3^3 + x1*x2^2*x3^3"
      ]
     },
     "execution_count": 30,
     "metadata": {},
     "output_type": "execute_result"
    }
   ],
   "source": [
    "m[3,2,1].expand(4)"
   ]
  },
  {
   "cell_type": "code",
   "execution_count": 31,
   "metadata": {},
   "outputs": [
    {
     "data": {
      "text/html": [
       "<html>\\(\\displaystyle x_{0}^{5} + x_{1}^{5} + x_{2}^{5} + x_{3}^{5} + x_{4}^{5} + x_{5}^{5}\\)</html>"
      ],
      "text/latex": [
       "$\\displaystyle x_{0}^{5} + x_{1}^{5} + x_{2}^{5} + x_{3}^{5} + x_{4}^{5} + x_{5}^{5}$"
      ],
      "text/plain": [
       "x0^5 + x1^5 + x2^5 + x3^5 + x4^5 + x5^5"
      ]
     },
     "execution_count": 31,
     "metadata": {},
     "output_type": "execute_result"
    }
   ],
   "source": [
    "p[5].expand(6)"
   ]
  },
  {
   "cell_type": "code",
   "execution_count": 32,
   "metadata": {},
   "outputs": [
    {
     "data": {
      "text/html": [
       "<html>\\(\\displaystyle x_{0} x_{1} x_{2} + x_{0} x_{1} x_{3} + x_{0} x_{2} x_{3} + x_{1} x_{2} x_{3} + x_{0} x_{1} x_{4} + x_{0} x_{2} x_{4} + x_{1} x_{2} x_{4} + x_{0} x_{3} x_{4} + x_{1} x_{3} x_{4} + x_{2} x_{3} x_{4}\\)</html>"
      ],
      "text/latex": [
       "$\\displaystyle x_{0} x_{1} x_{2} + x_{0} x_{1} x_{3} + x_{0} x_{2} x_{3} + x_{1} x_{2} x_{3} + x_{0} x_{1} x_{4} + x_{0} x_{2} x_{4} + x_{1} x_{2} x_{4} + x_{0} x_{3} x_{4} + x_{1} x_{3} x_{4} + x_{2} x_{3} x_{4}$"
      ],
      "text/plain": [
       "x0*x1*x2 + x0*x1*x3 + x0*x2*x3 + x1*x2*x3 + x0*x1*x4 + x0*x2*x4 + x1*x2*x4 + x0*x3*x4 + x1*x3*x4 + x2*x3*x4"
      ]
     },
     "execution_count": 32,
     "metadata": {},
     "output_type": "execute_result"
    }
   ],
   "source": [
    "e[3].expand(5)"
   ]
  },
  {
   "cell_type": "code",
   "execution_count": 33,
   "metadata": {},
   "outputs": [
    {
     "data": {
      "text/html": [
       "<html>\\(\\displaystyle x_{0}^{3} x_{1} x_{2} + x_{0}^{2} x_{1}^{2} x_{2} + x_{0} x_{1}^{3} x_{2} + x_{0}^{2} x_{1} x_{2}^{2} + x_{0} x_{1}^{2} x_{2}^{2} + x_{0} x_{1} x_{2}^{3} + x_{0}^{3} x_{1} x_{3} + x_{0}^{2} x_{1}^{2} x_{3} + x_{0} x_{1}^{3} x_{3} + x_{0}^{3} x_{2} x_{3} + 3 x_{0}^{2} x_{1} x_{2} x_{3} + 3 x_{0} x_{1}^{2} x_{2} x_{3} + x_{1}^{3} x_{2} x_{3} + x_{0}^{2} x_{2}^{2} x_{3} + 3 x_{0} x_{1} x_{2}^{2} x_{3} + x_{1}^{2} x_{2}^{2} x_{3} + x_{0} x_{2}^{3} x_{3} + x_{1} x_{2}^{3} x_{3} + x_{0}^{2} x_{1} x_{3}^{2} + x_{0} x_{1}^{2} x_{3}^{2} + x_{0}^{2} x_{2} x_{3}^{2} + 3 x_{0} x_{1} x_{2} x_{3}^{2} + x_{1}^{2} x_{2} x_{3}^{2} + x_{0} x_{2}^{2} x_{3}^{2} + x_{1} x_{2}^{2} x_{3}^{2} + x_{0} x_{1} x_{3}^{3} + x_{0} x_{2} x_{3}^{3} + x_{1} x_{2} x_{3}^{3}\\)</html>"
      ],
      "text/latex": [
       "$\\displaystyle x_{0}^{3} x_{1} x_{2} + x_{0}^{2} x_{1}^{2} x_{2} + x_{0} x_{1}^{3} x_{2} + x_{0}^{2} x_{1} x_{2}^{2} + x_{0} x_{1}^{2} x_{2}^{2} + x_{0} x_{1} x_{2}^{3} + x_{0}^{3} x_{1} x_{3} + x_{0}^{2} x_{1}^{2} x_{3} + x_{0} x_{1}^{3} x_{3} + x_{0}^{3} x_{2} x_{3} + 3 x_{0}^{2} x_{1} x_{2} x_{3} + 3 x_{0} x_{1}^{2} x_{2} x_{3} + x_{1}^{3} x_{2} x_{3} + x_{0}^{2} x_{2}^{2} x_{3} + 3 x_{0} x_{1} x_{2}^{2} x_{3} + x_{1}^{2} x_{2}^{2} x_{3} + x_{0} x_{2}^{3} x_{3} + x_{1} x_{2}^{3} x_{3} + x_{0}^{2} x_{1} x_{3}^{2} + x_{0} x_{1}^{2} x_{3}^{2} + x_{0}^{2} x_{2} x_{3}^{2} + 3 x_{0} x_{1} x_{2} x_{3}^{2} + x_{1}^{2} x_{2} x_{3}^{2} + x_{0} x_{2}^{2} x_{3}^{2} + x_{1} x_{2}^{2} x_{3}^{2} + x_{0} x_{1} x_{3}^{3} + x_{0} x_{2} x_{3}^{3} + x_{1} x_{2} x_{3}^{3}$"
      ],
      "text/plain": [
       "x0^3*x1*x2 + x0^2*x1^2*x2 + x0*x1^3*x2 + x0^2*x1*x2^2 + x0*x1^2*x2^2 + x0*x1*x2^3 + x0^3*x1*x3 + x0^2*x1^2*x3 + x0*x1^3*x3 + x0^3*x2*x3 + 3*x0^2*x1*x2*x3 + 3*x0*x1^2*x2*x3 + x1^3*x2*x3 + x0^2*x2^2*x3 + 3*x0*x1*x2^2*x3 + x1^2*x2^2*x3 + x0*x2^3*x3 + x1*x2^3*x3 + x0^2*x1*x3^2 + x0*x1^2*x3^2 + x0^2*x2*x3^2 + 3*x0*x1*x2*x3^2 + x1^2*x2*x3^2 + x0*x2^2*x3^2 + x1*x2^2*x3^2 + x0*x1*x3^3 + x0*x2*x3^3 + x1*x2*x3^3"
      ]
     },
     "execution_count": 33,
     "metadata": {},
     "output_type": "execute_result"
    }
   ],
   "source": [
    "s[3,1,1].expand(4)"
   ]
  },
  {
   "cell_type": "markdown",
   "metadata": {
    "jp-MarkdownHeadingCollapsed": true
   },
   "source": [
    "### One may use an \"optional alphabet\""
   ]
  },
  {
   "cell_type": "code",
   "execution_count": 34,
   "metadata": {
    "scrolled": true
   },
   "outputs": [
    {
     "data": {
      "text/html": [
       "<html>\\(\\displaystyle x^{2} y + x y^{2} + x^{2} z + 2 x y z + y^{2} z + x z^{2} + y z^{2}\\)</html>"
      ],
      "text/latex": [
       "$\\displaystyle x^{2} y + x y^{2} + x^{2} z + 2 x y z + y^{2} z + x z^{2} + y z^{2}$"
      ],
      "text/plain": [
       "x^2*y + x*y^2 + x^2*z + 2*x*y*z + y^2*z + x*z^2 + y*z^2"
      ]
     },
     "execution_count": 34,
     "metadata": {},
     "output_type": "execute_result"
    }
   ],
   "source": [
    "g = s[2,1]\n",
    "g.expand(3, alphabet =['x','y','z'])"
   ]
  },
  {
   "cell_type": "markdown",
   "metadata": {
    "jp-MarkdownHeadingCollapsed": true
   },
   "source": [
    "### The monomial basis is the \"simplest\"\n",
    "By definition the <span style=\"color:blue\">__complete homogeneous__</span> symmetric functions $h_n$ \n",
    "is the sum of all monomial summetric functions $m_\\mu$, for $\\mu$ partition of $n$. Thus"
   ]
  },
  {
   "cell_type": "code",
   "execution_count": 35,
   "metadata": {},
   "outputs": [
    {
     "data": {
      "text/html": [
       "<html>\\(\\displaystyle m_{1111} + m_{211} + m_{22} + m_{31} + m_{4}\\)</html>"
      ],
      "text/latex": [
       "$\\displaystyle m_{1111} + m_{211} + m_{22} + m_{31} + m_{4}$"
      ],
      "text/plain": [
       "m[1, 1, 1, 1] + m[2, 1, 1] + m[2, 2] + m[3, 1] + m[4]"
      ]
     },
     "execution_count": 35,
     "metadata": {},
     "output_type": "execute_result"
    }
   ],
   "source": [
    "m(h[4])"
   ]
  },
  {
   "cell_type": "code",
   "execution_count": 36,
   "metadata": {},
   "outputs": [
    {
     "data": {
      "text/html": [
       "<html>\\(\\displaystyle \\left(h_{5}, m_{11111} + m_{2111} + m_{221} + m_{311} + m_{32} + m_{41} + m_{5}\\right)\\)</html>"
      ],
      "text/latex": [
       "$\\displaystyle \\left(h_{5}, m_{11111} + m_{2111} + m_{221} + m_{311} + m_{32} + m_{41} + m_{5}\\right)$"
      ],
      "text/plain": [
       "(h[5],\n",
       " m[1, 1, 1, 1, 1] + m[2, 1, 1, 1] + m[2, 2, 1] + m[3, 1, 1] + m[3, 2] + m[4, 1] + m[5])"
      ]
     },
     "metadata": {},
     "output_type": "display_data"
    },
    {
     "data": {
      "text/html": [
       "<html>\\(\\displaystyle \\left(h_{41}, 5 m_{11111} + 4 m_{2111} + 3 m_{221} + 3 m_{311} + 2 m_{32} + 2 m_{41} + m_{5}\\right)\\)</html>"
      ],
      "text/latex": [
       "$\\displaystyle \\left(h_{41}, 5 m_{11111} + 4 m_{2111} + 3 m_{221} + 3 m_{311} + 2 m_{32} + 2 m_{41} + m_{5}\\right)$"
      ],
      "text/plain": [
       "(h[4, 1],\n",
       " 5*m[1, 1, 1, 1, 1] + 4*m[2, 1, 1, 1] + 3*m[2, 2, 1] + 3*m[3, 1, 1] + 2*m[3, 2] + 2*m[4, 1] + m[5])"
      ]
     },
     "metadata": {},
     "output_type": "display_data"
    },
    {
     "data": {
      "text/html": [
       "<html>\\(\\displaystyle \\left(h_{32}, 10 m_{11111} + 7 m_{2111} + 5 m_{221} + 4 m_{311} + 3 m_{32} + 2 m_{41} + m_{5}\\right)\\)</html>"
      ],
      "text/latex": [
       "$\\displaystyle \\left(h_{32}, 10 m_{11111} + 7 m_{2111} + 5 m_{221} + 4 m_{311} + 3 m_{32} + 2 m_{41} + m_{5}\\right)$"
      ],
      "text/plain": [
       "(h[3, 2],\n",
       " 10*m[1, 1, 1, 1, 1] + 7*m[2, 1, 1, 1] + 5*m[2, 2, 1] + 4*m[3, 1, 1] + 3*m[3, 2] + 2*m[4, 1] + m[5])"
      ]
     },
     "metadata": {},
     "output_type": "display_data"
    },
    {
     "data": {
      "text/html": [
       "<html>\\(\\displaystyle \\left(h_{311}, 20 m_{11111} + 13 m_{2111} + 8 m_{221} + 7 m_{311} + 4 m_{32} + 3 m_{41} + m_{5}\\right)\\)</html>"
      ],
      "text/latex": [
       "$\\displaystyle \\left(h_{311}, 20 m_{11111} + 13 m_{2111} + 8 m_{221} + 7 m_{311} + 4 m_{32} + 3 m_{41} + m_{5}\\right)$"
      ],
      "text/plain": [
       "(h[3, 1, 1],\n",
       " 20*m[1, 1, 1, 1, 1] + 13*m[2, 1, 1, 1] + 8*m[2, 2, 1] + 7*m[3, 1, 1] + 4*m[3, 2] + 3*m[4, 1] + m[5])"
      ]
     },
     "metadata": {},
     "output_type": "display_data"
    },
    {
     "data": {
      "text/html": [
       "<html>\\(\\displaystyle \\left(h_{221}, 30 m_{11111} + 18 m_{2111} + 11 m_{221} + 8 m_{311} + 5 m_{32} + 3 m_{41} + m_{5}\\right)\\)</html>"
      ],
      "text/latex": [
       "$\\displaystyle \\left(h_{221}, 30 m_{11111} + 18 m_{2111} + 11 m_{221} + 8 m_{311} + 5 m_{32} + 3 m_{41} + m_{5}\\right)$"
      ],
      "text/plain": [
       "(h[2, 2, 1],\n",
       " 30*m[1, 1, 1, 1, 1] + 18*m[2, 1, 1, 1] + 11*m[2, 2, 1] + 8*m[3, 1, 1] + 5*m[3, 2] + 3*m[4, 1] + m[5])"
      ]
     },
     "metadata": {},
     "output_type": "display_data"
    },
    {
     "data": {
      "text/html": [
       "<html>\\(\\displaystyle \\left(h_{2111}, 60 m_{11111} + 33 m_{2111} + 18 m_{221} + 13 m_{311} + 7 m_{32} + 4 m_{41} + m_{5}\\right)\\)</html>"
      ],
      "text/latex": [
       "$\\displaystyle \\left(h_{2111}, 60 m_{11111} + 33 m_{2111} + 18 m_{221} + 13 m_{311} + 7 m_{32} + 4 m_{41} + m_{5}\\right)$"
      ],
      "text/plain": [
       "(h[2, 1, 1, 1],\n",
       " 60*m[1, 1, 1, 1, 1] + 33*m[2, 1, 1, 1] + 18*m[2, 2, 1] + 13*m[3, 1, 1] + 7*m[3, 2] + 4*m[4, 1] + m[5])"
      ]
     },
     "metadata": {},
     "output_type": "display_data"
    },
    {
     "data": {
      "text/html": [
       "<html>\\(\\displaystyle \\left(h_{11111}, 120 m_{11111} + 60 m_{2111} + 30 m_{221} + 20 m_{311} + 10 m_{32} + 5 m_{41} + m_{5}\\right)\\)</html>"
      ],
      "text/latex": [
       "$\\displaystyle \\left(h_{11111}, 120 m_{11111} + 60 m_{2111} + 30 m_{221} + 20 m_{311} + 10 m_{32} + 5 m_{41} + m_{5}\\right)$"
      ],
      "text/plain": [
       "(h[1, 1, 1, 1, 1],\n",
       " 120*m[1, 1, 1, 1, 1] + 60*m[2, 1, 1, 1] + 30*m[2, 2, 1] + 20*m[3, 1, 1] + 10*m[3, 2] + 5*m[4, 1] + m[5])"
      ]
     },
     "metadata": {},
     "output_type": "display_data"
    }
   ],
   "source": [
    "for mu in Partitions(5):\n",
    "    show((h(mu),m(h(mu))))"
   ]
  },
  {
   "cell_type": "code",
   "execution_count": 37,
   "metadata": {},
   "outputs": [
    {
     "data": {
      "text/html": [
       "<html>\\(\\displaystyle \\left(p_{5}, m_{5}\\right)\\)</html>"
      ],
      "text/latex": [
       "$\\displaystyle \\left(p_{5}, m_{5}\\right)$"
      ],
      "text/plain": [
       "(p[5], m[5])"
      ]
     },
     "metadata": {},
     "output_type": "display_data"
    },
    {
     "data": {
      "text/html": [
       "<html>\\(\\displaystyle \\left(p_{41}, m_{41} + m_{5}\\right)\\)</html>"
      ],
      "text/latex": [
       "$\\displaystyle \\left(p_{41}, m_{41} + m_{5}\\right)$"
      ],
      "text/plain": [
       "(p[4, 1], m[4, 1] + m[5])"
      ]
     },
     "metadata": {},
     "output_type": "display_data"
    },
    {
     "data": {
      "text/html": [
       "<html>\\(\\displaystyle \\left(p_{32}, m_{32} + m_{5}\\right)\\)</html>"
      ],
      "text/latex": [
       "$\\displaystyle \\left(p_{32}, m_{32} + m_{5}\\right)$"
      ],
      "text/plain": [
       "(p[3, 2], m[3, 2] + m[5])"
      ]
     },
     "metadata": {},
     "output_type": "display_data"
    },
    {
     "data": {
      "text/html": [
       "<html>\\(\\displaystyle \\left(p_{311}, 2 m_{311} + m_{32} + 2 m_{41} + m_{5}\\right)\\)</html>"
      ],
      "text/latex": [
       "$\\displaystyle \\left(p_{311}, 2 m_{311} + m_{32} + 2 m_{41} + m_{5}\\right)$"
      ],
      "text/plain": [
       "(p[3, 1, 1], 2*m[3, 1, 1] + m[3, 2] + 2*m[4, 1] + m[5])"
      ]
     },
     "metadata": {},
     "output_type": "display_data"
    },
    {
     "data": {
      "text/html": [
       "<html>\\(\\displaystyle \\left(p_{221}, 2 m_{221} + 2 m_{32} + m_{41} + m_{5}\\right)\\)</html>"
      ],
      "text/latex": [
       "$\\displaystyle \\left(p_{221}, 2 m_{221} + 2 m_{32} + m_{41} + m_{5}\\right)$"
      ],
      "text/plain": [
       "(p[2, 2, 1], 2*m[2, 2, 1] + 2*m[3, 2] + m[4, 1] + m[5])"
      ]
     },
     "metadata": {},
     "output_type": "display_data"
    },
    {
     "data": {
      "text/html": [
       "<html>\\(\\displaystyle \\left(p_{2111}, 6 m_{2111} + 6 m_{221} + 6 m_{311} + 4 m_{32} + 3 m_{41} + m_{5}\\right)\\)</html>"
      ],
      "text/latex": [
       "$\\displaystyle \\left(p_{2111}, 6 m_{2111} + 6 m_{221} + 6 m_{311} + 4 m_{32} + 3 m_{41} + m_{5}\\right)$"
      ],
      "text/plain": [
       "(p[2, 1, 1, 1],\n",
       " 6*m[2, 1, 1, 1] + 6*m[2, 2, 1] + 6*m[3, 1, 1] + 4*m[3, 2] + 3*m[4, 1] + m[5])"
      ]
     },
     "metadata": {},
     "output_type": "display_data"
    },
    {
     "data": {
      "text/html": [
       "<html>\\(\\displaystyle \\left(p_{11111}, 120 m_{11111} + 60 m_{2111} + 30 m_{221} + 20 m_{311} + 10 m_{32} + 5 m_{41} + m_{5}\\right)\\)</html>"
      ],
      "text/latex": [
       "$\\displaystyle \\left(p_{11111}, 120 m_{11111} + 60 m_{2111} + 30 m_{221} + 20 m_{311} + 10 m_{32} + 5 m_{41} + m_{5}\\right)$"
      ],
      "text/plain": [
       "(p[1, 1, 1, 1, 1],\n",
       " 120*m[1, 1, 1, 1, 1] + 60*m[2, 1, 1, 1] + 30*m[2, 2, 1] + 20*m[3, 1, 1] + 10*m[3, 2] + 5*m[4, 1] + m[5])"
      ]
     },
     "metadata": {},
     "output_type": "display_data"
    }
   ],
   "source": [
    "for mu in Partitions(5):\n",
    "    show((p(mu),m(p(mu))))"
   ]
  },
  {
   "cell_type": "code",
   "execution_count": 38,
   "metadata": {},
   "outputs": [
    {
     "data": {
      "text/html": [
       "<html>\\(\\displaystyle \\left(e_{5}, m_{11111}\\right)\\)</html>"
      ],
      "text/latex": [
       "$\\displaystyle \\left(e_{5}, m_{11111}\\right)$"
      ],
      "text/plain": [
       "(e[5], m[1, 1, 1, 1, 1])"
      ]
     },
     "metadata": {},
     "output_type": "display_data"
    },
    {
     "data": {
      "text/html": [
       "<html>\\(\\displaystyle \\left(e_{41}, 5 m_{11111} + m_{2111}\\right)\\)</html>"
      ],
      "text/latex": [
       "$\\displaystyle \\left(e_{41}, 5 m_{11111} + m_{2111}\\right)$"
      ],
      "text/plain": [
       "(e[4, 1], 5*m[1, 1, 1, 1, 1] + m[2, 1, 1, 1])"
      ]
     },
     "metadata": {},
     "output_type": "display_data"
    },
    {
     "data": {
      "text/html": [
       "<html>\\(\\displaystyle \\left(e_{32}, 10 m_{11111} + 3 m_{2111} + m_{221}\\right)\\)</html>"
      ],
      "text/latex": [
       "$\\displaystyle \\left(e_{32}, 10 m_{11111} + 3 m_{2111} + m_{221}\\right)$"
      ],
      "text/plain": [
       "(e[3, 2], 10*m[1, 1, 1, 1, 1] + 3*m[2, 1, 1, 1] + m[2, 2, 1])"
      ]
     },
     "metadata": {},
     "output_type": "display_data"
    },
    {
     "data": {
      "text/html": [
       "<html>\\(\\displaystyle \\left(e_{311}, 20 m_{11111} + 7 m_{2111} + 2 m_{221} + m_{311}\\right)\\)</html>"
      ],
      "text/latex": [
       "$\\displaystyle \\left(e_{311}, 20 m_{11111} + 7 m_{2111} + 2 m_{221} + m_{311}\\right)$"
      ],
      "text/plain": [
       "(e[3, 1, 1], 20*m[1, 1, 1, 1, 1] + 7*m[2, 1, 1, 1] + 2*m[2, 2, 1] + m[3, 1, 1])"
      ]
     },
     "metadata": {},
     "output_type": "display_data"
    },
    {
     "data": {
      "text/html": [
       "<html>\\(\\displaystyle \\left(e_{221}, 30 m_{11111} + 12 m_{2111} + 5 m_{221} + 2 m_{311} + m_{32}\\right)\\)</html>"
      ],
      "text/latex": [
       "$\\displaystyle \\left(e_{221}, 30 m_{11111} + 12 m_{2111} + 5 m_{221} + 2 m_{311} + m_{32}\\right)$"
      ],
      "text/plain": [
       "(e[2, 2, 1],\n",
       " 30*m[1, 1, 1, 1, 1] + 12*m[2, 1, 1, 1] + 5*m[2, 2, 1] + 2*m[3, 1, 1] + m[3, 2])"
      ]
     },
     "metadata": {},
     "output_type": "display_data"
    },
    {
     "data": {
      "text/html": [
       "<html>\\(\\displaystyle \\left(e_{2111}, 60 m_{11111} + 27 m_{2111} + 12 m_{221} + 7 m_{311} + 3 m_{32} + m_{41}\\right)\\)</html>"
      ],
      "text/latex": [
       "$\\displaystyle \\left(e_{2111}, 60 m_{11111} + 27 m_{2111} + 12 m_{221} + 7 m_{311} + 3 m_{32} + m_{41}\\right)$"
      ],
      "text/plain": [
       "(e[2, 1, 1, 1],\n",
       " 60*m[1, 1, 1, 1, 1] + 27*m[2, 1, 1, 1] + 12*m[2, 2, 1] + 7*m[3, 1, 1] + 3*m[3, 2] + m[4, 1])"
      ]
     },
     "metadata": {},
     "output_type": "display_data"
    },
    {
     "data": {
      "text/html": [
       "<html>\\(\\displaystyle \\left(e_{11111}, 120 m_{11111} + 60 m_{2111} + 30 m_{221} + 20 m_{311} + 10 m_{32} + 5 m_{41} + m_{5}\\right)\\)</html>"
      ],
      "text/latex": [
       "$\\displaystyle \\left(e_{11111}, 120 m_{11111} + 60 m_{2111} + 30 m_{221} + 20 m_{311} + 10 m_{32} + 5 m_{41} + m_{5}\\right)$"
      ],
      "text/plain": [
       "(e[1, 1, 1, 1, 1],\n",
       " 120*m[1, 1, 1, 1, 1] + 60*m[2, 1, 1, 1] + 30*m[2, 2, 1] + 20*m[3, 1, 1] + 10*m[3, 2] + 5*m[4, 1] + m[5])"
      ]
     },
     "metadata": {},
     "output_type": "display_data"
    }
   ],
   "source": [
    "for mu in Partitions(5):\n",
    "    show((e(mu),m(e(mu))))"
   ]
  },
  {
   "cell_type": "markdown",
   "metadata": {
    "jp-MarkdownHeadingCollapsed": true
   },
   "source": [
    "# <div align=\"center\">   <span style=\"color:green\">     The Kostka numbers</span>\n",
    "$$s_\\mu=\\sum_{\\mu\\vdash n} \\K_{\\mu,\\nu} m_\\nu$$\n",
    "Here, $\\K_{\\mu,\\nu}$ is the number of <span style=\"color:blue\">__semi-standard tableaux__</span> of <span style=\"color:blue\">__shape__</span> $\\mu$ and <span style=\"color:blue\">__content__</span> $\\nu$."
   ]
  },
  {
   "cell_type": "code",
   "execution_count": 39,
   "metadata": {},
   "outputs": [
    {
     "data": {
      "text/html": [
       "<html>\\(\\displaystyle 168 m_{111111111} + 77 m_{21111111} + 36 m_{2211111} + 17 m_{222111} + 8 m_{22221} + 16 m_{3111111} + 8 m_{321111} + 4 m_{32211} + 2 m_{3222} + 2 m_{33111} + m_{3321}\\)</html>"
      ],
      "text/latex": [
       "$\\displaystyle 168 m_{111111111} + 77 m_{21111111} + 36 m_{2211111} + 17 m_{222111} + 8 m_{22221} + 16 m_{3111111} + 8 m_{321111} + 4 m_{32211} + 2 m_{3222} + 2 m_{33111} + m_{3321}$"
      ],
      "text/plain": [
       "168*m[1, 1, 1, 1, 1, 1, 1, 1, 1] + 77*m[2, 1, 1, 1, 1, 1, 1, 1] + 36*m[2, 2, 1, 1, 1, 1, 1] + 17*m[2, 2, 2, 1, 1, 1] + 8*m[2, 2, 2, 2, 1] + 16*m[3, 1, 1, 1, 1, 1, 1] + 8*m[3, 2, 1, 1, 1, 1] + 4*m[3, 2, 2, 1, 1] + 2*m[3, 2, 2, 2] + 2*m[3, 3, 1, 1, 1] + m[3, 3, 2, 1]"
      ]
     },
     "execution_count": 39,
     "metadata": {},
     "output_type": "execute_result"
    }
   ],
   "source": [
    "m(s[3,3,2,1])"
   ]
  },
  {
   "cell_type": "code",
   "execution_count": 40,
   "metadata": {},
   "outputs": [
    {
     "data": {
      "text/html": [
       "<html>\\(\\displaystyle 17\\)</html>"
      ],
      "text/latex": [
       "$\\displaystyle 17$"
      ],
      "text/plain": [
       "17"
      ]
     },
     "execution_count": 40,
     "metadata": {},
     "output_type": "execute_result"
    }
   ],
   "source": [
    "mu=[3,3,2,1]\n",
    "nu=[2,2,2,1,1,1]\n",
    "SemistandardTableaux(mu, nu).cardinality()"
   ]
  },
  {
   "cell_type": "code",
   "execution_count": 41,
   "metadata": {},
   "outputs": [
    {
     "data": {
      "text/html": [
       "<html>\\(\\displaystyle \\left(s_{5}, m_{11111} + m_{2111} + m_{221} + m_{311} + m_{32} + m_{41} + m_{5}\\right)\\)</html>"
      ],
      "text/latex": [
       "$\\displaystyle \\left(s_{5}, m_{11111} + m_{2111} + m_{221} + m_{311} + m_{32} + m_{41} + m_{5}\\right)$"
      ],
      "text/plain": [
       "(s[5],\n",
       " m[1, 1, 1, 1, 1] + m[2, 1, 1, 1] + m[2, 2, 1] + m[3, 1, 1] + m[3, 2] + m[4, 1] + m[5])"
      ]
     },
     "metadata": {},
     "output_type": "display_data"
    },
    {
     "data": {
      "text/html": [
       "<html>\\(\\displaystyle \\left(s_{41}, 4 m_{11111} + 3 m_{2111} + 2 m_{221} + 2 m_{311} + m_{32} + m_{41}\\right)\\)</html>"
      ],
      "text/latex": [
       "$\\displaystyle \\left(s_{41}, 4 m_{11111} + 3 m_{2111} + 2 m_{221} + 2 m_{311} + m_{32} + m_{41}\\right)$"
      ],
      "text/plain": [
       "(s[4, 1],\n",
       " 4*m[1, 1, 1, 1, 1] + 3*m[2, 1, 1, 1] + 2*m[2, 2, 1] + 2*m[3, 1, 1] + m[3, 2] + m[4, 1])"
      ]
     },
     "metadata": {},
     "output_type": "display_data"
    },
    {
     "data": {
      "text/html": [
       "<html>\\(\\displaystyle \\left(s_{32}, 5 m_{11111} + 3 m_{2111} + 2 m_{221} + m_{311} + m_{32}\\right)\\)</html>"
      ],
      "text/latex": [
       "$\\displaystyle \\left(s_{32}, 5 m_{11111} + 3 m_{2111} + 2 m_{221} + m_{311} + m_{32}\\right)$"
      ],
      "text/plain": [
       "(s[3, 2],\n",
       " 5*m[1, 1, 1, 1, 1] + 3*m[2, 1, 1, 1] + 2*m[2, 2, 1] + m[3, 1, 1] + m[3, 2])"
      ]
     },
     "metadata": {},
     "output_type": "display_data"
    },
    {
     "data": {
      "text/html": [
       "<html>\\(\\displaystyle \\left(s_{311}, 6 m_{11111} + 3 m_{2111} + m_{221} + m_{311}\\right)\\)</html>"
      ],
      "text/latex": [
       "$\\displaystyle \\left(s_{311}, 6 m_{11111} + 3 m_{2111} + m_{221} + m_{311}\\right)$"
      ],
      "text/plain": [
       "(s[3, 1, 1], 6*m[1, 1, 1, 1, 1] + 3*m[2, 1, 1, 1] + m[2, 2, 1] + m[3, 1, 1])"
      ]
     },
     "metadata": {},
     "output_type": "display_data"
    },
    {
     "data": {
      "text/html": [
       "<html>\\(\\displaystyle \\left(s_{221}, 5 m_{11111} + 2 m_{2111} + m_{221}\\right)\\)</html>"
      ],
      "text/latex": [
       "$\\displaystyle \\left(s_{221}, 5 m_{11111} + 2 m_{2111} + m_{221}\\right)$"
      ],
      "text/plain": [
       "(s[2, 2, 1], 5*m[1, 1, 1, 1, 1] + 2*m[2, 1, 1, 1] + m[2, 2, 1])"
      ]
     },
     "metadata": {},
     "output_type": "display_data"
    },
    {
     "data": {
      "text/html": [
       "<html>\\(\\displaystyle \\left(s_{2111}, 4 m_{11111} + m_{2111}\\right)\\)</html>"
      ],
      "text/latex": [
       "$\\displaystyle \\left(s_{2111}, 4 m_{11111} + m_{2111}\\right)$"
      ],
      "text/plain": [
       "(s[2, 1, 1, 1], 4*m[1, 1, 1, 1, 1] + m[2, 1, 1, 1])"
      ]
     },
     "metadata": {},
     "output_type": "display_data"
    },
    {
     "data": {
      "text/html": [
       "<html>\\(\\displaystyle \\left(s_{11111}, m_{11111}\\right)\\)</html>"
      ],
      "text/latex": [
       "$\\displaystyle \\left(s_{11111}, m_{11111}\\right)$"
      ],
      "text/plain": [
       "(s[1, 1, 1, 1, 1], m[1, 1, 1, 1, 1])"
      ]
     },
     "metadata": {},
     "output_type": "display_data"
    }
   ],
   "source": [
    "for mu in Partitions(5):\n",
    "    show((s(mu),m(s(mu))))"
   ]
  },
  {
   "cell_type": "markdown",
   "metadata": {
    "jp-MarkdownHeadingCollapsed": true
   },
   "source": [
    "### Setting"
   ]
  },
  {
   "cell_type": "code",
   "execution_count": 42,
   "metadata": {},
   "outputs": [],
   "source": [
    "def Kostka(mu,nu):\n",
    "    return SemistandardTableaux(mu, nu).cardinality()"
   ]
  },
  {
   "cell_type": "code",
   "execution_count": 43,
   "metadata": {},
   "outputs": [
    {
     "data": {
      "text/html": [
       "<html>\\(\\displaystyle s_{5321}\\)</html>"
      ],
      "text/latex": [
       "$\\displaystyle s_{5321}$"
      ],
      "text/plain": [
       "s[5, 3, 2, 1]"
      ]
     },
     "execution_count": 43,
     "metadata": {},
     "output_type": "execute_result"
    }
   ],
   "source": [
    "mu=Partition([5,3,2,1])\n",
    "n=mu.size()\n",
    "s(add(Kostka(mu,nu)*m(nu) for nu in Partitions(n)))"
   ]
  },
  {
   "cell_type": "markdown",
   "metadata": {},
   "source": [
    "### Some other changes of basis between symmetric functions\n",
    "\n",
    "Recall that the <span style=\"color:blue\">__complete homogeneous__</span> symmetric functions $h_d$ are related to <span style=\"color:blue\">__power sum__</span> symmetric functions $p_{\\mu}$ by the formula :\n",
    "$$h_d = \\sum \\limits_{\\mu \\vdash d} \\frac{1}{z_{\\mu}}p_{\\mu}$$\n",
    "where $z_\\mu$ is the number of \"automorphisms\" of a permutation having cycle structure $\\mu$. For example,\n",
    "$$h_4=\\frac{1}{24}p_{1111} + \\frac{1}{4}p_{211} + \\frac{1}{8}p_{22} + \\frac{1}{3}p_{31} + \\frac{1}{4}p_{4}$$\n",
    "### In sage:\n"
   ]
  },
  {
   "cell_type": "code",
   "execution_count": 44,
   "metadata": {},
   "outputs": [
    {
     "data": {
      "text/html": [
       "<html>\\(\\displaystyle \\frac{1}{24} p_{1111} + \\frac{1}{4} p_{211} + \\frac{1}{8} p_{22} + \\frac{1}{3} p_{31} + \\frac{1}{4} p_{4}\\)</html>"
      ],
      "text/latex": [
       "$\\displaystyle \\frac{1}{24} p_{1111} + \\frac{1}{4} p_{211} + \\frac{1}{8} p_{22} + \\frac{1}{3} p_{31} + \\frac{1}{4} p_{4}$"
      ],
      "text/plain": [
       "1/24*p[1, 1, 1, 1] + 1/4*p[2, 1, 1] + 1/8*p[2, 2] + 1/3*p[3, 1] + 1/4*p[4]"
      ]
     },
     "execution_count": 44,
     "metadata": {},
     "output_type": "execute_result"
    }
   ],
   "source": [
    "p(h[4])"
   ]
  },
  {
   "cell_type": "code",
   "execution_count": 45,
   "metadata": {},
   "outputs": [
    {
     "data": {
      "text/html": [
       "<html>\\(\\displaystyle \\left(h_{4}, \\frac{1}{24} p_{1111} + \\frac{1}{4} p_{211} + \\frac{1}{8} p_{22} + \\frac{1}{3} p_{31} + \\frac{1}{4} p_{4}\\right)\\)</html>"
      ],
      "text/latex": [
       "$\\displaystyle \\left(h_{4}, \\frac{1}{24} p_{1111} + \\frac{1}{4} p_{211} + \\frac{1}{8} p_{22} + \\frac{1}{3} p_{31} + \\frac{1}{4} p_{4}\\right)$"
      ],
      "text/plain": [
       "(h[4],\n",
       " 1/24*p[1, 1, 1, 1] + 1/4*p[2, 1, 1] + 1/8*p[2, 2] + 1/3*p[3, 1] + 1/4*p[4])"
      ]
     },
     "metadata": {},
     "output_type": "display_data"
    },
    {
     "data": {
      "text/html": [
       "<html>\\(\\displaystyle \\left(h_{31}, \\frac{1}{6} p_{1111} + \\frac{1}{2} p_{211} + \\frac{1}{3} p_{31}\\right)\\)</html>"
      ],
      "text/latex": [
       "$\\displaystyle \\left(h_{31}, \\frac{1}{6} p_{1111} + \\frac{1}{2} p_{211} + \\frac{1}{3} p_{31}\\right)$"
      ],
      "text/plain": [
       "(h[3, 1], 1/6*p[1, 1, 1, 1] + 1/2*p[2, 1, 1] + 1/3*p[3, 1])"
      ]
     },
     "metadata": {},
     "output_type": "display_data"
    },
    {
     "data": {
      "text/html": [
       "<html>\\(\\displaystyle \\left(h_{22}, \\frac{1}{4} p_{1111} + \\frac{1}{2} p_{211} + \\frac{1}{4} p_{22}\\right)\\)</html>"
      ],
      "text/latex": [
       "$\\displaystyle \\left(h_{22}, \\frac{1}{4} p_{1111} + \\frac{1}{2} p_{211} + \\frac{1}{4} p_{22}\\right)$"
      ],
      "text/plain": [
       "(h[2, 2], 1/4*p[1, 1, 1, 1] + 1/2*p[2, 1, 1] + 1/4*p[2, 2])"
      ]
     },
     "metadata": {},
     "output_type": "display_data"
    },
    {
     "data": {
      "text/html": [
       "<html>\\(\\displaystyle \\left(h_{211}, \\frac{1}{2} p_{1111} + \\frac{1}{2} p_{211}\\right)\\)</html>"
      ],
      "text/latex": [
       "$\\displaystyle \\left(h_{211}, \\frac{1}{2} p_{1111} + \\frac{1}{2} p_{211}\\right)$"
      ],
      "text/plain": [
       "(h[2, 1, 1], 1/2*p[1, 1, 1, 1] + 1/2*p[2, 1, 1])"
      ]
     },
     "metadata": {},
     "output_type": "display_data"
    },
    {
     "data": {
      "text/html": [
       "<html>\\(\\displaystyle \\left(h_{1111}, p_{1111}\\right)\\)</html>"
      ],
      "text/latex": [
       "$\\displaystyle \\left(h_{1111}, p_{1111}\\right)$"
      ],
      "text/plain": [
       "(h[1, 1, 1, 1], p[1, 1, 1, 1])"
      ]
     },
     "metadata": {},
     "output_type": "display_data"
    }
   ],
   "source": [
    "for mu in Partitions(4):\n",
    "    show((h(mu),p(h(mu))))"
   ]
  },
  {
   "cell_type": "markdown",
   "metadata": {
    "jp-MarkdownHeadingCollapsed": true
   },
   "source": [
    "### By direct formula"
   ]
  },
  {
   "cell_type": "code",
   "execution_count": 46,
   "metadata": {},
   "outputs": [
    {
     "data": {
      "text/html": [
       "<html>\\(\\displaystyle \\mathrm{True}\\)</html>"
      ],
      "text/latex": [
       "$\\displaystyle \\mathrm{True}$"
      ],
      "text/plain": [
       "True"
      ]
     },
     "execution_count": 46,
     "metadata": {},
     "output_type": "execute_result"
    }
   ],
   "source": [
    "h(sum(p(mu)/zee(mu) for mu in Partitions(4)))==h[4]"
   ]
  },
  {
   "cell_type": "code",
   "execution_count": 47,
   "metadata": {},
   "outputs": [
    {
     "data": {
      "text/html": [
       "<html>\\(\\displaystyle \\mathbb{1}\\)</html>"
      ],
      "text/latex": [
       "$\\displaystyle \\mathbb{1}$"
      ],
      "text/plain": [
       "h[]"
      ]
     },
     "metadata": {},
     "output_type": "display_data"
    },
    {
     "data": {
      "text/html": [
       "<html>\\(\\displaystyle h_{1}\\)</html>"
      ],
      "text/latex": [
       "$\\displaystyle h_{1}$"
      ],
      "text/plain": [
       "h[1]"
      ]
     },
     "metadata": {},
     "output_type": "display_data"
    },
    {
     "data": {
      "text/html": [
       "<html>\\(\\displaystyle h_{2}\\)</html>"
      ],
      "text/latex": [
       "$\\displaystyle h_{2}$"
      ],
      "text/plain": [
       "h[2]"
      ]
     },
     "metadata": {},
     "output_type": "display_data"
    },
    {
     "data": {
      "text/html": [
       "<html>\\(\\displaystyle h_{3}\\)</html>"
      ],
      "text/latex": [
       "$\\displaystyle h_{3}$"
      ],
      "text/plain": [
       "h[3]"
      ]
     },
     "metadata": {},
     "output_type": "display_data"
    },
    {
     "data": {
      "text/html": [
       "<html>\\(\\displaystyle h_{4}\\)</html>"
      ],
      "text/latex": [
       "$\\displaystyle h_{4}$"
      ],
      "text/plain": [
       "h[4]"
      ]
     },
     "metadata": {},
     "output_type": "display_data"
    }
   ],
   "source": [
    "for k in range(5):\n",
    "    show(h(sum(p(mu)/zee(mu) for mu in Partitions(k))))"
   ]
  },
  {
   "cell_type": "markdown",
   "metadata": {
    "jp-MarkdownHeadingCollapsed": true
   },
   "source": [
    "### More examples"
   ]
  },
  {
   "cell_type": "code",
   "execution_count": 48,
   "metadata": {},
   "outputs": [
    {
     "data": {
      "text/html": [
       "<html>\\(\\displaystyle s_{3321} + s_{333} + s_{4221} + 2 s_{4311} + 4 s_{432} + 3 s_{441} + 2 s_{5211} + 3 s_{522} + 7 s_{531} + 4 s_{54} + s_{6111} + 6 s_{621} + 6 s_{63} + 3 s_{711} + 5 s_{72} + 3 s_{81} + s_{9}\\)</html>"
      ],
      "text/latex": [
       "$\\displaystyle s_{3321} + s_{333} + s_{4221} + 2 s_{4311} + 4 s_{432} + 3 s_{441} + 2 s_{5211} + 3 s_{522} + 7 s_{531} + 4 s_{54} + s_{6111} + 6 s_{621} + 6 s_{63} + 3 s_{711} + 5 s_{72} + 3 s_{81} + s_{9}$"
      ],
      "text/plain": [
       "s[3, 3, 2, 1] + s[3, 3, 3] + s[4, 2, 2, 1] + 2*s[4, 3, 1, 1] + 4*s[4, 3, 2] + 3*s[4, 4, 1] + 2*s[5, 2, 1, 1] + 3*s[5, 2, 2] + 7*s[5, 3, 1] + 4*s[5, 4] + s[6, 1, 1, 1] + 6*s[6, 2, 1] + 6*s[6, 3] + 3*s[7, 1, 1] + 5*s[7, 2] + 3*s[8, 1] + s[9]"
      ]
     },
     "execution_count": 48,
     "metadata": {},
     "output_type": "execute_result"
    }
   ],
   "source": [
    "s(h[3,3,2,1])"
   ]
  },
  {
   "cell_type": "code",
   "execution_count": 49,
   "metadata": {},
   "outputs": [
    {
     "data": {
      "text/html": [
       "<html>\\(\\displaystyle \\left(h_{5}, s_{5}\\right)\\)</html>"
      ],
      "text/latex": [
       "$\\displaystyle \\left(h_{5}, s_{5}\\right)$"
      ],
      "text/plain": [
       "(h[5], s[5])"
      ]
     },
     "metadata": {},
     "output_type": "display_data"
    },
    {
     "data": {
      "text/html": [
       "<html>\\(\\displaystyle \\left(h_{41}, s_{41} + s_{5}\\right)\\)</html>"
      ],
      "text/latex": [
       "$\\displaystyle \\left(h_{41}, s_{41} + s_{5}\\right)$"
      ],
      "text/plain": [
       "(h[4, 1], s[4, 1] + s[5])"
      ]
     },
     "metadata": {},
     "output_type": "display_data"
    },
    {
     "data": {
      "text/html": [
       "<html>\\(\\displaystyle \\left(h_{32}, s_{32} + s_{41} + s_{5}\\right)\\)</html>"
      ],
      "text/latex": [
       "$\\displaystyle \\left(h_{32}, s_{32} + s_{41} + s_{5}\\right)$"
      ],
      "text/plain": [
       "(h[3, 2], s[3, 2] + s[4, 1] + s[5])"
      ]
     },
     "metadata": {},
     "output_type": "display_data"
    },
    {
     "data": {
      "text/html": [
       "<html>\\(\\displaystyle \\left(h_{311}, s_{311} + s_{32} + 2 s_{41} + s_{5}\\right)\\)</html>"
      ],
      "text/latex": [
       "$\\displaystyle \\left(h_{311}, s_{311} + s_{32} + 2 s_{41} + s_{5}\\right)$"
      ],
      "text/plain": [
       "(h[3, 1, 1], s[3, 1, 1] + s[3, 2] + 2*s[4, 1] + s[5])"
      ]
     },
     "metadata": {},
     "output_type": "display_data"
    },
    {
     "data": {
      "text/html": [
       "<html>\\(\\displaystyle \\left(h_{221}, s_{221} + s_{311} + 2 s_{32} + 2 s_{41} + s_{5}\\right)\\)</html>"
      ],
      "text/latex": [
       "$\\displaystyle \\left(h_{221}, s_{221} + s_{311} + 2 s_{32} + 2 s_{41} + s_{5}\\right)$"
      ],
      "text/plain": [
       "(h[2, 2, 1], s[2, 2, 1] + s[3, 1, 1] + 2*s[3, 2] + 2*s[4, 1] + s[5])"
      ]
     },
     "metadata": {},
     "output_type": "display_data"
    },
    {
     "data": {
      "text/html": [
       "<html>\\(\\displaystyle \\left(h_{2111}, s_{2111} + 2 s_{221} + 3 s_{311} + 3 s_{32} + 3 s_{41} + s_{5}\\right)\\)</html>"
      ],
      "text/latex": [
       "$\\displaystyle \\left(h_{2111}, s_{2111} + 2 s_{221} + 3 s_{311} + 3 s_{32} + 3 s_{41} + s_{5}\\right)$"
      ],
      "text/plain": [
       "(h[2, 1, 1, 1],\n",
       " s[2, 1, 1, 1] + 2*s[2, 2, 1] + 3*s[3, 1, 1] + 3*s[3, 2] + 3*s[4, 1] + s[5])"
      ]
     },
     "metadata": {},
     "output_type": "display_data"
    },
    {
     "data": {
      "text/html": [
       "<html>\\(\\displaystyle \\left(h_{11111}, s_{11111} + 4 s_{2111} + 5 s_{221} + 6 s_{311} + 5 s_{32} + 4 s_{41} + s_{5}\\right)\\)</html>"
      ],
      "text/latex": [
       "$\\displaystyle \\left(h_{11111}, s_{11111} + 4 s_{2111} + 5 s_{221} + 6 s_{311} + 5 s_{32} + 4 s_{41} + s_{5}\\right)$"
      ],
      "text/plain": [
       "(h[1, 1, 1, 1, 1],\n",
       " s[1, 1, 1, 1, 1] + 4*s[2, 1, 1, 1] + 5*s[2, 2, 1] + 6*s[3, 1, 1] + 5*s[3, 2] + 4*s[4, 1] + s[5])"
      ]
     },
     "metadata": {},
     "output_type": "display_data"
    }
   ],
   "source": [
    "for mu in Partitions(5):\n",
    "    show((h(mu),s(h(mu))))"
   ]
  },
  {
   "cell_type": "code",
   "execution_count": 50,
   "metadata": {},
   "outputs": [
    {
     "data": {
      "text/html": [
       "<html>\\(\\displaystyle s_{111111111} + 3 s_{21111111} + 5 s_{2211111} + 6 s_{222111} + 4 s_{22221} + 3 s_{3111111} + 6 s_{321111} + 7 s_{32211} + 3 s_{3222} + 3 s_{33111} + 4 s_{3321} + s_{333} + s_{411111} + 2 s_{42111} + 2 s_{4221} + s_{4311} + s_{432}\\)</html>"
      ],
      "text/latex": [
       "$\\displaystyle s_{111111111} + 3 s_{21111111} + 5 s_{2211111} + 6 s_{222111} + 4 s_{22221} + 3 s_{3111111} + 6 s_{321111} + 7 s_{32211} + 3 s_{3222} + 3 s_{33111} + 4 s_{3321} + s_{333} + s_{411111} + 2 s_{42111} + 2 s_{4221} + s_{4311} + s_{432}$"
      ],
      "text/plain": [
       "s[1, 1, 1, 1, 1, 1, 1, 1, 1] + 3*s[2, 1, 1, 1, 1, 1, 1, 1] + 5*s[2, 2, 1, 1, 1, 1, 1] + 6*s[2, 2, 2, 1, 1, 1] + 4*s[2, 2, 2, 2, 1] + 3*s[3, 1, 1, 1, 1, 1, 1] + 6*s[3, 2, 1, 1, 1, 1] + 7*s[3, 2, 2, 1, 1] + 3*s[3, 2, 2, 2] + 3*s[3, 3, 1, 1, 1] + 4*s[3, 3, 2, 1] + s[3, 3, 3] + s[4, 1, 1, 1, 1, 1] + 2*s[4, 2, 1, 1, 1] + 2*s[4, 2, 2, 1] + s[4, 3, 1, 1] + s[4, 3, 2]"
      ]
     },
     "execution_count": 50,
     "metadata": {},
     "output_type": "execute_result"
    }
   ],
   "source": [
    "s(e[3,3,2,1])"
   ]
  },
  {
   "cell_type": "code",
   "execution_count": 51,
   "metadata": {},
   "outputs": [
    {
     "data": {
      "text/html": [
       "<html>\\(\\displaystyle \\left(e_{5}, s_{11111}\\right)\\)</html>"
      ],
      "text/latex": [
       "$\\displaystyle \\left(e_{5}, s_{11111}\\right)$"
      ],
      "text/plain": [
       "(e[5], s[1, 1, 1, 1, 1])"
      ]
     },
     "metadata": {},
     "output_type": "display_data"
    },
    {
     "data": {
      "text/html": [
       "<html>\\(\\displaystyle \\left(e_{41}, s_{11111} + s_{2111}\\right)\\)</html>"
      ],
      "text/latex": [
       "$\\displaystyle \\left(e_{41}, s_{11111} + s_{2111}\\right)$"
      ],
      "text/plain": [
       "(e[4, 1], s[1, 1, 1, 1, 1] + s[2, 1, 1, 1])"
      ]
     },
     "metadata": {},
     "output_type": "display_data"
    },
    {
     "data": {
      "text/html": [
       "<html>\\(\\displaystyle \\left(e_{32}, s_{11111} + s_{2111} + s_{221}\\right)\\)</html>"
      ],
      "text/latex": [
       "$\\displaystyle \\left(e_{32}, s_{11111} + s_{2111} + s_{221}\\right)$"
      ],
      "text/plain": [
       "(e[3, 2], s[1, 1, 1, 1, 1] + s[2, 1, 1, 1] + s[2, 2, 1])"
      ]
     },
     "metadata": {},
     "output_type": "display_data"
    },
    {
     "data": {
      "text/html": [
       "<html>\\(\\displaystyle \\left(e_{311}, s_{11111} + 2 s_{2111} + s_{221} + s_{311}\\right)\\)</html>"
      ],
      "text/latex": [
       "$\\displaystyle \\left(e_{311}, s_{11111} + 2 s_{2111} + s_{221} + s_{311}\\right)$"
      ],
      "text/plain": [
       "(e[3, 1, 1], s[1, 1, 1, 1, 1] + 2*s[2, 1, 1, 1] + s[2, 2, 1] + s[3, 1, 1])"
      ]
     },
     "metadata": {},
     "output_type": "display_data"
    },
    {
     "data": {
      "text/html": [
       "<html>\\(\\displaystyle \\left(e_{221}, s_{11111} + 2 s_{2111} + 2 s_{221} + s_{311} + s_{32}\\right)\\)</html>"
      ],
      "text/latex": [
       "$\\displaystyle \\left(e_{221}, s_{11111} + 2 s_{2111} + 2 s_{221} + s_{311} + s_{32}\\right)$"
      ],
      "text/plain": [
       "(e[2, 2, 1],\n",
       " s[1, 1, 1, 1, 1] + 2*s[2, 1, 1, 1] + 2*s[2, 2, 1] + s[3, 1, 1] + s[3, 2])"
      ]
     },
     "metadata": {},
     "output_type": "display_data"
    },
    {
     "data": {
      "text/html": [
       "<html>\\(\\displaystyle \\left(e_{2111}, s_{11111} + 3 s_{2111} + 3 s_{221} + 3 s_{311} + 2 s_{32} + s_{41}\\right)\\)</html>"
      ],
      "text/latex": [
       "$\\displaystyle \\left(e_{2111}, s_{11111} + 3 s_{2111} + 3 s_{221} + 3 s_{311} + 2 s_{32} + s_{41}\\right)$"
      ],
      "text/plain": [
       "(e[2, 1, 1, 1],\n",
       " s[1, 1, 1, 1, 1] + 3*s[2, 1, 1, 1] + 3*s[2, 2, 1] + 3*s[3, 1, 1] + 2*s[3, 2] + s[4, 1])"
      ]
     },
     "metadata": {},
     "output_type": "display_data"
    },
    {
     "data": {
      "text/html": [
       "<html>\\(\\displaystyle \\left(e_{11111}, s_{11111} + 4 s_{2111} + 5 s_{221} + 6 s_{311} + 5 s_{32} + 4 s_{41} + s_{5}\\right)\\)</html>"
      ],
      "text/latex": [
       "$\\displaystyle \\left(e_{11111}, s_{11111} + 4 s_{2111} + 5 s_{221} + 6 s_{311} + 5 s_{32} + 4 s_{41} + s_{5}\\right)$"
      ],
      "text/plain": [
       "(e[1, 1, 1, 1, 1],\n",
       " s[1, 1, 1, 1, 1] + 4*s[2, 1, 1, 1] + 5*s[2, 2, 1] + 6*s[3, 1, 1] + 5*s[3, 2] + 4*s[4, 1] + s[5])"
      ]
     },
     "metadata": {},
     "output_type": "display_data"
    }
   ],
   "source": [
    "for mu in Partitions(5):\n",
    "    show((e(mu),s(e(mu))))"
   ]
  },
  {
   "cell_type": "code",
   "execution_count": 52,
   "metadata": {},
   "outputs": [
    {
     "data": {
      "text/html": [
       "<html>\\(\\displaystyle \\left(p_{5}, s_{11111} - s_{2111} + s_{311} - s_{41} + s_{5}\\right)\\)</html>"
      ],
      "text/latex": [
       "$\\displaystyle \\left(p_{5}, s_{11111} - s_{2111} + s_{311} - s_{41} + s_{5}\\right)$"
      ],
      "text/plain": [
       "(p[5], s[1, 1, 1, 1, 1] - s[2, 1, 1, 1] + s[3, 1, 1] - s[4, 1] + s[5])"
      ]
     },
     "metadata": {},
     "output_type": "display_data"
    },
    {
     "data": {
      "text/html": [
       "<html>\\(\\displaystyle \\left(p_{41}, -s_{11111} + s_{221} - s_{32} + s_{5}\\right)\\)</html>"
      ],
      "text/latex": [
       "$\\displaystyle \\left(p_{41}, -s_{11111} + s_{221} - s_{32} + s_{5}\\right)$"
      ],
      "text/plain": [
       "(p[4, 1], -s[1, 1, 1, 1, 1] + s[2, 2, 1] - s[3, 2] + s[5])"
      ]
     },
     "metadata": {},
     "output_type": "display_data"
    },
    {
     "data": {
      "text/html": [
       "<html>\\(\\displaystyle \\left(p_{32}, -s_{11111} + s_{2111} - s_{221} + s_{32} - s_{41} + s_{5}\\right)\\)</html>"
      ],
      "text/latex": [
       "$\\displaystyle \\left(p_{32}, -s_{11111} + s_{2111} - s_{221} + s_{32} - s_{41} + s_{5}\\right)$"
      ],
      "text/plain": [
       "(p[3, 2],\n",
       " -s[1, 1, 1, 1, 1] + s[2, 1, 1, 1] - s[2, 2, 1] + s[3, 2] - s[4, 1] + s[5])"
      ]
     },
     "metadata": {},
     "output_type": "display_data"
    },
    {
     "data": {
      "text/html": [
       "<html>\\(\\displaystyle \\left(p_{311}, s_{11111} + s_{2111} - s_{221} - s_{32} + s_{41} + s_{5}\\right)\\)</html>"
      ],
      "text/latex": [
       "$\\displaystyle \\left(p_{311}, s_{11111} + s_{2111} - s_{221} - s_{32} + s_{41} + s_{5}\\right)$"
      ],
      "text/plain": [
       "(p[3, 1, 1],\n",
       " s[1, 1, 1, 1, 1] + s[2, 1, 1, 1] - s[2, 2, 1] - s[3, 2] + s[4, 1] + s[5])"
      ]
     },
     "metadata": {},
     "output_type": "display_data"
    },
    {
     "data": {
      "text/html": [
       "<html>\\(\\displaystyle \\left(p_{221}, s_{11111} + s_{221} - 2 s_{311} + s_{32} + s_{5}\\right)\\)</html>"
      ],
      "text/latex": [
       "$\\displaystyle \\left(p_{221}, s_{11111} + s_{221} - 2 s_{311} + s_{32} + s_{5}\\right)$"
      ],
      "text/plain": [
       "(p[2, 2, 1], s[1, 1, 1, 1, 1] + s[2, 2, 1] - 2*s[3, 1, 1] + s[3, 2] + s[5])"
      ]
     },
     "metadata": {},
     "output_type": "display_data"
    },
    {
     "data": {
      "text/html": [
       "<html>\\(\\displaystyle \\left(p_{2111}, -s_{11111} - 2 s_{2111} - s_{221} + s_{32} + 2 s_{41} + s_{5}\\right)\\)</html>"
      ],
      "text/latex": [
       "$\\displaystyle \\left(p_{2111}, -s_{11111} - 2 s_{2111} - s_{221} + s_{32} + 2 s_{41} + s_{5}\\right)$"
      ],
      "text/plain": [
       "(p[2, 1, 1, 1],\n",
       " -s[1, 1, 1, 1, 1] - 2*s[2, 1, 1, 1] - s[2, 2, 1] + s[3, 2] + 2*s[4, 1] + s[5])"
      ]
     },
     "metadata": {},
     "output_type": "display_data"
    },
    {
     "data": {
      "text/html": [
       "<html>\\(\\displaystyle \\left(p_{11111}, s_{11111} + 4 s_{2111} + 5 s_{221} + 6 s_{311} + 5 s_{32} + 4 s_{41} + s_{5}\\right)\\)</html>"
      ],
      "text/latex": [
       "$\\displaystyle \\left(p_{11111}, s_{11111} + 4 s_{2111} + 5 s_{221} + 6 s_{311} + 5 s_{32} + 4 s_{41} + s_{5}\\right)$"
      ],
      "text/plain": [
       "(p[1, 1, 1, 1, 1],\n",
       " s[1, 1, 1, 1, 1] + 4*s[2, 1, 1, 1] + 5*s[2, 2, 1] + 6*s[3, 1, 1] + 5*s[3, 2] + 4*s[4, 1] + s[5])"
      ]
     },
     "metadata": {},
     "output_type": "display_data"
    }
   ],
   "source": [
    "for mu in Partitions(5):\n",
    "    show((p(mu),s(p(mu))))"
   ]
  },
  {
   "cell_type": "markdown",
   "metadata": {
    "jp-MarkdownHeadingCollapsed": true
   },
   "source": [
    "# <div align=\"center\">   <span style=\"color:green\">       The omega involution</span>\n",
    "\n",
    "The <span style=\"color:blue\">__$\\omega$ involution__</span> is the multiplicative, linear extension of the map which sends $p_n$ to $(-1)^{n-1}p_n$. It is such that\n",
    "\n",
    "- $\\color{blue}\\omega(f_\\mu)=m_\\mu$\n",
    "- $\\color{blue}\\omega(h_\\mu)=e_\\mu$\n",
    "- $\\color{blue}\\omega(s_\\mu)=s_{\\mu'}$"
   ]
  },
  {
   "cell_type": "code",
   "execution_count": 53,
   "metadata": {},
   "outputs": [
    {
     "data": {
      "text/html": [
       "<html>\\(\\displaystyle -p_{4}\\)</html>"
      ],
      "text/latex": [
       "$\\displaystyle -p_{4}$"
      ],
      "text/plain": [
       "-p[4]"
      ]
     },
     "execution_count": 53,
     "metadata": {},
     "output_type": "execute_result"
    }
   ],
   "source": [
    "p[4].omega()"
   ]
  },
  {
   "cell_type": "code",
   "execution_count": 54,
   "metadata": {},
   "outputs": [
    {
     "data": {
      "text/html": [
       "<html>\\(\\displaystyle s_{432}\\)</html>"
      ],
      "text/latex": [
       "$\\displaystyle s_{432}$"
      ],
      "text/plain": [
       "s[4, 3, 2]"
      ]
     },
     "execution_count": 54,
     "metadata": {},
     "output_type": "execute_result"
    }
   ],
   "source": [
    "s[3,3,2,1].omega()"
   ]
  },
  {
   "cell_type": "code",
   "execution_count": 55,
   "metadata": {},
   "outputs": [
    {
     "data": {
      "text/html": [
       "<html>\\(\\displaystyle m_{321}\\)</html>"
      ],
      "text/latex": [
       "$\\displaystyle m_{321}$"
      ],
      "text/plain": [
       "m[3, 2, 1]"
      ]
     },
     "execution_count": 55,
     "metadata": {},
     "output_type": "execute_result"
    }
   ],
   "source": [
    "m(f[3,2,1].omega())"
   ]
  },
  {
   "cell_type": "code",
   "execution_count": 56,
   "metadata": {},
   "outputs": [
    {
     "data": {
      "text/html": [
       "<html>\\(\\displaystyle \\left(s_{5}, s_{11111}\\right)\\)</html>"
      ],
      "text/latex": [
       "$\\displaystyle \\left(s_{5}, s_{11111}\\right)$"
      ],
      "text/plain": [
       "(s[5], s[1, 1, 1, 1, 1])"
      ]
     },
     "metadata": {},
     "output_type": "display_data"
    },
    {
     "data": {
      "text/html": [
       "<html>\\(\\displaystyle \\left(s_{41}, s_{2111}\\right)\\)</html>"
      ],
      "text/latex": [
       "$\\displaystyle \\left(s_{41}, s_{2111}\\right)$"
      ],
      "text/plain": [
       "(s[4, 1], s[2, 1, 1, 1])"
      ]
     },
     "metadata": {},
     "output_type": "display_data"
    },
    {
     "data": {
      "text/html": [
       "<html>\\(\\displaystyle \\left(s_{32}, s_{221}\\right)\\)</html>"
      ],
      "text/latex": [
       "$\\displaystyle \\left(s_{32}, s_{221}\\right)$"
      ],
      "text/plain": [
       "(s[3, 2], s[2, 2, 1])"
      ]
     },
     "metadata": {},
     "output_type": "display_data"
    },
    {
     "data": {
      "text/html": [
       "<html>\\(\\displaystyle \\left(s_{311}, s_{311}\\right)\\)</html>"
      ],
      "text/latex": [
       "$\\displaystyle \\left(s_{311}, s_{311}\\right)$"
      ],
      "text/plain": [
       "(s[3, 1, 1], s[3, 1, 1])"
      ]
     },
     "metadata": {},
     "output_type": "display_data"
    },
    {
     "data": {
      "text/html": [
       "<html>\\(\\displaystyle \\left(s_{221}, s_{32}\\right)\\)</html>"
      ],
      "text/latex": [
       "$\\displaystyle \\left(s_{221}, s_{32}\\right)$"
      ],
      "text/plain": [
       "(s[2, 2, 1], s[3, 2])"
      ]
     },
     "metadata": {},
     "output_type": "display_data"
    },
    {
     "data": {
      "text/html": [
       "<html>\\(\\displaystyle \\left(s_{2111}, s_{41}\\right)\\)</html>"
      ],
      "text/latex": [
       "$\\displaystyle \\left(s_{2111}, s_{41}\\right)$"
      ],
      "text/plain": [
       "(s[2, 1, 1, 1], s[4, 1])"
      ]
     },
     "metadata": {},
     "output_type": "display_data"
    },
    {
     "data": {
      "text/html": [
       "<html>\\(\\displaystyle \\left(s_{11111}, s_{5}\\right)\\)</html>"
      ],
      "text/latex": [
       "$\\displaystyle \\left(s_{11111}, s_{5}\\right)$"
      ],
      "text/plain": [
       "(s[1, 1, 1, 1, 1], s[5])"
      ]
     },
     "metadata": {},
     "output_type": "display_data"
    }
   ],
   "source": [
    "for mu in Partitions(5):\n",
    "    show((s(mu),s(mu).omega()))"
   ]
  },
  {
   "cell_type": "code",
   "execution_count": 57,
   "metadata": {},
   "outputs": [
    {
     "data": {
      "text/html": [
       "<html>\\(\\displaystyle \\left(h_{5}, e_{5}\\right)\\)</html>"
      ],
      "text/latex": [
       "$\\displaystyle \\left(h_{5}, e_{5}\\right)$"
      ],
      "text/plain": [
       "(h[5], e[5])"
      ]
     },
     "metadata": {},
     "output_type": "display_data"
    },
    {
     "data": {
      "text/html": [
       "<html>\\(\\displaystyle \\left(h_{41}, e_{41}\\right)\\)</html>"
      ],
      "text/latex": [
       "$\\displaystyle \\left(h_{41}, e_{41}\\right)$"
      ],
      "text/plain": [
       "(h[4, 1], e[4, 1])"
      ]
     },
     "metadata": {},
     "output_type": "display_data"
    },
    {
     "data": {
      "text/html": [
       "<html>\\(\\displaystyle \\left(h_{32}, e_{32}\\right)\\)</html>"
      ],
      "text/latex": [
       "$\\displaystyle \\left(h_{32}, e_{32}\\right)$"
      ],
      "text/plain": [
       "(h[3, 2], e[3, 2])"
      ]
     },
     "metadata": {},
     "output_type": "display_data"
    },
    {
     "data": {
      "text/html": [
       "<html>\\(\\displaystyle \\left(h_{311}, e_{311}\\right)\\)</html>"
      ],
      "text/latex": [
       "$\\displaystyle \\left(h_{311}, e_{311}\\right)$"
      ],
      "text/plain": [
       "(h[3, 1, 1], e[3, 1, 1])"
      ]
     },
     "metadata": {},
     "output_type": "display_data"
    },
    {
     "data": {
      "text/html": [
       "<html>\\(\\displaystyle \\left(h_{221}, e_{221}\\right)\\)</html>"
      ],
      "text/latex": [
       "$\\displaystyle \\left(h_{221}, e_{221}\\right)$"
      ],
      "text/plain": [
       "(h[2, 2, 1], e[2, 2, 1])"
      ]
     },
     "metadata": {},
     "output_type": "display_data"
    },
    {
     "data": {
      "text/html": [
       "<html>\\(\\displaystyle \\left(h_{2111}, e_{2111}\\right)\\)</html>"
      ],
      "text/latex": [
       "$\\displaystyle \\left(h_{2111}, e_{2111}\\right)$"
      ],
      "text/plain": [
       "(h[2, 1, 1, 1], e[2, 1, 1, 1])"
      ]
     },
     "metadata": {},
     "output_type": "display_data"
    },
    {
     "data": {
      "text/html": [
       "<html>\\(\\displaystyle \\left(h_{11111}, e_{11111}\\right)\\)</html>"
      ],
      "text/latex": [
       "$\\displaystyle \\left(h_{11111}, e_{11111}\\right)$"
      ],
      "text/plain": [
       "(h[1, 1, 1, 1, 1], e[1, 1, 1, 1, 1])"
      ]
     },
     "metadata": {},
     "output_type": "display_data"
    }
   ],
   "source": [
    "for mu in Partitions(5):\n",
    "    show((h(mu),e(h(mu).omega())))"
   ]
  },
  {
   "cell_type": "markdown",
   "metadata": {},
   "source": [
    "# <div align=\"center\">   <span style=\"color:green\">        Scalar Product</span>\n",
    "\n",
    "The Hall scalar product is the standard scalar product on the algebra of symmetric functions. It makes the Schur functions into an orthonormal basis. To define it, one sets \n",
    "$$\\langle p_\\mu,p_\\lambda\\rangle = z_\\mu\\,\\delta_{\\mu,\\lambda}$$\n",
    "with $\\delta_{\\mu,\\lambda}$ the Kronecker \"$\\delta$\". On has\n",
    "\n",
    "- $\\langle m_\\mu,h_\\lambda\\rangle=\\delta_{\\mu,\\lambda},$\n",
    "- $\\langle s_\\mu,s_\\lambda\\rangle=\\delta_{\\mu,\\lambda},$\n",
    "- $\\langle e_\\mu,f_\\lambda\\rangle=\\delta_{\\mu,\\lambda}.$"
   ]
  },
  {
   "cell_type": "code",
   "execution_count": 139,
   "metadata": {},
   "outputs": [
    {
     "data": {
      "text/html": [
       "<html>\\(\\displaystyle 8\\)</html>"
      ],
      "text/latex": [
       "$\\displaystyle 8$"
      ],
      "text/plain": [
       "8"
      ]
     },
     "execution_count": 139,
     "metadata": {},
     "output_type": "execute_result"
    }
   ],
   "source": [
    "p([2,2,1]).scalar(p([2,2,1]))"
   ]
  },
  {
   "cell_type": "code",
   "execution_count": 140,
   "metadata": {
    "scrolled": true
   },
   "outputs": [
    {
     "data": {
      "text/html": [
       "<html>\\(\\displaystyle \\left(\\begin{array}{rrrrrrr}\n",
       "1 & 0 & 0 & 0 & 0 & 0 & 0 \\\\\n",
       "0 & 1 & 0 & 0 & 0 & 0 & 0 \\\\\n",
       "0 & 0 & 1 & 0 & 0 & 0 & 0 \\\\\n",
       "0 & 0 & 0 & 1 & 0 & 0 & 0 \\\\\n",
       "0 & 0 & 0 & 0 & 1 & 0 & 0 \\\\\n",
       "0 & 0 & 0 & 0 & 0 & 1 & 0 \\\\\n",
       "0 & 0 & 0 & 0 & 0 & 0 & 1\n",
       "\\end{array}\\right)\\)</html>"
      ],
      "text/latex": [
       "$\\displaystyle \\left(\\begin{array}{rrrrrrr}\n",
       "1 & 0 & 0 & 0 & 0 & 0 & 0 \\\\\n",
       "0 & 1 & 0 & 0 & 0 & 0 & 0 \\\\\n",
       "0 & 0 & 1 & 0 & 0 & 0 & 0 \\\\\n",
       "0 & 0 & 0 & 1 & 0 & 0 & 0 \\\\\n",
       "0 & 0 & 0 & 0 & 1 & 0 & 0 \\\\\n",
       "0 & 0 & 0 & 0 & 0 & 1 & 0 \\\\\n",
       "0 & 0 & 0 & 0 & 0 & 0 & 1\n",
       "\\end{array}\\right)$"
      ],
      "text/plain": [
       "[1 0 0 0 0 0 0]\n",
       "[0 1 0 0 0 0 0]\n",
       "[0 0 1 0 0 0 0]\n",
       "[0 0 0 1 0 0 0]\n",
       "[0 0 0 0 1 0 0]\n",
       "[0 0 0 0 0 1 0]\n",
       "[0 0 0 0 0 0 1]"
      ]
     },
     "execution_count": 140,
     "metadata": {},
     "output_type": "execute_result"
    }
   ],
   "source": [
    "matrix([[p(mu).scalar(p(nu)/zee(mu)) \n",
    "         for nu in Partitions(5)] \n",
    "        for mu in Partitions(5)])"
   ]
  },
  {
   "cell_type": "markdown",
   "metadata": {
    "jp-MarkdownHeadingCollapsed": true
   },
   "source": [
    "## $\\color{blue}\\omega$ respects the scalar product\n",
    "$$\\langle \\color{blue}\\omega g_1,\\color{blue}\\omega g_2\\rangle = \\langle g_1, g_2\\rangle$$"
   ]
  },
  {
   "cell_type": "code",
   "execution_count": 60,
   "metadata": {},
   "outputs": [
    {
     "data": {
      "text/html": [
       "<html>\\(\\displaystyle \\mathrm{True}\\)</html>"
      ],
      "text/latex": [
       "$\\displaystyle \\mathrm{True}$"
      ],
      "text/plain": [
       "True"
      ]
     },
     "execution_count": 60,
     "metadata": {},
     "output_type": "execute_result"
    }
   ],
   "source": [
    "s[3,2,2].scalar(h[2,2,2,1])==(s[3,2,2].omega()).scalar(e[2,2,2,1])"
   ]
  },
  {
   "cell_type": "markdown",
   "metadata": {
    "jp-MarkdownHeadingCollapsed": true
   },
   "source": [
    "# <div align=\"center\">   <span style=\"color:green\">        The ring structure</span>\n",
    "\n",
    "Symmetric functions are closed under linear combination and product. In particular, we have an expansion\n",
    "  $$s_\\mu s_\\nu=\\sum_{\\lambda} \\color{blue}{c_{\\mu,\\nu}^\\lambda} s_\\lambda.$$\n",
    " It is a fact that the $\\color{blue}{c_{\\mu,\\nu}^\\lambda}$ are positive integers, known as the <span style=\"color:blue\">__Littlewood-Richardson coefficients__</span>"
   ]
  },
  {
   "cell_type": "code",
   "execution_count": 61,
   "metadata": {},
   "outputs": [
    {
     "data": {
      "text/html": [
       "<html>\\(\\displaystyle s_{32221} + s_{33211} + s_{3322} + s_{42211} + s_{4222} + s_{43111} + 2 s_{4321} + s_{4411} + s_{442} + s_{5221} + s_{5311} + s_{532} + s_{541}\\)</html>"
      ],
      "text/latex": [
       "$\\displaystyle s_{32221} + s_{33211} + s_{3322} + s_{42211} + s_{4222} + s_{43111} + 2 s_{4321} + s_{4411} + s_{442} + s_{5221} + s_{5311} + s_{532} + s_{541}$"
      ],
      "text/plain": [
       "s[3, 2, 2, 2, 1] + s[3, 3, 2, 1, 1] + s[3, 3, 2, 2] + s[4, 2, 2, 1, 1] + s[4, 2, 2, 2] + s[4, 3, 1, 1, 1] + 2*s[4, 3, 2, 1] + s[4, 4, 1, 1] + s[4, 4, 2] + s[5, 2, 2, 1] + s[5, 3, 1, 1] + s[5, 3, 2] + s[5, 4, 1]"
      ]
     },
     "execution_count": 61,
     "metadata": {},
     "output_type": "execute_result"
    }
   ],
   "source": [
    "s[3,2]*s[2,2,1]"
   ]
  },
  {
   "cell_type": "code",
   "execution_count": 62,
   "metadata": {
    "scrolled": true
   },
   "outputs": [
    {
     "data": {
      "text/html": [
       "<html>\\(\\displaystyle e_{1111} - 4 e_{211} + 4 e_{22} + e_{221} - e_{32}\\)</html>"
      ],
      "text/latex": [
       "$\\displaystyle e_{1111} - 4 e_{211} + 4 e_{22} + e_{221} - e_{32}$"
      ],
      "text/plain": [
       "e[1, 1, 1, 1] - 4*e[2, 1, 1] + 4*e[2, 2] + e[2, 2, 1] - e[3, 2]"
      ]
     },
     "execution_count": 62,
     "metadata": {},
     "output_type": "execute_result"
    }
   ],
   "source": [
    "e(p([2,2])+m([1,1])*s([2,1]))"
   ]
  },
  {
   "cell_type": "markdown",
   "metadata": {
    "jp-MarkdownHeadingCollapsed": true
   },
   "source": [
    "### Speed of calculation\n",
    "Although the expressions rapidily become big, and thus not really worth displaying, the calculations are relatively fast as illustrated in the following. Here \"len(g)\" displays the length of the expression explicitly calculated."
   ]
  },
  {
   "cell_type": "code",
   "execution_count": 63,
   "metadata": {
    "scrolled": true
   },
   "outputs": [
    {
     "data": {
      "text/html": [
       "<html>\\(\\displaystyle 2986\\)</html>"
      ],
      "text/latex": [
       "$\\displaystyle 2986$"
      ],
      "text/plain": [
       "2986"
      ]
     },
     "execution_count": 63,
     "metadata": {},
     "output_type": "execute_result"
    }
   ],
   "source": [
    "len(s[10,5,5,3]*s[12,5,2])"
   ]
  },
  {
   "cell_type": "markdown",
   "metadata": {
    "jp-MarkdownHeadingCollapsed": true
   },
   "source": [
    "# <div align=\"center\">   <span style=\"color:green\">        Kronecker product</span>\n",
    "This is defined by setting \n",
    "$$ p_\\mu \\star p_\\lambda = z_\\mu\\,\\delta_{\\mu,\\lambda}\\,  p_\\mu$$"
   ]
  },
  {
   "cell_type": "code",
   "execution_count": 64,
   "metadata": {},
   "outputs": [
    {
     "data": {
      "text/html": [
       "<html>\\(\\displaystyle 6 p_{32}\\)</html>"
      ],
      "text/latex": [
       "$\\displaystyle 6 p_{32}$"
      ],
      "text/plain": [
       "6*p[3, 2]"
      ]
     },
     "execution_count": 64,
     "metadata": {},
     "output_type": "execute_result"
    }
   ],
   "source": [
    "p[3,2].kronecker_product(p[3,2])"
   ]
  },
  {
   "cell_type": "code",
   "execution_count": 65,
   "metadata": {},
   "outputs": [
    {
     "data": {
      "text/html": [
       "<html>\\(\\displaystyle \\left(\\begin{array}{rrrrrrr}\n",
       "p_{5} & 0 & 0 & 0 & 0 & 0 & 0 \\\\\n",
       "0 & p_{41} & 0 & 0 & 0 & 0 & 0 \\\\\n",
       "0 & 0 & p_{32} & 0 & 0 & 0 & 0 \\\\\n",
       "0 & 0 & 0 & p_{311} & 0 & 0 & 0 \\\\\n",
       "0 & 0 & 0 & 0 & p_{221} & 0 & 0 \\\\\n",
       "0 & 0 & 0 & 0 & 0 & p_{2111} & 0 \\\\\n",
       "0 & 0 & 0 & 0 & 0 & 0 & p_{11111}\n",
       "\\end{array}\\right)\\)</html>"
      ],
      "text/latex": [
       "$\\displaystyle \\left(\\begin{array}{rrrrrrr}\n",
       "p_{5} & 0 & 0 & 0 & 0 & 0 & 0 \\\\\n",
       "0 & p_{41} & 0 & 0 & 0 & 0 & 0 \\\\\n",
       "0 & 0 & p_{32} & 0 & 0 & 0 & 0 \\\\\n",
       "0 & 0 & 0 & p_{311} & 0 & 0 & 0 \\\\\n",
       "0 & 0 & 0 & 0 & p_{221} & 0 & 0 \\\\\n",
       "0 & 0 & 0 & 0 & 0 & p_{2111} & 0 \\\\\n",
       "0 & 0 & 0 & 0 & 0 & 0 & p_{11111}\n",
       "\\end{array}\\right)$"
      ],
      "text/plain": [
       "[            p[5]                0                0                0                0                0                0]\n",
       "[               0          p[4, 1]                0                0                0                0                0]\n",
       "[               0                0          p[3, 2]                0                0                0                0]\n",
       "[               0                0                0       p[3, 1, 1]                0                0                0]\n",
       "[               0                0                0                0       p[2, 2, 1]                0                0]\n",
       "[               0                0                0                0                0    p[2, 1, 1, 1]                0]\n",
       "[               0                0                0                0                0                0 p[1, 1, 1, 1, 1]]"
      ]
     },
     "execution_count": 65,
     "metadata": {},
     "output_type": "execute_result"
    }
   ],
   "source": [
    "Matrix([[p(mu).kronecker_product(p(nu)/zee(nu)) for nu in Partitions(5)] for mu in Partitions(5)])"
   ]
  },
  {
   "cell_type": "code",
   "execution_count": 66,
   "metadata": {},
   "outputs": [
    {
     "data": {
      "text/html": [
       "<html>\\(\\displaystyle s_{2111} + s_{221} + s_{311} + s_{32} + s_{41} + s_{5}\\)</html>"
      ],
      "text/latex": [
       "$\\displaystyle s_{2111} + s_{221} + s_{311} + s_{32} + s_{41} + s_{5}$"
      ],
      "text/plain": [
       "s[2, 1, 1, 1] + s[2, 2, 1] + s[3, 1, 1] + s[3, 2] + s[4, 1] + s[5]"
      ]
     },
     "execution_count": 66,
     "metadata": {},
     "output_type": "execute_result"
    }
   ],
   "source": [
    "s[3,2].kronecker_product(s[3,2])"
   ]
  },
  {
   "cell_type": "code",
   "execution_count": 67,
   "metadata": {},
   "outputs": [
    {
     "data": {
      "text/html": [
       "<html>\\(\\displaystyle 2 s_{21111111} + 5 s_{2211111} + 8 s_{222111} + 6 s_{22221} + 7 s_{3111111} + 18 s_{321111} + 25 s_{32211} + 11 s_{3222} + 16 s_{33111} + 22 s_{3321} + 6 s_{333} + 10 s_{411111} + 29 s_{42111} + 30 s_{4221} + 30 s_{4311} + 22 s_{432} + 11 s_{441} + 10 s_{51111} + 29 s_{5211} + 16 s_{522} + 25 s_{531} + 6 s_{54} + 10 s_{6111} + 18 s_{621} + 8 s_{63} + 7 s_{711} + 5 s_{72} + 2 s_{81}\\)</html>"
      ],
      "text/latex": [
       "$\\displaystyle 2 s_{21111111} + 5 s_{2211111} + 8 s_{222111} + 6 s_{22221} + 7 s_{3111111} + 18 s_{321111} + 25 s_{32211} + 11 s_{3222} + 16 s_{33111} + 22 s_{3321} + 6 s_{333} + 10 s_{411111} + 29 s_{42111} + 30 s_{4221} + 30 s_{4311} + 22 s_{432} + 11 s_{441} + 10 s_{51111} + 29 s_{5211} + 16 s_{522} + 25 s_{531} + 6 s_{54} + 10 s_{6111} + 18 s_{621} + 8 s_{63} + 7 s_{711} + 5 s_{72} + 2 s_{81}$"
      ],
      "text/plain": [
       "2*s[2, 1, 1, 1, 1, 1, 1, 1] + 5*s[2, 2, 1, 1, 1, 1, 1] + 8*s[2, 2, 2, 1, 1, 1] + 6*s[2, 2, 2, 2, 1] + 7*s[3, 1, 1, 1, 1, 1, 1] + 18*s[3, 2, 1, 1, 1, 1] + 25*s[3, 2, 2, 1, 1] + 11*s[3, 2, 2, 2] + 16*s[3, 3, 1, 1, 1] + 22*s[3, 3, 2, 1] + 6*s[3, 3, 3] + 10*s[4, 1, 1, 1, 1, 1] + 29*s[4, 2, 1, 1, 1] + 30*s[4, 2, 2, 1] + 30*s[4, 3, 1, 1] + 22*s[4, 3, 2] + 11*s[4, 4, 1] + 10*s[5, 1, 1, 1, 1] + 29*s[5, 2, 1, 1] + 16*s[5, 2, 2] + 25*s[5, 3, 1] + 6*s[5, 4] + 10*s[6, 1, 1, 1] + 18*s[6, 2, 1] + 8*s[6, 3] + 7*s[7, 1, 1] + 5*s[7, 2] + 2*s[8, 1]"
      ]
     },
     "execution_count": 67,
     "metadata": {},
     "output_type": "execute_result"
    }
   ],
   "source": [
    "(s[3,2]*s[2,2]).kronecker_product(s[3,3,3])"
   ]
  },
  {
   "cell_type": "code",
   "execution_count": 68,
   "metadata": {},
   "outputs": [
    {
     "data": {
      "text/html": [
       "<html>\\(\\displaystyle \\mathrm{True}\\)</html>"
      ],
      "text/latex": [
       "$\\displaystyle \\mathrm{True}$"
      ],
      "text/plain": [
       "True"
      ]
     },
     "execution_count": 68,
     "metadata": {},
     "output_type": "execute_result"
    }
   ],
   "source": [
    "(s[3,2]*s[2,2])==(s[3,2]*s[2,2]).kronecker_product(h[9])"
   ]
  },
  {
   "cell_type": "code",
   "execution_count": 69,
   "metadata": {},
   "outputs": [
    {
     "data": {
      "text/html": [
       "<html>\\(\\displaystyle s_{22221} + s_{32211} + s_{3222} + s_{33111} + s_{3321} + s_{4221} + s_{4311} + s_{432} + s_{441}\\)</html>"
      ],
      "text/latex": [
       "$\\displaystyle s_{22221} + s_{32211} + s_{3222} + s_{33111} + s_{3321} + s_{4221} + s_{4311} + s_{432} + s_{441}$"
      ],
      "text/plain": [
       "s[2, 2, 2, 2, 1] + s[3, 2, 2, 1, 1] + s[3, 2, 2, 2] + s[3, 3, 1, 1, 1] + s[3, 3, 2, 1] + s[4, 2, 2, 1] + s[4, 3, 1, 1] + s[4, 3, 2] + s[4, 4, 1]"
      ]
     },
     "execution_count": 69,
     "metadata": {},
     "output_type": "execute_result"
    }
   ],
   "source": [
    "(s[3,2]*s[2,2]).kronecker_product(e[9])"
   ]
  },
  {
   "cell_type": "code",
   "execution_count": 70,
   "metadata": {},
   "outputs": [
    {
     "data": {
      "text/html": [
       "<html>\\(\\displaystyle \\mathrm{True}\\)</html>"
      ],
      "text/latex": [
       "$\\displaystyle \\mathrm{True}$"
      ],
      "text/plain": [
       "True"
      ]
     },
     "execution_count": 70,
     "metadata": {},
     "output_type": "execute_result"
    }
   ],
   "source": [
    "(s[3,2]*s[2,2]).omega()==(s[3,2]*s[2,2]).kronecker_product(e[9])"
   ]
  },
  {
   "cell_type": "code",
   "execution_count": 71,
   "metadata": {},
   "outputs": [
    {
     "data": {
      "text/html": [
       "<html>\\(\\displaystyle \\mathrm{True}\\)</html>"
      ],
      "text/latex": [
       "$\\displaystyle \\mathrm{True}$"
      ],
      "text/plain": [
       "True"
      ]
     },
     "execution_count": 71,
     "metadata": {},
     "output_type": "execute_result"
    }
   ],
   "source": [
    "n=8\n",
    "all([s(mu).kronecker_product(s[n-1,1])==s[1]*(s(mu).skew_by(s[1]))-s(mu) for mu in Partitions(n)])"
   ]
  },
  {
   "cell_type": "code",
   "execution_count": 72,
   "metadata": {},
   "outputs": [
    {
     "data": {
      "text/html": [
       "<html>\\(\\displaystyle \\left(s_{8}, \\mathrm{True}\\right)\\)</html>"
      ],
      "text/latex": [
       "$\\displaystyle \\left(s_{8}, \\mathrm{True}\\right)$"
      ],
      "text/plain": [
       "(s[8], True)"
      ]
     },
     "metadata": {},
     "output_type": "display_data"
    },
    {
     "data": {
      "text/html": [
       "<html>\\(\\displaystyle \\left(s_{71}, \\mathrm{True}\\right)\\)</html>"
      ],
      "text/latex": [
       "$\\displaystyle \\left(s_{71}, \\mathrm{True}\\right)$"
      ],
      "text/plain": [
       "(s[7, 1], True)"
      ]
     },
     "metadata": {},
     "output_type": "display_data"
    },
    {
     "data": {
      "text/html": [
       "<html>\\(\\displaystyle \\left(s_{62}, \\mathrm{True}\\right)\\)</html>"
      ],
      "text/latex": [
       "$\\displaystyle \\left(s_{62}, \\mathrm{True}\\right)$"
      ],
      "text/plain": [
       "(s[6, 2], True)"
      ]
     },
     "metadata": {},
     "output_type": "display_data"
    },
    {
     "data": {
      "text/html": [
       "<html>\\(\\displaystyle \\left(s_{611}, \\mathrm{True}\\right)\\)</html>"
      ],
      "text/latex": [
       "$\\displaystyle \\left(s_{611}, \\mathrm{True}\\right)$"
      ],
      "text/plain": [
       "(s[6, 1, 1], True)"
      ]
     },
     "metadata": {},
     "output_type": "display_data"
    },
    {
     "data": {
      "text/html": [
       "<html>\\(\\displaystyle \\left(s_{53}, \\mathrm{True}\\right)\\)</html>"
      ],
      "text/latex": [
       "$\\displaystyle \\left(s_{53}, \\mathrm{True}\\right)$"
      ],
      "text/plain": [
       "(s[5, 3], True)"
      ]
     },
     "metadata": {},
     "output_type": "display_data"
    },
    {
     "data": {
      "text/html": [
       "<html>\\(\\displaystyle \\left(s_{521}, \\mathrm{True}\\right)\\)</html>"
      ],
      "text/latex": [
       "$\\displaystyle \\left(s_{521}, \\mathrm{True}\\right)$"
      ],
      "text/plain": [
       "(s[5, 2, 1], True)"
      ]
     },
     "metadata": {},
     "output_type": "display_data"
    },
    {
     "data": {
      "text/html": [
       "<html>\\(\\displaystyle \\left(s_{5111}, \\mathrm{True}\\right)\\)</html>"
      ],
      "text/latex": [
       "$\\displaystyle \\left(s_{5111}, \\mathrm{True}\\right)$"
      ],
      "text/plain": [
       "(s[5, 1, 1, 1], True)"
      ]
     },
     "metadata": {},
     "output_type": "display_data"
    },
    {
     "data": {
      "text/html": [
       "<html>\\(\\displaystyle \\left(s_{44}, \\mathrm{True}\\right)\\)</html>"
      ],
      "text/latex": [
       "$\\displaystyle \\left(s_{44}, \\mathrm{True}\\right)$"
      ],
      "text/plain": [
       "(s[4, 4], True)"
      ]
     },
     "metadata": {},
     "output_type": "display_data"
    },
    {
     "data": {
      "text/html": [
       "<html>\\(\\displaystyle \\left(s_{431}, \\mathrm{True}\\right)\\)</html>"
      ],
      "text/latex": [
       "$\\displaystyle \\left(s_{431}, \\mathrm{True}\\right)$"
      ],
      "text/plain": [
       "(s[4, 3, 1], True)"
      ]
     },
     "metadata": {},
     "output_type": "display_data"
    },
    {
     "data": {
      "text/html": [
       "<html>\\(\\displaystyle \\left(s_{422}, \\mathrm{True}\\right)\\)</html>"
      ],
      "text/latex": [
       "$\\displaystyle \\left(s_{422}, \\mathrm{True}\\right)$"
      ],
      "text/plain": [
       "(s[4, 2, 2], True)"
      ]
     },
     "metadata": {},
     "output_type": "display_data"
    },
    {
     "data": {
      "text/html": [
       "<html>\\(\\displaystyle \\left(s_{4211}, \\mathrm{True}\\right)\\)</html>"
      ],
      "text/latex": [
       "$\\displaystyle \\left(s_{4211}, \\mathrm{True}\\right)$"
      ],
      "text/plain": [
       "(s[4, 2, 1, 1], True)"
      ]
     },
     "metadata": {},
     "output_type": "display_data"
    },
    {
     "data": {
      "text/html": [
       "<html>\\(\\displaystyle \\left(s_{41111}, \\mathrm{True}\\right)\\)</html>"
      ],
      "text/latex": [
       "$\\displaystyle \\left(s_{41111}, \\mathrm{True}\\right)$"
      ],
      "text/plain": [
       "(s[4, 1, 1, 1, 1], True)"
      ]
     },
     "metadata": {},
     "output_type": "display_data"
    },
    {
     "data": {
      "text/html": [
       "<html>\\(\\displaystyle \\left(s_{332}, \\mathrm{True}\\right)\\)</html>"
      ],
      "text/latex": [
       "$\\displaystyle \\left(s_{332}, \\mathrm{True}\\right)$"
      ],
      "text/plain": [
       "(s[3, 3, 2], True)"
      ]
     },
     "metadata": {},
     "output_type": "display_data"
    },
    {
     "data": {
      "text/html": [
       "<html>\\(\\displaystyle \\left(s_{3311}, \\mathrm{True}\\right)\\)</html>"
      ],
      "text/latex": [
       "$\\displaystyle \\left(s_{3311}, \\mathrm{True}\\right)$"
      ],
      "text/plain": [
       "(s[3, 3, 1, 1], True)"
      ]
     },
     "metadata": {},
     "output_type": "display_data"
    },
    {
     "data": {
      "text/html": [
       "<html>\\(\\displaystyle \\left(s_{3221}, \\mathrm{True}\\right)\\)</html>"
      ],
      "text/latex": [
       "$\\displaystyle \\left(s_{3221}, \\mathrm{True}\\right)$"
      ],
      "text/plain": [
       "(s[3, 2, 2, 1], True)"
      ]
     },
     "metadata": {},
     "output_type": "display_data"
    },
    {
     "data": {
      "text/html": [
       "<html>\\(\\displaystyle \\left(s_{32111}, \\mathrm{True}\\right)\\)</html>"
      ],
      "text/latex": [
       "$\\displaystyle \\left(s_{32111}, \\mathrm{True}\\right)$"
      ],
      "text/plain": [
       "(s[3, 2, 1, 1, 1], True)"
      ]
     },
     "metadata": {},
     "output_type": "display_data"
    },
    {
     "data": {
      "text/html": [
       "<html>\\(\\displaystyle \\left(s_{311111}, \\mathrm{True}\\right)\\)</html>"
      ],
      "text/latex": [
       "$\\displaystyle \\left(s_{311111}, \\mathrm{True}\\right)$"
      ],
      "text/plain": [
       "(s[3, 1, 1, 1, 1, 1], True)"
      ]
     },
     "metadata": {},
     "output_type": "display_data"
    },
    {
     "data": {
      "text/html": [
       "<html>\\(\\displaystyle \\left(s_{2222}, \\mathrm{True}\\right)\\)</html>"
      ],
      "text/latex": [
       "$\\displaystyle \\left(s_{2222}, \\mathrm{True}\\right)$"
      ],
      "text/plain": [
       "(s[2, 2, 2, 2], True)"
      ]
     },
     "metadata": {},
     "output_type": "display_data"
    },
    {
     "data": {
      "text/html": [
       "<html>\\(\\displaystyle \\left(s_{22211}, \\mathrm{True}\\right)\\)</html>"
      ],
      "text/latex": [
       "$\\displaystyle \\left(s_{22211}, \\mathrm{True}\\right)$"
      ],
      "text/plain": [
       "(s[2, 2, 2, 1, 1], True)"
      ]
     },
     "metadata": {},
     "output_type": "display_data"
    },
    {
     "data": {
      "text/html": [
       "<html>\\(\\displaystyle \\left(s_{221111}, \\mathrm{True}\\right)\\)</html>"
      ],
      "text/latex": [
       "$\\displaystyle \\left(s_{221111}, \\mathrm{True}\\right)$"
      ],
      "text/plain": [
       "(s[2, 2, 1, 1, 1, 1], True)"
      ]
     },
     "metadata": {},
     "output_type": "display_data"
    },
    {
     "data": {
      "text/html": [
       "<html>\\(\\displaystyle \\left(s_{2111111}, \\mathrm{True}\\right)\\)</html>"
      ],
      "text/latex": [
       "$\\displaystyle \\left(s_{2111111}, \\mathrm{True}\\right)$"
      ],
      "text/plain": [
       "(s[2, 1, 1, 1, 1, 1, 1], True)"
      ]
     },
     "metadata": {},
     "output_type": "display_data"
    },
    {
     "data": {
      "text/html": [
       "<html>\\(\\displaystyle \\left(s_{11111111}, \\mathrm{True}\\right)\\)</html>"
      ],
      "text/latex": [
       "$\\displaystyle \\left(s_{11111111}, \\mathrm{True}\\right)$"
      ],
      "text/plain": [
       "(s[1, 1, 1, 1, 1, 1, 1, 1], True)"
      ]
     },
     "metadata": {},
     "output_type": "display_data"
    }
   ],
   "source": [
    "for mu in Partitions(n):\n",
    "    show((s(mu),s(mu).kronecker_product(s[n-1]*s[1])==s[1]*(s(mu).skew_by(s[1]))))"
   ]
  },
  {
   "cell_type": "markdown",
   "metadata": {
    "jp-MarkdownHeadingCollapsed": true
   },
   "source": [
    "# <div align=\"center\">   <span style=\"color:green\">   Generalized Cauchy Indentity</span>\n",
    "### $$s_\\mu(\\boldsymbol{x}\\,\\boldsymbol{y})=\\sum_{\\nu\\vdash n} s_\\nu(\\boldsymbol{x}) (s_\\mu \\star s_\\nu)(\\boldsymbol{y})$$\n",
    "\n"
   ]
  },
  {
   "cell_type": "code",
   "execution_count": 73,
   "metadata": {},
   "outputs": [
    {
     "data": {
      "text/html": [
       "<html>\\(\\displaystyle s_{1111} \\otimes s_{22} + s_{211} \\otimes s_{211} + s_{211} \\otimes s_{31} + s_{22} \\otimes s_{1111} + s_{22} \\otimes s_{22} + s_{22} \\otimes s_{4} + s_{31} \\otimes s_{211} + s_{31} \\otimes s_{31} + s_{4} \\otimes s_{22}\\)</html>"
      ],
      "text/latex": [
       "$\\displaystyle s_{1111} \\otimes s_{22} + s_{211} \\otimes s_{211} + s_{211} \\otimes s_{31} + s_{22} \\otimes s_{1111} + s_{22} \\otimes s_{22} + s_{22} \\otimes s_{4} + s_{31} \\otimes s_{211} + s_{31} \\otimes s_{31} + s_{4} \\otimes s_{22}$"
      ],
      "text/plain": [
       "s[1, 1, 1, 1] # s[2, 2] + s[2, 1, 1] # s[2, 1, 1] + s[2, 1, 1] # s[3, 1] + s[2, 2] # s[1, 1, 1, 1] + s[2, 2] # s[2, 2] + s[2, 2] # s[4] + s[3, 1] # s[2, 1, 1] + s[3, 1] # s[3, 1] + s[4] # s[2, 2]"
      ]
     },
     "execution_count": 73,
     "metadata": {},
     "output_type": "execute_result"
    }
   ],
   "source": [
    "mu=Partition([2,2])\n",
    "n=mu.size()\n",
    "add(tensor([s(nu),s(mu).kronecker_product(s(nu))]) for nu in Partitions(n))"
   ]
  },
  {
   "cell_type": "code",
   "execution_count": 74,
   "metadata": {},
   "outputs": [
    {
     "data": {
      "text/html": [
       "<html>\\(\\displaystyle s_{1111} \\otimes s_{22} + s_{211} \\otimes s_{211} + s_{211} \\otimes s_{31} + s_{22} \\otimes s_{1111} + s_{22} \\otimes s_{22} + s_{22} \\otimes s_{4} + s_{31} \\otimes s_{211} + s_{31} \\otimes s_{31} + s_{4} \\otimes s_{22}\\)</html>"
      ],
      "text/latex": [
       "$\\displaystyle s_{1111} \\otimes s_{22} + s_{211} \\otimes s_{211} + s_{211} \\otimes s_{31} + s_{22} \\otimes s_{1111} + s_{22} \\otimes s_{22} + s_{22} \\otimes s_{4} + s_{31} \\otimes s_{211} + s_{31} \\otimes s_{31} + s_{4} \\otimes s_{22}$"
      ],
      "text/plain": [
       "s[1, 1, 1, 1] # s[2, 2] + s[2, 1, 1] # s[2, 1, 1] + s[2, 1, 1] # s[3, 1] + s[2, 2] # s[1, 1, 1, 1] + s[2, 2] # s[2, 2] + s[2, 2] # s[4] + s[3, 1] # s[2, 1, 1] + s[3, 1] # s[3, 1] + s[4] # s[2, 2]"
      ]
     },
     "execution_count": 74,
     "metadata": {},
     "output_type": "execute_result"
    }
   ],
   "source": [
    "mu=Partition([2,2])\n",
    "X=tensor([s[1],s[0]])\n",
    "Y=tensor([s[0],s[1]])\n",
    "s(mu)(X*Y)"
   ]
  },
  {
   "cell_type": "code",
   "execution_count": 75,
   "metadata": {},
   "outputs": [
    {
     "data": {
      "text/html": [
       "<html>\\(\\displaystyle s_{1} \\otimes \\mathbb{1}\\)</html>"
      ],
      "text/latex": [
       "$\\displaystyle s_{1} \\otimes \\mathbb{1}$"
      ],
      "text/plain": [
       "s[1] # s[]"
      ]
     },
     "execution_count": 75,
     "metadata": {},
     "output_type": "execute_result"
    }
   ],
   "source": [
    "X=tensor([s[1],s[0]])\n",
    "X"
   ]
  },
  {
   "cell_type": "code",
   "execution_count": 76,
   "metadata": {},
   "outputs": [
    {
     "data": {
      "text/html": [
       "<html>\\(\\displaystyle \\mathbb{1} \\otimes s_{1}\\)</html>"
      ],
      "text/latex": [
       "$\\displaystyle \\mathbb{1} \\otimes s_{1}$"
      ],
      "text/plain": [
       "s[] # s[1]"
      ]
     },
     "execution_count": 76,
     "metadata": {},
     "output_type": "execute_result"
    }
   ],
   "source": [
    "Y=tensor([s[0],s[1]])\n",
    "Y"
   ]
  },
  {
   "cell_type": "code",
   "execution_count": 77,
   "metadata": {},
   "outputs": [
    {
     "data": {
      "text/html": [
       "<html>\\(\\displaystyle s_{1111} \\otimes s_{1111} + s_{211} \\otimes s_{211} + s_{22} \\otimes s_{22} + s_{31} \\otimes s_{31} + s_{4} \\otimes s_{4}\\)</html>"
      ],
      "text/latex": [
       "$\\displaystyle s_{1111} \\otimes s_{1111} + s_{211} \\otimes s_{211} + s_{22} \\otimes s_{22} + s_{31} \\otimes s_{31} + s_{4} \\otimes s_{4}$"
      ],
      "text/plain": [
       "s[1, 1, 1, 1] # s[1, 1, 1, 1] + s[2, 1, 1] # s[2, 1, 1] + s[2, 2] # s[2, 2] + s[3, 1] # s[3, 1] + s[4] # s[4]"
      ]
     },
     "execution_count": 77,
     "metadata": {},
     "output_type": "execute_result"
    }
   ],
   "source": [
    "s[4](X*Y)"
   ]
  },
  {
   "cell_type": "markdown",
   "metadata": {
    "jp-MarkdownHeadingCollapsed": true
   },
   "source": [
    "# <div align=\"center\">   <span style=\"color:green\">         Plethysm</span>\n",
    "\n",
    "This is the operation characterized by the properties \n",
    "\n",
    "- $(f_1+f_2)\\circ g =(f_1\\circ g)+(f_2\\circ g)$, \n",
    "- $(f_1\\cdot f_2)\\circ g =(f_1\\circ g)\\cdot (f_2\\circ g)$, \n",
    "- $p_k\\circ(g_1+g_2) =(p_k\\circ g_1)+(p_k\\circ g_2)$, \n",
    "- $p_k\\circ (g_1\\cdot g_2) =(p_k\\circ g_1)+(p_k\\circ g_2)$, \n",
    "- $p_k\\circ p_n =p_{kn}$, - $p_k\\circ x =x^k$, if $x$ is a **variable** \n",
    "- $p_k\\circ c =c$, if $c$ is a **constant**\n",
    "\n",
    "In sage **variables** in a plethysm may set be using the option `include=[x1,x2,...,xk]`, and **constants**, using the option `exclude=[c1,c2,...,ck]`. "
   ]
  },
  {
   "cell_type": "code",
   "execution_count": 78,
   "metadata": {},
   "outputs": [
    {
     "data": {
      "text/html": [
       "<html>\\(\\displaystyle s_{444} + s_{642} + s_{66} + s_{741} + s_{822} + s_{84} + s_{93} + s_{10.2} + s_{12.}\\)</html>"
      ],
      "text/latex": [
       "$\\displaystyle s_{444} + s_{642} + s_{66} + s_{741} + s_{822} + s_{84} + s_{93} + s_{10.2} + s_{12.}$"
      ],
      "text/plain": [
       "s[4, 4, 4] + s[6, 4, 2] + s[6, 6] + s[7, 4, 1] + s[8, 2, 2] + s[8, 4] + s[9, 3] + s[10, 2] + s[12]"
      ]
     },
     "execution_count": 78,
     "metadata": {},
     "output_type": "execute_result"
    }
   ],
   "source": [
    "s(h[3].plethysm(h([4])))"
   ]
  },
  {
   "cell_type": "code",
   "execution_count": 79,
   "metadata": {},
   "outputs": [
    {
     "data": {
      "text/html": [
       "<html>\\(\\displaystyle s_{444} + s_{642} + s_{66} + s_{741} + s_{822} + s_{84} + s_{93} + s_{10.2} + s_{12.}\\)</html>"
      ],
      "text/latex": [
       "$\\displaystyle s_{444} + s_{642} + s_{66} + s_{741} + s_{822} + s_{84} + s_{93} + s_{10.2} + s_{12.}$"
      ],
      "text/plain": [
       "s[4, 4, 4] + s[6, 4, 2] + s[6, 6] + s[7, 4, 1] + s[8, 2, 2] + s[8, 4] + s[9, 3] + s[10, 2] + s[12]"
      ]
     },
     "execution_count": 79,
     "metadata": {},
     "output_type": "execute_result"
    }
   ],
   "source": [
    "s[3](s[4])"
   ]
  },
  {
   "cell_type": "code",
   "execution_count": 80,
   "metadata": {},
   "outputs": [
    {
     "data": {
      "text/html": [
       "<html>\\(\\displaystyle \\left(q^{12} + q^{11} + 2 q^{10} + 3 q^{9} + 4 q^{8} + 4 q^{7} + 5 q^{6} + 4 q^{5} + 4 q^{4} + 3 q^{3} + 2 q^{2} + q + 1\\right) \\mathbb{1}\\)</html>"
      ],
      "text/latex": [
       "$\\displaystyle \\left(q^{12} + q^{11} + 2 q^{10} + 3 q^{9} + 4 q^{8} + 4 q^{7} + 5 q^{6} + 4 q^{5} + 4 q^{4} + 3 q^{3} + 2 q^{2} + q + 1\\right) \\mathbb{1}$"
      ],
      "text/plain": [
       "(q^12+q^11+2*q^10+3*q^9+4*q^8+4*q^7+5*q^6+4*q^5+4*q^4+3*q^3+2*q^2+q+1)*s[]"
      ]
     },
     "execution_count": 80,
     "metadata": {},
     "output_type": "execute_result"
    }
   ],
   "source": [
    "s[3](s[4](One*(1+q)))"
   ]
  },
  {
   "cell_type": "markdown",
   "metadata": {},
   "source": [
    "One should compare this with"
   ]
  },
  {
   "cell_type": "code",
   "execution_count": 81,
   "metadata": {},
   "outputs": [
    {
     "data": {
      "text/html": [
       "<html>\\(\\displaystyle q^{12} + q^{11} + 2q^{10} + 3q^{9} + 4q^{8} + 4q^{7} + 5q^{6} + 4q^{5} + 4q^{4} + 3q^{3} + 2q^{2} + q + 1\\)</html>"
      ],
      "text/latex": [
       "$\\displaystyle q^{12} + q^{11} + 2q^{10} + 3q^{9} + 4q^{8} + 4q^{7} + 5q^{6} + 4q^{5} + 4q^{4} + 3q^{3} + 2q^{2} + q + 1$"
      ],
      "text/plain": [
       "q^12 + q^11 + 2*q^10 + 3*q^9 + 4*q^8 + 4*q^7 + 5*q^6 + 4*q^5 + 4*q^4 + 3*q^3 + 2*q^2 + q + 1"
      ]
     },
     "execution_count": 81,
     "metadata": {},
     "output_type": "execute_result"
    }
   ],
   "source": [
    "q_binomial(7,3)"
   ]
  },
  {
   "cell_type": "code",
   "execution_count": 82,
   "metadata": {},
   "outputs": [
    {
     "data": {
      "text/html": [
       "<html>\\(\\displaystyle q^{2} s_{22} + \\left(q^{3} + q^{2} + q\\right) s_{31} + \\left(q^{4} + q^{3} + q^{2} + q + 1\\right) s_{4}\\)</html>"
      ],
      "text/latex": [
       "$\\displaystyle q^{2} s_{22} + \\left(q^{3} + q^{2} + q\\right) s_{31} + \\left(q^{4} + q^{3} + q^{2} + q + 1\\right) s_{4}$"
      ],
      "text/plain": [
       "q^2*s[2, 2] + (q^3+q^2+q)*s[3, 1] + (q^4+q^3+q^2+q+1)*s[4]"
      ]
     },
     "execution_count": 82,
     "metadata": {},
     "output_type": "execute_result"
    }
   ],
   "source": [
    "s[4](s[1]*(1+q))"
   ]
  },
  {
   "cell_type": "code",
   "execution_count": 83,
   "metadata": {},
   "outputs": [
    {
     "data": {
      "text/html": [
       "<html>\\(\\displaystyle \\left(\\frac{q^{6}}{q^{10} - q^{9} - q^{8} + 2 q^{5} - q^{2} - q + 1}\\right) s_{1111} + \\left(\\frac{q^{3}}{q^{8} - 2 q^{7} + 2 q^{5} - 2 q^{4} + 2 q^{3} - 2 q + 1}\\right) s_{211} + \\left(\\frac{q^{2}}{q^{8} - q^{7} - 2 q^{6} + q^{5} + 2 q^{4} + q^{3} - 2 q^{2} - q + 1}\\right) s_{22} + \\left(\\frac{q}{q^{8} - 2 q^{7} + 2 q^{5} - 2 q^{4} + 2 q^{3} - 2 q + 1}\\right) s_{31} + \\left(\\frac{1}{q^{10} - q^{9} - q^{8} + 2 q^{5} - q^{2} - q + 1}\\right) s_{4}\\)</html>"
      ],
      "text/latex": [
       "$\\displaystyle \\left(\\frac{q^{6}}{q^{10} - q^{9} - q^{8} + 2 q^{5} - q^{2} - q + 1}\\right) s_{1111} + \\left(\\frac{q^{3}}{q^{8} - 2 q^{7} + 2 q^{5} - 2 q^{4} + 2 q^{3} - 2 q + 1}\\right) s_{211} + \\left(\\frac{q^{2}}{q^{8} - q^{7} - 2 q^{6} + q^{5} + 2 q^{4} + q^{3} - 2 q^{2} - q + 1}\\right) s_{22} + \\left(\\frac{q}{q^{8} - 2 q^{7} + 2 q^{5} - 2 q^{4} + 2 q^{3} - 2 q + 1}\\right) s_{31} + \\left(\\frac{1}{q^{10} - q^{9} - q^{8} + 2 q^{5} - q^{2} - q + 1}\\right) s_{4}$"
      ],
      "text/plain": [
       "(q^6/(q^10-q^9-q^8+2*q^5-q^2-q+1))*s[1, 1, 1, 1] + (q^3/(q^8-2*q^7+2*q^5-2*q^4+2*q^3-2*q+1))*s[2, 1, 1] + (q^2/(q^8-q^7-2*q^6+q^5+2*q^4+q^3-2*q^2-q+1))*s[2, 2] + (q/(q^8-2*q^7+2*q^5-2*q^4+2*q^3-2*q+1))*s[3, 1] + (1/(q^10-q^9-q^8+2*q^5-q^2-q+1))*s[4]"
      ]
     },
     "execution_count": 83,
     "metadata": {},
     "output_type": "execute_result"
    }
   ],
   "source": [
    "s[4](s[1]/(1-q))"
   ]
  },
  {
   "cell_type": "code",
   "execution_count": 84,
   "metadata": {},
   "outputs": [
    {
     "data": {
      "text/html": [
       "<html>\\(\\displaystyle s_{444} + s_{642} + s_{741} + s_{822} + s_{93}\\)</html>"
      ],
      "text/latex": [
       "$\\displaystyle s_{444} + s_{642} + s_{741} + s_{822} + s_{93}$"
      ],
      "text/plain": [
       "s[4, 4, 4] + s[6, 4, 2] + s[7, 4, 1] + s[8, 2, 2] + s[9, 3]"
      ]
     },
     "execution_count": 84,
     "metadata": {},
     "output_type": "execute_result"
    }
   ],
   "source": [
    "s[3](s[4])-s[2](s[6])"
   ]
  },
  {
   "cell_type": "markdown",
   "metadata": {
    "jp-MarkdownHeadingCollapsed": true
   },
   "source": [
    "# <div align=\"center\">   <span style=\"color:green\">  Rareness of Schur Positivity</span>\n",
    "\n",
    "When computing with symmetric functions, one often wants to check a given symmetric function is Schur positive or not. In our current setup, this means that coefficients polynomials in $\\mathbb{N}[q,t]$. The following function returns `True` if the given symmetric function is Schur positive and `False` if not."
   ]
  },
  {
   "cell_type": "code",
   "execution_count": 85,
   "metadata": {},
   "outputs": [
    {
     "name": "stdout",
     "output_type": "stream",
     "text": [
      "True\n"
     ]
    }
   ],
   "source": [
    "f = s([4,1])+s([3,2])\n",
    "print(f.is_schur_positive())"
   ]
  },
  {
   "cell_type": "markdown",
   "metadata": {},
   "source": [
    "Schur positivity is a rare phenomena in general, but symmetric functions that come from representation theory are Schur positive. One can show that the probability that a degree $n$ monomial positive is Schur positive is equal to\n",
    "\n",
    "$$\\prod_{\\mu\\vdash n}\\frac{1}{k_\\mu},\\qquad {\\rm where}\\qquad k_\\mu:=\\sum_{\\nu\\vdash n} K_{\\mu,\\nu},$$\n",
    "\n",
    "with $K_{\\mu,\\nu}=\\langle s_\\mu,h_\\nu\\rangle$ the Kostka numbers. \n",
    "### Define in sage"
   ]
  },
  {
   "cell_type": "code",
   "execution_count": 86,
   "metadata": {},
   "outputs": [],
   "source": [
    "def K(mu,nu):\n",
    "    return s(mu).scalar(h(nu))\n",
    "\n",
    "def k(mu):\n",
    "    n=add(j for j in mu)\n",
    "    return add(K(mu,nu) for nu in Partitions(n))\n",
    "\n",
    "def prob_Schur_positive(n): return 1/mul(k(mu) for mu in Partitions(n))"
   ]
  },
  {
   "cell_type": "markdown",
   "metadata": {},
   "source": [
    "Rareness of Schur-positivity is then measured by the rapidly vanishing sequence of probabilities:"
   ]
  },
  {
   "cell_type": "code",
   "execution_count": 87,
   "metadata": {},
   "outputs": [
    {
     "data": {
      "text/html": [
       "<html>\\(\\displaystyle \\left[1, \\frac{1}{2}, \\frac{1}{9}, \\frac{1}{560}, \\frac{1}{480480}, \\frac{1}{1027458432000}, \\frac{1}{2465474364698304960000}\\right]\\)</html>"
      ],
      "text/latex": [
       "$\\displaystyle \\left[1, \\frac{1}{2}, \\frac{1}{9}, \\frac{1}{560}, \\frac{1}{480480}, \\frac{1}{1027458432000}, \\frac{1}{2465474364698304960000}\\right]$"
      ],
      "text/plain": [
       "[1, 1/2, 1/9, 1/560, 1/480480, 1/1027458432000, 1/2465474364698304960000]"
      ]
     },
     "execution_count": 87,
     "metadata": {},
     "output_type": "execute_result"
    }
   ],
   "source": [
    "[prob_Schur_positive(n) for n in range(1,8)]"
   ]
  },
  {
   "cell_type": "markdown",
   "metadata": {
    "jp-MarkdownHeadingCollapsed": true
   },
   "source": [
    "# <div align=\"center\">   <span style=\"color:green\">     Hopf structure</span>\n",
    "\n",
    "Many important identities between symmetric functions can be linked to \"the\" Hopf algebra structure on the ring of symmetric function. In part, this means that we have a **coproduct** on symmetric functions that may be described $$g(\\boldsymbol{x}+\\boldsymbol{y})= \\sum_{k+j=n}\\sum_{\\mu\\vdash k,\\ \\nu\\vdash j} a_{\\mu,\\nu}\\, s_\\mu(\\boldsymbol{x}) s_\\nu(\\boldsymbol{y})$$\n",
    " "
   ]
  },
  {
   "cell_type": "code",
   "execution_count": 88,
   "metadata": {},
   "outputs": [],
   "source": [
    "X=tensor([s[1],s[0]])\n",
    "Y=tensor([s[0],s[1]])"
   ]
  },
  {
   "cell_type": "code",
   "execution_count": 89,
   "metadata": {},
   "outputs": [
    {
     "data": {
      "text/html": [
       "<html>\\(\\displaystyle \\mathbb{1} \\otimes s_{3} + s_{1} \\otimes s_{2} + s_{2} \\otimes s_{1} + s_{3} \\otimes \\mathbb{1}\\)</html>"
      ],
      "text/latex": [
       "$\\displaystyle \\mathbb{1} \\otimes s_{3} + s_{1} \\otimes s_{2} + s_{2} \\otimes s_{1} + s_{3} \\otimes \\mathbb{1}$"
      ],
      "text/plain": [
       "s[] # s[3] + s[1] # s[2] + s[2] # s[1] + s[3] # s[]"
      ]
     },
     "execution_count": 89,
     "metadata": {},
     "output_type": "execute_result"
    }
   ],
   "source": [
    "s[3](X+Y)"
   ]
  },
  {
   "cell_type": "code",
   "execution_count": 90,
   "metadata": {},
   "outputs": [
    {
     "data": {
      "text/html": [
       "<html>\\(\\displaystyle \\mathbb{1} \\otimes s_{321} + s_{1} \\otimes s_{221} + s_{1} \\otimes s_{311} + s_{1} \\otimes s_{32} + s_{11} \\otimes s_{211} + s_{11} \\otimes s_{22} + s_{11} \\otimes s_{31} + s_{111} \\otimes s_{21} + s_{2} \\otimes s_{211} + s_{2} \\otimes s_{22} + s_{2} \\otimes s_{31} + s_{21} \\otimes s_{111} + 2 s_{21} \\otimes s_{21} + s_{21} \\otimes s_{3} + s_{211} \\otimes s_{11} + s_{211} \\otimes s_{2} + s_{22} \\otimes s_{11} + s_{22} \\otimes s_{2} + s_{221} \\otimes s_{1} + s_{3} \\otimes s_{21} + s_{31} \\otimes s_{11} + s_{31} \\otimes s_{2} + s_{311} \\otimes s_{1} + s_{32} \\otimes s_{1} + s_{321} \\otimes \\mathbb{1}\\)</html>"
      ],
      "text/latex": [
       "$\\displaystyle \\mathbb{1} \\otimes s_{321} + s_{1} \\otimes s_{221} + s_{1} \\otimes s_{311} + s_{1} \\otimes s_{32} + s_{11} \\otimes s_{211} + s_{11} \\otimes s_{22} + s_{11} \\otimes s_{31} + s_{111} \\otimes s_{21} + s_{2} \\otimes s_{211} + s_{2} \\otimes s_{22} + s_{2} \\otimes s_{31} + s_{21} \\otimes s_{111} + 2 s_{21} \\otimes s_{21} + s_{21} \\otimes s_{3} + s_{211} \\otimes s_{11} + s_{211} \\otimes s_{2} + s_{22} \\otimes s_{11} + s_{22} \\otimes s_{2} + s_{221} \\otimes s_{1} + s_{3} \\otimes s_{21} + s_{31} \\otimes s_{11} + s_{31} \\otimes s_{2} + s_{311} \\otimes s_{1} + s_{32} \\otimes s_{1} + s_{321} \\otimes \\mathbb{1}$"
      ],
      "text/plain": [
       "s[] # s[3, 2, 1] + s[1] # s[2, 2, 1] + s[1] # s[3, 1, 1] + s[1] # s[3, 2] + s[1, 1] # s[2, 1, 1] + s[1, 1] # s[2, 2] + s[1, 1] # s[3, 1] + s[1, 1, 1] # s[2, 1] + s[2] # s[2, 1, 1] + s[2] # s[2, 2] + s[2] # s[3, 1] + s[2, 1] # s[1, 1, 1] + 2*s[2, 1] # s[2, 1] + s[2, 1] # s[3] + s[2, 1, 1] # s[1, 1] + s[2, 1, 1] # s[2] + s[2, 2] # s[1, 1] + s[2, 2] # s[2] + s[2, 2, 1] # s[1] + s[3] # s[2, 1] + s[3, 1] # s[1, 1] + s[3, 1] # s[2] + s[3, 1, 1] # s[1] + s[3, 2] # s[1] + s[3, 2, 1] # s[]"
      ]
     },
     "execution_count": 90,
     "metadata": {},
     "output_type": "execute_result"
    }
   ],
   "source": [
    "s[3,2,1](X+Y)"
   ]
  },
  {
   "cell_type": "markdown",
   "metadata": {
    "jp-MarkdownHeadingCollapsed": true
   },
   "source": [
    "# <div align=\"center\">   <span style=\"color:green\">      Skew Schur fonctions</span>\n",
    "    \n",
    "These arise when one considers the effect of coproduct on Schur functions themselves\n",
    "\n",
    "$$ s_\\mu(\\boldsymbol{x}+\\boldsymbol{y}) = \\sum_{\\nu\\subseteq \\mu} s_{\\mu/\\nu}(\\boldsymbol{x})\\otimes s_\\nu(\\boldsymbol{y}).$$\n"
   ]
  },
  {
   "cell_type": "code",
   "execution_count": 91,
   "metadata": {},
   "outputs": [
    {
     "data": {
      "text/html": [
       "<html>\\(\\displaystyle s_{211} + s_{22} + s_{31}\\)</html>"
      ],
      "text/latex": [
       "$\\displaystyle s_{211} + s_{22} + s_{31}$"
      ],
      "text/plain": [
       "s[2, 1, 1] + s[2, 2] + s[3, 1]"
      ]
     },
     "execution_count": 91,
     "metadata": {},
     "output_type": "execute_result"
    }
   ],
   "source": [
    "s[3,2,1].skew_by(s[2])"
   ]
  },
  {
   "cell_type": "code",
   "execution_count": 92,
   "metadata": {},
   "outputs": [
    {
     "data": {
      "text/html": [
       "<html>\\(\\displaystyle \\mathrm{True}\\)</html>"
      ],
      "text/latex": [
       "$\\displaystyle \\mathrm{True}$"
      ],
      "text/plain": [
       "True"
      ]
     },
     "execution_count": 92,
     "metadata": {},
     "output_type": "execute_result"
    }
   ],
   "source": [
    "mu=Partition([3,2,1])\n",
    "s(mu)(X+Y)==add(tensor([s(mu).skew_by(s(nu)),s(nu)]) for k in range(7) for nu in Partitions(k))"
   ]
  },
  {
   "cell_type": "markdown",
   "metadata": {
    "jp-MarkdownHeadingCollapsed": true
   },
   "source": [
    "# <div align=\"center\">   <span style=\"color:green\">     Cauchy kernel</span>\n",
    "\n",
    "$$\\sum_{n\\geq 0} h_n(\\boldsymbol{x}\\boldsymbol{y})=\\prod_{i,j}\\frac{1}{1-x_i\\,y_j}$$\n",
    "written here using plethystic notation. Its degree $n$ homogeneous component plays a crucial role in the description of \"dual bases\" with respect to the scalar product. We have\n",
    "\n",
    "$$h_n(\\boldsymbol{x}\\boldsymbol{y})=\\sum_{\\mu\\vdash n} u_\\mu(\\boldsymbol{x})\\, v_\\mu(\\boldsymbol{y})\n",
    " \\qquad {\\rm iff}\\qquad\n",
    " \\langle u_\\mu,v_\\lambda\\rangle=\\delta_{\\mu\\lambda}, \\qquad\n",
    " (\\delta_{\\mu \\lambda}:\\ \\hbox{Kronecker \"delta\"})$$\n",
    "\n",
    "One says that $\\{u_\\mu\\}_\\mu$ and $\\{v_\\lambda\\}_\\lambda$ are **dual bases**. Schur functions are self dual, the dual of the $h_{\\mu}$ are the $m_\\mu$, that of the $p_\\mu$ are the $p_{\\mu}/z_{\\mu}$. The \"forgotten\" symmetric function $f_{\\mu}$ appear as the dual of the $e_{\\mu}$."
   ]
  },
  {
   "cell_type": "code",
   "execution_count": 93,
   "metadata": {
    "scrolled": true
   },
   "outputs": [
    {
     "data": {
      "text/html": [
       "<html>\\(\\displaystyle s_{1111} \\otimes s_{1111} + s_{211} \\otimes s_{211} + s_{22} \\otimes s_{22} + s_{31} \\otimes s_{31} + s_{4} \\otimes s_{4}\\)</html>"
      ],
      "text/latex": [
       "$\\displaystyle s_{1111} \\otimes s_{1111} + s_{211} \\otimes s_{211} + s_{22} \\otimes s_{22} + s_{31} \\otimes s_{31} + s_{4} \\otimes s_{4}$"
      ],
      "text/plain": [
       "s[1, 1, 1, 1] # s[1, 1, 1, 1] + s[2, 1, 1] # s[2, 1, 1] + s[2, 2] # s[2, 2] + s[3, 1] # s[3, 1] + s[4] # s[4]"
      ]
     },
     "execution_count": 93,
     "metadata": {},
     "output_type": "execute_result"
    }
   ],
   "source": [
    "add(tensor([s(mu),s(mu)]) for mu in Partitions(4))"
   ]
  },
  {
   "cell_type": "code",
   "execution_count": 94,
   "metadata": {},
   "outputs": [
    {
     "data": {
      "text/html": [
       "<html>\\(\\displaystyle s_{1} \\otimes \\mathbb{1}\\)</html>"
      ],
      "text/latex": [
       "$\\displaystyle s_{1} \\otimes \\mathbb{1}$"
      ],
      "text/plain": [
       "s[1] # s[]"
      ]
     },
     "execution_count": 94,
     "metadata": {},
     "output_type": "execute_result"
    }
   ],
   "source": [
    "X"
   ]
  },
  {
   "cell_type": "code",
   "execution_count": 95,
   "metadata": {},
   "outputs": [
    {
     "data": {
      "text/html": [
       "<html>\\(\\displaystyle s_{1111} \\otimes s_{1111} + s_{211} \\otimes s_{211} + s_{22} \\otimes s_{22} + s_{31} \\otimes s_{31} + s_{4} \\otimes s_{4}\\)</html>"
      ],
      "text/latex": [
       "$\\displaystyle s_{1111} \\otimes s_{1111} + s_{211} \\otimes s_{211} + s_{22} \\otimes s_{22} + s_{31} \\otimes s_{31} + s_{4} \\otimes s_{4}$"
      ],
      "text/plain": [
       "s[1, 1, 1, 1] # s[1, 1, 1, 1] + s[2, 1, 1] # s[2, 1, 1] + s[2, 2] # s[2, 2] + s[3, 1] # s[3, 1] + s[4] # s[4]"
      ]
     },
     "execution_count": 95,
     "metadata": {},
     "output_type": "execute_result"
    }
   ],
   "source": [
    "s[4](X*Y)"
   ]
  },
  {
   "cell_type": "code",
   "execution_count": 96,
   "metadata": {},
   "outputs": [
    {
     "data": {
      "text/html": [
       "<html>\\(\\displaystyle h_{1111} \\otimes m_{1111} + h_{211} \\otimes m_{211} + h_{22} \\otimes m_{22} + h_{31} \\otimes m_{31} + h_{4} \\otimes m_{4}\\)</html>"
      ],
      "text/latex": [
       "$\\displaystyle h_{1111} \\otimes m_{1111} + h_{211} \\otimes m_{211} + h_{22} \\otimes m_{22} + h_{31} \\otimes m_{31} + h_{4} \\otimes m_{4}$"
      ],
      "text/plain": [
       "h[1, 1, 1, 1] # m[1, 1, 1, 1] + h[2, 1, 1] # m[2, 1, 1] + h[2, 2] # m[2, 2] + h[3, 1] # m[3, 1] + h[4] # m[4]"
      ]
     },
     "execution_count": 96,
     "metadata": {},
     "output_type": "execute_result"
    }
   ],
   "source": [
    "tensor([h,m])(s[4](X*Y))"
   ]
  },
  {
   "cell_type": "code",
   "execution_count": 97,
   "metadata": {},
   "outputs": [
    {
     "data": {
      "text/html": [
       "<html>\\(\\displaystyle \\frac{1}{24} p_{1111} \\otimes p_{1111} + \\frac{1}{4} p_{211} \\otimes p_{211} + \\frac{1}{8} p_{22} \\otimes p_{22} + \\frac{1}{3} p_{31} \\otimes p_{31} + \\frac{1}{4} p_{4} \\otimes p_{4}\\)</html>"
      ],
      "text/latex": [
       "$\\displaystyle \\frac{1}{24} p_{1111} \\otimes p_{1111} + \\frac{1}{4} p_{211} \\otimes p_{211} + \\frac{1}{8} p_{22} \\otimes p_{22} + \\frac{1}{3} p_{31} \\otimes p_{31} + \\frac{1}{4} p_{4} \\otimes p_{4}$"
      ],
      "text/plain": [
       "1/24*p[1, 1, 1, 1] # p[1, 1, 1, 1] + 1/4*p[2, 1, 1] # p[2, 1, 1] + 1/8*p[2, 2] # p[2, 2] + 1/3*p[3, 1] # p[3, 1] + 1/4*p[4] # p[4]"
      ]
     },
     "execution_count": 97,
     "metadata": {},
     "output_type": "execute_result"
    }
   ],
   "source": [
    "tensor([p,p])(s[4](X*Y))"
   ]
  },
  {
   "cell_type": "markdown",
   "metadata": {
    "jp-MarkdownHeadingCollapsed": true
   },
   "source": [
    "# <div align=\"center\">   <span style=\"color:green\">     Combinatorial Macdonald Polynomials</span>\n",
    "The well known Macdonald symmetric functions are implemented in sage. They have been initialized at the beginning of our sesssion. These are eigenfunctions of the operator $\\nabla$. (See further below for more informations about $\\nabla$.)"
   ]
  },
  {
   "cell_type": "code",
   "execution_count": 98,
   "metadata": {},
   "outputs": [
    {
     "data": {
      "text/html": [
       "<html>\\(\\displaystyle \\widetilde{H}_{21}\\)</html>"
      ],
      "text/latex": [
       "$\\displaystyle \\widetilde{H}_{21}$"
      ],
      "text/plain": [
       "McdHt[2, 1]"
      ]
     },
     "execution_count": 98,
     "metadata": {},
     "output_type": "execute_result"
    }
   ],
   "source": [
    "H([2,1])"
   ]
  },
  {
   "cell_type": "code",
   "execution_count": 99,
   "metadata": {},
   "outputs": [
    {
     "data": {
      "text/html": [
       "<html>\\(\\displaystyle \\left(\\frac{q}{q t^{2} - t^{3} - q^{2} + q t}\\right) \\widetilde{H}_{111} + \\left(\\frac{-q^{2} - q t - t^{2}}{q^{2} t^{2} - q^{3} - t^{3} + q t}\\right) \\widetilde{H}_{21} + \\left(\\frac{t}{-q^{3} + q^{2} t + q t - t^{2}}\\right) \\widetilde{H}_{3}\\)</html>"
      ],
      "text/latex": [
       "$\\displaystyle \\left(\\frac{q}{q t^{2} - t^{3} - q^{2} + q t}\\right) \\widetilde{H}_{111} + \\left(\\frac{-q^{2} - q t - t^{2}}{q^{2} t^{2} - q^{3} - t^{3} + q t}\\right) \\widetilde{H}_{21} + \\left(\\frac{t}{-q^{3} + q^{2} t + q t - t^{2}}\\right) \\widetilde{H}_{3}$"
      ],
      "text/plain": [
       "(q/(q*t^2-t^3-q^2+q*t))*McdHt[1, 1, 1] + ((-q^2-q*t-t^2)/(q^2*t^2-q^3-t^3+q*t))*McdHt[2, 1] + (t/(-q^3+q^2*t+q*t-t^2))*McdHt[3]"
      ]
     },
     "execution_count": 99,
     "metadata": {},
     "output_type": "execute_result"
    }
   ],
   "source": [
    "H(s[2,1])"
   ]
  },
  {
   "cell_type": "code",
   "execution_count": 100,
   "metadata": {},
   "outputs": [
    {
     "data": {
      "text/html": [
       "<html>\\(\\displaystyle \\left[q^{6} \\widetilde{H}_{4}, q^{3} t \\widetilde{H}_{31}, q^{2} t^{2} \\widetilde{H}_{22}, q t^{3} \\widetilde{H}_{211}, t^{6} \\widetilde{H}_{1111}\\right]\\)</html>"
      ],
      "text/latex": [
       "$\\displaystyle \\left[q^{6} \\widetilde{H}_{4}, q^{3} t \\widetilde{H}_{31}, q^{2} t^{2} \\widetilde{H}_{22}, q t^{3} \\widetilde{H}_{211}, t^{6} \\widetilde{H}_{1111}\\right]$"
      ],
      "text/plain": [
       "[q^6*McdHt[4],\n",
       " q^3*t*McdHt[3, 1],\n",
       " q^2*t^2*McdHt[2, 2],\n",
       " q*t^3*McdHt[2, 1, 1],\n",
       " t^6*McdHt[1, 1, 1, 1]]"
      ]
     },
     "execution_count": 100,
     "metadata": {},
     "output_type": "execute_result"
    }
   ],
   "source": [
    "[H(mu).nabla() for mu in Partitions(4)]"
   ]
  },
  {
   "cell_type": "code",
   "execution_count": 101,
   "metadata": {},
   "outputs": [
    {
     "data": {
      "text/html": [
       "<html>\\(\\displaystyle \\left(q^{6} + q^{5} t + q^{4} t^{2} + q^{3} t^{3} + q^{2} t^{4} + q t^{5} + t^{6} + q^{4} t + q^{3} t^{2} + q^{2} t^{3} + q t^{4} + q^{3} t + q^{2} t^{2} + q t^{3}\\right) s_{1111} + \\left(q^{5} + q^{4} t + q^{3} t^{2} + q^{2} t^{3} + q t^{4} + t^{5} + q^{4} + 2 q^{3} t + 2 q^{2} t^{2} + 2 q t^{3} + t^{4} + q^{3} + 2 q^{2} t + 2 q t^{2} + t^{3} + q t\\right) s_{211} + \\left(q^{4} + q^{3} t + q^{2} t^{2} + q t^{3} + t^{4} + q^{2} t + q t^{2} + q^{2} + q t + t^{2}\\right) s_{22} + \\left(q^{3} + q^{2} t + q t^{2} + t^{3} + q^{2} + q t + t^{2} + q + t\\right) s_{31} + s_{4}\\)</html>"
      ],
      "text/latex": [
       "$\\displaystyle \\left(q^{6} + q^{5} t + q^{4} t^{2} + q^{3} t^{3} + q^{2} t^{4} + q t^{5} + t^{6} + q^{4} t + q^{3} t^{2} + q^{2} t^{3} + q t^{4} + q^{3} t + q^{2} t^{2} + q t^{3}\\right) s_{1111} + \\left(q^{5} + q^{4} t + q^{3} t^{2} + q^{2} t^{3} + q t^{4} + t^{5} + q^{4} + 2 q^{3} t + 2 q^{2} t^{2} + 2 q t^{3} + t^{4} + q^{3} + 2 q^{2} t + 2 q t^{2} + t^{3} + q t\\right) s_{211} + \\left(q^{4} + q^{3} t + q^{2} t^{2} + q t^{3} + t^{4} + q^{2} t + q t^{2} + q^{2} + q t + t^{2}\\right) s_{22} + \\left(q^{3} + q^{2} t + q t^{2} + t^{3} + q^{2} + q t + t^{2} + q + t\\right) s_{31} + s_{4}$"
      ],
      "text/plain": [
       "(q^6+q^5*t+q^4*t^2+q^3*t^3+q^2*t^4+q*t^5+t^6+q^4*t+q^3*t^2+q^2*t^3+q*t^4+q^3*t+q^2*t^2+q*t^3)*s[1, 1, 1, 1] + (q^5+q^4*t+q^3*t^2+q^2*t^3+q*t^4+t^5+q^4+2*q^3*t+2*q^2*t^2+2*q*t^3+t^4+q^3+2*q^2*t+2*q*t^2+t^3+q*t)*s[2, 1, 1] + (q^4+q^3*t+q^2*t^2+q*t^3+t^4+q^2*t+q*t^2+q^2+q*t+t^2)*s[2, 2] + (q^3+q^2*t+q*t^2+t^3+q^2+q*t+t^2+q+t)*s[3, 1] + s[4]"
      ]
     },
     "execution_count": 101,
     "metadata": {},
     "output_type": "execute_result"
    }
   ],
   "source": [
    "s[1,1,1,1].nabla()"
   ]
  },
  {
   "cell_type": "markdown",
   "metadata": {
    "jp-MarkdownHeadingCollapsed": true
   },
   "source": [
    "# <div align=\"center\">   <span style=\"color:green\">      Macdonald eigenoperators</span>\n",
    "\n",
    "The **nabla operator** is characterized as having the combinatorial Macdonald symmetric functions $H_{\\mu}=H_{\\mu}(\\mathbf{x};q,t)$ as eigenfunctions:\n",
    "\n",
    "$$\\nabla H_{\\mu} = t^{n(\\mu)} q^{n(\\mu')} H_{\\mu},$$\n",
    "\n",
    "where $\\mu$ is a partition, $\\mu'$ its conjugate, and $n(\\mu)$ is set to be equal to $\\sum_i (i-1)\\mu_i$. "
   ]
  },
  {
   "cell_type": "code",
   "execution_count": 102,
   "metadata": {},
   "outputs": [
    {
     "data": {
      "text/html": [
       "<html>\\(\\displaystyle q^{4} t^{2} \\widetilde{H}_{32}\\)</html>"
      ],
      "text/latex": [
       "$\\displaystyle q^{4} t^{2} \\widetilde{H}_{32}$"
      ],
      "text/plain": [
       "q^4*t^2*McdHt[3, 2]"
      ]
     },
     "execution_count": 102,
     "metadata": {},
     "output_type": "execute_result"
    }
   ],
   "source": [
    "H[3,2].nabla()"
   ]
  },
  {
   "cell_type": "code",
   "execution_count": 103,
   "metadata": {},
   "outputs": [
    {
     "data": {
      "text/html": [
       "<html>\\(\\displaystyle \\left(q^{3} + q^{2} t + q t^{2} + t^{3} + q t\\right) s_{111} + \\left(q^{2} + q t + t^{2} + q + t\\right) s_{21} + s_{3}\\)</html>"
      ],
      "text/latex": [
       "$\\displaystyle \\left(q^{3} + q^{2} t + q t^{2} + t^{3} + q t\\right) s_{111} + \\left(q^{2} + q t + t^{2} + q + t\\right) s_{21} + s_{3}$"
      ],
      "text/plain": [
       "(q^3+q^2*t+q*t^2+t^3+q*t)*s[1, 1, 1] + (q^2+q*t+t^2+q+t)*s[2, 1] + s[3]"
      ]
     },
     "execution_count": 103,
     "metadata": {},
     "output_type": "execute_result"
    }
   ],
   "source": [
    "s(e[3].nabla())"
   ]
  },
  {
   "cell_type": "markdown",
   "metadata": {},
   "source": [
    "### At $q=t=1$, the scalar product of $\\nabla(e_n)$ with $p_1^n$ gives $(n+1)^{n-1}$"
   ]
  },
  {
   "cell_type": "code",
   "execution_count": 104,
   "metadata": {},
   "outputs": [
    {
     "data": {
      "text/html": [
       "<html>\\(\\displaystyle q^{3} + q^{2} t + q t^{2} + t^{3} + 2 q^{2} + 3 q t + 2 t^{2} + 2 q + 2 t + 1\\)</html>"
      ],
      "text/latex": [
       "$\\displaystyle q^{3} + q^{2} t + q t^{2} + t^{3} + 2 q^{2} + 3 q t + 2 t^{2} + 2 q + 2 t + 1$"
      ],
      "text/plain": [
       "q^3 + q^2*t + q*t^2 + t^3 + 2*q^2 + 3*q*t + 2*t^2 + 2*q + 2*t + 1"
      ]
     },
     "execution_count": 104,
     "metadata": {},
     "output_type": "execute_result"
    }
   ],
   "source": [
    "(e[3].nabla()).scalar(p[1]^3)"
   ]
  },
  {
   "cell_type": "code",
   "execution_count": 105,
   "metadata": {},
   "outputs": [
    {
     "data": {
      "text/html": [
       "<html>\\(\\displaystyle \\left(1, 1\\right)\\)</html>"
      ],
      "text/latex": [
       "$\\displaystyle \\left(1, 1\\right)$"
      ],
      "text/plain": [
       "(1, 1)"
      ]
     },
     "metadata": {},
     "output_type": "display_data"
    },
    {
     "data": {
      "text/html": [
       "<html>\\(\\displaystyle \\left(2, 3\\right)\\)</html>"
      ],
      "text/latex": [
       "$\\displaystyle \\left(2, 3\\right)$"
      ],
      "text/plain": [
       "(2, 3)"
      ]
     },
     "metadata": {},
     "output_type": "display_data"
    },
    {
     "data": {
      "text/html": [
       "<html>\\(\\displaystyle \\left(3, 16\\right)\\)</html>"
      ],
      "text/latex": [
       "$\\displaystyle \\left(3, 16\\right)$"
      ],
      "text/plain": [
       "(3, 16)"
      ]
     },
     "metadata": {},
     "output_type": "display_data"
    },
    {
     "data": {
      "text/html": [
       "<html>\\(\\displaystyle \\left(4, 125\\right)\\)</html>"
      ],
      "text/latex": [
       "$\\displaystyle \\left(4, 125\\right)$"
      ],
      "text/plain": [
       "(4, 125)"
      ]
     },
     "metadata": {},
     "output_type": "display_data"
    },
    {
     "data": {
      "text/html": [
       "<html>\\(\\displaystyle \\left(5, 1296\\right)\\)</html>"
      ],
      "text/latex": [
       "$\\displaystyle \\left(5, 1296\\right)$"
      ],
      "text/plain": [
       "(5, 1296)"
      ]
     },
     "metadata": {},
     "output_type": "display_data"
    }
   ],
   "source": [
    "for n in range(1,6):\n",
    "    show((n,(e[n].nabla()).scalar(p[1]^n).substitute({q:1,t:1})))"
   ]
  },
  {
   "cell_type": "markdown",
   "metadata": {},
   "source": [
    "### At $q=t=1$, the scalar product of $\\nabla(e_n)$ with $e_n$ gives the Catalan number $\\frac{1}{n+1}\\binom{2n}{n}$."
   ]
  },
  {
   "cell_type": "code",
   "execution_count": 106,
   "metadata": {},
   "outputs": [
    {
     "data": {
      "text/html": [
       "<html>\\(\\displaystyle \\left(1, 1\\right)\\)</html>"
      ],
      "text/latex": [
       "$\\displaystyle \\left(1, 1\\right)$"
      ],
      "text/plain": [
       "(1, 1)"
      ]
     },
     "metadata": {},
     "output_type": "display_data"
    },
    {
     "data": {
      "text/html": [
       "<html>\\(\\displaystyle \\left(2, 2\\right)\\)</html>"
      ],
      "text/latex": [
       "$\\displaystyle \\left(2, 2\\right)$"
      ],
      "text/plain": [
       "(2, 2)"
      ]
     },
     "metadata": {},
     "output_type": "display_data"
    },
    {
     "data": {
      "text/html": [
       "<html>\\(\\displaystyle \\left(3, 5\\right)\\)</html>"
      ],
      "text/latex": [
       "$\\displaystyle \\left(3, 5\\right)$"
      ],
      "text/plain": [
       "(3, 5)"
      ]
     },
     "metadata": {},
     "output_type": "display_data"
    },
    {
     "data": {
      "text/html": [
       "<html>\\(\\displaystyle \\left(4, 14\\right)\\)</html>"
      ],
      "text/latex": [
       "$\\displaystyle \\left(4, 14\\right)$"
      ],
      "text/plain": [
       "(4, 14)"
      ]
     },
     "metadata": {},
     "output_type": "display_data"
    },
    {
     "data": {
      "text/html": [
       "<html>\\(\\displaystyle \\left(5, 42\\right)\\)</html>"
      ],
      "text/latex": [
       "$\\displaystyle \\left(5, 42\\right)$"
      ],
      "text/plain": [
       "(5, 42)"
      ]
     },
     "metadata": {},
     "output_type": "display_data"
    }
   ],
   "source": [
    "for n in range(1,6):\n",
    "    show((n,(e[n].nabla()).scalar(e[n]).substitute({q:1,t:1})))"
   ]
  },
  {
   "cell_type": "markdown",
   "metadata": {},
   "source": [
    "### There are also interesting conjectures on the effect of $\\nabla$ on Schur functions."
   ]
  },
  {
   "cell_type": "code",
   "execution_count": 107,
   "metadata": {},
   "outputs": [
    {
     "data": {
      "text/html": [
       "<html>\\(\\displaystyle \\left(q^{6} t^{3} + q^{5} t^{4} + q^{4} t^{5} + q^{3} t^{6}\\right) s_{11111} + \\left(q^{6} t^{2} + 2 q^{5} t^{3} + 2 q^{4} t^{4} + 2 q^{3} t^{5} + q^{2} t^{6} + q^{4} t^{3} + q^{3} t^{4}\\right) s_{2111} + \\left(q^{5} t^{2} + 2 q^{4} t^{3} + 2 q^{3} t^{4} + q^{2} t^{5}\\right) s_{221} + \\left(q^{5} t^{2} + q^{4} t^{3} + q^{3} t^{4} + q^{2} t^{5} + q^{4} t^{2} + 2 q^{3} t^{3} + q^{2} t^{4}\\right) s_{311} + \\left(q^{4} t^{2} + q^{3} t^{3} + q^{2} t^{4}\\right) s_{32} + \\left(q^{3} t^{2} + q^{2} t^{3}\\right) s_{41}\\)</html>"
      ],
      "text/latex": [
       "$\\displaystyle \\left(q^{6} t^{3} + q^{5} t^{4} + q^{4} t^{5} + q^{3} t^{6}\\right) s_{11111} + \\left(q^{6} t^{2} + 2 q^{5} t^{3} + 2 q^{4} t^{4} + 2 q^{3} t^{5} + q^{2} t^{6} + q^{4} t^{3} + q^{3} t^{4}\\right) s_{2111} + \\left(q^{5} t^{2} + 2 q^{4} t^{3} + 2 q^{3} t^{4} + q^{2} t^{5}\\right) s_{221} + \\left(q^{5} t^{2} + q^{4} t^{3} + q^{3} t^{4} + q^{2} t^{5} + q^{4} t^{2} + 2 q^{3} t^{3} + q^{2} t^{4}\\right) s_{311} + \\left(q^{4} t^{2} + q^{3} t^{3} + q^{2} t^{4}\\right) s_{32} + \\left(q^{3} t^{2} + q^{2} t^{3}\\right) s_{41}$"
      ],
      "text/plain": [
       "(q^6*t^3+q^5*t^4+q^4*t^5+q^3*t^6)*s[1, 1, 1, 1, 1] + (q^6*t^2+2*q^5*t^3+2*q^4*t^4+2*q^3*t^5+q^2*t^6+q^4*t^3+q^3*t^4)*s[2, 1, 1, 1] + (q^5*t^2+2*q^4*t^3+2*q^3*t^4+q^2*t^5)*s[2, 2, 1] + (q^5*t^2+q^4*t^3+q^3*t^4+q^2*t^5+q^4*t^2+2*q^3*t^3+q^2*t^4)*s[3, 1, 1] + (q^4*t^2+q^3*t^3+q^2*t^4)*s[3, 2] + (q^3*t^2+q^2*t^3)*s[4, 1]"
      ]
     },
     "execution_count": 107,
     "metadata": {},
     "output_type": "execute_result"
    }
   ],
   "source": [
    "(-s([2,2,1])).nabla()"
   ]
  },
  {
   "cell_type": "markdown",
   "metadata": {},
   "source": [
    "# <div align=\"center\">   <span style=\"color:green\">      $(q,t)$-Catalan polynomials</span>\n",
    "$$C_n(q,t) = \\langle \\nabla e_n , e_n \\rangle.$$\n"
   ]
  },
  {
   "cell_type": "code",
   "execution_count": 108,
   "metadata": {},
   "outputs": [
    {
     "data": {
      "text/html": [
       "<html>\\(\\displaystyle \\left(1, 1\\right)\\)</html>"
      ],
      "text/latex": [
       "$\\displaystyle \\left(1, 1\\right)$"
      ],
      "text/plain": [
       "(1, 1)"
      ]
     },
     "metadata": {},
     "output_type": "display_data"
    },
    {
     "data": {
      "text/html": [
       "<html>\\(\\displaystyle \\left(2, q + t\\right)\\)</html>"
      ],
      "text/latex": [
       "$\\displaystyle \\left(2, q + t\\right)$"
      ],
      "text/plain": [
       "(2, q + t)"
      ]
     },
     "metadata": {},
     "output_type": "display_data"
    },
    {
     "data": {
      "text/html": [
       "<html>\\(\\displaystyle \\left(3, q^{3} + q^{2} t + q t^{2} + t^{3} + q t\\right)\\)</html>"
      ],
      "text/latex": [
       "$\\displaystyle \\left(3, q^{3} + q^{2} t + q t^{2} + t^{3} + q t\\right)$"
      ],
      "text/plain": [
       "(3, q^3 + q^2*t + q*t^2 + t^3 + q*t)"
      ]
     },
     "metadata": {},
     "output_type": "display_data"
    },
    {
     "data": {
      "text/html": [
       "<html>\\(\\displaystyle \\left(4, q^{6} + q^{5} t + q^{4} t^{2} + q^{3} t^{3} + q^{2} t^{4} + q t^{5} + t^{6} + q^{4} t + q^{3} t^{2} + q^{2} t^{3} + q t^{4} + q^{3} t + q^{2} t^{2} + q t^{3}\\right)\\)</html>"
      ],
      "text/latex": [
       "$\\displaystyle \\left(4, q^{6} + q^{5} t + q^{4} t^{2} + q^{3} t^{3} + q^{2} t^{4} + q t^{5} + t^{6} + q^{4} t + q^{3} t^{2} + q^{2} t^{3} + q t^{4} + q^{3} t + q^{2} t^{2} + q t^{3}\\right)$"
      ],
      "text/plain": [
       "(4,\n",
       " q^6 + q^5*t + q^4*t^2 + q^3*t^3 + q^2*t^4 + q*t^5 + t^6 + q^4*t + q^3*t^2 + q^2*t^3 + q*t^4 + q^3*t + q^2*t^2 + q*t^3)"
      ]
     },
     "metadata": {},
     "output_type": "display_data"
    },
    {
     "data": {
      "text/html": [
       "<html>\\(\\displaystyle \\left(5, q^{10} + q^{9} t + q^{8} t^{2} + q^{7} t^{3} + q^{6} t^{4} + q^{5} t^{5} + q^{4} t^{6} + q^{3} t^{7} + q^{2} t^{8} + q t^{9} + t^{10} + q^{8} t + q^{7} t^{2} + q^{6} t^{3} + q^{5} t^{4} + q^{4} t^{5} + q^{3} t^{6} + q^{2} t^{7} + q t^{8} + q^{7} t + 2 q^{6} t^{2} + 2 q^{5} t^{3} + 2 q^{4} t^{4} + 2 q^{3} t^{5} + 2 q^{2} t^{6} + q t^{7} + q^{6} t + q^{5} t^{2} + 2 q^{4} t^{3} + 2 q^{3} t^{4} + q^{2} t^{5} + q t^{6} + q^{4} t^{2} + q^{3} t^{3} + q^{2} t^{4}\\right)\\)</html>"
      ],
      "text/latex": [
       "$\\displaystyle \\left(5, q^{10} + q^{9} t + q^{8} t^{2} + q^{7} t^{3} + q^{6} t^{4} + q^{5} t^{5} + q^{4} t^{6} + q^{3} t^{7} + q^{2} t^{8} + q t^{9} + t^{10} + q^{8} t + q^{7} t^{2} + q^{6} t^{3} + q^{5} t^{4} + q^{4} t^{5} + q^{3} t^{6} + q^{2} t^{7} + q t^{8} + q^{7} t + 2 q^{6} t^{2} + 2 q^{5} t^{3} + 2 q^{4} t^{4} + 2 q^{3} t^{5} + 2 q^{2} t^{6} + q t^{7} + q^{6} t + q^{5} t^{2} + 2 q^{4} t^{3} + 2 q^{3} t^{4} + q^{2} t^{5} + q t^{6} + q^{4} t^{2} + q^{3} t^{3} + q^{2} t^{4}\\right)$"
      ],
      "text/plain": [
       "(5,\n",
       " q^10 + q^9*t + q^8*t^2 + q^7*t^3 + q^6*t^4 + q^5*t^5 + q^4*t^6 + q^3*t^7 + q^2*t^8 + q*t^9 + t^10 + q^8*t + q^7*t^2 + q^6*t^3 + q^5*t^4 + q^4*t^5 + q^3*t^6 + q^2*t^7 + q*t^8 + q^7*t + 2*q^6*t^2 + 2*q^5*t^3 + 2*q^4*t^4 + 2*q^3*t^5 + 2*q^2*t^6 + q*t^7 + q^6*t + q^5*t^2 + 2*q^4*t^3 + 2*q^3*t^4 + q^2*t^5 + q*t^6 + q^4*t^2 + q^3*t^3 + q^2*t^4)"
      ]
     },
     "metadata": {},
     "output_type": "display_data"
    }
   ],
   "source": [
    "from sage.combinat.q_analogues import *\n",
    "for n in range (1,6) :\n",
    "    show((n,e[n].nabla().scalar(e[n])))"
   ]
  },
  {
   "cell_type": "code",
   "execution_count": 138,
   "metadata": {},
   "outputs": [
    {
     "data": {
      "text/html": [
       "<html>\\(\\displaystyle 5\\)</html>"
      ],
      "text/latex": [
       "$\\displaystyle 5$"
      ],
      "text/plain": [
       "5"
      ]
     },
     "execution_count": 138,
     "metadata": {},
     "output_type": "execute_result"
    }
   ],
   "source": [
    "s(det(SkewPartition([[2,1,1],[1]]).jacobi_trudi())+ det(SkewPartition([[2,2,1],[1,1]]).jacobi_trudi()) \n",
    "  + det(SkewPartition([[3,1,1],[2]]).jacobi_trudi()) + det(SkewPartition([[3,2,1],[2,1]]).jacobi_trudi()) \n",
    "  + det(Partition([1,1,1]).jacobi_trudi())).scalar(e[3])"
   ]
  },
  {
   "cell_type": "code",
   "execution_count": 143,
   "metadata": {},
   "outputs": [
    {
     "data": {
      "text/html": [
       "<html>\\(\\displaystyle \\left(q^{3} + q^{2} t + q t^{2} + t^{3} + q t\\right) s_{111} + \\left(q^{2} + q t + t^{2} + q + t\\right) s_{21} + s_{3}\\)</html>"
      ],
      "text/latex": [
       "$\\displaystyle \\left(q^{3} + q^{2} t + q t^{2} + t^{3} + q t\\right) s_{111} + \\left(q^{2} + q t + t^{2} + q + t\\right) s_{21} + s_{3}$"
      ],
      "text/plain": [
       "(q^3+q^2*t+q*t^2+t^3+q*t)*s[1, 1, 1] + (q^2+q*t+t^2+q+t)*s[2, 1] + s[3]"
      ]
     },
     "execution_count": 143,
     "metadata": {},
     "output_type": "execute_result"
    }
   ],
   "source": [
    "s(e[3].nabla())"
   ]
  },
  {
   "cell_type": "code",
   "execution_count": 109,
   "metadata": {},
   "outputs": [
    {
     "data": {
      "text/html": [
       "<html>\\(\\displaystyle \\left(1, 1\\right)\\)</html>"
      ],
      "text/latex": [
       "$\\displaystyle \\left(1, 1\\right)$"
      ],
      "text/plain": [
       "(1, 1)"
      ]
     },
     "metadata": {},
     "output_type": "display_data"
    },
    {
     "data": {
      "text/html": [
       "<html>\\(\\displaystyle \\left(2, q + t\\right)\\)</html>"
      ],
      "text/latex": [
       "$\\displaystyle \\left(2, q + t\\right)$"
      ],
      "text/plain": [
       "(2, q + t)"
      ]
     },
     "metadata": {},
     "output_type": "display_data"
    },
    {
     "data": {
      "text/html": [
       "<html>\\(\\displaystyle \\left(3, q^{3} + q^{2} t + q t^{2} + t^{3} + q t\\right)\\)</html>"
      ],
      "text/latex": [
       "$\\displaystyle \\left(3, q^{3} + q^{2} t + q t^{2} + t^{3} + q t\\right)$"
      ],
      "text/plain": [
       "(3, q^3 + q^2*t + q*t^2 + t^3 + q*t)"
      ]
     },
     "metadata": {},
     "output_type": "display_data"
    },
    {
     "data": {
      "text/html": [
       "<html>\\(\\displaystyle \\left(4, q^{6} + q^{5} t + q^{4} t^{2} + q^{3} t^{3} + q^{2} t^{4} + q t^{5} + t^{6} + q^{4} t + q^{3} t^{2} + q^{2} t^{3} + q t^{4} + q^{3} t + q^{2} t^{2} + q t^{3}\\right)\\)</html>"
      ],
      "text/latex": [
       "$\\displaystyle \\left(4, q^{6} + q^{5} t + q^{4} t^{2} + q^{3} t^{3} + q^{2} t^{4} + q t^{5} + t^{6} + q^{4} t + q^{3} t^{2} + q^{2} t^{3} + q t^{4} + q^{3} t + q^{2} t^{2} + q t^{3}\\right)$"
      ],
      "text/plain": [
       "(4,\n",
       " q^6 + q^5*t + q^4*t^2 + q^3*t^3 + q^2*t^4 + q*t^5 + t^6 + q^4*t + q^3*t^2 + q^2*t^3 + q*t^4 + q^3*t + q^2*t^2 + q*t^3)"
      ]
     },
     "metadata": {},
     "output_type": "display_data"
    },
    {
     "data": {
      "text/html": [
       "<html>\\(\\displaystyle \\left(5, q^{10} + q^{9} t + q^{8} t^{2} + q^{7} t^{3} + q^{6} t^{4} + q^{5} t^{5} + q^{4} t^{6} + q^{3} t^{7} + q^{2} t^{8} + q t^{9} + t^{10} + q^{8} t + q^{7} t^{2} + q^{6} t^{3} + q^{5} t^{4} + q^{4} t^{5} + q^{3} t^{6} + q^{2} t^{7} + q t^{8} + q^{7} t + 2 q^{6} t^{2} + 2 q^{5} t^{3} + 2 q^{4} t^{4} + 2 q^{3} t^{5} + 2 q^{2} t^{6} + q t^{7} + q^{6} t + q^{5} t^{2} + 2 q^{4} t^{3} + 2 q^{3} t^{4} + q^{2} t^{5} + q t^{6} + q^{4} t^{2} + q^{3} t^{3} + q^{2} t^{4}\\right)\\)</html>"
      ],
      "text/latex": [
       "$\\displaystyle \\left(5, q^{10} + q^{9} t + q^{8} t^{2} + q^{7} t^{3} + q^{6} t^{4} + q^{5} t^{5} + q^{4} t^{6} + q^{3} t^{7} + q^{2} t^{8} + q t^{9} + t^{10} + q^{8} t + q^{7} t^{2} + q^{6} t^{3} + q^{5} t^{4} + q^{4} t^{5} + q^{3} t^{6} + q^{2} t^{7} + q t^{8} + q^{7} t + 2 q^{6} t^{2} + 2 q^{5} t^{3} + 2 q^{4} t^{4} + 2 q^{3} t^{5} + 2 q^{2} t^{6} + q t^{7} + q^{6} t + q^{5} t^{2} + 2 q^{4} t^{3} + 2 q^{3} t^{4} + q^{2} t^{5} + q t^{6} + q^{4} t^{2} + q^{3} t^{3} + q^{2} t^{4}\\right)$"
      ],
      "text/plain": [
       "(5,\n",
       " q^10 + q^9*t + q^8*t^2 + q^7*t^3 + q^6*t^4 + q^5*t^5 + q^4*t^6 + q^3*t^7 + q^2*t^8 + q*t^9 + t^10 + q^8*t + q^7*t^2 + q^6*t^3 + q^5*t^4 + q^4*t^5 + q^3*t^6 + q^2*t^7 + q*t^8 + q^7*t + 2*q^6*t^2 + 2*q^5*t^3 + 2*q^4*t^4 + 2*q^3*t^5 + 2*q^2*t^6 + q*t^7 + q^6*t + q^5*t^2 + 2*q^4*t^3 + 2*q^3*t^4 + q^2*t^5 + q*t^6 + q^4*t^2 + q^3*t^3 + q^2*t^4)"
      ]
     },
     "metadata": {},
     "output_type": "display_data"
    }
   ],
   "source": [
    "for n in range (1,6) :\n",
    "    show((n,qt_catalan_number(n)))"
   ]
  },
  {
   "cell_type": "markdown",
   "metadata": {
    "jp-MarkdownHeadingCollapsed": true
   },
   "source": [
    "## <div align=\"center\">   <span style=\"color:green\">   Schur expansion of the   $(q,t)$-Catalan polynomials</span>\n"
   ]
  },
  {
   "cell_type": "code",
   "execution_count": 110,
   "metadata": {},
   "outputs": [],
   "source": [
    "@cached_function\n",
    "def SchurCat(n):\n",
    "    return add(v[0]*s[SR(v[1]).degree(q)-1,SR(v[1]).degree(t)] \n",
    "               for v in (qt_catalan_number(n)*(q-t)).numerator() if v[0]>0)"
   ]
  },
  {
   "cell_type": "code",
   "execution_count": 111,
   "metadata": {},
   "outputs": [
    {
     "data": {
      "text/html": [
       "<html>\\(\\displaystyle s_{10.10.} + s_{12.9} + 2 s_{12.10.} + 2 s_{12.11.} + 2 s_{12.12.} + s_{13.8} + 2 s_{13.9} + 4 s_{13.10.} + 4 s_{13.11.} + 4 s_{13.12.} + 2 s_{13.13.} + s_{14.7} + 3 s_{14.8} + 5 s_{14.9} + 7 s_{14.10.} + 7 s_{14.11.} + 6 s_{14.12.} + 3 s_{14.13.} + s_{14.14.} + s_{15.7} + 4 s_{15.8} + 7 s_{15.9} + 9 s_{15.10.} + 8 s_{15.11.} + 6 s_{15.12.} + 3 s_{15.13.} + s_{15.14.} + s_{15.15.} + s_{16.6} + 4 s_{16.7} + 8 s_{16.8} + 11 s_{16.9} + 12 s_{16.10.} + 10 s_{16.11.} + 6 s_{16.12.} + 3 s_{16.13.} + s_{16.14.} + 2 s_{17.6} + 6 s_{17.7} + 11 s_{17.8} + 13 s_{17.9} + 12 s_{17.10.} + 9 s_{17.11.} + 5 s_{17.12.} + 2 s_{17.13.} + s_{17.14.} + s_{18.5} + 4 s_{18.6} + 10 s_{18.7} + 14 s_{18.8} + 15 s_{18.9} + 12 s_{18.10.} + 7 s_{18.11.} + 3 s_{18.12.} + s_{18.13.} + 2 s_{19.5} + 6 s_{19.6} + 13 s_{19.7} + 16 s_{19.8} + 14 s_{19.9} + 10 s_{19.10.} + 5 s_{19.11.} + 2 s_{19.12.} + s_{19.13.} + 4 s_{20.5} + 9 s_{20.6} + 15 s_{20.7} + 16 s_{20.8} + 12 s_{20.9} + 7 s_{20.10.} + 3 s_{20.11.} + s_{20.12.} + s_{21.4} + 5 s_{21.5} + 12 s_{21.6} + 16 s_{21.7} + 15 s_{21.8} + 10 s_{21.9} + 5 s_{21.10.} + 2 s_{21.11.} + s_{21.12.} + 2 s_{22.4} + 8 s_{22.5} + 14 s_{22.6} + 17 s_{22.7} + 13 s_{22.8} + 7 s_{22.9} + 3 s_{22.10.} + s_{22.11.} + 3 s_{23.4} + 10 s_{23.5} + 15 s_{23.6} + 15 s_{23.7} + 10 s_{23.8} + 5 s_{23.9} + 2 s_{23.10.} + s_{23.11.} + s_{24.3} + 5 s_{24.4} + 12 s_{24.5} + 15 s_{24.6} + 13 s_{24.7} + 7 s_{24.8} + 3 s_{24.9} + s_{24.10.} + s_{25.3} + 7 s_{25.4} + 13 s_{25.5} + 14 s_{25.6} + 10 s_{25.7} + 5 s_{25.8} + 2 s_{25.9} + s_{25.10.} + 2 s_{26.3} + 8 s_{26.4} + 13 s_{26.5} + 12 s_{26.6} + 7 s_{26.7} + 3 s_{26.8} + s_{26.9} + 3 s_{27.3} + 9 s_{27.4} + 12 s_{27.5} + 10 s_{27.6} + 5 s_{27.7} + 2 s_{27.8} + s_{27.9} + 4 s_{28.3} + 10 s_{28.4} + 11 s_{28.5} + 7 s_{28.6} + 3 s_{28.7} + s_{28.8} + s_{29.2} + 5 s_{29.3} + 10 s_{29.4} + 9 s_{29.5} + 5 s_{29.6} + 2 s_{29.7} + s_{29.8} + s_{30.2} + 6 s_{30.3} + 9 s_{30.4} + 7 s_{30.5} + 3 s_{30.6} + s_{30.7} + 2 s_{31.2} + 6 s_{31.3} + 8 s_{31.4} + 5 s_{31.5} + 2 s_{31.6} + s_{31.7} + 2 s_{32.2} + 6 s_{32.3} + 6 s_{32.4} + 3 s_{32.5} + s_{32.6} + 3 s_{33.2} + 6 s_{33.3} + 5 s_{33.4} + 2 s_{33.5} + s_{33.6} + 3 s_{34.2} + 5 s_{34.3} + 3 s_{34.4} + s_{34.5} + 3 s_{35.2} + 4 s_{35.3} + 2 s_{35.4} + s_{35.5} + s_{36.1} + 3 s_{36.2} + 3 s_{36.3} + s_{36.4} + s_{37.1} + 3 s_{37.2} + 2 s_{37.3} + s_{37.4} + s_{38.1} + 2 s_{38.2} + s_{38.3} + s_{39.1} + 2 s_{39.2} + s_{39.3} + s_{40.1} + s_{40.2} + s_{41.1} + s_{41.2} + s_{42.1} + s_{43.1} + s_{45.}\\)</html>"
      ],
      "text/latex": [
       "$\\displaystyle s_{10.10.} + s_{12.9} + 2 s_{12.10.} + 2 s_{12.11.} + 2 s_{12.12.} + s_{13.8} + 2 s_{13.9} + 4 s_{13.10.} + 4 s_{13.11.} + 4 s_{13.12.} + 2 s_{13.13.} + s_{14.7} + 3 s_{14.8} + 5 s_{14.9} + 7 s_{14.10.} + 7 s_{14.11.} + 6 s_{14.12.} + 3 s_{14.13.} + s_{14.14.} + s_{15.7} + 4 s_{15.8} + 7 s_{15.9} + 9 s_{15.10.} + 8 s_{15.11.} + 6 s_{15.12.} + 3 s_{15.13.} + s_{15.14.} + s_{15.15.} + s_{16.6} + 4 s_{16.7} + 8 s_{16.8} + 11 s_{16.9} + 12 s_{16.10.} + 10 s_{16.11.} + 6 s_{16.12.} + 3 s_{16.13.} + s_{16.14.} + 2 s_{17.6} + 6 s_{17.7} + 11 s_{17.8} + 13 s_{17.9} + 12 s_{17.10.} + 9 s_{17.11.} + 5 s_{17.12.} + 2 s_{17.13.} + s_{17.14.} + s_{18.5} + 4 s_{18.6} + 10 s_{18.7} + 14 s_{18.8} + 15 s_{18.9} + 12 s_{18.10.} + 7 s_{18.11.} + 3 s_{18.12.} + s_{18.13.} + 2 s_{19.5} + 6 s_{19.6} + 13 s_{19.7} + 16 s_{19.8} + 14 s_{19.9} + 10 s_{19.10.} + 5 s_{19.11.} + 2 s_{19.12.} + s_{19.13.} + 4 s_{20.5} + 9 s_{20.6} + 15 s_{20.7} + 16 s_{20.8} + 12 s_{20.9} + 7 s_{20.10.} + 3 s_{20.11.} + s_{20.12.} + s_{21.4} + 5 s_{21.5} + 12 s_{21.6} + 16 s_{21.7} + 15 s_{21.8} + 10 s_{21.9} + 5 s_{21.10.} + 2 s_{21.11.} + s_{21.12.} + 2 s_{22.4} + 8 s_{22.5} + 14 s_{22.6} + 17 s_{22.7} + 13 s_{22.8} + 7 s_{22.9} + 3 s_{22.10.} + s_{22.11.} + 3 s_{23.4} + 10 s_{23.5} + 15 s_{23.6} + 15 s_{23.7} + 10 s_{23.8} + 5 s_{23.9} + 2 s_{23.10.} + s_{23.11.} + s_{24.3} + 5 s_{24.4} + 12 s_{24.5} + 15 s_{24.6} + 13 s_{24.7} + 7 s_{24.8} + 3 s_{24.9} + s_{24.10.} + s_{25.3} + 7 s_{25.4} + 13 s_{25.5} + 14 s_{25.6} + 10 s_{25.7} + 5 s_{25.8} + 2 s_{25.9} + s_{25.10.} + 2 s_{26.3} + 8 s_{26.4} + 13 s_{26.5} + 12 s_{26.6} + 7 s_{26.7} + 3 s_{26.8} + s_{26.9} + 3 s_{27.3} + 9 s_{27.4} + 12 s_{27.5} + 10 s_{27.6} + 5 s_{27.7} + 2 s_{27.8} + s_{27.9} + 4 s_{28.3} + 10 s_{28.4} + 11 s_{28.5} + 7 s_{28.6} + 3 s_{28.7} + s_{28.8} + s_{29.2} + 5 s_{29.3} + 10 s_{29.4} + 9 s_{29.5} + 5 s_{29.6} + 2 s_{29.7} + s_{29.8} + s_{30.2} + 6 s_{30.3} + 9 s_{30.4} + 7 s_{30.5} + 3 s_{30.6} + s_{30.7} + 2 s_{31.2} + 6 s_{31.3} + 8 s_{31.4} + 5 s_{31.5} + 2 s_{31.6} + s_{31.7} + 2 s_{32.2} + 6 s_{32.3} + 6 s_{32.4} + 3 s_{32.5} + s_{32.6} + 3 s_{33.2} + 6 s_{33.3} + 5 s_{33.4} + 2 s_{33.5} + s_{33.6} + 3 s_{34.2} + 5 s_{34.3} + 3 s_{34.4} + s_{34.5} + 3 s_{35.2} + 4 s_{35.3} + 2 s_{35.4} + s_{35.5} + s_{36.1} + 3 s_{36.2} + 3 s_{36.3} + s_{36.4} + s_{37.1} + 3 s_{37.2} + 2 s_{37.3} + s_{37.4} + s_{38.1} + 2 s_{38.2} + s_{38.3} + s_{39.1} + 2 s_{39.2} + s_{39.3} + s_{40.1} + s_{40.2} + s_{41.1} + s_{41.2} + s_{42.1} + s_{43.1} + s_{45.}$"
      ],
      "text/plain": [
       "s[10, 10] + s[12, 9] + 2*s[12, 10] + 2*s[12, 11] + 2*s[12, 12] + s[13, 8] + 2*s[13, 9] + 4*s[13, 10] + 4*s[13, 11] + 4*s[13, 12] + 2*s[13, 13] + s[14, 7] + 3*s[14, 8] + 5*s[14, 9] + 7*s[14, 10] + 7*s[14, 11] + 6*s[14, 12] + 3*s[14, 13] + s[14, 14] + s[15, 7] + 4*s[15, 8] + 7*s[15, 9] + 9*s[15, 10] + 8*s[15, 11] + 6*s[15, 12] + 3*s[15, 13] + s[15, 14] + s[15, 15] + s[16, 6] + 4*s[16, 7] + 8*s[16, 8] + 11*s[16, 9] + 12*s[16, 10] + 10*s[16, 11] + 6*s[16, 12] + 3*s[16, 13] + s[16, 14] + 2*s[17, 6] + 6*s[17, 7] + 11*s[17, 8] + 13*s[17, 9] + 12*s[17, 10] + 9*s[17, 11] + 5*s[17, 12] + 2*s[17, 13] + s[17, 14] + s[18, 5] + 4*s[18, 6] + 10*s[18, 7] + 14*s[18, 8] + 15*s[18, 9] + 12*s[18, 10] + 7*s[18, 11] + 3*s[18, 12] + s[18, 13] + 2*s[19, 5] + 6*s[19, 6] + 13*s[19, 7] + 16*s[19, 8] + 14*s[19, 9] + 10*s[19, 10] + 5*s[19, 11] + 2*s[19, 12] + s[19, 13] + 4*s[20, 5] + 9*s[20, 6] + 15*s[20, 7] + 16*s[20, 8] + 12*s[20, 9] + 7*s[20, 10] + 3*s[20, 11] + s[20, 12] + s[21, 4] + 5*s[21, 5] + 12*s[21, 6] + 16*s[21, 7] + 15*s[21, 8] + 10*s[21, 9] + 5*s[21, 10] + 2*s[21, 11] + s[21, 12] + 2*s[22, 4] + 8*s[22, 5] + 14*s[22, 6] + 17*s[22, 7] + 13*s[22, 8] + 7*s[22, 9] + 3*s[22, 10] + s[22, 11] + 3*s[23, 4] + 10*s[23, 5] + 15*s[23, 6] + 15*s[23, 7] + 10*s[23, 8] + 5*s[23, 9] + 2*s[23, 10] + s[23, 11] + s[24, 3] + 5*s[24, 4] + 12*s[24, 5] + 15*s[24, 6] + 13*s[24, 7] + 7*s[24, 8] + 3*s[24, 9] + s[24, 10] + s[25, 3] + 7*s[25, 4] + 13*s[25, 5] + 14*s[25, 6] + 10*s[25, 7] + 5*s[25, 8] + 2*s[25, 9] + s[25, 10] + 2*s[26, 3] + 8*s[26, 4] + 13*s[26, 5] + 12*s[26, 6] + 7*s[26, 7] + 3*s[26, 8] + s[26, 9] + 3*s[27, 3] + 9*s[27, 4] + 12*s[27, 5] + 10*s[27, 6] + 5*s[27, 7] + 2*s[27, 8] + s[27, 9] + 4*s[28, 3] + 10*s[28, 4] + 11*s[28, 5] + 7*s[28, 6] + 3*s[28, 7] + s[28, 8] + s[29, 2] + 5*s[29, 3] + 10*s[29, 4] + 9*s[29, 5] + 5*s[29, 6] + 2*s[29, 7] + s[29, 8] + s[30, 2] + 6*s[30, 3] + 9*s[30, 4] + 7*s[30, 5] + 3*s[30, 6] + s[30, 7] + 2*s[31, 2] + 6*s[31, 3] + 8*s[31, 4] + 5*s[31, 5] + 2*s[31, 6] + s[31, 7] + 2*s[32, 2] + 6*s[32, 3] + 6*s[32, 4] + 3*s[32, 5] + s[32, 6] + 3*s[33, 2] + 6*s[33, 3] + 5*s[33, 4] + 2*s[33, 5] + s[33, 6] + 3*s[34, 2] + 5*s[34, 3] + 3*s[34, 4] + s[34, 5] + 3*s[35, 2] + 4*s[35, 3] + 2*s[35, 4] + s[35, 5] + s[36, 1] + 3*s[36, 2] + 3*s[36, 3] + s[36, 4] + s[37, 1] + 3*s[37, 2] + 2*s[37, 3] + s[37, 4] + s[38, 1] + 2*s[38, 2] + s[38, 3] + s[39, 1] + 2*s[39, 2] + s[39, 3] + s[40, 1] + s[40, 2] + s[41, 1] + s[41, 2] + s[42, 1] + s[43, 1] + s[45]"
      ]
     },
     "execution_count": 111,
     "metadata": {},
     "output_type": "execute_result"
    }
   ],
   "source": [
    "SchurCat(10)"
   ]
  },
  {
   "cell_type": "markdown",
   "metadata": {},
   "source": [
    "# <div align=\"center\">   <span style=\"color:green\">      $(q,t)$-Parking function enumeration</span>\n",
    "$$P_n(q,t) = \\langle \\nabla e_n , p_1^n \\rangle.$$\n",
    "\n"
   ]
  },
  {
   "cell_type": "code",
   "execution_count": 112,
   "metadata": {},
   "outputs": [
    {
     "data": {
      "text/html": [
       "<html>\\(\\displaystyle \\left(1, 1\\right)\\)</html>"
      ],
      "text/latex": [
       "$\\displaystyle \\left(1, 1\\right)$"
      ],
      "text/plain": [
       "(1, 1)"
      ]
     },
     "metadata": {},
     "output_type": "display_data"
    },
    {
     "data": {
      "text/html": [
       "<html>\\(\\displaystyle \\left(2, q + t + 1\\right)\\)</html>"
      ],
      "text/latex": [
       "$\\displaystyle \\left(2, q + t + 1\\right)$"
      ],
      "text/plain": [
       "(2, q + t + 1)"
      ]
     },
     "metadata": {},
     "output_type": "display_data"
    },
    {
     "data": {
      "text/html": [
       "<html>\\(\\displaystyle \\left(3, q^{3} + q^{2} t + q t^{2} + t^{3} + 2 q^{2} + 3 q t + 2 t^{2} + 2 q + 2 t + 1\\right)\\)</html>"
      ],
      "text/latex": [
       "$\\displaystyle \\left(3, q^{3} + q^{2} t + q t^{2} + t^{3} + 2 q^{2} + 3 q t + 2 t^{2} + 2 q + 2 t + 1\\right)$"
      ],
      "text/plain": [
       "(3, q^3 + q^2*t + q*t^2 + t^3 + 2*q^2 + 3*q*t + 2*t^2 + 2*q + 2*t + 1)"
      ]
     },
     "metadata": {},
     "output_type": "display_data"
    },
    {
     "data": {
      "text/html": [
       "<html>\\(\\displaystyle \\left(4, q^{6} + q^{5} t + q^{4} t^{2} + q^{3} t^{3} + q^{2} t^{4} + q t^{5} + t^{6} + 3 q^{5} + 4 q^{4} t + 4 q^{3} t^{2} + 4 q^{2} t^{3} + 4 q t^{4} + 3 t^{5} + 5 q^{4} + 9 q^{3} t + 9 q^{2} t^{2} + 9 q t^{3} + 5 t^{4} + 6 q^{3} + 11 q^{2} t + 11 q t^{2} + 6 t^{3} + 5 q^{2} + 8 q t + 5 t^{2} + 3 q + 3 t + 1\\right)\\)</html>"
      ],
      "text/latex": [
       "$\\displaystyle \\left(4, q^{6} + q^{5} t + q^{4} t^{2} + q^{3} t^{3} + q^{2} t^{4} + q t^{5} + t^{6} + 3 q^{5} + 4 q^{4} t + 4 q^{3} t^{2} + 4 q^{2} t^{3} + 4 q t^{4} + 3 t^{5} + 5 q^{4} + 9 q^{3} t + 9 q^{2} t^{2} + 9 q t^{3} + 5 t^{4} + 6 q^{3} + 11 q^{2} t + 11 q t^{2} + 6 t^{3} + 5 q^{2} + 8 q t + 5 t^{2} + 3 q + 3 t + 1\\right)$"
      ],
      "text/plain": [
       "(4,\n",
       " q^6 + q^5*t + q^4*t^2 + q^3*t^3 + q^2*t^4 + q*t^5 + t^6 + 3*q^5 + 4*q^4*t + 4*q^3*t^2 + 4*q^2*t^3 + 4*q*t^4 + 3*t^5 + 5*q^4 + 9*q^3*t + 9*q^2*t^2 + 9*q*t^3 + 5*t^4 + 6*q^3 + 11*q^2*t + 11*q*t^2 + 6*t^3 + 5*q^2 + 8*q*t + 5*t^2 + 3*q + 3*t + 1)"
      ]
     },
     "metadata": {},
     "output_type": "display_data"
    },
    {
     "data": {
      "text/html": [
       "<html>\\(\\displaystyle \\left(5, q^{10} + q^{9} t + q^{8} t^{2} + q^{7} t^{3} + q^{6} t^{4} + q^{5} t^{5} + q^{4} t^{6} + q^{3} t^{7} + q^{2} t^{8} + q t^{9} + t^{10} + 4 q^{9} + 5 q^{8} t + 5 q^{7} t^{2} + 5 q^{6} t^{3} + 5 q^{5} t^{4} + 5 q^{4} t^{5} + 5 q^{3} t^{6} + 5 q^{2} t^{7} + 5 q t^{8} + 4 t^{9} + 9 q^{8} + 14 q^{7} t + 15 q^{6} t^{2} + 15 q^{5} t^{3} + 15 q^{4} t^{4} + 15 q^{3} t^{5} + 15 q^{2} t^{6} + 14 q t^{7} + 9 t^{8} + 15 q^{7} + 29 q^{6} t + 33 q^{5} t^{2} + 34 q^{4} t^{3} + 34 q^{3} t^{4} + 33 q^{2} t^{5} + 29 q t^{6} + 15 t^{7} + 20 q^{6} + 44 q^{5} t + 54 q^{4} t^{2} + 58 q^{3} t^{3} + 54 q^{2} t^{4} + 44 q t^{5} + 20 t^{6} + 22 q^{5} + 51 q^{4} t + 66 q^{3} t^{2} + 66 q^{2} t^{3} + 51 q t^{4} + 22 t^{5} + 20 q^{4} + 46 q^{3} t + 56 q^{2} t^{2} + 46 q t^{3} + 20 t^{4} + 15 q^{3} + 31 q^{2} t + 31 q t^{2} + 15 t^{3} + 9 q^{2} + 15 q t + 9 t^{2} + 4 q + 4 t + 1\\right)\\)</html>"
      ],
      "text/latex": [
       "$\\displaystyle \\left(5, q^{10} + q^{9} t + q^{8} t^{2} + q^{7} t^{3} + q^{6} t^{4} + q^{5} t^{5} + q^{4} t^{6} + q^{3} t^{7} + q^{2} t^{8} + q t^{9} + t^{10} + 4 q^{9} + 5 q^{8} t + 5 q^{7} t^{2} + 5 q^{6} t^{3} + 5 q^{5} t^{4} + 5 q^{4} t^{5} + 5 q^{3} t^{6} + 5 q^{2} t^{7} + 5 q t^{8} + 4 t^{9} + 9 q^{8} + 14 q^{7} t + 15 q^{6} t^{2} + 15 q^{5} t^{3} + 15 q^{4} t^{4} + 15 q^{3} t^{5} + 15 q^{2} t^{6} + 14 q t^{7} + 9 t^{8} + 15 q^{7} + 29 q^{6} t + 33 q^{5} t^{2} + 34 q^{4} t^{3} + 34 q^{3} t^{4} + 33 q^{2} t^{5} + 29 q t^{6} + 15 t^{7} + 20 q^{6} + 44 q^{5} t + 54 q^{4} t^{2} + 58 q^{3} t^{3} + 54 q^{2} t^{4} + 44 q t^{5} + 20 t^{6} + 22 q^{5} + 51 q^{4} t + 66 q^{3} t^{2} + 66 q^{2} t^{3} + 51 q t^{4} + 22 t^{5} + 20 q^{4} + 46 q^{3} t + 56 q^{2} t^{2} + 46 q t^{3} + 20 t^{4} + 15 q^{3} + 31 q^{2} t + 31 q t^{2} + 15 t^{3} + 9 q^{2} + 15 q t + 9 t^{2} + 4 q + 4 t + 1\\right)$"
      ],
      "text/plain": [
       "(5,\n",
       " q^10 + q^9*t + q^8*t^2 + q^7*t^3 + q^6*t^4 + q^5*t^5 + q^4*t^6 + q^3*t^7 + q^2*t^8 + q*t^9 + t^10 + 4*q^9 + 5*q^8*t + 5*q^7*t^2 + 5*q^6*t^3 + 5*q^5*t^4 + 5*q^4*t^5 + 5*q^3*t^6 + 5*q^2*t^7 + 5*q*t^8 + 4*t^9 + 9*q^8 + 14*q^7*t + 15*q^6*t^2 + 15*q^5*t^3 + 15*q^4*t^4 + 15*q^3*t^5 + 15*q^2*t^6 + 14*q*t^7 + 9*t^8 + 15*q^7 + 29*q^6*t + 33*q^5*t^2 + 34*q^4*t^3 + 34*q^3*t^4 + 33*q^2*t^5 + 29*q*t^6 + 15*t^7 + 20*q^6 + 44*q^5*t + 54*q^4*t^2 + 58*q^3*t^3 + 54*q^2*t^4 + 44*q*t^5 + 20*t^6 + 22*q^5 + 51*q^4*t + 66*q^3*t^2 + 66*q^2*t^3 + 51*q*t^4 + 22*t^5 + 20*q^4 + 46*q^3*t + 56*q^2*t^2 + 46*q*t^3 + 20*t^4 + 15*q^3 + 31*q^2*t + 31*q*t^2 + 15*t^3 + 9*q^2 + 15*q*t + 9*t^2 + 4*q + 4*t + 1)"
      ]
     },
     "metadata": {},
     "output_type": "display_data"
    }
   ],
   "source": [
    "for n in range (1,6) :\n",
    "    show((n,e[n].nabla().scalar(p[1]^n)))"
   ]
  },
  {
   "cell_type": "markdown",
   "metadata": {},
   "source": [
    "# <div align=\"center\">   <span style=\"color:green\">      Schur-Parking function enumeration</span>\n",
    "\n"
   ]
  },
  {
   "cell_type": "code",
   "execution_count": 113,
   "metadata": {},
   "outputs": [],
   "source": [
    "@cached_function\n",
    "def ParkCat(n):\n",
    "    return add(c*s[SR(mon).degree(q)-1,SR(mon).degree(t)] \n",
    "               for c,mon in (e[n].nabla().scalar(p[1]^n)*(q-t)).numerator() if c >0)"
   ]
  },
  {
   "cell_type": "code",
   "execution_count": 114,
   "metadata": {},
   "outputs": [
    {
     "data": {
      "text/html": [
       "<html>\\(\\displaystyle \\mathbb{1} + 3 s_{1} + 3 s_{11} + 5 s_{2} + 5 s_{21} + 6 s_{3} + 4 s_{31} + 5 s_{4} + s_{41} + 3 s_{5} + s_{6}\\)</html>"
      ],
      "text/latex": [
       "$\\displaystyle \\mathbb{1} + 3 s_{1} + 3 s_{11} + 5 s_{2} + 5 s_{21} + 6 s_{3} + 4 s_{31} + 5 s_{4} + s_{41} + 3 s_{5} + s_{6}$"
      ],
      "text/plain": [
       "s[] + 3*s[1] + 3*s[1, 1] + 5*s[2] + 5*s[2, 1] + 6*s[3] + 4*s[3, 1] + 5*s[4] + s[4, 1] + 3*s[5] + s[6]"
      ]
     },
     "execution_count": 114,
     "metadata": {},
     "output_type": "execute_result"
    }
   ],
   "source": [
    "ParkCat(4)"
   ]
  },
  {
   "cell_type": "code",
   "execution_count": 115,
   "metadata": {},
   "outputs": [],
   "source": [
    "def fib(n):\n",
    "    return (matrix([[1,1],[1,0]])^n)[0,0]"
   ]
  },
  {
   "cell_type": "code",
   "execution_count": 116,
   "metadata": {},
   "outputs": [
    {
     "data": {
      "text/html": [
       "<html>\\(\\displaystyle 4202692702995154386319005101293915131773915702632234503304716087198335731457276226633938477267013660962533661702858329186641162298822215333733574147268614522205177960360216576292096795530656502537998314495026330500620719088898984643619599926476236108318505023749864703859491024686621241730682736115723551647724257547502352412468746074851053353923438703547870019701586274514903943581778012410826464461823272924826749362282954004235923662667858166740323769532233540810434266661679738865959304652017245761094495566071167054301690895714604884013679491394566493844646298912078940644595782507997928878739392985610180101343882600283820398139200927163512122969924839839463533622369599880593624548314955919982731440664606860389674767846630714238798520061220948360195842828694894114956887994407533188621624706043127847588617179645038305434988777154546903665027721615391983839969917881343981419443688092501114818197984022611661046073180322923553766037586498499974540204693791793047963222486139060147413637230339253443256608485701564784891053397926289664177821919706286664135844377802876352562122389353466102826235289263234488363199404159286560829728598821205147493568392160744064818153706709889719108606083648795534004972817295465584196082602156304071901493325048737897039612705399999458459884586324576356850465902800682163360223018811383011208727253121314804106183630746333917234788155584199422004369734794567464293731590299016321476910276047953145737133530620933370013274962876666024092378144462247911861242773628847211726253860103658427961076487163331347200528488644744897867222184279861410512996912357518380420226522996351489992015929613369585992284921472840596751824858206083370375175870696347451742484480895089618955310799475473330332388074551229896105111703918074819309463129676526583523254006198015481044159254418528609134434118408385912583154979720111735082542883519942050207089706291319323705936118699708767405215366496845718246640603638302177053284851442532497454630999497577583104521012195115814606785903295807850171689359081326188293931649613908497264994236206250488864434829436295195232851838550923528889484987751381022320088255160033641645914092823188828485453780754751793048907600025512141470637066402501872547952277141425050621431726133512376491993264368219026824677798278050012296677681338164667973991346578705512745343946944045970777191879954073954276059158130792852127416568328282956215993174690589582184622213311123743528370969527697376659264209701430460262628089511749784920754475292453555824485037081169662961361437456685569229108353804447871639780202320840236093709222541404770096912820491605767773669730366536498834923648247283567638754132943595918097552972633716970745724835609042802322527268722270064679384555006784008088065427716480324882491803961614497071569285030997191355977454006784666563982465863641444396717248234018026243961781706483360371717605953991771045496130564628772749130877955433893243191369395281413812395013590807898227658488263250802618524850762756185439484575939335126157545942937679620715509540065149312865564443708655439771673542181054558453697618966155551804171330106742714737433118616111666800134742357715495644208822055262531207630247540274901297665161330833084658587180009012735858860387323290477368590430709381480698925172403629520614399575937151757870535045340264867187154085515769299670425865012093497499458084071483820091588806573538923913704024350619657151098348052986098255110975492885336115545257393042442696791158576341900753200960006019671663122779964553274124613827002842207651443127215907411334080034890407625849192846588580412869163865154796429776325124265243357090373279994090608028914324200216278403137569688793319327179281513651857484816495100553151506872893457040698364864908926339042055054701374510871324934497999408637497701279716028106056465342577613367511844757858239618765128089472486851278975083193508109837771994103670102484129663885788768053596123033251579123980971589651437698106274532939294318318049638382537268302829198532880152940714337232086321104061644358354382664864917218438210293517424553745505758090753355882025205602453784317543553853199425081002171431279765462841928691038739447760277789370517385306279744047722489086714748028855582994177874607142469064610509456252022128258329950255642602299905929046841595791167921512858860328296849951271553446508878296327611803906735633266224123093687573746634252135170679694981289617944100773168818654945023743438512318640838968116604957523873700674044602618648483425343480172570393405927238389192205890319989061851984210383082164165286102068738694744762282270671562080897567280776109321283700776536592362521370175610492010490647926435022313362357037672820456385127428485063107497131400081807697966418670920862707517582909049383024204603334049254656583584442952963370887765452655876066062446937832610287823426705006187125841909320161763987566513486927154010085083647269535513915816758710288791204561224527095476616464634423436358506846144301437379657717790829502874496253094716740270948624055817414650104670627976517803754955899088266937466501789934094158017587793129776426891242809581667986926232813625576760050205090619888399123409239688442164270550778132287725184933490420599495679264605659110257760825014193077871965880962249652458201556815237466699463967549092715904279567434739404713888403457003339771465555694947195071035775250811866532575065892797554153301608090613307672021657715401873436452152566925919864525536834568235530705981621300855049045749462125005586100312191552245274122445172305460076489568744037811637120488942481442457383881221646993921230130822937656219514811987478059283006119165854697271444230766548407257874820601218362249866393721509747526537539677353958519844769577322142446097980810172948625060754655647850574348574673760923656634582655495694500804946625600683003303969791972728978548772898691700233344838111143624421997248348373393817914540838366741137930672543630607318584213889310473297461294643309134066151220872533746202317748637999040114037035041286112690264736393397273817924315745503107186029046465168489664991484955836275210278398095989067353453771747035442365355445747127447923214040603969451728451202645051877393660878207404279794929371571338262325793789167979461085931415095683486296162401875755894130120407378671712437729188487520121912910810326749154096040648754248927534521962074102425291913766944369032132103550933382245399558387757904745511758965088027854937299536471846566637636919001351398679746388509468405284549140756479486056457920649429617829741961946109703629304530913466716238442148820189449581503029766353579703388699920365905324047373120549655643341862622777074389646423179579674577956341322830784916026813548454623362949055914885337880398436974918071336089580020123110991614556127897128629528458209067952194326976896997752127042336429246818734853834742889330980560103357922288676566480206614652444443461774011721264398205623102431248408168327688547753045794176361665903058552581366119249019699162802496454086053321275062840623398173054019398759351215711987306636178410283089779146732418239902330676994111916249584184821290161741884890744574259103285106768945456293864755738899456354943259853902533118320431113938205766012422223175295440659963277854864852984742083179611314290857560405710728212958906402305931907418946110255773607562277250486349227222087557966804673075308805002278223894683614028706639026079344344434686294556396103123818136981228794370785368388506599135026980613330934094961793563094627199853201613193153865108452721786814140586572232010017459153962501788701203805098164119780148853692024087086122573636233064502251961233974992366640735451891044862799462188815582042386580030801106890097238687055452552110829965059161245343415161008354431626917063844116549102496993880762448490819042269804160074405392450174036209847483710949092804116773547479425117696723576173189547660596984813143044906939144736572025112530913402350316579592727107140204745792181312643267980166276213539787318686784516646409043739461341058341866130194515206728071388017201750465345177683567166246451096874716792230890148549731651715426719134701779009646503713855713690614979894889941888457297282875954463903599095148708206058572338514158627674241149795154024155999938386472330121596245377182900950030617269384713599791193454044355416529598060101173170994161856361550265787123369355532596323286384309305409145251652049876541298945371331714297379550668239431873282678293074955266864563208743768540095516367311985558520002873697087726788222240830142818294228089082545681401285437906803150262330031355435708411061568390519438584930325978406002583613274547851416495855586226252253360321674766981620421827339385206593739096885252787145406142672658262177573655048328267368597269217457845651924361951505134294767813855422501312640796469744649758696322680162740933123199953154087011991048812393111727123352964379020421420583756994849612766818894376697073240511064803717146258228885676833210858702603529846510370844972539194851074168242379857338076991793231848897846533495471513960873594311483932323174971369007675150619831918752629632940698780673005828943186361408536433545182513621733366469934325860335901609292835044356195560151952535903838669632931421195319086416029491768186604338108617856893658652762599159576463089057484057012421874561183369156744400271989993859435242606882312306519905393345015702439093202555708305829478488168303432296270227178110341320372986862855706153836192552748513974514717282608166467373122237687789655395096239211535388318181125900905930703765521017233830956585103471622343721470945239512383177898180368057660537081723959944939544511007394960086606314007369726809860353148028035639179259295514035556750901346225565651200500040388964695765286839375894326641359638758981952190977233092636192929286884271506009538217214933792744247421149897522229185157042978227719340975109319968827282928000446381475380613389725119957350959904451122273439971539673040298002820751768235827912095052102735663217352194962362184727464644960226149981751908352203306342021592050720598795035239228195869165158542449929474548106605050117625206972350963702019752601985260677384221896524605299854929995338755313295340940138314907468467139499677720572636120372107374342868057717426582051294080969959563531911282739990097960539607984437523116507734719777809570433883645270239644294309466315623904013251732165782921533830102558013937152598856329347755255719232808344589151922043864806081186297548489573356845798244178775602686253784216073315926315117006546664792964827288742401180295584471128695425297779253841606405927427313508860836696395679355243026261886885752006481760497725961130073922590764478449738830065772275665777414636443696093953753681025203011970464541713411933975735103788738392769375565506845210536678318283945400401975534721292450383336003817385678921281713802749790225543274326172443844383519165927950001713682536758546723469033733698464059513247716076530428565235979898018682260049948150428797107476676459294460386409882046653439741904221084760506651625666078950470073700364878268487810943704123780820867203211027983637336090586543818602974928781155484266146415144583159391700957591524192858746462325799289808212663991897979203096513770030043332559965757095804880516280318291317892283539611806096480760588324398833851927871266308437436655196451140800936247852263042630333253021422636233953558646545567952000386740056413841503316500443196882791862089512040487190834318318720805613880482722099504496769830259462446643387340087559348080783121714848722685337702205260808038256129653712130928142868326732024547341918409543265770751846027970701058154304742603541295214529990635988000113171975043316669542398374118000586212749941657916328896392364001183403234069404287388451847652826410122033605624323121635568975986369749647596502871188585784355101687504624636539324552490154032140569865547304245954636331164655521637183906414415309758712816906121425865963519572977922422193998635333872816316775329382888285388337632233238036645089499874738060057408898360753928123721929221887935357828140069065634778202887507881813240782624394992260288324899145727374030782190991736334686587324734925180822573968054570812461164995383965527453691487340952630177567364936503105040012083733323507697152712523147323433715982381154982902092524326981085372148717838722362846968085831693638384498765389697888945985515666277324765372113023407091352370001332816569293276900781471078643097906578447793178960543143205024459597894087211433825957259050676114083777577666949879034498423616833565457642039910618453618935750101710017725620355769563378953758665795785319349166712506777600201116719824482067962138213637479996078388947476976854371179482021389349861181740828990847397711566219575730166769531616390028616437744333987950465924649624221361582556979790545498220365919158604912020715635631040315538986628041330966376721410914045182032024057167118820434464793928749803819352938145054343275764367252195300947748256245931417922605137017689402364247601489831981249881815659363767625500657693805874763140615448155779212535276526235730433689192685254054526262411911016156357795666960065908532277002703275187121877171252803456126830235101667545124754877133773716679551420426703467351042791173384629237801027761041683371686184253726562037513732843533633565163220145118782869823125951421106201364541930300041723532889519178318955856530899618414036372766242613462981832366718516227612929064474842642670720228351684614265920516762231207830828736495674753147731828095679250957455183208640720034073280476977250429065166775862662137940822216639672500136596904942830895605490951255968987922101774658817948774345231590358526032183309667099112583393485448487247848989986555106163389286689996700225455725201192468963399245341930568628287266154554977591171677234870273109994284553066290629230944606505961324859550418277938672668519564635104078617839799413872033532827843195645709007893008947027923548105184401821727997576067980745684603001508138923452502105044934874146471722564995367164821236866037139904194334377622398866638519217567726283183853832672567439807319989466480664493203325667248130169442386260260938595262185473829829655664167239056097352374183107195265095683795670742646740683849734475169685935789219642416124979114398039590666990374976005078576331036100207225998255550662603112543323693395536358218289831122170914531594780311067952757440640496806878780414499789323112454004235627907950496053532320798797946603624816863361484297838295038330096430888224575734937428832687311310335645328966004829358961398637161232521561088632564699206653873837378293823902017672262403793232643723649636576550174442401991112661121854039511616612290979354350942496682148176886761519933539302375974268295207970549690201597108189357323757477303432824688714733897849865805712867879245604618677327572104101392804594601734946451198976706954026926325977085411919015691045995552207351293138187161405499084909554845419434931917344430522376469392263403392646510051744603644570754463847534733966705557908398431759668907930084657438598561912663124717703955390006624505825330361779064559334274155743297547382435851687558291288934724053570713445458222971933730758205897144472889089781340754148110731186122936859973310507122731462503393873897738479354688284953678332216656064611036606566593132311955013694851138439291211561574498547816003618955409622344616927979949484656636148330699173829550144656063429037359575915469558527253860731802499652816768425443425889739073884352974610591022393415807247569583300801154557691634376230748190087515083604267146590376806793177153184509444555078218804371479017254048737590623414381181091777995894452851110954312451007661884236739962192456077969511122779364407990415119514440661546965008576217977093190909583132987787434522165255034445404702763169714368762469620043258522003356436848692882916179287819142433475654756287226124351664343691962489756968151414727888765534977698006480871154761766945959111922927429454384882497333914219571616022292224906364296597972099547195800025036746754894650280064556031370644217419634227831878046942804047499799250678440344926170781018652689185600559289478435620230506562090798332784054409933754325466268996342381853087817159138132409688240004900823384875229448700461035381883418217015178779468503346298941683080899357908203402596981571019152124322599142297993961017488797887830281192191238727922353623295034097047026384576950518160676657044486620981891268715888390683926816266566045504069411325517726301593005468118625314041176546254147484954209655218329262550835896721811635441831388710685040170614684768874135589248534951236185901475459798978133816784134989257021373591925918938505117120958353354468195902418584460471378852709468342796348047587156573415690896444525395795251837597314216029681638412088153036099966996188639795041806972170297532612770372422177442399757860752244275767990624899121340496474889285918528422833247118694861120447658840271122911279114792252504327153033684366578150172821878605530320299879588079217379263325468352926442085153146379821322093120797035112094626071007302778912072566743084284949202405450391750643121078577065441187219944044713259661653295743027549410956701543326099389775148130009541828402651298935227760199983004106141718321080195789503790459326081276788138994738324227512564849341286531071052868689648644035294619832639219517599262158567853308180854622517432057724041779265437756658172231185312218755767693801703046218276691467762250144758754615144514318255923066943062603732646568363555326160331715437535324349374224250967669972209569182920399221779749244067926548005910615674789500542998017635444037775787063172034013555643683051468017023738859881563516237835944674355662760135149674301440420415171928872374647867382781971827035983886036616187357262700493342349286117240506228275121275481554264228471521735497145802473814776450360970418983518376319628772221549149786891339743058279126510663209664415284380540087275689926332447230094477529152928444134842867829072123694329242420883604363950605506758772124314102728605283875613848102406526257247712999775694643500056233401552208865282718695548243000376564479084893901000536841057522363280370838897496675493411119896288413437648165762755516249385819799876190593410596588772953750592135480282406384799725149946020648503742074502433099373164782711911703171878502492156281762509092095744129027049665089185824440951849086836244861302746209634753793226318816715261107812607328110620115344977658157304987786773827545017316589662732722171023102044468910200415948303526753908200009932370035916020269727358967287596800092431351089975959771739670737705545635339787762830709652643567870591839666401171540256204228281060067944109179653941685365005272724324536997345115516175842141599701909755483073424634942570911097725362896370051831044608670285904915489785451861640485967121832187912603224446865674572002909630090732796419381087368300577008488549876326424201225775611351792112069706098584806375300143303206297900856011317453460216898549935534481242900706196770703583346771718929609650046081906453813744649270388930650195618060462577300950622064469234834931163196871839460688231399405614992896889553688544426015978917594885221304833320378882656155887963824087690654293193046677769081072048908640193133809524389871737237253005521747524415947922113766652805888438396054147567486987337167355166104543042899131993430820991650159647656208456324363081781712602217016347775564111441803592193088471289255795393642877824453654048165950323223788178060285905582700086738684883750337714980917164444693060308390225962379946272713289768929936724536553233482465794212734027070565388511936215762656298864684435370823571848084247138397525778310128785553445708026765901738206081873519050998499630965910793432366813853970202821394949406134489952453908830903545787795663963353463066176422602202105775621923781957494629716436815349210857072706316427328453577498513994637159418953720826767147133205092570099335672952611163628000805824409754601708517576411444079395720215248444116421555957828748745424226011844865906715664110802868290518210612860404454750511438922544439143868194881337928254493717003965533900634644833101037271446752357724260351165699515773967642913572637535873501670470613312527450847505213359793783861950188821929180325547521785176580032177426333023524832481849348447808439788218713542427529133485690077625718966956228062966168347006680212942597861705301218647978947398135250300005080179027045518797793505294699210802788329649160385012184940049568696199707027524548531041667993720684674742262714439058761479088895841824160373748908700112817860631624151944290572786670975635303518603594047587697599520048169851304461861034981185133385903366316421187501308774815870676228749311300865732973446153743975659991079304994892588234011350360387511421993302025047776808575499810068887160787732953050111241465547976334636931551115834357110038285979669707537501\\)</html>"
      ],
      "text/latex": [
       "$\\displaystyle 4202692702995154386319005101293915131773915702632234503304716087198335731457276226633938477267013660962533661702858329186641162298822215333733574147268614522205177960360216576292096795530656502537998314495026330500620719088898984643619599926476236108318505023749864703859491024686621241730682736115723551647724257547502352412468746074851053353923438703547870019701586274514903943581778012410826464461823272924826749362282954004235923662667858166740323769532233540810434266661679738865959304652017245761094495566071167054301690895714604884013679491394566493844646298912078940644595782507997928878739392985610180101343882600283820398139200927163512122969924839839463533622369599880593624548314955919982731440664606860389674767846630714238798520061220948360195842828694894114956887994407533188621624706043127847588617179645038305434988777154546903665027721615391983839969917881343981419443688092501114818197984022611661046073180322923553766037586498499974540204693791793047963222486139060147413637230339253443256608485701564784891053397926289664177821919706286664135844377802876352562122389353466102826235289263234488363199404159286560829728598821205147493568392160744064818153706709889719108606083648795534004972817295465584196082602156304071901493325048737897039612705399999458459884586324576356850465902800682163360223018811383011208727253121314804106183630746333917234788155584199422004369734794567464293731590299016321476910276047953145737133530620933370013274962876666024092378144462247911861242773628847211726253860103658427961076487163331347200528488644744897867222184279861410512996912357518380420226522996351489992015929613369585992284921472840596751824858206083370375175870696347451742484480895089618955310799475473330332388074551229896105111703918074819309463129676526583523254006198015481044159254418528609134434118408385912583154979720111735082542883519942050207089706291319323705936118699708767405215366496845718246640603638302177053284851442532497454630999497577583104521012195115814606785903295807850171689359081326188293931649613908497264994236206250488864434829436295195232851838550923528889484987751381022320088255160033641645914092823188828485453780754751793048907600025512141470637066402501872547952277141425050621431726133512376491993264368219026824677798278050012296677681338164667973991346578705512745343946944045970777191879954073954276059158130792852127416568328282956215993174690589582184622213311123743528370969527697376659264209701430460262628089511749784920754475292453555824485037081169662961361437456685569229108353804447871639780202320840236093709222541404770096912820491605767773669730366536498834923648247283567638754132943595918097552972633716970745724835609042802322527268722270064679384555006784008088065427716480324882491803961614497071569285030997191355977454006784666563982465863641444396717248234018026243961781706483360371717605953991771045496130564628772749130877955433893243191369395281413812395013590807898227658488263250802618524850762756185439484575939335126157545942937679620715509540065149312865564443708655439771673542181054558453697618966155551804171330106742714737433118616111666800134742357715495644208822055262531207630247540274901297665161330833084658587180009012735858860387323290477368590430709381480698925172403629520614399575937151757870535045340264867187154085515769299670425865012093497499458084071483820091588806573538923913704024350619657151098348052986098255110975492885336115545257393042442696791158576341900753200960006019671663122779964553274124613827002842207651443127215907411334080034890407625849192846588580412869163865154796429776325124265243357090373279994090608028914324200216278403137569688793319327179281513651857484816495100553151506872893457040698364864908926339042055054701374510871324934497999408637497701279716028106056465342577613367511844757858239618765128089472486851278975083193508109837771994103670102484129663885788768053596123033251579123980971589651437698106274532939294318318049638382537268302829198532880152940714337232086321104061644358354382664864917218438210293517424553745505758090753355882025205602453784317543553853199425081002171431279765462841928691038739447760277789370517385306279744047722489086714748028855582994177874607142469064610509456252022128258329950255642602299905929046841595791167921512858860328296849951271553446508878296327611803906735633266224123093687573746634252135170679694981289617944100773168818654945023743438512318640838968116604957523873700674044602618648483425343480172570393405927238389192205890319989061851984210383082164165286102068738694744762282270671562080897567280776109321283700776536592362521370175610492010490647926435022313362357037672820456385127428485063107497131400081807697966418670920862707517582909049383024204603334049254656583584442952963370887765452655876066062446937832610287823426705006187125841909320161763987566513486927154010085083647269535513915816758710288791204561224527095476616464634423436358506846144301437379657717790829502874496253094716740270948624055817414650104670627976517803754955899088266937466501789934094158017587793129776426891242809581667986926232813625576760050205090619888399123409239688442164270550778132287725184933490420599495679264605659110257760825014193077871965880962249652458201556815237466699463967549092715904279567434739404713888403457003339771465555694947195071035775250811866532575065892797554153301608090613307672021657715401873436452152566925919864525536834568235530705981621300855049045749462125005586100312191552245274122445172305460076489568744037811637120488942481442457383881221646993921230130822937656219514811987478059283006119165854697271444230766548407257874820601218362249866393721509747526537539677353958519844769577322142446097980810172948625060754655647850574348574673760923656634582655495694500804946625600683003303969791972728978548772898691700233344838111143624421997248348373393817914540838366741137930672543630607318584213889310473297461294643309134066151220872533746202317748637999040114037035041286112690264736393397273817924315745503107186029046465168489664991484955836275210278398095989067353453771747035442365355445747127447923214040603969451728451202645051877393660878207404279794929371571338262325793789167979461085931415095683486296162401875755894130120407378671712437729188487520121912910810326749154096040648754248927534521962074102425291913766944369032132103550933382245399558387757904745511758965088027854937299536471846566637636919001351398679746388509468405284549140756479486056457920649429617829741961946109703629304530913466716238442148820189449581503029766353579703388699920365905324047373120549655643341862622777074389646423179579674577956341322830784916026813548454623362949055914885337880398436974918071336089580020123110991614556127897128629528458209067952194326976896997752127042336429246818734853834742889330980560103357922288676566480206614652444443461774011721264398205623102431248408168327688547753045794176361665903058552581366119249019699162802496454086053321275062840623398173054019398759351215711987306636178410283089779146732418239902330676994111916249584184821290161741884890744574259103285106768945456293864755738899456354943259853902533118320431113938205766012422223175295440659963277854864852984742083179611314290857560405710728212958906402305931907418946110255773607562277250486349227222087557966804673075308805002278223894683614028706639026079344344434686294556396103123818136981228794370785368388506599135026980613330934094961793563094627199853201613193153865108452721786814140586572232010017459153962501788701203805098164119780148853692024087086122573636233064502251961233974992366640735451891044862799462188815582042386580030801106890097238687055452552110829965059161245343415161008354431626917063844116549102496993880762448490819042269804160074405392450174036209847483710949092804116773547479425117696723576173189547660596984813143044906939144736572025112530913402350316579592727107140204745792181312643267980166276213539787318686784516646409043739461341058341866130194515206728071388017201750465345177683567166246451096874716792230890148549731651715426719134701779009646503713855713690614979894889941888457297282875954463903599095148708206058572338514158627674241149795154024155999938386472330121596245377182900950030617269384713599791193454044355416529598060101173170994161856361550265787123369355532596323286384309305409145251652049876541298945371331714297379550668239431873282678293074955266864563208743768540095516367311985558520002873697087726788222240830142818294228089082545681401285437906803150262330031355435708411061568390519438584930325978406002583613274547851416495855586226252253360321674766981620421827339385206593739096885252787145406142672658262177573655048328267368597269217457845651924361951505134294767813855422501312640796469744649758696322680162740933123199953154087011991048812393111727123352964379020421420583756994849612766818894376697073240511064803717146258228885676833210858702603529846510370844972539194851074168242379857338076991793231848897846533495471513960873594311483932323174971369007675150619831918752629632940698780673005828943186361408536433545182513621733366469934325860335901609292835044356195560151952535903838669632931421195319086416029491768186604338108617856893658652762599159576463089057484057012421874561183369156744400271989993859435242606882312306519905393345015702439093202555708305829478488168303432296270227178110341320372986862855706153836192552748513974514717282608166467373122237687789655395096239211535388318181125900905930703765521017233830956585103471622343721470945239512383177898180368057660537081723959944939544511007394960086606314007369726809860353148028035639179259295514035556750901346225565651200500040388964695765286839375894326641359638758981952190977233092636192929286884271506009538217214933792744247421149897522229185157042978227719340975109319968827282928000446381475380613389725119957350959904451122273439971539673040298002820751768235827912095052102735663217352194962362184727464644960226149981751908352203306342021592050720598795035239228195869165158542449929474548106605050117625206972350963702019752601985260677384221896524605299854929995338755313295340940138314907468467139499677720572636120372107374342868057717426582051294080969959563531911282739990097960539607984437523116507734719777809570433883645270239644294309466315623904013251732165782921533830102558013937152598856329347755255719232808344589151922043864806081186297548489573356845798244178775602686253784216073315926315117006546664792964827288742401180295584471128695425297779253841606405927427313508860836696395679355243026261886885752006481760497725961130073922590764478449738830065772275665777414636443696093953753681025203011970464541713411933975735103788738392769375565506845210536678318283945400401975534721292450383336003817385678921281713802749790225543274326172443844383519165927950001713682536758546723469033733698464059513247716076530428565235979898018682260049948150428797107476676459294460386409882046653439741904221084760506651625666078950470073700364878268487810943704123780820867203211027983637336090586543818602974928781155484266146415144583159391700957591524192858746462325799289808212663991897979203096513770030043332559965757095804880516280318291317892283539611806096480760588324398833851927871266308437436655196451140800936247852263042630333253021422636233953558646545567952000386740056413841503316500443196882791862089512040487190834318318720805613880482722099504496769830259462446643387340087559348080783121714848722685337702205260808038256129653712130928142868326732024547341918409543265770751846027970701058154304742603541295214529990635988000113171975043316669542398374118000586212749941657916328896392364001183403234069404287388451847652826410122033605624323121635568975986369749647596502871188585784355101687504624636539324552490154032140569865547304245954636331164655521637183906414415309758712816906121425865963519572977922422193998635333872816316775329382888285388337632233238036645089499874738060057408898360753928123721929221887935357828140069065634778202887507881813240782624394992260288324899145727374030782190991736334686587324734925180822573968054570812461164995383965527453691487340952630177567364936503105040012083733323507697152712523147323433715982381154982902092524326981085372148717838722362846968085831693638384498765389697888945985515666277324765372113023407091352370001332816569293276900781471078643097906578447793178960543143205024459597894087211433825957259050676114083777577666949879034498423616833565457642039910618453618935750101710017725620355769563378953758665795785319349166712506777600201116719824482067962138213637479996078388947476976854371179482021389349861181740828990847397711566219575730166769531616390028616437744333987950465924649624221361582556979790545498220365919158604912020715635631040315538986628041330966376721410914045182032024057167118820434464793928749803819352938145054343275764367252195300947748256245931417922605137017689402364247601489831981249881815659363767625500657693805874763140615448155779212535276526235730433689192685254054526262411911016156357795666960065908532277002703275187121877171252803456126830235101667545124754877133773716679551420426703467351042791173384629237801027761041683371686184253726562037513732843533633565163220145118782869823125951421106201364541930300041723532889519178318955856530899618414036372766242613462981832366718516227612929064474842642670720228351684614265920516762231207830828736495674753147731828095679250957455183208640720034073280476977250429065166775862662137940822216639672500136596904942830895605490951255968987922101774658817948774345231590358526032183309667099112583393485448487247848989986555106163389286689996700225455725201192468963399245341930568628287266154554977591171677234870273109994284553066290629230944606505961324859550418277938672668519564635104078617839799413872033532827843195645709007893008947027923548105184401821727997576067980745684603001508138923452502105044934874146471722564995367164821236866037139904194334377622398866638519217567726283183853832672567439807319989466480664493203325667248130169442386260260938595262185473829829655664167239056097352374183107195265095683795670742646740683849734475169685935789219642416124979114398039590666990374976005078576331036100207225998255550662603112543323693395536358218289831122170914531594780311067952757440640496806878780414499789323112454004235627907950496053532320798797946603624816863361484297838295038330096430888224575734937428832687311310335645328966004829358961398637161232521561088632564699206653873837378293823902017672262403793232643723649636576550174442401991112661121854039511616612290979354350942496682148176886761519933539302375974268295207970549690201597108189357323757477303432824688714733897849865805712867879245604618677327572104101392804594601734946451198976706954026926325977085411919015691045995552207351293138187161405499084909554845419434931917344430522376469392263403392646510051744603644570754463847534733966705557908398431759668907930084657438598561912663124717703955390006624505825330361779064559334274155743297547382435851687558291288934724053570713445458222971933730758205897144472889089781340754148110731186122936859973310507122731462503393873897738479354688284953678332216656064611036606566593132311955013694851138439291211561574498547816003618955409622344616927979949484656636148330699173829550144656063429037359575915469558527253860731802499652816768425443425889739073884352974610591022393415807247569583300801154557691634376230748190087515083604267146590376806793177153184509444555078218804371479017254048737590623414381181091777995894452851110954312451007661884236739962192456077969511122779364407990415119514440661546965008576217977093190909583132987787434522165255034445404702763169714368762469620043258522003356436848692882916179287819142433475654756287226124351664343691962489756968151414727888765534977698006480871154761766945959111922927429454384882497333914219571616022292224906364296597972099547195800025036746754894650280064556031370644217419634227831878046942804047499799250678440344926170781018652689185600559289478435620230506562090798332784054409933754325466268996342381853087817159138132409688240004900823384875229448700461035381883418217015178779468503346298941683080899357908203402596981571019152124322599142297993961017488797887830281192191238727922353623295034097047026384576950518160676657044486620981891268715888390683926816266566045504069411325517726301593005468118625314041176546254147484954209655218329262550835896721811635441831388710685040170614684768874135589248534951236185901475459798978133816784134989257021373591925918938505117120958353354468195902418584460471378852709468342796348047587156573415690896444525395795251837597314216029681638412088153036099966996188639795041806972170297532612770372422177442399757860752244275767990624899121340496474889285918528422833247118694861120447658840271122911279114792252504327153033684366578150172821878605530320299879588079217379263325468352926442085153146379821322093120797035112094626071007302778912072566743084284949202405450391750643121078577065441187219944044713259661653295743027549410956701543326099389775148130009541828402651298935227760199983004106141718321080195789503790459326081276788138994738324227512564849341286531071052868689648644035294619832639219517599262158567853308180854622517432057724041779265437756658172231185312218755767693801703046218276691467762250144758754615144514318255923066943062603732646568363555326160331715437535324349374224250967669972209569182920399221779749244067926548005910615674789500542998017635444037775787063172034013555643683051468017023738859881563516237835944674355662760135149674301440420415171928872374647867382781971827035983886036616187357262700493342349286117240506228275121275481554264228471521735497145802473814776450360970418983518376319628772221549149786891339743058279126510663209664415284380540087275689926332447230094477529152928444134842867829072123694329242420883604363950605506758772124314102728605283875613848102406526257247712999775694643500056233401552208865282718695548243000376564479084893901000536841057522363280370838897496675493411119896288413437648165762755516249385819799876190593410596588772953750592135480282406384799725149946020648503742074502433099373164782711911703171878502492156281762509092095744129027049665089185824440951849086836244861302746209634753793226318816715261107812607328110620115344977658157304987786773827545017316589662732722171023102044468910200415948303526753908200009932370035916020269727358967287596800092431351089975959771739670737705545635339787762830709652643567870591839666401171540256204228281060067944109179653941685365005272724324536997345115516175842141599701909755483073424634942570911097725362896370051831044608670285904915489785451861640485967121832187912603224446865674572002909630090732796419381087368300577008488549876326424201225775611351792112069706098584806375300143303206297900856011317453460216898549935534481242900706196770703583346771718929609650046081906453813744649270388930650195618060462577300950622064469234834931163196871839460688231399405614992896889553688544426015978917594885221304833320378882656155887963824087690654293193046677769081072048908640193133809524389871737237253005521747524415947922113766652805888438396054147567486987337167355166104543042899131993430820991650159647656208456324363081781712602217016347775564111441803592193088471289255795393642877824453654048165950323223788178060285905582700086738684883750337714980917164444693060308390225962379946272713289768929936724536553233482465794212734027070565388511936215762656298864684435370823571848084247138397525778310128785553445708026765901738206081873519050998499630965910793432366813853970202821394949406134489952453908830903545787795663963353463066176422602202105775621923781957494629716436815349210857072706316427328453577498513994637159418953720826767147133205092570099335672952611163628000805824409754601708517576411444079395720215248444116421555957828748745424226011844865906715664110802868290518210612860404454750511438922544439143868194881337928254493717003965533900634644833101037271446752357724260351165699515773967642913572637535873501670470613312527450847505213359793783861950188821929180325547521785176580032177426333023524832481849348447808439788218713542427529133485690077625718966956228062966168347006680212942597861705301218647978947398135250300005080179027045518797793505294699210802788329649160385012184940049568696199707027524548531041667993720684674742262714439058761479088895841824160373748908700112817860631624151944290572786670975635303518603594047587697599520048169851304461861034981185133385903366316421187501308774815870676228749311300865732973446153743975659991079304994892588234011350360387511421993302025047776808575499810068887160787732953050111241465547976334636931551115834357110038285979669707537501$"
      ],
      "text/plain": [
       "4202692702995154386319005101293915131773915702632234503304716087198335731457276226633938477267013660962533661702858329186641162298822215333733574147268614522205177960360216576292096795530656502537998314495026330500620719088898984643619599926476236108318505023749864703859491024686621241730682736115723551647724257547502352412468746074851053353923438703547870019701586274514903943581778012410826464461823272924826749362282954004235923662667858166740323769532233540810434266661679738865959304652017245761094495566071167054301690895714604884013679491394566493844646298912078940644595782507997928878739392985610180101343882600283820398139200927163512122969924839839463533622369599880593624548314955919982731440664606860389674767846630714238798520061220948360195842828694894114956887994407533188621624706043127847588617179645038305434988777154546903665027721615391983839969917881343981419443688092501114818197984022611661046073180322923553766037586498499974540204693791793047963222486139060147413637230339253443256608485701564784891053397926289664177821919706286664135844377802876352562122389353466102826235289263234488363199404159286560829728598821205147493568392160744064818153706709889719108606083648795534004972817295465584196082602156304071901493325048737897039612705399999458459884586324576356850465902800682163360223018811383011208727253121314804106183630746333917234788155584199422004369734794567464293731590299016321476910276047953145737133530620933370013274962876666024092378144462247911861242773628847211726253860103658427961076487163331347200528488644744897867222184279861410512996912357518380420226522996351489992015929613369585992284921472840596751824858206083370375175870696347451742484480895089618955310799475473330332388074551229896105111703918074819309463129676526583523254006198015481044159254418528609134434118408385912583154979720111735082542883519942050207089706291319323705936118699708767405215366496845718246640603638302177053284851442532497454630999497577583104521012195115814606785903295807850171689359081326188293931649613908497264994236206250488864434829436295195232851838550923528889484987751381022320088255160033641645914092823188828485453780754751793048907600025512141470637066402501872547952277141425050621431726133512376491993264368219026824677798278050012296677681338164667973991346578705512745343946944045970777191879954073954276059158130792852127416568328282956215993174690589582184622213311123743528370969527697376659264209701430460262628089511749784920754475292453555824485037081169662961361437456685569229108353804447871639780202320840236093709222541404770096912820491605767773669730366536498834923648247283567638754132943595918097552972633716970745724835609042802322527268722270064679384555006784008088065427716480324882491803961614497071569285030997191355977454006784666563982465863641444396717248234018026243961781706483360371717605953991771045496130564628772749130877955433893243191369395281413812395013590807898227658488263250802618524850762756185439484575939335126157545942937679620715509540065149312865564443708655439771673542181054558453697618966155551804171330106742714737433118616111666800134742357715495644208822055262531207630247540274901297665161330833084658587180009012735858860387323290477368590430709381480698925172403629520614399575937151757870535045340264867187154085515769299670425865012093497499458084071483820091588806573538923913704024350619657151098348052986098255110975492885336115545257393042442696791158576341900753200960006019671663122779964553274124613827002842207651443127215907411334080034890407625849192846588580412869163865154796429776325124265243357090373279994090608028914324200216278403137569688793319327179281513651857484816495100553151506872893457040698364864908926339042055054701374510871324934497999408637497701279716028106056465342577613367511844757858239618765128089472486851278975083193508109837771994103670102484129663885788768053596123033251579123980971589651437698106274532939294318318049638382537268302829198532880152940714337232086321104061644358354382664864917218438210293517424553745505758090753355882025205602453784317543553853199425081002171431279765462841928691038739447760277789370517385306279744047722489086714748028855582994177874607142469064610509456252022128258329950255642602299905929046841595791167921512858860328296849951271553446508878296327611803906735633266224123093687573746634252135170679694981289617944100773168818654945023743438512318640838968116604957523873700674044602618648483425343480172570393405927238389192205890319989061851984210383082164165286102068738694744762282270671562080897567280776109321283700776536592362521370175610492010490647926435022313362357037672820456385127428485063107497131400081807697966418670920862707517582909049383024204603334049254656583584442952963370887765452655876066062446937832610287823426705006187125841909320161763987566513486927154010085083647269535513915816758710288791204561224527095476616464634423436358506846144301437379657717790829502874496253094716740270948624055817414650104670627976517803754955899088266937466501789934094158017587793129776426891242809581667986926232813625576760050205090619888399123409239688442164270550778132287725184933490420599495679264605659110257760825014193077871965880962249652458201556815237466699463967549092715904279567434739404713888403457003339771465555694947195071035775250811866532575065892797554153301608090613307672021657715401873436452152566925919864525536834568235530705981621300855049045749462125005586100312191552245274122445172305460076489568744037811637120488942481442457383881221646993921230130822937656219514811987478059283006119165854697271444230766548407257874820601218362249866393721509747526537539677353958519844769577322142446097980810172948625060754655647850574348574673760923656634582655495694500804946625600683003303969791972728978548772898691700233344838111143624421997248348373393817914540838366741137930672543630607318584213889310473297461294643309134066151220872533746202317748637999040114037035041286112690264736393397273817924315745503107186029046465168489664991484955836275210278398095989067353453771747035442365355445747127447923214040603969451728451202645051877393660878207404279794929371571338262325793789167979461085931415095683486296162401875755894130120407378671712437729188487520121912910810326749154096040648754248927534521962074102425291913766944369032132103550933382245399558387757904745511758965088027854937299536471846566637636919001351398679746388509468405284549140756479486056457920649429617829741961946109703629304530913466716238442148820189449581503029766353579703388699920365905324047373120549655643341862622777074389646423179579674577956341322830784916026813548454623362949055914885337880398436974918071336089580020123110991614556127897128629528458209067952194326976896997752127042336429246818734853834742889330980560103357922288676566480206614652444443461774011721264398205623102431248408168327688547753045794176361665903058552581366119249019699162802496454086053321275062840623398173054019398759351215711987306636178410283089779146732418239902330676994111916249584184821290161741884890744574259103285106768945456293864755738899456354943259853902533118320431113938205766012422223175295440659963277854864852984742083179611314290857560405710728212958906402305931907418946110255773607562277250486349227222087557966804673075308805002278223894683614028706639026079344344434686294556396103123818136981228794370785368388506599135026980613330934094961793563094627199853201613193153865108452721786814140586572232010017459153962501788701203805098164119780148853692024087086122573636233064502251961233974992366640735451891044862799462188815582042386580030801106890097238687055452552110829965059161245343415161008354431626917063844116549102496993880762448490819042269804160074405392450174036209847483710949092804116773547479425117696723576173189547660596984813143044906939144736572025112530913402350316579592727107140204745792181312643267980166276213539787318686784516646409043739461341058341866130194515206728071388017201750465345177683567166246451096874716792230890148549731651715426719134701779009646503713855713690614979894889941888457297282875954463903599095148708206058572338514158627674241149795154024155999938386472330121596245377182900950030617269384713599791193454044355416529598060101173170994161856361550265787123369355532596323286384309305409145251652049876541298945371331714297379550668239431873282678293074955266864563208743768540095516367311985558520002873697087726788222240830142818294228089082545681401285437906803150262330031355435708411061568390519438584930325978406002583613274547851416495855586226252253360321674766981620421827339385206593739096885252787145406142672658262177573655048328267368597269217457845651924361951505134294767813855422501312640796469744649758696322680162740933123199953154087011991048812393111727123352964379020421420583756994849612766818894376697073240511064803717146258228885676833210858702603529846510370844972539194851074168242379857338076991793231848897846533495471513960873594311483932323174971369007675150619831918752629632940698780673005828943186361408536433545182513621733366469934325860335901609292835044356195560151952535903838669632931421195319086416029491768186604338108617856893658652762599159576463089057484057012421874561183369156744400271989993859435242606882312306519905393345015702439093202555708305829478488168303432296270227178110341320372986862855706153836192552748513974514717282608166467373122237687789655395096239211535388318181125900905930703765521017233830956585103471622343721470945239512383177898180368057660537081723959944939544511007394960086606314007369726809860353148028035639179259295514035556750901346225565651200500040388964695765286839375894326641359638758981952190977233092636192929286884271506009538217214933792744247421149897522229185157042978227719340975109319968827282928000446381475380613389725119957350959904451122273439971539673040298002820751768235827912095052102735663217352194962362184727464644960226149981751908352203306342021592050720598795035239228195869165158542449929474548106605050117625206972350963702019752601985260677384221896524605299854929995338755313295340940138314907468467139499677720572636120372107374342868057717426582051294080969959563531911282739990097960539607984437523116507734719777809570433883645270239644294309466315623904013251732165782921533830102558013937152598856329347755255719232808344589151922043864806081186297548489573356845798244178775602686253784216073315926315117006546664792964827288742401180295584471128695425297779253841606405927427313508860836696395679355243026261886885752006481760497725961130073922590764478449738830065772275665777414636443696093953753681025203011970464541713411933975735103788738392769375565506845210536678318283945400401975534721292450383336003817385678921281713802749790225543274326172443844383519165927950001713682536758546723469033733698464059513247716076530428565235979898018682260049948150428797107476676459294460386409882046653439741904221084760506651625666078950470073700364878268487810943704123780820867203211027983637336090586543818602974928781155484266146415144583159391700957591524192858746462325799289808212663991897979203096513770030043332559965757095804880516280318291317892283539611806096480760588324398833851927871266308437436655196451140800936247852263042630333253021422636233953558646545567952000386740056413841503316500443196882791862089512040487190834318318720805613880482722099504496769830259462446643387340087559348080783121714848722685337702205260808038256129653712130928142868326732024547341918409543265770751846027970701058154304742603541295214529990635988000113171975043316669542398374118000586212749941657916328896392364001183403234069404287388451847652826410122033605624323121635568975986369749647596502871188585784355101687504624636539324552490154032140569865547304245954636331164655521637183906414415309758712816906121425865963519572977922422193998635333872816316775329382888285388337632233238036645089499874738060057408898360753928123721929221887935357828140069065634778202887507881813240782624394992260288324899145727374030782190991736334686587324734925180822573968054570812461164995383965527453691487340952630177567364936503105040012083733323507697152712523147323433715982381154982902092524326981085372148717838722362846968085831693638384498765389697888945985515666277324765372113023407091352370001332816569293276900781471078643097906578447793178960543143205024459597894087211433825957259050676114083777577666949879034498423616833565457642039910618453618935750101710017725620355769563378953758665795785319349166712506777600201116719824482067962138213637479996078388947476976854371179482021389349861181740828990847397711566219575730166769531616390028616437744333987950465924649624221361582556979790545498220365919158604912020715635631040315538986628041330966376721410914045182032024057167118820434464793928749803819352938145054343275764367252195300947748256245931417922605137017689402364247601489831981249881815659363767625500657693805874763140615448155779212535276526235730433689192685254054526262411911016156357795666960065908532277002703275187121877171252803456126830235101667545124754877133773716679551420426703467351042791173384629237801027761041683371686184253726562037513732843533633565163220145118782869823125951421106201364541930300041723532889519178318955856530899618414036372766242613462981832366718516227612929064474842642670720228351684614265920516762231207830828736495674753147731828095679250957455183208640720034073280476977250429065166775862662137940822216639672500136596904942830895605490951255968987922101774658817948774345231590358526032183309667099112583393485448487247848989986555106163389286689996700225455725201192468963399245341930568628287266154554977591171677234870273109994284553066290629230944606505961324859550418277938672668519564635104078617839799413872033532827843195645709007893008947027923548105184401821727997576067980745684603001508138923452502105044934874146471722564995367164821236866037139904194334377622398866638519217567726283183853832672567439807319989466480664493203325667248130169442386260260938595262185473829829655664167239056097352374183107195265095683795670742646740683849734475169685935789219642416124979114398039590666990374976005078576331036100207225998255550662603112543323693395536358218289831122170914531594780311067952757440640496806878780414499789323112454004235627907950496053532320798797946603624816863361484297838295038330096430888224575734937428832687311310335645328966004829358961398637161232521561088632564699206653873837378293823902017672262403793232643723649636576550174442401991112661121854039511616612290979354350942496682148176886761519933539302375974268295207970549690201597108189357323757477303432824688714733897849865805712867879245604618677327572104101392804594601734946451198976706954026926325977085411919015691045995552207351293138187161405499084909554845419434931917344430522376469392263403392646510051744603644570754463847534733966705557908398431759668907930084657438598561912663124717703955390006624505825330361779064559334274155743297547382435851687558291288934724053570713445458222971933730758205897144472889089781340754148110731186122936859973310507122731462503393873897738479354688284953678332216656064611036606566593132311955013694851138439291211561574498547816003618955409622344616927979949484656636148330699173829550144656063429037359575915469558527253860731802499652816768425443425889739073884352974610591022393415807247569583300801154557691634376230748190087515083604267146590376806793177153184509444555078218804371479017254048737590623414381181091777995894452851110954312451007661884236739962192456077969511122779364407990415119514440661546965008576217977093190909583132987787434522165255034445404702763169714368762469620043258522003356436848692882916179287819142433475654756287226124351664343691962489756968151414727888765534977698006480871154761766945959111922927429454384882497333914219571616022292224906364296597972099547195800025036746754894650280064556031370644217419634227831878046942804047499799250678440344926170781018652689185600559289478435620230506562090798332784054409933754325466268996342381853087817159138132409688240004900823384875229448700461035381883418217015178779468503346298941683080899357908203402596981571019152124322599142297993961017488797887830281192191238727922353623295034097047026384576950518160676657044486620981891268715888390683926816266566045504069411325517726301593005468118625314041176546254147484954209655218329262550835896721811635441831388710685040170614684768874135589248534951236185901475459798978133816784134989257021373591925918938505117120958353354468195902418584460471378852709468342796348047587156573415690896444525395795251837597314216029681638412088153036099966996188639795041806972170297532612770372422177442399757860752244275767990624899121340496474889285918528422833247118694861120447658840271122911279114792252504327153033684366578150172821878605530320299879588079217379263325468352926442085153146379821322093120797035112094626071007302778912072566743084284949202405450391750643121078577065441187219944044713259661653295743027549410956701543326099389775148130009541828402651298935227760199983004106141718321080195789503790459326081276788138994738324227512564849341286531071052868689648644035294619832639219517599262158567853308180854622517432057724041779265437756658172231185312218755767693801703046218276691467762250144758754615144514318255923066943062603732646568363555326160331715437535324349374224250967669972209569182920399221779749244067926548005910615674789500542998017635444037775787063172034013555643683051468017023738859881563516237835944674355662760135149674301440420415171928872374647867382781971827035983886036616187357262700493342349286117240506228275121275481554264228471521735497145802473814776450360970418983518376319628772221549149786891339743058279126510663209664415284380540087275689926332447230094477529152928444134842867829072123694329242420883604363950605506758772124314102728605283875613848102406526257247712999775694643500056233401552208865282718695548243000376564479084893901000536841057522363280370838897496675493411119896288413437648165762755516249385819799876190593410596588772953750592135480282406384799725149946020648503742074502433099373164782711911703171878502492156281762509092095744129027049665089185824440951849086836244861302746209634753793226318816715261107812607328110620115344977658157304987786773827545017316589662732722171023102044468910200415948303526753908200009932370035916020269727358967287596800092431351089975959771739670737705545635339787762830709652643567870591839666401171540256204228281060067944109179653941685365005272724324536997345115516175842141599701909755483073424634942570911097725362896370051831044608670285904915489785451861640485967121832187912603224446865674572002909630090732796419381087368300577008488549876326424201225775611351792112069706098584806375300143303206297900856011317453460216898549935534481242900706196770703583346771718929609650046081906453813744649270388930650195618060462577300950622064469234834931163196871839460688231399405614992896889553688544426015978917594885221304833320378882656155887963824087690654293193046677769081072048908640193133809524389871737237253005521747524415947922113766652805888438396054147567486987337167355166104543042899131993430820991650159647656208456324363081781712602217016347775564111441803592193088471289255795393642877824453654048165950323223788178060285905582700086738684883750337714980917164444693060308390225962379946272713289768929936724536553233482465794212734027070565388511936215762656298864684435370823571848084247138397525778310128785553445708026765901738206081873519050998499630965910793432366813853970202821394949406134489952453908830903545787795663963353463066176422602202105775621923781957494629716436815349210857072706316427328453577498513994637159418953720826767147133205092570099335672952611163628000805824409754601708517576411444079395720215248444116421555957828748745424226011844865906715664110802868290518210612860404454750511438922544439143868194881337928254493717003965533900634644833101037271446752357724260351165699515773967642913572637535873501670470613312527450847505213359793783861950188821929180325547521785176580032177426333023524832481849348447808439788218713542427529133485690077625718966956228062966168347006680212942597861705301218647978947398135250300005080179027045518797793505294699210802788329649160385012184940049568696199707027524548531041667993720684674742262714439058761479088895841824160373748908700112817860631624151944290572786670975635303518603594047587697599520048169851304461861034981185133385903366316421187501308774815870676228749311300865732973446153743975659991079304994892588234011350360387511421993302025047776808575499810068887160787732953050111241465547976334636931551115834357110038285979669707537501"
      ]
     },
     "execution_count": 116,
     "metadata": {},
     "output_type": "execute_result"
    }
   ],
   "source": [
    "fib(100000)"
   ]
  },
  {
   "cell_type": "code",
   "execution_count": 117,
   "metadata": {},
   "outputs": [
    {
     "data": {
      "text/html": [
       "<html>\\(\\displaystyle s_{1111111111} \\otimes s_{1111111111} + s_{211111111} \\otimes s_{211111111} + s_{22111111} \\otimes s_{22111111} + s_{2221111} \\otimes s_{2221111} + s_{222211} \\otimes s_{222211} + s_{22222} \\otimes s_{22222} + s_{31111111} \\otimes s_{31111111} + s_{3211111} \\otimes s_{3211111} + s_{322111} \\otimes s_{322111} + s_{32221} \\otimes s_{32221} + s_{331111} \\otimes s_{331111} + s_{33211} \\otimes s_{33211} + s_{3322} \\otimes s_{3322} + s_{3331} \\otimes s_{3331} + s_{4111111} \\otimes s_{4111111} + s_{421111} \\otimes s_{421111} + s_{42211} \\otimes s_{42211} + s_{4222} \\otimes s_{4222} + s_{43111} \\otimes s_{43111} + s_{4321} \\otimes s_{4321} + s_{433} \\otimes s_{433} + s_{4411} \\otimes s_{4411} + s_{442} \\otimes s_{442} + s_{511111} \\otimes s_{511111} + s_{52111} \\otimes s_{52111} + s_{5221} \\otimes s_{5221} + s_{5311} \\otimes s_{5311} + s_{532} \\otimes s_{532} + s_{541} \\otimes s_{541} + s_{55} \\otimes s_{55} + s_{61111} \\otimes s_{61111} + s_{6211} \\otimes s_{6211} + s_{622} \\otimes s_{622} + s_{631} \\otimes s_{631} + s_{64} \\otimes s_{64} + s_{7111} \\otimes s_{7111} + s_{721} \\otimes s_{721} + s_{73} \\otimes s_{73} + s_{811} \\otimes s_{811} + s_{82} \\otimes s_{82} + s_{91} \\otimes s_{91} + s_{10.} \\otimes s_{10.}\\)</html>"
      ],
      "text/latex": [
       "$\\displaystyle s_{1111111111} \\otimes s_{1111111111} + s_{211111111} \\otimes s_{211111111} + s_{22111111} \\otimes s_{22111111} + s_{2221111} \\otimes s_{2221111} + s_{222211} \\otimes s_{222211} + s_{22222} \\otimes s_{22222} + s_{31111111} \\otimes s_{31111111} + s_{3211111} \\otimes s_{3211111} + s_{322111} \\otimes s_{322111} + s_{32221} \\otimes s_{32221} + s_{331111} \\otimes s_{331111} + s_{33211} \\otimes s_{33211} + s_{3322} \\otimes s_{3322} + s_{3331} \\otimes s_{3331} + s_{4111111} \\otimes s_{4111111} + s_{421111} \\otimes s_{421111} + s_{42211} \\otimes s_{42211} + s_{4222} \\otimes s_{4222} + s_{43111} \\otimes s_{43111} + s_{4321} \\otimes s_{4321} + s_{433} \\otimes s_{433} + s_{4411} \\otimes s_{4411} + s_{442} \\otimes s_{442} + s_{511111} \\otimes s_{511111} + s_{52111} \\otimes s_{52111} + s_{5221} \\otimes s_{5221} + s_{5311} \\otimes s_{5311} + s_{532} \\otimes s_{532} + s_{541} \\otimes s_{541} + s_{55} \\otimes s_{55} + s_{61111} \\otimes s_{61111} + s_{6211} \\otimes s_{6211} + s_{622} \\otimes s_{622} + s_{631} \\otimes s_{631} + s_{64} \\otimes s_{64} + s_{7111} \\otimes s_{7111} + s_{721} \\otimes s_{721} + s_{73} \\otimes s_{73} + s_{811} \\otimes s_{811} + s_{82} \\otimes s_{82} + s_{91} \\otimes s_{91} + s_{10.} \\otimes s_{10.}$"
      ],
      "text/plain": [
       "s[1, 1, 1, 1, 1, 1, 1, 1, 1, 1] # s[1, 1, 1, 1, 1, 1, 1, 1, 1, 1] + s[2, 1, 1, 1, 1, 1, 1, 1, 1] # s[2, 1, 1, 1, 1, 1, 1, 1, 1] + s[2, 2, 1, 1, 1, 1, 1, 1] # s[2, 2, 1, 1, 1, 1, 1, 1] + s[2, 2, 2, 1, 1, 1, 1] # s[2, 2, 2, 1, 1, 1, 1] + s[2, 2, 2, 2, 1, 1] # s[2, 2, 2, 2, 1, 1] + s[2, 2, 2, 2, 2] # s[2, 2, 2, 2, 2] + s[3, 1, 1, 1, 1, 1, 1, 1] # s[3, 1, 1, 1, 1, 1, 1, 1] + s[3, 2, 1, 1, 1, 1, 1] # s[3, 2, 1, 1, 1, 1, 1] + s[3, 2, 2, 1, 1, 1] # s[3, 2, 2, 1, 1, 1] + s[3, 2, 2, 2, 1] # s[3, 2, 2, 2, 1] + s[3, 3, 1, 1, 1, 1] # s[3, 3, 1, 1, 1, 1] + s[3, 3, 2, 1, 1] # s[3, 3, 2, 1, 1] + s[3, 3, 2, 2] # s[3, 3, 2, 2] + s[3, 3, 3, 1] # s[3, 3, 3, 1] + s[4, 1, 1, 1, 1, 1, 1] # s[4, 1, 1, 1, 1, 1, 1] + s[4, 2, 1, 1, 1, 1] # s[4, 2, 1, 1, 1, 1] + s[4, 2, 2, 1, 1] # s[4, 2, 2, 1, 1] + s[4, 2, 2, 2] # s[4, 2, 2, 2] + s[4, 3, 1, 1, 1] # s[4, 3, 1, 1, 1] + s[4, 3, 2, 1] # s[4, 3, 2, 1] + s[4, 3, 3] # s[4, 3, 3] + s[4, 4, 1, 1] # s[4, 4, 1, 1] + s[4, 4, 2] # s[4, 4, 2] + s[5, 1, 1, 1, 1, 1] # s[5, 1, 1, 1, 1, 1] + s[5, 2, 1, 1, 1] # s[5, 2, 1, 1, 1] + s[5, 2, 2, 1] # s[5, 2, 2, 1] + s[5, 3, 1, 1] # s[5, 3, 1, 1] + s[5, 3, 2] # s[5, 3, 2] + s[5, 4, 1] # s[5, 4, 1] + s[5, 5] # s[5, 5] + s[6, 1, 1, 1, 1] # s[6, 1, 1, 1, 1] + s[6, 2, 1, 1] # s[6, 2, 1, 1] + s[6, 2, 2] # s[6, 2, 2] + s[6, 3, 1] # s[6, 3, 1] + s[6, 4] # s[6, 4] + s[7, 1, 1, 1] # s[7, 1, 1, 1] + s[7, 2, 1] # s[7, 2, 1] + s[7, 3] # s[7, 3] + s[8, 1, 1] # s[8, 1, 1] + s[8, 2] # s[8, 2] + s[9, 1] # s[9, 1] + s[10] # s[10]"
      ]
     },
     "execution_count": 117,
     "metadata": {},
     "output_type": "execute_result"
    }
   ],
   "source": [
    "(s[10](X*Y))"
   ]
  },
  {
   "cell_type": "code",
   "execution_count": 118,
   "metadata": {},
   "outputs": [
    {
     "data": {
      "text/html": [
       "<html>\\(\\displaystyle s_{1} \\otimes s_{1}\\)</html>"
      ],
      "text/latex": [
       "$\\displaystyle s_{1} \\otimes s_{1}$"
      ],
      "text/plain": [
       "s[1] # s[1]"
      ]
     },
     "execution_count": 118,
     "metadata": {},
     "output_type": "execute_result"
    }
   ],
   "source": [
    "X*Y"
   ]
  },
  {
   "cell_type": "code",
   "execution_count": 119,
   "metadata": {},
   "outputs": [
    {
     "data": {
      "text/html": [
       "<html>\\(\\displaystyle s_{1} \\otimes \\mathbb{1}\\)</html>"
      ],
      "text/latex": [
       "$\\displaystyle s_{1} \\otimes \\mathbb{1}$"
      ],
      "text/plain": [
       "s[1] # s[]"
      ]
     },
     "execution_count": 119,
     "metadata": {},
     "output_type": "execute_result"
    }
   ],
   "source": [
    "X"
   ]
  },
  {
   "cell_type": "code",
   "execution_count": 120,
   "metadata": {},
   "outputs": [
    {
     "data": {
      "text/html": [
       "<html>\\(\\displaystyle \\mathbb{1} \\otimes s_{1}\\)</html>"
      ],
      "text/latex": [
       "$\\displaystyle \\mathbb{1} \\otimes s_{1}$"
      ],
      "text/plain": [
       "s[] # s[1]"
      ]
     },
     "execution_count": 120,
     "metadata": {},
     "output_type": "execute_result"
    }
   ],
   "source": [
    "Y"
   ]
  },
  {
   "cell_type": "code",
   "execution_count": 121,
   "metadata": {},
   "outputs": [
    {
     "data": {
      "text/html": [
       "<html>\\(\\displaystyle \\widetilde{H}_{32}\\)</html>"
      ],
      "text/latex": [
       "$\\displaystyle \\widetilde{H}_{32}$"
      ],
      "text/plain": [
       "McdHt[3, 2]"
      ]
     },
     "execution_count": 121,
     "metadata": {},
     "output_type": "execute_result"
    }
   ],
   "source": [
    "H[3,2]"
   ]
  },
  {
   "cell_type": "code",
   "execution_count": null,
   "metadata": {},
   "outputs": [],
   "source": []
  }
 ],
 "metadata": {
  "kernelspec": {
   "display_name": "SageMath 10.1",
   "language": "sage",
   "name": "sagemath-10.1"
  },
  "language_info": {
   "codemirror_mode": {
    "name": "ipython",
    "version": 3
   },
   "file_extension": ".py",
   "mimetype": "text/x-python",
   "name": "python",
   "nbconvert_exporter": "python",
   "pygments_lexer": "ipython3",
   "version": "3.11.1"
  }
 },
 "nbformat": 4,
 "nbformat_minor": 4
}
